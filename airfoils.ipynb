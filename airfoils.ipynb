{
 "cells": [
  {
   "cell_type": "code",
   "execution_count": 1,
   "metadata": {},
   "outputs": [],
   "source": [
    "import pandas as pd\n",
    "from tqdm.notebook import tqdm\n",
    "from os import listdir\n",
    "from os.path import isfile, join\n",
    "import shutil\n",
    "import plotly.express as px\n",
    "import random\n",
    "import numpy as np\n",
    "\n",
    "from sklearn.metrics import mean_squared_error\n",
    "from sklearn.model_selection import train_test_split, RandomizedSearchCV\n",
    "from sklearn.ensemble import RandomForestRegressor\n",
    "from sklearn.preprocessing import MinMaxScaler\n",
    "import urllib.request\n",
    "from requests import get\n",
    "import re"
   ]
  },
  {
   "cell_type": "code",
   "execution_count": 2,
   "metadata": {},
   "outputs": [],
   "source": [
    "pathForCharacteristics = 'data/TR824-Digitized/'\n",
    "pathForCoords ='data/coords/'"
   ]
  },
  {
   "cell_type": "markdown",
   "metadata": {},
   "source": [
    "## Extracting properties of airfoils"
   ]
  },
  {
   "cell_type": "code",
   "execution_count": 3,
   "metadata": {},
   "outputs": [],
   "source": [
    "filesInDirectory = [f for f in listdir(pathForCharacteristics) if isfile(join(pathForCharacteristics, f)) and f.split('.')[1]=='ALL']"
   ]
  },
  {
   "cell_type": "code",
   "execution_count": 4,
   "metadata": {},
   "outputs": [],
   "source": [
    "def extractProperties(filePath, parameter='Alpha, Cl, Cd(interpolated)', num = 1):\n",
    "    f = open(filePath, \"r\")\n",
    "    f = f.read()\n",
    "    \n",
    "    dct = {'id':[],'alpha':[],'Cl':[],'Cd':[]}\n",
    "    for r in f.split(parameter)[1].split('Data set')[1:][num].split('\\n')[2:-1]:\n",
    "        row = [x for x in r.split(' ') if x!='']\n",
    "        dct['id'].append(filePath.split('/')[-1].split('.')[0])\n",
    "        dct['alpha'].append(float(row[0]))\n",
    "        dct['Cl'].append(float(row[1]))\n",
    "        dct['Cd'].append(float(row[2]))\n",
    "    return pd.DataFrame(dct)"
   ]
  },
  {
   "cell_type": "code",
   "execution_count": 5,
   "metadata": {},
   "outputs": [
    {
     "data": {
      "text/html": [
       "<div>\n",
       "<style scoped>\n",
       "    .dataframe tbody tr th:only-of-type {\n",
       "        vertical-align: middle;\n",
       "    }\n",
       "\n",
       "    .dataframe tbody tr th {\n",
       "        vertical-align: top;\n",
       "    }\n",
       "\n",
       "    .dataframe thead th {\n",
       "        text-align: right;\n",
       "    }\n",
       "</style>\n",
       "<table border=\"1\" class=\"dataframe\">\n",
       "  <thead>\n",
       "    <tr style=\"text-align: right;\">\n",
       "      <th></th>\n",
       "      <th>id</th>\n",
       "      <th>alpha</th>\n",
       "      <th>Cl</th>\n",
       "      <th>Cd</th>\n",
       "    </tr>\n",
       "  </thead>\n",
       "  <tbody>\n",
       "    <tr>\n",
       "      <th>0</th>\n",
       "      <td>216</td>\n",
       "      <td>19.37620</td>\n",
       "      <td>1.373150</td>\n",
       "      <td>0.017005</td>\n",
       "    </tr>\n",
       "    <tr>\n",
       "      <th>1</th>\n",
       "      <td>216</td>\n",
       "      <td>18.29290</td>\n",
       "      <td>1.411050</td>\n",
       "      <td>0.018944</td>\n",
       "    </tr>\n",
       "    <tr>\n",
       "      <th>2</th>\n",
       "      <td>216</td>\n",
       "      <td>17.40130</td>\n",
       "      <td>1.519540</td>\n",
       "      <td>0.000000</td>\n",
       "    </tr>\n",
       "    <tr>\n",
       "      <th>3</th>\n",
       "      <td>216</td>\n",
       "      <td>16.28550</td>\n",
       "      <td>1.549260</td>\n",
       "      <td>0.000000</td>\n",
       "    </tr>\n",
       "    <tr>\n",
       "      <th>4</th>\n",
       "      <td>216</td>\n",
       "      <td>15.29650</td>\n",
       "      <td>1.531330</td>\n",
       "      <td>0.000000</td>\n",
       "    </tr>\n",
       "    <tr>\n",
       "      <th>...</th>\n",
       "      <td>...</td>\n",
       "      <td>...</td>\n",
       "      <td>...</td>\n",
       "      <td>...</td>\n",
       "    </tr>\n",
       "    <tr>\n",
       "      <th>24</th>\n",
       "      <td>233</td>\n",
       "      <td>-8.23054</td>\n",
       "      <td>-0.714753</td>\n",
       "      <td>0.010010</td>\n",
       "    </tr>\n",
       "    <tr>\n",
       "      <th>25</th>\n",
       "      <td>233</td>\n",
       "      <td>-10.40240</td>\n",
       "      <td>-0.904422</td>\n",
       "      <td>0.000000</td>\n",
       "    </tr>\n",
       "    <tr>\n",
       "      <th>26</th>\n",
       "      <td>233</td>\n",
       "      <td>-11.07290</td>\n",
       "      <td>-0.985190</td>\n",
       "      <td>0.000000</td>\n",
       "    </tr>\n",
       "    <tr>\n",
       "      <th>27</th>\n",
       "      <td>233</td>\n",
       "      <td>-12.35700</td>\n",
       "      <td>-0.646564</td>\n",
       "      <td>0.009324</td>\n",
       "    </tr>\n",
       "    <tr>\n",
       "      <th>28</th>\n",
       "      <td>233</td>\n",
       "      <td>-14.18290</td>\n",
       "      <td>-0.518578</td>\n",
       "      <td>0.008144</td>\n",
       "    </tr>\n",
       "  </tbody>\n",
       "</table>\n",
       "<p>3323 rows × 4 columns</p>\n",
       "</div>"
      ],
      "text/plain": [
       "     id     alpha        Cl        Cd\n",
       "0   216  19.37620  1.373150  0.017005\n",
       "1   216  18.29290  1.411050  0.018944\n",
       "2   216  17.40130  1.519540  0.000000\n",
       "3   216  16.28550  1.549260  0.000000\n",
       "4   216  15.29650  1.531330  0.000000\n",
       "..  ...       ...       ...       ...\n",
       "24  233  -8.23054 -0.714753  0.010010\n",
       "25  233 -10.40240 -0.904422  0.000000\n",
       "26  233 -11.07290 -0.985190  0.000000\n",
       "27  233 -12.35700 -0.646564  0.009324\n",
       "28  233 -14.18290 -0.518578  0.008144\n",
       "\n",
       "[3323 rows x 4 columns]"
      ]
     },
     "execution_count": 5,
     "metadata": {},
     "output_type": "execute_result"
    }
   ],
   "source": [
    "dfProperties = pd.DataFrame()\n",
    "for file in filesInDirectory:\n",
    "    dfProperties = pd.concat([dfProperties, extractProperties(pathForCharacteristics+file)])\n",
    "dfProperties"
   ]
  },
  {
   "cell_type": "markdown",
   "metadata": {},
   "source": [
    "## Forming dataframe with ids and airfoil names (type, model)"
   ]
  },
  {
   "cell_type": "code",
   "execution_count": 6,
   "metadata": {},
   "outputs": [],
   "source": [
    "f = open(pathForCharacteristics+\"NACA.LST\", \"r\")\n",
    "f = f.read()"
   ]
  },
  {
   "cell_type": "code",
   "execution_count": 7,
   "metadata": {},
   "outputs": [
    {
     "data": {
      "text/html": [
       "<div>\n",
       "<style scoped>\n",
       "    .dataframe tbody tr th:only-of-type {\n",
       "        vertical-align: middle;\n",
       "    }\n",
       "\n",
       "    .dataframe tbody tr th {\n",
       "        vertical-align: top;\n",
       "    }\n",
       "\n",
       "    .dataframe thead th {\n",
       "        text-align: right;\n",
       "    }\n",
       "</style>\n",
       "<table border=\"1\" class=\"dataframe\">\n",
       "  <thead>\n",
       "    <tr style=\"text-align: right;\">\n",
       "      <th></th>\n",
       "      <th>id</th>\n",
       "      <th>type</th>\n",
       "      <th>model</th>\n",
       "    </tr>\n",
       "  </thead>\n",
       "  <tbody>\n",
       "    <tr>\n",
       "      <th>0</th>\n",
       "      <td>131</td>\n",
       "      <td>NACA</td>\n",
       "      <td>0006</td>\n",
       "    </tr>\n",
       "    <tr>\n",
       "      <th>1</th>\n",
       "      <td>132</td>\n",
       "      <td>NACA</td>\n",
       "      <td>0009</td>\n",
       "    </tr>\n",
       "    <tr>\n",
       "      <th>2</th>\n",
       "      <td>133</td>\n",
       "      <td>NACA</td>\n",
       "      <td>1408</td>\n",
       "    </tr>\n",
       "    <tr>\n",
       "      <th>3</th>\n",
       "      <td>134</td>\n",
       "      <td>NACA</td>\n",
       "      <td>1410</td>\n",
       "    </tr>\n",
       "    <tr>\n",
       "      <th>4</th>\n",
       "      <td>135</td>\n",
       "      <td>NACA</td>\n",
       "      <td>1412</td>\n",
       "    </tr>\n",
       "  </tbody>\n",
       "</table>\n",
       "</div>"
      ],
      "text/plain": [
       "    id  type model\n",
       "0  131  NACA  0006\n",
       "1  132  NACA  0009\n",
       "2  133  NACA  1408\n",
       "3  134  NACA  1410\n",
       "4  135  NACA  1412"
      ]
     },
     "execution_count": 7,
     "metadata": {},
     "output_type": "execute_result"
    }
   ],
   "source": [
    "dct = {'id':[],'type':[],'model':[]}\n",
    "for r in f.split('---------------------')[1].split('\\n')[1:-1]:\n",
    "    dct['id'].append(r.split('  ')[0].split('.')[0][1:])\n",
    "    dct['type'].append(r.split('  ')[1])\n",
    "    dct['model'].append(r.split('  ')[2])\n",
    "dfNames = pd.DataFrame(dct)\n",
    "dfNames.head()"
   ]
  },
  {
   "cell_type": "markdown",
   "metadata": {},
   "source": [
    "## Forming a data frame with airfoil geometries"
   ]
  },
  {
   "cell_type": "code",
   "execution_count": 8,
   "metadata": {},
   "outputs": [],
   "source": [
    "def download(url, file_name):\n",
    "    response = get(url)\n",
    "    if response.status_code != 404:\n",
    "        # open in binary mode\n",
    "        with open(file_name, \"wb\") as file:\n",
    "            # get request\n",
    "            file.write(response.content)"
   ]
  },
  {
   "cell_type": "markdown",
   "metadata": {},
   "source": [
    "### Downloading airfoli geometries to coords folder"
   ]
  },
  {
   "cell_type": "code",
   "execution_count": 9,
   "metadata": {},
   "outputs": [
    {
     "data": {
      "application/vnd.jupyter.widget-view+json": {
       "model_id": "78a2e43840ee4cf4adf4e9a97296ff68",
       "version_major": 2,
       "version_minor": 0
      },
      "text/plain": [
       "HBox(children=(FloatProgress(value=0.0, max=118.0), HTML(value='')))"
      ]
     },
     "metadata": {},
     "output_type": "display_data"
    },
    {
     "name": "stdout",
     "output_type": "stream",
     "text": [
      "\n"
     ]
    }
   ],
   "source": [
    "ids = dfNames['id'].values\n",
    "for i,r in tqdm(dfNames.iterrows(), total = len(dfNames)):\n",
    "    mdl = ''.join(c for c in r['model'] if c.isdigit())\n",
    "    download(f\"https://m-selig.ae.illinois.edu/ads/coord/n{r['model']}.dat\", \n",
    "             pathForCoords+f\"{r['id']}.dat\")\n",
    "    download(f\"https://m-selig.ae.illinois.edu/ads/coord/naca{r['model']}.dat\", \n",
    "             pathForCoords+f\"{r['id']}.dat\")\n",
    "    download(f\"https://m-selig.ae.illinois.edu/ads/coord/naca{mdl}.dat\", \n",
    "             pathForCoords+f\"{r['id']}.dat\")"
   ]
  },
  {
   "cell_type": "code",
   "execution_count": 10,
   "metadata": {},
   "outputs": [
    {
     "name": "stdout",
     "output_type": "stream",
     "text": [
      "Succesfully downloaded 64 from 118\n"
     ]
    }
   ],
   "source": [
    "files = [f for f in listdir(pathForCoords) if isfile(join(pathForCoords, f)) and f.split('.')[1]=='dat']\n",
    "print(f'Succesfully downloaded {len(files)} from {len(dfNames)}')"
   ]
  },
  {
   "cell_type": "markdown",
   "metadata": {},
   "source": [
    "### Forming a data frame"
   ]
  },
  {
   "cell_type": "code",
   "execution_count": 11,
   "metadata": {},
   "outputs": [],
   "source": [
    "dfCoords = pd.DataFrame()\n",
    "for file in files:\n",
    "    f = open(pathForCoords+file, \"r\")\n",
    "    f = f.read()\n",
    "    xs = []\n",
    "    ys = []\n",
    "\n",
    "    for r in f.split('\\n')[1:-1]:\n",
    "        row = re.findall(\"-?\\d+\\.\\d+\",r)\n",
    "        if len(row)==2:\n",
    "            xs.append(float(row[0]))\n",
    "            ys.append(float(row[1]))\n",
    "    dfCoords = pd.concat([dfCoords, pd.DataFrame({'id':[file.split('.')[0]],\n",
    "                                                 'xs':[xs], \n",
    "                                                 'ys':[ys]})])"
   ]
  },
  {
   "cell_type": "markdown",
   "metadata": {},
   "source": [
    "## Joining all together"
   ]
  },
  {
   "cell_type": "code",
   "execution_count": 12,
   "metadata": {},
   "outputs": [],
   "source": [
    "df2 = dfProperties.merge(dfCoords, left_on='id', right_on='id', how='left')\n",
    "df2.dropna(inplace=True)"
   ]
  },
  {
   "cell_type": "code",
   "execution_count": 13,
   "metadata": {},
   "outputs": [
    {
     "data": {
      "text/html": [
       "<div>\n",
       "<style scoped>\n",
       "    .dataframe tbody tr th:only-of-type {\n",
       "        vertical-align: middle;\n",
       "    }\n",
       "\n",
       "    .dataframe tbody tr th {\n",
       "        vertical-align: top;\n",
       "    }\n",
       "\n",
       "    .dataframe thead th {\n",
       "        text-align: right;\n",
       "    }\n",
       "</style>\n",
       "<table border=\"1\" class=\"dataframe\">\n",
       "  <thead>\n",
       "    <tr style=\"text-align: right;\">\n",
       "      <th></th>\n",
       "      <th>id</th>\n",
       "      <th>alpha</th>\n",
       "      <th>Cl</th>\n",
       "      <th>Cd</th>\n",
       "      <th>xs</th>\n",
       "      <th>ys</th>\n",
       "    </tr>\n",
       "  </thead>\n",
       "  <tbody>\n",
       "    <tr>\n",
       "      <th>0</th>\n",
       "      <td>216</td>\n",
       "      <td>19.3762</td>\n",
       "      <td>1.37315</td>\n",
       "      <td>0.017005</td>\n",
       "      <td>[1.0, 0.9502, 0.9004, 0.85055, 0.80063, 0.7506...</td>\n",
       "      <td>[0.0, 0.00744, 0.0166, 0.02649, 0.03653, 0.046...</td>\n",
       "    </tr>\n",
       "    <tr>\n",
       "      <th>1</th>\n",
       "      <td>216</td>\n",
       "      <td>18.2929</td>\n",
       "      <td>1.41105</td>\n",
       "      <td>0.018944</td>\n",
       "      <td>[1.0, 0.9502, 0.9004, 0.85055, 0.80063, 0.7506...</td>\n",
       "      <td>[0.0, 0.00744, 0.0166, 0.02649, 0.03653, 0.046...</td>\n",
       "    </tr>\n",
       "    <tr>\n",
       "      <th>2</th>\n",
       "      <td>216</td>\n",
       "      <td>17.4013</td>\n",
       "      <td>1.51954</td>\n",
       "      <td>0.000000</td>\n",
       "      <td>[1.0, 0.9502, 0.9004, 0.85055, 0.80063, 0.7506...</td>\n",
       "      <td>[0.0, 0.00744, 0.0166, 0.02649, 0.03653, 0.046...</td>\n",
       "    </tr>\n",
       "    <tr>\n",
       "      <th>3</th>\n",
       "      <td>216</td>\n",
       "      <td>16.2855</td>\n",
       "      <td>1.54926</td>\n",
       "      <td>0.000000</td>\n",
       "      <td>[1.0, 0.9502, 0.9004, 0.85055, 0.80063, 0.7506...</td>\n",
       "      <td>[0.0, 0.00744, 0.0166, 0.02649, 0.03653, 0.046...</td>\n",
       "    </tr>\n",
       "    <tr>\n",
       "      <th>4</th>\n",
       "      <td>216</td>\n",
       "      <td>15.2965</td>\n",
       "      <td>1.53133</td>\n",
       "      <td>0.000000</td>\n",
       "      <td>[1.0, 0.9502, 0.9004, 0.85055, 0.80063, 0.7506...</td>\n",
       "      <td>[0.0, 0.00744, 0.0166, 0.02649, 0.03653, 0.046...</td>\n",
       "    </tr>\n",
       "  </tbody>\n",
       "</table>\n",
       "</div>"
      ],
      "text/plain": [
       "    id    alpha       Cl        Cd  \\\n",
       "0  216  19.3762  1.37315  0.017005   \n",
       "1  216  18.2929  1.41105  0.018944   \n",
       "2  216  17.4013  1.51954  0.000000   \n",
       "3  216  16.2855  1.54926  0.000000   \n",
       "4  216  15.2965  1.53133  0.000000   \n",
       "\n",
       "                                                  xs  \\\n",
       "0  [1.0, 0.9502, 0.9004, 0.85055, 0.80063, 0.7506...   \n",
       "1  [1.0, 0.9502, 0.9004, 0.85055, 0.80063, 0.7506...   \n",
       "2  [1.0, 0.9502, 0.9004, 0.85055, 0.80063, 0.7506...   \n",
       "3  [1.0, 0.9502, 0.9004, 0.85055, 0.80063, 0.7506...   \n",
       "4  [1.0, 0.9502, 0.9004, 0.85055, 0.80063, 0.7506...   \n",
       "\n",
       "                                                  ys  \n",
       "0  [0.0, 0.00744, 0.0166, 0.02649, 0.03653, 0.046...  \n",
       "1  [0.0, 0.00744, 0.0166, 0.02649, 0.03653, 0.046...  \n",
       "2  [0.0, 0.00744, 0.0166, 0.02649, 0.03653, 0.046...  \n",
       "3  [0.0, 0.00744, 0.0166, 0.02649, 0.03653, 0.046...  \n",
       "4  [0.0, 0.00744, 0.0166, 0.02649, 0.03653, 0.046...  "
      ]
     },
     "execution_count": 13,
     "metadata": {},
     "output_type": "execute_result"
    }
   ],
   "source": [
    "df2.head()"
   ]
  },
  {
   "cell_type": "markdown",
   "metadata": {},
   "source": [
    "## Some visuals"
   ]
  },
  {
   "cell_type": "code",
   "execution_count": 43,
   "metadata": {},
   "outputs": [
    {
     "data": {
      "application/vnd.plotly.v1+json": {
       "config": {
        "plotlyServerURL": "https://plot.ly"
       },
       "data": [
        {
         "hovertemplate": "x=%{x}<br>y=%{y}<extra></extra>",
         "legendgroup": "",
         "line": {
          "color": "#636efa",
          "dash": "solid"
         },
         "mode": "lines",
         "name": "",
         "orientation": "v",
         "showlegend": false,
         "type": "scatter",
         "x": [
          1,
          0.9502,
          0.9004,
          0.85055,
          0.80063,
          0.75065,
          0.70062,
          0.65053,
          0.60069,
          0.55021,
          0.5,
          0.44976,
          0.39952,
          0.34927,
          0.29904,
          0.24882,
          0.19863,
          0.14848,
          0.09841,
          0.07342,
          0.04848,
          0.02365,
          0.01132,
          0.00645,
          0.00406,
          0,
          0.00594,
          0.00855,
          0.01368,
          0.02635,
          0.05152,
          0.07658,
          0.10159,
          0.15152,
          0.20137,
          0.25118,
          0.30096,
          0.35073,
          0.40048,
          0.45024,
          0.5,
          0.54979,
          0.59961,
          0.64947,
          0.69938,
          0.74935,
          0.79937,
          0.84945,
          0.8996,
          0.9498,
          1
         ],
         "xaxis": "x",
         "y": [
          0,
          0.00744,
          0.0166,
          0.02649,
          0.03653,
          0.04638,
          0.05572,
          0.06433,
          0.07189,
          0.07815,
          0.08271,
          0.08522,
          0.08569,
          0.08426,
          0.08123,
          0.07658,
          0.07018,
          0.06175,
          0.05069,
          0.0438,
          0.03557,
          0.02506,
          0.01805,
          0.01422,
          0.0117,
          0,
          -0.0107,
          -0.01282,
          -0.01591,
          -0.02134,
          -0.02925,
          -0.03532,
          -0.04035,
          -0.04829,
          -0.05426,
          -0.05868,
          -0.06179,
          -0.06366,
          -0.06427,
          -0.06332,
          -0.06065,
          -0.05625,
          -0.05047,
          -0.04373,
          -0.03628,
          -0.02848,
          -0.02061,
          -0.01303,
          -0.00626,
          -0.00112,
          0
         ],
         "yaxis": "y"
        }
       ],
       "layout": {
        "legend": {
         "tracegroupgap": 0
        },
        "template": {
         "data": {
          "bar": [
           {
            "error_x": {
             "color": "#2a3f5f"
            },
            "error_y": {
             "color": "#2a3f5f"
            },
            "marker": {
             "line": {
              "color": "#E5ECF6",
              "width": 0.5
             }
            },
            "type": "bar"
           }
          ],
          "barpolar": [
           {
            "marker": {
             "line": {
              "color": "#E5ECF6",
              "width": 0.5
             }
            },
            "type": "barpolar"
           }
          ],
          "carpet": [
           {
            "aaxis": {
             "endlinecolor": "#2a3f5f",
             "gridcolor": "white",
             "linecolor": "white",
             "minorgridcolor": "white",
             "startlinecolor": "#2a3f5f"
            },
            "baxis": {
             "endlinecolor": "#2a3f5f",
             "gridcolor": "white",
             "linecolor": "white",
             "minorgridcolor": "white",
             "startlinecolor": "#2a3f5f"
            },
            "type": "carpet"
           }
          ],
          "choropleth": [
           {
            "colorbar": {
             "outlinewidth": 0,
             "ticks": ""
            },
            "type": "choropleth"
           }
          ],
          "contour": [
           {
            "colorbar": {
             "outlinewidth": 0,
             "ticks": ""
            },
            "colorscale": [
             [
              0,
              "#0d0887"
             ],
             [
              0.1111111111111111,
              "#46039f"
             ],
             [
              0.2222222222222222,
              "#7201a8"
             ],
             [
              0.3333333333333333,
              "#9c179e"
             ],
             [
              0.4444444444444444,
              "#bd3786"
             ],
             [
              0.5555555555555556,
              "#d8576b"
             ],
             [
              0.6666666666666666,
              "#ed7953"
             ],
             [
              0.7777777777777778,
              "#fb9f3a"
             ],
             [
              0.8888888888888888,
              "#fdca26"
             ],
             [
              1,
              "#f0f921"
             ]
            ],
            "type": "contour"
           }
          ],
          "contourcarpet": [
           {
            "colorbar": {
             "outlinewidth": 0,
             "ticks": ""
            },
            "type": "contourcarpet"
           }
          ],
          "heatmap": [
           {
            "colorbar": {
             "outlinewidth": 0,
             "ticks": ""
            },
            "colorscale": [
             [
              0,
              "#0d0887"
             ],
             [
              0.1111111111111111,
              "#46039f"
             ],
             [
              0.2222222222222222,
              "#7201a8"
             ],
             [
              0.3333333333333333,
              "#9c179e"
             ],
             [
              0.4444444444444444,
              "#bd3786"
             ],
             [
              0.5555555555555556,
              "#d8576b"
             ],
             [
              0.6666666666666666,
              "#ed7953"
             ],
             [
              0.7777777777777778,
              "#fb9f3a"
             ],
             [
              0.8888888888888888,
              "#fdca26"
             ],
             [
              1,
              "#f0f921"
             ]
            ],
            "type": "heatmap"
           }
          ],
          "heatmapgl": [
           {
            "colorbar": {
             "outlinewidth": 0,
             "ticks": ""
            },
            "colorscale": [
             [
              0,
              "#0d0887"
             ],
             [
              0.1111111111111111,
              "#46039f"
             ],
             [
              0.2222222222222222,
              "#7201a8"
             ],
             [
              0.3333333333333333,
              "#9c179e"
             ],
             [
              0.4444444444444444,
              "#bd3786"
             ],
             [
              0.5555555555555556,
              "#d8576b"
             ],
             [
              0.6666666666666666,
              "#ed7953"
             ],
             [
              0.7777777777777778,
              "#fb9f3a"
             ],
             [
              0.8888888888888888,
              "#fdca26"
             ],
             [
              1,
              "#f0f921"
             ]
            ],
            "type": "heatmapgl"
           }
          ],
          "histogram": [
           {
            "marker": {
             "colorbar": {
              "outlinewidth": 0,
              "ticks": ""
             }
            },
            "type": "histogram"
           }
          ],
          "histogram2d": [
           {
            "colorbar": {
             "outlinewidth": 0,
             "ticks": ""
            },
            "colorscale": [
             [
              0,
              "#0d0887"
             ],
             [
              0.1111111111111111,
              "#46039f"
             ],
             [
              0.2222222222222222,
              "#7201a8"
             ],
             [
              0.3333333333333333,
              "#9c179e"
             ],
             [
              0.4444444444444444,
              "#bd3786"
             ],
             [
              0.5555555555555556,
              "#d8576b"
             ],
             [
              0.6666666666666666,
              "#ed7953"
             ],
             [
              0.7777777777777778,
              "#fb9f3a"
             ],
             [
              0.8888888888888888,
              "#fdca26"
             ],
             [
              1,
              "#f0f921"
             ]
            ],
            "type": "histogram2d"
           }
          ],
          "histogram2dcontour": [
           {
            "colorbar": {
             "outlinewidth": 0,
             "ticks": ""
            },
            "colorscale": [
             [
              0,
              "#0d0887"
             ],
             [
              0.1111111111111111,
              "#46039f"
             ],
             [
              0.2222222222222222,
              "#7201a8"
             ],
             [
              0.3333333333333333,
              "#9c179e"
             ],
             [
              0.4444444444444444,
              "#bd3786"
             ],
             [
              0.5555555555555556,
              "#d8576b"
             ],
             [
              0.6666666666666666,
              "#ed7953"
             ],
             [
              0.7777777777777778,
              "#fb9f3a"
             ],
             [
              0.8888888888888888,
              "#fdca26"
             ],
             [
              1,
              "#f0f921"
             ]
            ],
            "type": "histogram2dcontour"
           }
          ],
          "mesh3d": [
           {
            "colorbar": {
             "outlinewidth": 0,
             "ticks": ""
            },
            "type": "mesh3d"
           }
          ],
          "parcoords": [
           {
            "line": {
             "colorbar": {
              "outlinewidth": 0,
              "ticks": ""
             }
            },
            "type": "parcoords"
           }
          ],
          "pie": [
           {
            "automargin": true,
            "type": "pie"
           }
          ],
          "scatter": [
           {
            "marker": {
             "colorbar": {
              "outlinewidth": 0,
              "ticks": ""
             }
            },
            "type": "scatter"
           }
          ],
          "scatter3d": [
           {
            "line": {
             "colorbar": {
              "outlinewidth": 0,
              "ticks": ""
             }
            },
            "marker": {
             "colorbar": {
              "outlinewidth": 0,
              "ticks": ""
             }
            },
            "type": "scatter3d"
           }
          ],
          "scattercarpet": [
           {
            "marker": {
             "colorbar": {
              "outlinewidth": 0,
              "ticks": ""
             }
            },
            "type": "scattercarpet"
           }
          ],
          "scattergeo": [
           {
            "marker": {
             "colorbar": {
              "outlinewidth": 0,
              "ticks": ""
             }
            },
            "type": "scattergeo"
           }
          ],
          "scattergl": [
           {
            "marker": {
             "colorbar": {
              "outlinewidth": 0,
              "ticks": ""
             }
            },
            "type": "scattergl"
           }
          ],
          "scattermapbox": [
           {
            "marker": {
             "colorbar": {
              "outlinewidth": 0,
              "ticks": ""
             }
            },
            "type": "scattermapbox"
           }
          ],
          "scatterpolar": [
           {
            "marker": {
             "colorbar": {
              "outlinewidth": 0,
              "ticks": ""
             }
            },
            "type": "scatterpolar"
           }
          ],
          "scatterpolargl": [
           {
            "marker": {
             "colorbar": {
              "outlinewidth": 0,
              "ticks": ""
             }
            },
            "type": "scatterpolargl"
           }
          ],
          "scatterternary": [
           {
            "marker": {
             "colorbar": {
              "outlinewidth": 0,
              "ticks": ""
             }
            },
            "type": "scatterternary"
           }
          ],
          "surface": [
           {
            "colorbar": {
             "outlinewidth": 0,
             "ticks": ""
            },
            "colorscale": [
             [
              0,
              "#0d0887"
             ],
             [
              0.1111111111111111,
              "#46039f"
             ],
             [
              0.2222222222222222,
              "#7201a8"
             ],
             [
              0.3333333333333333,
              "#9c179e"
             ],
             [
              0.4444444444444444,
              "#bd3786"
             ],
             [
              0.5555555555555556,
              "#d8576b"
             ],
             [
              0.6666666666666666,
              "#ed7953"
             ],
             [
              0.7777777777777778,
              "#fb9f3a"
             ],
             [
              0.8888888888888888,
              "#fdca26"
             ],
             [
              1,
              "#f0f921"
             ]
            ],
            "type": "surface"
           }
          ],
          "table": [
           {
            "cells": {
             "fill": {
              "color": "#EBF0F8"
             },
             "line": {
              "color": "white"
             }
            },
            "header": {
             "fill": {
              "color": "#C8D4E3"
             },
             "line": {
              "color": "white"
             }
            },
            "type": "table"
           }
          ]
         },
         "layout": {
          "annotationdefaults": {
           "arrowcolor": "#2a3f5f",
           "arrowhead": 0,
           "arrowwidth": 1
          },
          "coloraxis": {
           "colorbar": {
            "outlinewidth": 0,
            "ticks": ""
           }
          },
          "colorscale": {
           "diverging": [
            [
             0,
             "#8e0152"
            ],
            [
             0.1,
             "#c51b7d"
            ],
            [
             0.2,
             "#de77ae"
            ],
            [
             0.3,
             "#f1b6da"
            ],
            [
             0.4,
             "#fde0ef"
            ],
            [
             0.5,
             "#f7f7f7"
            ],
            [
             0.6,
             "#e6f5d0"
            ],
            [
             0.7,
             "#b8e186"
            ],
            [
             0.8,
             "#7fbc41"
            ],
            [
             0.9,
             "#4d9221"
            ],
            [
             1,
             "#276419"
            ]
           ],
           "sequential": [
            [
             0,
             "#0d0887"
            ],
            [
             0.1111111111111111,
             "#46039f"
            ],
            [
             0.2222222222222222,
             "#7201a8"
            ],
            [
             0.3333333333333333,
             "#9c179e"
            ],
            [
             0.4444444444444444,
             "#bd3786"
            ],
            [
             0.5555555555555556,
             "#d8576b"
            ],
            [
             0.6666666666666666,
             "#ed7953"
            ],
            [
             0.7777777777777778,
             "#fb9f3a"
            ],
            [
             0.8888888888888888,
             "#fdca26"
            ],
            [
             1,
             "#f0f921"
            ]
           ],
           "sequentialminus": [
            [
             0,
             "#0d0887"
            ],
            [
             0.1111111111111111,
             "#46039f"
            ],
            [
             0.2222222222222222,
             "#7201a8"
            ],
            [
             0.3333333333333333,
             "#9c179e"
            ],
            [
             0.4444444444444444,
             "#bd3786"
            ],
            [
             0.5555555555555556,
             "#d8576b"
            ],
            [
             0.6666666666666666,
             "#ed7953"
            ],
            [
             0.7777777777777778,
             "#fb9f3a"
            ],
            [
             0.8888888888888888,
             "#fdca26"
            ],
            [
             1,
             "#f0f921"
            ]
           ]
          },
          "colorway": [
           "#636efa",
           "#EF553B",
           "#00cc96",
           "#ab63fa",
           "#FFA15A",
           "#19d3f3",
           "#FF6692",
           "#B6E880",
           "#FF97FF",
           "#FECB52"
          ],
          "font": {
           "color": "#2a3f5f"
          },
          "geo": {
           "bgcolor": "white",
           "lakecolor": "white",
           "landcolor": "#E5ECF6",
           "showlakes": true,
           "showland": true,
           "subunitcolor": "white"
          },
          "hoverlabel": {
           "align": "left"
          },
          "hovermode": "closest",
          "mapbox": {
           "style": "light"
          },
          "paper_bgcolor": "white",
          "plot_bgcolor": "#E5ECF6",
          "polar": {
           "angularaxis": {
            "gridcolor": "white",
            "linecolor": "white",
            "ticks": ""
           },
           "bgcolor": "#E5ECF6",
           "radialaxis": {
            "gridcolor": "white",
            "linecolor": "white",
            "ticks": ""
           }
          },
          "scene": {
           "xaxis": {
            "backgroundcolor": "#E5ECF6",
            "gridcolor": "white",
            "gridwidth": 2,
            "linecolor": "white",
            "showbackground": true,
            "ticks": "",
            "zerolinecolor": "white"
           },
           "yaxis": {
            "backgroundcolor": "#E5ECF6",
            "gridcolor": "white",
            "gridwidth": 2,
            "linecolor": "white",
            "showbackground": true,
            "ticks": "",
            "zerolinecolor": "white"
           },
           "zaxis": {
            "backgroundcolor": "#E5ECF6",
            "gridcolor": "white",
            "gridwidth": 2,
            "linecolor": "white",
            "showbackground": true,
            "ticks": "",
            "zerolinecolor": "white"
           }
          },
          "shapedefaults": {
           "line": {
            "color": "#2a3f5f"
           }
          },
          "ternary": {
           "aaxis": {
            "gridcolor": "white",
            "linecolor": "white",
            "ticks": ""
           },
           "baxis": {
            "gridcolor": "white",
            "linecolor": "white",
            "ticks": ""
           },
           "bgcolor": "#E5ECF6",
           "caxis": {
            "gridcolor": "white",
            "linecolor": "white",
            "ticks": ""
           }
          },
          "title": {
           "x": 0.05
          },
          "xaxis": {
           "automargin": true,
           "gridcolor": "white",
           "linecolor": "white",
           "ticks": "",
           "title": {
            "standoff": 15
           },
           "zerolinecolor": "white",
           "zerolinewidth": 2
          },
          "yaxis": {
           "automargin": true,
           "gridcolor": "white",
           "linecolor": "white",
           "ticks": "",
           "title": {
            "standoff": 15
           },
           "zerolinecolor": "white",
           "zerolinewidth": 2
          }
         }
        },
        "title": {
         "text": "<b>NACA 65(sub)2-215</b>"
        },
        "xaxis": {
         "anchor": "y",
         "domain": [
          0,
          1
         ],
         "title": {
          "text": "x"
         }
        },
        "yaxis": {
         "anchor": "x",
         "domain": [
          0,
          1
         ],
         "scaleanchor": "x",
         "scaleratio": 1,
         "title": {
          "text": "y"
         }
        }
       }
      },
      "text/html": [
       "<div>\n",
       "        \n",
       "        \n",
       "            <div id=\"8efa2f7d-b8ea-4bcd-9954-f5cd4219f3ee\" class=\"plotly-graph-div\" style=\"height:525px; width:100%;\"></div>\n",
       "            <script type=\"text/javascript\">\n",
       "                require([\"plotly\"], function(Plotly) {\n",
       "                    window.PLOTLYENV=window.PLOTLYENV || {};\n",
       "                    \n",
       "                if (document.getElementById(\"8efa2f7d-b8ea-4bcd-9954-f5cd4219f3ee\")) {\n",
       "                    Plotly.newPlot(\n",
       "                        '8efa2f7d-b8ea-4bcd-9954-f5cd4219f3ee',\n",
       "                        [{\"hovertemplate\": \"x=%{x}<br>y=%{y}<extra></extra>\", \"legendgroup\": \"\", \"line\": {\"color\": \"#636efa\", \"dash\": \"solid\"}, \"mode\": \"lines\", \"name\": \"\", \"orientation\": \"v\", \"showlegend\": false, \"type\": \"scatter\", \"x\": [1.0, 0.9502, 0.9004, 0.85055, 0.80063, 0.75065, 0.70062, 0.65053, 0.60069, 0.55021, 0.5, 0.44976, 0.39952, 0.34927, 0.29904, 0.24882, 0.19863, 0.14848, 0.09841, 0.07342, 0.04848, 0.02365, 0.01132, 0.00645, 0.00406, 0.0, 0.00594, 0.00855, 0.01368, 0.02635, 0.05152, 0.07658, 0.10159, 0.15152, 0.20137, 0.25118, 0.30096, 0.35073, 0.40048, 0.45024, 0.5, 0.54979, 0.59961, 0.64947, 0.69938, 0.74935, 0.79937, 0.84945, 0.8996, 0.9498, 1.0], \"xaxis\": \"x\", \"y\": [0.0, 0.00744, 0.0166, 0.02649, 0.03653, 0.04638, 0.05572, 0.06433, 0.07189, 0.07815, 0.08271, 0.08522, 0.08569, 0.08426, 0.08123, 0.07658, 0.07018, 0.06175, 0.05069, 0.0438, 0.03557, 0.02506, 0.01805, 0.01422, 0.0117, 0.0, -0.0107, -0.01282, -0.01591, -0.02134, -0.02925, -0.03532, -0.04035, -0.04829, -0.05426, -0.05868, -0.06179, -0.06366, -0.06427, -0.06332, -0.06065, -0.05625, -0.05047, -0.04373, -0.03628, -0.02848, -0.02061, -0.01303, -0.00626, -0.00112, 0.0], \"yaxis\": \"y\"}],\n",
       "                        {\"legend\": {\"tracegroupgap\": 0}, \"template\": {\"data\": {\"bar\": [{\"error_x\": {\"color\": \"#2a3f5f\"}, \"error_y\": {\"color\": \"#2a3f5f\"}, \"marker\": {\"line\": {\"color\": \"#E5ECF6\", \"width\": 0.5}}, \"type\": \"bar\"}], \"barpolar\": [{\"marker\": {\"line\": {\"color\": \"#E5ECF6\", \"width\": 0.5}}, \"type\": \"barpolar\"}], \"carpet\": [{\"aaxis\": {\"endlinecolor\": \"#2a3f5f\", \"gridcolor\": \"white\", \"linecolor\": \"white\", \"minorgridcolor\": \"white\", \"startlinecolor\": \"#2a3f5f\"}, \"baxis\": {\"endlinecolor\": \"#2a3f5f\", \"gridcolor\": \"white\", \"linecolor\": \"white\", \"minorgridcolor\": \"white\", \"startlinecolor\": \"#2a3f5f\"}, \"type\": \"carpet\"}], \"choropleth\": [{\"colorbar\": {\"outlinewidth\": 0, \"ticks\": \"\"}, \"type\": \"choropleth\"}], \"contour\": [{\"colorbar\": {\"outlinewidth\": 0, \"ticks\": \"\"}, \"colorscale\": [[0.0, \"#0d0887\"], [0.1111111111111111, \"#46039f\"], [0.2222222222222222, \"#7201a8\"], [0.3333333333333333, \"#9c179e\"], [0.4444444444444444, \"#bd3786\"], [0.5555555555555556, \"#d8576b\"], [0.6666666666666666, \"#ed7953\"], [0.7777777777777778, \"#fb9f3a\"], [0.8888888888888888, \"#fdca26\"], [1.0, \"#f0f921\"]], \"type\": \"contour\"}], \"contourcarpet\": [{\"colorbar\": {\"outlinewidth\": 0, \"ticks\": \"\"}, \"type\": \"contourcarpet\"}], \"heatmap\": [{\"colorbar\": {\"outlinewidth\": 0, \"ticks\": \"\"}, \"colorscale\": [[0.0, \"#0d0887\"], [0.1111111111111111, \"#46039f\"], [0.2222222222222222, \"#7201a8\"], [0.3333333333333333, \"#9c179e\"], [0.4444444444444444, \"#bd3786\"], [0.5555555555555556, \"#d8576b\"], [0.6666666666666666, \"#ed7953\"], [0.7777777777777778, \"#fb9f3a\"], [0.8888888888888888, \"#fdca26\"], [1.0, \"#f0f921\"]], \"type\": \"heatmap\"}], \"heatmapgl\": [{\"colorbar\": {\"outlinewidth\": 0, \"ticks\": \"\"}, \"colorscale\": [[0.0, \"#0d0887\"], [0.1111111111111111, \"#46039f\"], [0.2222222222222222, \"#7201a8\"], [0.3333333333333333, \"#9c179e\"], [0.4444444444444444, \"#bd3786\"], [0.5555555555555556, \"#d8576b\"], [0.6666666666666666, \"#ed7953\"], [0.7777777777777778, \"#fb9f3a\"], [0.8888888888888888, \"#fdca26\"], [1.0, \"#f0f921\"]], \"type\": \"heatmapgl\"}], \"histogram\": [{\"marker\": {\"colorbar\": {\"outlinewidth\": 0, \"ticks\": \"\"}}, \"type\": \"histogram\"}], \"histogram2d\": [{\"colorbar\": {\"outlinewidth\": 0, \"ticks\": \"\"}, \"colorscale\": [[0.0, \"#0d0887\"], [0.1111111111111111, \"#46039f\"], [0.2222222222222222, \"#7201a8\"], [0.3333333333333333, \"#9c179e\"], [0.4444444444444444, \"#bd3786\"], [0.5555555555555556, \"#d8576b\"], [0.6666666666666666, \"#ed7953\"], [0.7777777777777778, \"#fb9f3a\"], [0.8888888888888888, \"#fdca26\"], [1.0, \"#f0f921\"]], \"type\": \"histogram2d\"}], \"histogram2dcontour\": [{\"colorbar\": {\"outlinewidth\": 0, \"ticks\": \"\"}, \"colorscale\": [[0.0, \"#0d0887\"], [0.1111111111111111, \"#46039f\"], [0.2222222222222222, \"#7201a8\"], [0.3333333333333333, \"#9c179e\"], [0.4444444444444444, \"#bd3786\"], [0.5555555555555556, \"#d8576b\"], [0.6666666666666666, \"#ed7953\"], [0.7777777777777778, \"#fb9f3a\"], [0.8888888888888888, \"#fdca26\"], [1.0, \"#f0f921\"]], \"type\": \"histogram2dcontour\"}], \"mesh3d\": [{\"colorbar\": {\"outlinewidth\": 0, \"ticks\": \"\"}, \"type\": \"mesh3d\"}], \"parcoords\": [{\"line\": {\"colorbar\": {\"outlinewidth\": 0, \"ticks\": \"\"}}, \"type\": \"parcoords\"}], \"pie\": [{\"automargin\": true, \"type\": \"pie\"}], \"scatter\": [{\"marker\": {\"colorbar\": {\"outlinewidth\": 0, \"ticks\": \"\"}}, \"type\": \"scatter\"}], \"scatter3d\": [{\"line\": {\"colorbar\": {\"outlinewidth\": 0, \"ticks\": \"\"}}, \"marker\": {\"colorbar\": {\"outlinewidth\": 0, \"ticks\": \"\"}}, \"type\": \"scatter3d\"}], \"scattercarpet\": [{\"marker\": {\"colorbar\": {\"outlinewidth\": 0, \"ticks\": \"\"}}, \"type\": \"scattercarpet\"}], \"scattergeo\": [{\"marker\": {\"colorbar\": {\"outlinewidth\": 0, \"ticks\": \"\"}}, \"type\": \"scattergeo\"}], \"scattergl\": [{\"marker\": {\"colorbar\": {\"outlinewidth\": 0, \"ticks\": \"\"}}, \"type\": \"scattergl\"}], \"scattermapbox\": [{\"marker\": {\"colorbar\": {\"outlinewidth\": 0, \"ticks\": \"\"}}, \"type\": \"scattermapbox\"}], \"scatterpolar\": [{\"marker\": {\"colorbar\": {\"outlinewidth\": 0, \"ticks\": \"\"}}, \"type\": \"scatterpolar\"}], \"scatterpolargl\": [{\"marker\": {\"colorbar\": {\"outlinewidth\": 0, \"ticks\": \"\"}}, \"type\": \"scatterpolargl\"}], \"scatterternary\": [{\"marker\": {\"colorbar\": {\"outlinewidth\": 0, \"ticks\": \"\"}}, \"type\": \"scatterternary\"}], \"surface\": [{\"colorbar\": {\"outlinewidth\": 0, \"ticks\": \"\"}, \"colorscale\": [[0.0, \"#0d0887\"], [0.1111111111111111, \"#46039f\"], [0.2222222222222222, \"#7201a8\"], [0.3333333333333333, \"#9c179e\"], [0.4444444444444444, \"#bd3786\"], [0.5555555555555556, \"#d8576b\"], [0.6666666666666666, \"#ed7953\"], [0.7777777777777778, \"#fb9f3a\"], [0.8888888888888888, \"#fdca26\"], [1.0, \"#f0f921\"]], \"type\": \"surface\"}], \"table\": [{\"cells\": {\"fill\": {\"color\": \"#EBF0F8\"}, \"line\": {\"color\": \"white\"}}, \"header\": {\"fill\": {\"color\": \"#C8D4E3\"}, \"line\": {\"color\": \"white\"}}, \"type\": \"table\"}]}, \"layout\": {\"annotationdefaults\": {\"arrowcolor\": \"#2a3f5f\", \"arrowhead\": 0, \"arrowwidth\": 1}, \"coloraxis\": {\"colorbar\": {\"outlinewidth\": 0, \"ticks\": \"\"}}, \"colorscale\": {\"diverging\": [[0, \"#8e0152\"], [0.1, \"#c51b7d\"], [0.2, \"#de77ae\"], [0.3, \"#f1b6da\"], [0.4, \"#fde0ef\"], [0.5, \"#f7f7f7\"], [0.6, \"#e6f5d0\"], [0.7, \"#b8e186\"], [0.8, \"#7fbc41\"], [0.9, \"#4d9221\"], [1, \"#276419\"]], \"sequential\": [[0.0, \"#0d0887\"], [0.1111111111111111, \"#46039f\"], [0.2222222222222222, \"#7201a8\"], [0.3333333333333333, \"#9c179e\"], [0.4444444444444444, \"#bd3786\"], [0.5555555555555556, \"#d8576b\"], [0.6666666666666666, \"#ed7953\"], [0.7777777777777778, \"#fb9f3a\"], [0.8888888888888888, \"#fdca26\"], [1.0, \"#f0f921\"]], \"sequentialminus\": [[0.0, \"#0d0887\"], [0.1111111111111111, \"#46039f\"], [0.2222222222222222, \"#7201a8\"], [0.3333333333333333, \"#9c179e\"], [0.4444444444444444, \"#bd3786\"], [0.5555555555555556, \"#d8576b\"], [0.6666666666666666, \"#ed7953\"], [0.7777777777777778, \"#fb9f3a\"], [0.8888888888888888, \"#fdca26\"], [1.0, \"#f0f921\"]]}, \"colorway\": [\"#636efa\", \"#EF553B\", \"#00cc96\", \"#ab63fa\", \"#FFA15A\", \"#19d3f3\", \"#FF6692\", \"#B6E880\", \"#FF97FF\", \"#FECB52\"], \"font\": {\"color\": \"#2a3f5f\"}, \"geo\": {\"bgcolor\": \"white\", \"lakecolor\": \"white\", \"landcolor\": \"#E5ECF6\", \"showlakes\": true, \"showland\": true, \"subunitcolor\": \"white\"}, \"hoverlabel\": {\"align\": \"left\"}, \"hovermode\": \"closest\", \"mapbox\": {\"style\": \"light\"}, \"paper_bgcolor\": \"white\", \"plot_bgcolor\": \"#E5ECF6\", \"polar\": {\"angularaxis\": {\"gridcolor\": \"white\", \"linecolor\": \"white\", \"ticks\": \"\"}, \"bgcolor\": \"#E5ECF6\", \"radialaxis\": {\"gridcolor\": \"white\", \"linecolor\": \"white\", \"ticks\": \"\"}}, \"scene\": {\"xaxis\": {\"backgroundcolor\": \"#E5ECF6\", \"gridcolor\": \"white\", \"gridwidth\": 2, \"linecolor\": \"white\", \"showbackground\": true, \"ticks\": \"\", \"zerolinecolor\": \"white\"}, \"yaxis\": {\"backgroundcolor\": \"#E5ECF6\", \"gridcolor\": \"white\", \"gridwidth\": 2, \"linecolor\": \"white\", \"showbackground\": true, \"ticks\": \"\", \"zerolinecolor\": \"white\"}, \"zaxis\": {\"backgroundcolor\": \"#E5ECF6\", \"gridcolor\": \"white\", \"gridwidth\": 2, \"linecolor\": \"white\", \"showbackground\": true, \"ticks\": \"\", \"zerolinecolor\": \"white\"}}, \"shapedefaults\": {\"line\": {\"color\": \"#2a3f5f\"}}, \"ternary\": {\"aaxis\": {\"gridcolor\": \"white\", \"linecolor\": \"white\", \"ticks\": \"\"}, \"baxis\": {\"gridcolor\": \"white\", \"linecolor\": \"white\", \"ticks\": \"\"}, \"bgcolor\": \"#E5ECF6\", \"caxis\": {\"gridcolor\": \"white\", \"linecolor\": \"white\", \"ticks\": \"\"}}, \"title\": {\"x\": 0.05}, \"xaxis\": {\"automargin\": true, \"gridcolor\": \"white\", \"linecolor\": \"white\", \"ticks\": \"\", \"title\": {\"standoff\": 15}, \"zerolinecolor\": \"white\", \"zerolinewidth\": 2}, \"yaxis\": {\"automargin\": true, \"gridcolor\": \"white\", \"linecolor\": \"white\", \"ticks\": \"\", \"title\": {\"standoff\": 15}, \"zerolinecolor\": \"white\", \"zerolinewidth\": 2}}}, \"title\": {\"text\": \"<b>NACA 65(sub)2-215</b>\"}, \"xaxis\": {\"anchor\": \"y\", \"domain\": [0.0, 1.0], \"title\": {\"text\": \"x\"}}, \"yaxis\": {\"anchor\": \"x\", \"domain\": [0.0, 1.0], \"scaleanchor\": \"x\", \"scaleratio\": 1, \"title\": {\"text\": \"y\"}}},\n",
       "                        {\"responsive\": true}\n",
       "                    ).then(function(){\n",
       "                            \n",
       "var gd = document.getElementById('8efa2f7d-b8ea-4bcd-9954-f5cd4219f3ee');\n",
       "var x = new MutationObserver(function (mutations, observer) {{\n",
       "        var display = window.getComputedStyle(gd).display;\n",
       "        if (!display || display === 'none') {{\n",
       "            console.log([gd, 'removed!']);\n",
       "            Plotly.purge(gd);\n",
       "            observer.disconnect();\n",
       "        }}\n",
       "}});\n",
       "\n",
       "// Listen for the removal of the full notebook cells\n",
       "var notebookContainer = gd.closest('#notebook-container');\n",
       "if (notebookContainer) {{\n",
       "    x.observe(notebookContainer, {childList: true});\n",
       "}}\n",
       "\n",
       "// Listen for the clearing of the current output cell\n",
       "var outputEl = gd.closest('.output');\n",
       "if (outputEl) {{\n",
       "    x.observe(outputEl, {childList: true});\n",
       "}}\n",
       "\n",
       "                        })\n",
       "                };\n",
       "                });\n",
       "            </script>\n",
       "        </div>"
      ]
     },
     "metadata": {},
     "output_type": "display_data"
    },
    {
     "data": {
      "application/vnd.plotly.v1+json": {
       "config": {
        "plotlyServerURL": "https://plot.ly"
       },
       "data": [
        {
         "hovertemplate": "alpha=%{x}<br>Cl=%{y}<extra></extra>",
         "legendgroup": "",
         "line": {
          "color": "#636efa",
          "dash": "solid"
         },
         "mode": "lines",
         "name": "",
         "orientation": "v",
         "showlegend": false,
         "type": "scatter",
         "x": [
          19.3762,
          18.2929,
          17.4013,
          16.2855,
          15.2965,
          14.275,
          13.285,
          12.3585,
          10.1524,
          8.10419,
          6.11858,
          5.22122,
          4.16323,
          3.13713,
          2.0783,
          1.14765,
          0.023847,
          -0.972193,
          -2.00008,
          -2.96464,
          -4.15416,
          -5.05523,
          -6.02079,
          -8.04904,
          -10.1755,
          -12.1095,
          -13.3023,
          -14.1081,
          -15.0409,
          -16.1889,
          -17.3476
         ],
         "xaxis": "x",
         "y": [
          1.37315,
          1.41105,
          1.51954,
          1.54926,
          1.53133,
          1.49205,
          1.43468,
          1.38386,
          1.20986,
          1.00941,
          0.818675,
          0.719965,
          0.603116,
          0.504335,
          0.384107,
          0.290194,
          0.164935,
          0.036336,
          -0.056047,
          -0.176486,
          -0.292048,
          -0.41092,
          -0.526541,
          -0.739769,
          -0.966385,
          -1.14522,
          -1.22977,
          -1.26799,
          -1.21038,
          -0.670185,
          -0.61419
         ],
         "yaxis": "y"
        }
       ],
       "layout": {
        "legend": {
         "tracegroupgap": 0
        },
        "template": {
         "data": {
          "bar": [
           {
            "error_x": {
             "color": "#2a3f5f"
            },
            "error_y": {
             "color": "#2a3f5f"
            },
            "marker": {
             "line": {
              "color": "#E5ECF6",
              "width": 0.5
             }
            },
            "type": "bar"
           }
          ],
          "barpolar": [
           {
            "marker": {
             "line": {
              "color": "#E5ECF6",
              "width": 0.5
             }
            },
            "type": "barpolar"
           }
          ],
          "carpet": [
           {
            "aaxis": {
             "endlinecolor": "#2a3f5f",
             "gridcolor": "white",
             "linecolor": "white",
             "minorgridcolor": "white",
             "startlinecolor": "#2a3f5f"
            },
            "baxis": {
             "endlinecolor": "#2a3f5f",
             "gridcolor": "white",
             "linecolor": "white",
             "minorgridcolor": "white",
             "startlinecolor": "#2a3f5f"
            },
            "type": "carpet"
           }
          ],
          "choropleth": [
           {
            "colorbar": {
             "outlinewidth": 0,
             "ticks": ""
            },
            "type": "choropleth"
           }
          ],
          "contour": [
           {
            "colorbar": {
             "outlinewidth": 0,
             "ticks": ""
            },
            "colorscale": [
             [
              0,
              "#0d0887"
             ],
             [
              0.1111111111111111,
              "#46039f"
             ],
             [
              0.2222222222222222,
              "#7201a8"
             ],
             [
              0.3333333333333333,
              "#9c179e"
             ],
             [
              0.4444444444444444,
              "#bd3786"
             ],
             [
              0.5555555555555556,
              "#d8576b"
             ],
             [
              0.6666666666666666,
              "#ed7953"
             ],
             [
              0.7777777777777778,
              "#fb9f3a"
             ],
             [
              0.8888888888888888,
              "#fdca26"
             ],
             [
              1,
              "#f0f921"
             ]
            ],
            "type": "contour"
           }
          ],
          "contourcarpet": [
           {
            "colorbar": {
             "outlinewidth": 0,
             "ticks": ""
            },
            "type": "contourcarpet"
           }
          ],
          "heatmap": [
           {
            "colorbar": {
             "outlinewidth": 0,
             "ticks": ""
            },
            "colorscale": [
             [
              0,
              "#0d0887"
             ],
             [
              0.1111111111111111,
              "#46039f"
             ],
             [
              0.2222222222222222,
              "#7201a8"
             ],
             [
              0.3333333333333333,
              "#9c179e"
             ],
             [
              0.4444444444444444,
              "#bd3786"
             ],
             [
              0.5555555555555556,
              "#d8576b"
             ],
             [
              0.6666666666666666,
              "#ed7953"
             ],
             [
              0.7777777777777778,
              "#fb9f3a"
             ],
             [
              0.8888888888888888,
              "#fdca26"
             ],
             [
              1,
              "#f0f921"
             ]
            ],
            "type": "heatmap"
           }
          ],
          "heatmapgl": [
           {
            "colorbar": {
             "outlinewidth": 0,
             "ticks": ""
            },
            "colorscale": [
             [
              0,
              "#0d0887"
             ],
             [
              0.1111111111111111,
              "#46039f"
             ],
             [
              0.2222222222222222,
              "#7201a8"
             ],
             [
              0.3333333333333333,
              "#9c179e"
             ],
             [
              0.4444444444444444,
              "#bd3786"
             ],
             [
              0.5555555555555556,
              "#d8576b"
             ],
             [
              0.6666666666666666,
              "#ed7953"
             ],
             [
              0.7777777777777778,
              "#fb9f3a"
             ],
             [
              0.8888888888888888,
              "#fdca26"
             ],
             [
              1,
              "#f0f921"
             ]
            ],
            "type": "heatmapgl"
           }
          ],
          "histogram": [
           {
            "marker": {
             "colorbar": {
              "outlinewidth": 0,
              "ticks": ""
             }
            },
            "type": "histogram"
           }
          ],
          "histogram2d": [
           {
            "colorbar": {
             "outlinewidth": 0,
             "ticks": ""
            },
            "colorscale": [
             [
              0,
              "#0d0887"
             ],
             [
              0.1111111111111111,
              "#46039f"
             ],
             [
              0.2222222222222222,
              "#7201a8"
             ],
             [
              0.3333333333333333,
              "#9c179e"
             ],
             [
              0.4444444444444444,
              "#bd3786"
             ],
             [
              0.5555555555555556,
              "#d8576b"
             ],
             [
              0.6666666666666666,
              "#ed7953"
             ],
             [
              0.7777777777777778,
              "#fb9f3a"
             ],
             [
              0.8888888888888888,
              "#fdca26"
             ],
             [
              1,
              "#f0f921"
             ]
            ],
            "type": "histogram2d"
           }
          ],
          "histogram2dcontour": [
           {
            "colorbar": {
             "outlinewidth": 0,
             "ticks": ""
            },
            "colorscale": [
             [
              0,
              "#0d0887"
             ],
             [
              0.1111111111111111,
              "#46039f"
             ],
             [
              0.2222222222222222,
              "#7201a8"
             ],
             [
              0.3333333333333333,
              "#9c179e"
             ],
             [
              0.4444444444444444,
              "#bd3786"
             ],
             [
              0.5555555555555556,
              "#d8576b"
             ],
             [
              0.6666666666666666,
              "#ed7953"
             ],
             [
              0.7777777777777778,
              "#fb9f3a"
             ],
             [
              0.8888888888888888,
              "#fdca26"
             ],
             [
              1,
              "#f0f921"
             ]
            ],
            "type": "histogram2dcontour"
           }
          ],
          "mesh3d": [
           {
            "colorbar": {
             "outlinewidth": 0,
             "ticks": ""
            },
            "type": "mesh3d"
           }
          ],
          "parcoords": [
           {
            "line": {
             "colorbar": {
              "outlinewidth": 0,
              "ticks": ""
             }
            },
            "type": "parcoords"
           }
          ],
          "pie": [
           {
            "automargin": true,
            "type": "pie"
           }
          ],
          "scatter": [
           {
            "marker": {
             "colorbar": {
              "outlinewidth": 0,
              "ticks": ""
             }
            },
            "type": "scatter"
           }
          ],
          "scatter3d": [
           {
            "line": {
             "colorbar": {
              "outlinewidth": 0,
              "ticks": ""
             }
            },
            "marker": {
             "colorbar": {
              "outlinewidth": 0,
              "ticks": ""
             }
            },
            "type": "scatter3d"
           }
          ],
          "scattercarpet": [
           {
            "marker": {
             "colorbar": {
              "outlinewidth": 0,
              "ticks": ""
             }
            },
            "type": "scattercarpet"
           }
          ],
          "scattergeo": [
           {
            "marker": {
             "colorbar": {
              "outlinewidth": 0,
              "ticks": ""
             }
            },
            "type": "scattergeo"
           }
          ],
          "scattergl": [
           {
            "marker": {
             "colorbar": {
              "outlinewidth": 0,
              "ticks": ""
             }
            },
            "type": "scattergl"
           }
          ],
          "scattermapbox": [
           {
            "marker": {
             "colorbar": {
              "outlinewidth": 0,
              "ticks": ""
             }
            },
            "type": "scattermapbox"
           }
          ],
          "scatterpolar": [
           {
            "marker": {
             "colorbar": {
              "outlinewidth": 0,
              "ticks": ""
             }
            },
            "type": "scatterpolar"
           }
          ],
          "scatterpolargl": [
           {
            "marker": {
             "colorbar": {
              "outlinewidth": 0,
              "ticks": ""
             }
            },
            "type": "scatterpolargl"
           }
          ],
          "scatterternary": [
           {
            "marker": {
             "colorbar": {
              "outlinewidth": 0,
              "ticks": ""
             }
            },
            "type": "scatterternary"
           }
          ],
          "surface": [
           {
            "colorbar": {
             "outlinewidth": 0,
             "ticks": ""
            },
            "colorscale": [
             [
              0,
              "#0d0887"
             ],
             [
              0.1111111111111111,
              "#46039f"
             ],
             [
              0.2222222222222222,
              "#7201a8"
             ],
             [
              0.3333333333333333,
              "#9c179e"
             ],
             [
              0.4444444444444444,
              "#bd3786"
             ],
             [
              0.5555555555555556,
              "#d8576b"
             ],
             [
              0.6666666666666666,
              "#ed7953"
             ],
             [
              0.7777777777777778,
              "#fb9f3a"
             ],
             [
              0.8888888888888888,
              "#fdca26"
             ],
             [
              1,
              "#f0f921"
             ]
            ],
            "type": "surface"
           }
          ],
          "table": [
           {
            "cells": {
             "fill": {
              "color": "#EBF0F8"
             },
             "line": {
              "color": "white"
             }
            },
            "header": {
             "fill": {
              "color": "#C8D4E3"
             },
             "line": {
              "color": "white"
             }
            },
            "type": "table"
           }
          ]
         },
         "layout": {
          "annotationdefaults": {
           "arrowcolor": "#2a3f5f",
           "arrowhead": 0,
           "arrowwidth": 1
          },
          "coloraxis": {
           "colorbar": {
            "outlinewidth": 0,
            "ticks": ""
           }
          },
          "colorscale": {
           "diverging": [
            [
             0,
             "#8e0152"
            ],
            [
             0.1,
             "#c51b7d"
            ],
            [
             0.2,
             "#de77ae"
            ],
            [
             0.3,
             "#f1b6da"
            ],
            [
             0.4,
             "#fde0ef"
            ],
            [
             0.5,
             "#f7f7f7"
            ],
            [
             0.6,
             "#e6f5d0"
            ],
            [
             0.7,
             "#b8e186"
            ],
            [
             0.8,
             "#7fbc41"
            ],
            [
             0.9,
             "#4d9221"
            ],
            [
             1,
             "#276419"
            ]
           ],
           "sequential": [
            [
             0,
             "#0d0887"
            ],
            [
             0.1111111111111111,
             "#46039f"
            ],
            [
             0.2222222222222222,
             "#7201a8"
            ],
            [
             0.3333333333333333,
             "#9c179e"
            ],
            [
             0.4444444444444444,
             "#bd3786"
            ],
            [
             0.5555555555555556,
             "#d8576b"
            ],
            [
             0.6666666666666666,
             "#ed7953"
            ],
            [
             0.7777777777777778,
             "#fb9f3a"
            ],
            [
             0.8888888888888888,
             "#fdca26"
            ],
            [
             1,
             "#f0f921"
            ]
           ],
           "sequentialminus": [
            [
             0,
             "#0d0887"
            ],
            [
             0.1111111111111111,
             "#46039f"
            ],
            [
             0.2222222222222222,
             "#7201a8"
            ],
            [
             0.3333333333333333,
             "#9c179e"
            ],
            [
             0.4444444444444444,
             "#bd3786"
            ],
            [
             0.5555555555555556,
             "#d8576b"
            ],
            [
             0.6666666666666666,
             "#ed7953"
            ],
            [
             0.7777777777777778,
             "#fb9f3a"
            ],
            [
             0.8888888888888888,
             "#fdca26"
            ],
            [
             1,
             "#f0f921"
            ]
           ]
          },
          "colorway": [
           "#636efa",
           "#EF553B",
           "#00cc96",
           "#ab63fa",
           "#FFA15A",
           "#19d3f3",
           "#FF6692",
           "#B6E880",
           "#FF97FF",
           "#FECB52"
          ],
          "font": {
           "color": "#2a3f5f"
          },
          "geo": {
           "bgcolor": "white",
           "lakecolor": "white",
           "landcolor": "#E5ECF6",
           "showlakes": true,
           "showland": true,
           "subunitcolor": "white"
          },
          "hoverlabel": {
           "align": "left"
          },
          "hovermode": "closest",
          "mapbox": {
           "style": "light"
          },
          "paper_bgcolor": "white",
          "plot_bgcolor": "#E5ECF6",
          "polar": {
           "angularaxis": {
            "gridcolor": "white",
            "linecolor": "white",
            "ticks": ""
           },
           "bgcolor": "#E5ECF6",
           "radialaxis": {
            "gridcolor": "white",
            "linecolor": "white",
            "ticks": ""
           }
          },
          "scene": {
           "xaxis": {
            "backgroundcolor": "#E5ECF6",
            "gridcolor": "white",
            "gridwidth": 2,
            "linecolor": "white",
            "showbackground": true,
            "ticks": "",
            "zerolinecolor": "white"
           },
           "yaxis": {
            "backgroundcolor": "#E5ECF6",
            "gridcolor": "white",
            "gridwidth": 2,
            "linecolor": "white",
            "showbackground": true,
            "ticks": "",
            "zerolinecolor": "white"
           },
           "zaxis": {
            "backgroundcolor": "#E5ECF6",
            "gridcolor": "white",
            "gridwidth": 2,
            "linecolor": "white",
            "showbackground": true,
            "ticks": "",
            "zerolinecolor": "white"
           }
          },
          "shapedefaults": {
           "line": {
            "color": "#2a3f5f"
           }
          },
          "ternary": {
           "aaxis": {
            "gridcolor": "white",
            "linecolor": "white",
            "ticks": ""
           },
           "baxis": {
            "gridcolor": "white",
            "linecolor": "white",
            "ticks": ""
           },
           "bgcolor": "#E5ECF6",
           "caxis": {
            "gridcolor": "white",
            "linecolor": "white",
            "ticks": ""
           }
          },
          "title": {
           "x": 0.05
          },
          "xaxis": {
           "automargin": true,
           "gridcolor": "white",
           "linecolor": "white",
           "ticks": "",
           "title": {
            "standoff": 15
           },
           "zerolinecolor": "white",
           "zerolinewidth": 2
          },
          "yaxis": {
           "automargin": true,
           "gridcolor": "white",
           "linecolor": "white",
           "ticks": "",
           "title": {
            "standoff": 15
           },
           "zerolinecolor": "white",
           "zerolinewidth": 2
          }
         }
        },
        "title": {
         "text": "Lift coefficient (Cl) vs Angle of attack (alpha) for <b>NACA 65(sub)2-215</b>"
        },
        "xaxis": {
         "anchor": "y",
         "domain": [
          0,
          1
         ],
         "title": {
          "text": "alpha"
         }
        },
        "yaxis": {
         "anchor": "x",
         "domain": [
          0,
          1
         ],
         "title": {
          "text": "Cl"
         }
        }
       }
      },
      "text/html": [
       "<div>\n",
       "        \n",
       "        \n",
       "            <div id=\"81ff7651-d422-4557-b15c-291094811ac8\" class=\"plotly-graph-div\" style=\"height:525px; width:100%;\"></div>\n",
       "            <script type=\"text/javascript\">\n",
       "                require([\"plotly\"], function(Plotly) {\n",
       "                    window.PLOTLYENV=window.PLOTLYENV || {};\n",
       "                    \n",
       "                if (document.getElementById(\"81ff7651-d422-4557-b15c-291094811ac8\")) {\n",
       "                    Plotly.newPlot(\n",
       "                        '81ff7651-d422-4557-b15c-291094811ac8',\n",
       "                        [{\"hovertemplate\": \"alpha=%{x}<br>Cl=%{y}<extra></extra>\", \"legendgroup\": \"\", \"line\": {\"color\": \"#636efa\", \"dash\": \"solid\"}, \"mode\": \"lines\", \"name\": \"\", \"orientation\": \"v\", \"showlegend\": false, \"type\": \"scatter\", \"x\": [19.3762, 18.2929, 17.4013, 16.2855, 15.2965, 14.275, 13.285, 12.3585, 10.1524, 8.10419, 6.11858, 5.22122, 4.16323, 3.13713, 2.0783, 1.14765, 0.023847, -0.972193, -2.00008, -2.96464, -4.15416, -5.05523, -6.02079, -8.04904, -10.1755, -12.1095, -13.3023, -14.1081, -15.0409, -16.1889, -17.3476], \"xaxis\": \"x\", \"y\": [1.37315, 1.41105, 1.51954, 1.54926, 1.53133, 1.49205, 1.43468, 1.38386, 1.20986, 1.00941, 0.818675, 0.719965, 0.603116, 0.504335, 0.384107, 0.290194, 0.164935, 0.036336, -0.056047, -0.176486, -0.292048, -0.41092, -0.526541, -0.739769, -0.966385, -1.14522, -1.22977, -1.26799, -1.21038, -0.670185, -0.61419], \"yaxis\": \"y\"}],\n",
       "                        {\"legend\": {\"tracegroupgap\": 0}, \"template\": {\"data\": {\"bar\": [{\"error_x\": {\"color\": \"#2a3f5f\"}, \"error_y\": {\"color\": \"#2a3f5f\"}, \"marker\": {\"line\": {\"color\": \"#E5ECF6\", \"width\": 0.5}}, \"type\": \"bar\"}], \"barpolar\": [{\"marker\": {\"line\": {\"color\": \"#E5ECF6\", \"width\": 0.5}}, \"type\": \"barpolar\"}], \"carpet\": [{\"aaxis\": {\"endlinecolor\": \"#2a3f5f\", \"gridcolor\": \"white\", \"linecolor\": \"white\", \"minorgridcolor\": \"white\", \"startlinecolor\": \"#2a3f5f\"}, \"baxis\": {\"endlinecolor\": \"#2a3f5f\", \"gridcolor\": \"white\", \"linecolor\": \"white\", \"minorgridcolor\": \"white\", \"startlinecolor\": \"#2a3f5f\"}, \"type\": \"carpet\"}], \"choropleth\": [{\"colorbar\": {\"outlinewidth\": 0, \"ticks\": \"\"}, \"type\": \"choropleth\"}], \"contour\": [{\"colorbar\": {\"outlinewidth\": 0, \"ticks\": \"\"}, \"colorscale\": [[0.0, \"#0d0887\"], [0.1111111111111111, \"#46039f\"], [0.2222222222222222, \"#7201a8\"], [0.3333333333333333, \"#9c179e\"], [0.4444444444444444, \"#bd3786\"], [0.5555555555555556, \"#d8576b\"], [0.6666666666666666, \"#ed7953\"], [0.7777777777777778, \"#fb9f3a\"], [0.8888888888888888, \"#fdca26\"], [1.0, \"#f0f921\"]], \"type\": \"contour\"}], \"contourcarpet\": [{\"colorbar\": {\"outlinewidth\": 0, \"ticks\": \"\"}, \"type\": \"contourcarpet\"}], \"heatmap\": [{\"colorbar\": {\"outlinewidth\": 0, \"ticks\": \"\"}, \"colorscale\": [[0.0, \"#0d0887\"], [0.1111111111111111, \"#46039f\"], [0.2222222222222222, \"#7201a8\"], [0.3333333333333333, \"#9c179e\"], [0.4444444444444444, \"#bd3786\"], [0.5555555555555556, \"#d8576b\"], [0.6666666666666666, \"#ed7953\"], [0.7777777777777778, \"#fb9f3a\"], [0.8888888888888888, \"#fdca26\"], [1.0, \"#f0f921\"]], \"type\": \"heatmap\"}], \"heatmapgl\": [{\"colorbar\": {\"outlinewidth\": 0, \"ticks\": \"\"}, \"colorscale\": [[0.0, \"#0d0887\"], [0.1111111111111111, \"#46039f\"], [0.2222222222222222, \"#7201a8\"], [0.3333333333333333, \"#9c179e\"], [0.4444444444444444, \"#bd3786\"], [0.5555555555555556, \"#d8576b\"], [0.6666666666666666, \"#ed7953\"], [0.7777777777777778, \"#fb9f3a\"], [0.8888888888888888, \"#fdca26\"], [1.0, \"#f0f921\"]], \"type\": \"heatmapgl\"}], \"histogram\": [{\"marker\": {\"colorbar\": {\"outlinewidth\": 0, \"ticks\": \"\"}}, \"type\": \"histogram\"}], \"histogram2d\": [{\"colorbar\": {\"outlinewidth\": 0, \"ticks\": \"\"}, \"colorscale\": [[0.0, \"#0d0887\"], [0.1111111111111111, \"#46039f\"], [0.2222222222222222, \"#7201a8\"], [0.3333333333333333, \"#9c179e\"], [0.4444444444444444, \"#bd3786\"], [0.5555555555555556, \"#d8576b\"], [0.6666666666666666, \"#ed7953\"], [0.7777777777777778, \"#fb9f3a\"], [0.8888888888888888, \"#fdca26\"], [1.0, \"#f0f921\"]], \"type\": \"histogram2d\"}], \"histogram2dcontour\": [{\"colorbar\": {\"outlinewidth\": 0, \"ticks\": \"\"}, \"colorscale\": [[0.0, \"#0d0887\"], [0.1111111111111111, \"#46039f\"], [0.2222222222222222, \"#7201a8\"], [0.3333333333333333, \"#9c179e\"], [0.4444444444444444, \"#bd3786\"], [0.5555555555555556, \"#d8576b\"], [0.6666666666666666, \"#ed7953\"], [0.7777777777777778, \"#fb9f3a\"], [0.8888888888888888, \"#fdca26\"], [1.0, \"#f0f921\"]], \"type\": \"histogram2dcontour\"}], \"mesh3d\": [{\"colorbar\": {\"outlinewidth\": 0, \"ticks\": \"\"}, \"type\": \"mesh3d\"}], \"parcoords\": [{\"line\": {\"colorbar\": {\"outlinewidth\": 0, \"ticks\": \"\"}}, \"type\": \"parcoords\"}], \"pie\": [{\"automargin\": true, \"type\": \"pie\"}], \"scatter\": [{\"marker\": {\"colorbar\": {\"outlinewidth\": 0, \"ticks\": \"\"}}, \"type\": \"scatter\"}], \"scatter3d\": [{\"line\": {\"colorbar\": {\"outlinewidth\": 0, \"ticks\": \"\"}}, \"marker\": {\"colorbar\": {\"outlinewidth\": 0, \"ticks\": \"\"}}, \"type\": \"scatter3d\"}], \"scattercarpet\": [{\"marker\": {\"colorbar\": {\"outlinewidth\": 0, \"ticks\": \"\"}}, \"type\": \"scattercarpet\"}], \"scattergeo\": [{\"marker\": {\"colorbar\": {\"outlinewidth\": 0, \"ticks\": \"\"}}, \"type\": \"scattergeo\"}], \"scattergl\": [{\"marker\": {\"colorbar\": {\"outlinewidth\": 0, \"ticks\": \"\"}}, \"type\": \"scattergl\"}], \"scattermapbox\": [{\"marker\": {\"colorbar\": {\"outlinewidth\": 0, \"ticks\": \"\"}}, \"type\": \"scattermapbox\"}], \"scatterpolar\": [{\"marker\": {\"colorbar\": {\"outlinewidth\": 0, \"ticks\": \"\"}}, \"type\": \"scatterpolar\"}], \"scatterpolargl\": [{\"marker\": {\"colorbar\": {\"outlinewidth\": 0, \"ticks\": \"\"}}, \"type\": \"scatterpolargl\"}], \"scatterternary\": [{\"marker\": {\"colorbar\": {\"outlinewidth\": 0, \"ticks\": \"\"}}, \"type\": \"scatterternary\"}], \"surface\": [{\"colorbar\": {\"outlinewidth\": 0, \"ticks\": \"\"}, \"colorscale\": [[0.0, \"#0d0887\"], [0.1111111111111111, \"#46039f\"], [0.2222222222222222, \"#7201a8\"], [0.3333333333333333, \"#9c179e\"], [0.4444444444444444, \"#bd3786\"], [0.5555555555555556, \"#d8576b\"], [0.6666666666666666, \"#ed7953\"], [0.7777777777777778, \"#fb9f3a\"], [0.8888888888888888, \"#fdca26\"], [1.0, \"#f0f921\"]], \"type\": \"surface\"}], \"table\": [{\"cells\": {\"fill\": {\"color\": \"#EBF0F8\"}, \"line\": {\"color\": \"white\"}}, \"header\": {\"fill\": {\"color\": \"#C8D4E3\"}, \"line\": {\"color\": \"white\"}}, \"type\": \"table\"}]}, \"layout\": {\"annotationdefaults\": {\"arrowcolor\": \"#2a3f5f\", \"arrowhead\": 0, \"arrowwidth\": 1}, \"coloraxis\": {\"colorbar\": {\"outlinewidth\": 0, \"ticks\": \"\"}}, \"colorscale\": {\"diverging\": [[0, \"#8e0152\"], [0.1, \"#c51b7d\"], [0.2, \"#de77ae\"], [0.3, \"#f1b6da\"], [0.4, \"#fde0ef\"], [0.5, \"#f7f7f7\"], [0.6, \"#e6f5d0\"], [0.7, \"#b8e186\"], [0.8, \"#7fbc41\"], [0.9, \"#4d9221\"], [1, \"#276419\"]], \"sequential\": [[0.0, \"#0d0887\"], [0.1111111111111111, \"#46039f\"], [0.2222222222222222, \"#7201a8\"], [0.3333333333333333, \"#9c179e\"], [0.4444444444444444, \"#bd3786\"], [0.5555555555555556, \"#d8576b\"], [0.6666666666666666, \"#ed7953\"], [0.7777777777777778, \"#fb9f3a\"], [0.8888888888888888, \"#fdca26\"], [1.0, \"#f0f921\"]], \"sequentialminus\": [[0.0, \"#0d0887\"], [0.1111111111111111, \"#46039f\"], [0.2222222222222222, \"#7201a8\"], [0.3333333333333333, \"#9c179e\"], [0.4444444444444444, \"#bd3786\"], [0.5555555555555556, \"#d8576b\"], [0.6666666666666666, \"#ed7953\"], [0.7777777777777778, \"#fb9f3a\"], [0.8888888888888888, \"#fdca26\"], [1.0, \"#f0f921\"]]}, \"colorway\": [\"#636efa\", \"#EF553B\", \"#00cc96\", \"#ab63fa\", \"#FFA15A\", \"#19d3f3\", \"#FF6692\", \"#B6E880\", \"#FF97FF\", \"#FECB52\"], \"font\": {\"color\": \"#2a3f5f\"}, \"geo\": {\"bgcolor\": \"white\", \"lakecolor\": \"white\", \"landcolor\": \"#E5ECF6\", \"showlakes\": true, \"showland\": true, \"subunitcolor\": \"white\"}, \"hoverlabel\": {\"align\": \"left\"}, \"hovermode\": \"closest\", \"mapbox\": {\"style\": \"light\"}, \"paper_bgcolor\": \"white\", \"plot_bgcolor\": \"#E5ECF6\", \"polar\": {\"angularaxis\": {\"gridcolor\": \"white\", \"linecolor\": \"white\", \"ticks\": \"\"}, \"bgcolor\": \"#E5ECF6\", \"radialaxis\": {\"gridcolor\": \"white\", \"linecolor\": \"white\", \"ticks\": \"\"}}, \"scene\": {\"xaxis\": {\"backgroundcolor\": \"#E5ECF6\", \"gridcolor\": \"white\", \"gridwidth\": 2, \"linecolor\": \"white\", \"showbackground\": true, \"ticks\": \"\", \"zerolinecolor\": \"white\"}, \"yaxis\": {\"backgroundcolor\": \"#E5ECF6\", \"gridcolor\": \"white\", \"gridwidth\": 2, \"linecolor\": \"white\", \"showbackground\": true, \"ticks\": \"\", \"zerolinecolor\": \"white\"}, \"zaxis\": {\"backgroundcolor\": \"#E5ECF6\", \"gridcolor\": \"white\", \"gridwidth\": 2, \"linecolor\": \"white\", \"showbackground\": true, \"ticks\": \"\", \"zerolinecolor\": \"white\"}}, \"shapedefaults\": {\"line\": {\"color\": \"#2a3f5f\"}}, \"ternary\": {\"aaxis\": {\"gridcolor\": \"white\", \"linecolor\": \"white\", \"ticks\": \"\"}, \"baxis\": {\"gridcolor\": \"white\", \"linecolor\": \"white\", \"ticks\": \"\"}, \"bgcolor\": \"#E5ECF6\", \"caxis\": {\"gridcolor\": \"white\", \"linecolor\": \"white\", \"ticks\": \"\"}}, \"title\": {\"x\": 0.05}, \"xaxis\": {\"automargin\": true, \"gridcolor\": \"white\", \"linecolor\": \"white\", \"ticks\": \"\", \"title\": {\"standoff\": 15}, \"zerolinecolor\": \"white\", \"zerolinewidth\": 2}, \"yaxis\": {\"automargin\": true, \"gridcolor\": \"white\", \"linecolor\": \"white\", \"ticks\": \"\", \"title\": {\"standoff\": 15}, \"zerolinecolor\": \"white\", \"zerolinewidth\": 2}}}, \"title\": {\"text\": \"Lift coefficient (Cl) vs Angle of attack (alpha) for <b>NACA 65(sub)2-215</b>\"}, \"xaxis\": {\"anchor\": \"y\", \"domain\": [0.0, 1.0], \"title\": {\"text\": \"alpha\"}}, \"yaxis\": {\"anchor\": \"x\", \"domain\": [0.0, 1.0], \"title\": {\"text\": \"Cl\"}}},\n",
       "                        {\"responsive\": true}\n",
       "                    ).then(function(){\n",
       "                            \n",
       "var gd = document.getElementById('81ff7651-d422-4557-b15c-291094811ac8');\n",
       "var x = new MutationObserver(function (mutations, observer) {{\n",
       "        var display = window.getComputedStyle(gd).display;\n",
       "        if (!display || display === 'none') {{\n",
       "            console.log([gd, 'removed!']);\n",
       "            Plotly.purge(gd);\n",
       "            observer.disconnect();\n",
       "        }}\n",
       "}});\n",
       "\n",
       "// Listen for the removal of the full notebook cells\n",
       "var notebookContainer = gd.closest('#notebook-container');\n",
       "if (notebookContainer) {{\n",
       "    x.observe(notebookContainer, {childList: true});\n",
       "}}\n",
       "\n",
       "// Listen for the clearing of the current output cell\n",
       "var outputEl = gd.closest('.output');\n",
       "if (outputEl) {{\n",
       "    x.observe(outputEl, {childList: true});\n",
       "}}\n",
       "\n",
       "                        })\n",
       "                };\n",
       "                });\n",
       "            </script>\n",
       "        </div>"
      ]
     },
     "metadata": {},
     "output_type": "display_data"
    },
    {
     "data": {
      "application/vnd.plotly.v1+json": {
       "config": {
        "plotlyServerURL": "https://plot.ly"
       },
       "data": [
        {
         "hovertemplate": "alpha=%{x}<br>Cd=%{y}<extra></extra>",
         "legendgroup": "",
         "line": {
          "color": "#636efa",
          "dash": "solid"
         },
         "mode": "lines",
         "name": "",
         "orientation": "v",
         "showlegend": false,
         "type": "scatter",
         "x": [
          19.3762,
          18.2929,
          17.4013,
          16.2855,
          15.2965,
          14.275,
          13.285,
          12.3585,
          10.1524,
          8.10419,
          6.11858,
          5.22122,
          4.16323,
          3.13713,
          2.0783,
          1.14765,
          0.023847,
          -0.972193,
          -2.00008,
          -2.96464,
          -4.15416,
          -5.05523,
          -6.02079,
          -8.04904,
          -10.1755,
          -12.1095,
          -13.3023,
          -14.1081,
          -15.0409,
          -16.1889,
          -17.3476
         ],
         "xaxis": "x",
         "y": [
          0.01700467,
          0.01894406,
          0,
          0,
          0,
          0,
          0,
          0.01752197,
          0.01322415,
          0.01084256,
          0.00929616,
          0.00851506,
          0.00774809,
          0.00501697,
          0.00464042,
          0.00449673,
          0.00437726,
          0.00431487,
          0.00458751,
          0.00646094,
          0.00730966,
          0.00784964,
          0.00829687,
          0.00988445,
          0.01178989,
          0.01508647,
          0.01689708,
          0.01765563,
          0.01650049,
          0.00935725,
          0.008933
         ],
         "yaxis": "y"
        }
       ],
       "layout": {
        "legend": {
         "tracegroupgap": 0
        },
        "template": {
         "data": {
          "bar": [
           {
            "error_x": {
             "color": "#2a3f5f"
            },
            "error_y": {
             "color": "#2a3f5f"
            },
            "marker": {
             "line": {
              "color": "#E5ECF6",
              "width": 0.5
             }
            },
            "type": "bar"
           }
          ],
          "barpolar": [
           {
            "marker": {
             "line": {
              "color": "#E5ECF6",
              "width": 0.5
             }
            },
            "type": "barpolar"
           }
          ],
          "carpet": [
           {
            "aaxis": {
             "endlinecolor": "#2a3f5f",
             "gridcolor": "white",
             "linecolor": "white",
             "minorgridcolor": "white",
             "startlinecolor": "#2a3f5f"
            },
            "baxis": {
             "endlinecolor": "#2a3f5f",
             "gridcolor": "white",
             "linecolor": "white",
             "minorgridcolor": "white",
             "startlinecolor": "#2a3f5f"
            },
            "type": "carpet"
           }
          ],
          "choropleth": [
           {
            "colorbar": {
             "outlinewidth": 0,
             "ticks": ""
            },
            "type": "choropleth"
           }
          ],
          "contour": [
           {
            "colorbar": {
             "outlinewidth": 0,
             "ticks": ""
            },
            "colorscale": [
             [
              0,
              "#0d0887"
             ],
             [
              0.1111111111111111,
              "#46039f"
             ],
             [
              0.2222222222222222,
              "#7201a8"
             ],
             [
              0.3333333333333333,
              "#9c179e"
             ],
             [
              0.4444444444444444,
              "#bd3786"
             ],
             [
              0.5555555555555556,
              "#d8576b"
             ],
             [
              0.6666666666666666,
              "#ed7953"
             ],
             [
              0.7777777777777778,
              "#fb9f3a"
             ],
             [
              0.8888888888888888,
              "#fdca26"
             ],
             [
              1,
              "#f0f921"
             ]
            ],
            "type": "contour"
           }
          ],
          "contourcarpet": [
           {
            "colorbar": {
             "outlinewidth": 0,
             "ticks": ""
            },
            "type": "contourcarpet"
           }
          ],
          "heatmap": [
           {
            "colorbar": {
             "outlinewidth": 0,
             "ticks": ""
            },
            "colorscale": [
             [
              0,
              "#0d0887"
             ],
             [
              0.1111111111111111,
              "#46039f"
             ],
             [
              0.2222222222222222,
              "#7201a8"
             ],
             [
              0.3333333333333333,
              "#9c179e"
             ],
             [
              0.4444444444444444,
              "#bd3786"
             ],
             [
              0.5555555555555556,
              "#d8576b"
             ],
             [
              0.6666666666666666,
              "#ed7953"
             ],
             [
              0.7777777777777778,
              "#fb9f3a"
             ],
             [
              0.8888888888888888,
              "#fdca26"
             ],
             [
              1,
              "#f0f921"
             ]
            ],
            "type": "heatmap"
           }
          ],
          "heatmapgl": [
           {
            "colorbar": {
             "outlinewidth": 0,
             "ticks": ""
            },
            "colorscale": [
             [
              0,
              "#0d0887"
             ],
             [
              0.1111111111111111,
              "#46039f"
             ],
             [
              0.2222222222222222,
              "#7201a8"
             ],
             [
              0.3333333333333333,
              "#9c179e"
             ],
             [
              0.4444444444444444,
              "#bd3786"
             ],
             [
              0.5555555555555556,
              "#d8576b"
             ],
             [
              0.6666666666666666,
              "#ed7953"
             ],
             [
              0.7777777777777778,
              "#fb9f3a"
             ],
             [
              0.8888888888888888,
              "#fdca26"
             ],
             [
              1,
              "#f0f921"
             ]
            ],
            "type": "heatmapgl"
           }
          ],
          "histogram": [
           {
            "marker": {
             "colorbar": {
              "outlinewidth": 0,
              "ticks": ""
             }
            },
            "type": "histogram"
           }
          ],
          "histogram2d": [
           {
            "colorbar": {
             "outlinewidth": 0,
             "ticks": ""
            },
            "colorscale": [
             [
              0,
              "#0d0887"
             ],
             [
              0.1111111111111111,
              "#46039f"
             ],
             [
              0.2222222222222222,
              "#7201a8"
             ],
             [
              0.3333333333333333,
              "#9c179e"
             ],
             [
              0.4444444444444444,
              "#bd3786"
             ],
             [
              0.5555555555555556,
              "#d8576b"
             ],
             [
              0.6666666666666666,
              "#ed7953"
             ],
             [
              0.7777777777777778,
              "#fb9f3a"
             ],
             [
              0.8888888888888888,
              "#fdca26"
             ],
             [
              1,
              "#f0f921"
             ]
            ],
            "type": "histogram2d"
           }
          ],
          "histogram2dcontour": [
           {
            "colorbar": {
             "outlinewidth": 0,
             "ticks": ""
            },
            "colorscale": [
             [
              0,
              "#0d0887"
             ],
             [
              0.1111111111111111,
              "#46039f"
             ],
             [
              0.2222222222222222,
              "#7201a8"
             ],
             [
              0.3333333333333333,
              "#9c179e"
             ],
             [
              0.4444444444444444,
              "#bd3786"
             ],
             [
              0.5555555555555556,
              "#d8576b"
             ],
             [
              0.6666666666666666,
              "#ed7953"
             ],
             [
              0.7777777777777778,
              "#fb9f3a"
             ],
             [
              0.8888888888888888,
              "#fdca26"
             ],
             [
              1,
              "#f0f921"
             ]
            ],
            "type": "histogram2dcontour"
           }
          ],
          "mesh3d": [
           {
            "colorbar": {
             "outlinewidth": 0,
             "ticks": ""
            },
            "type": "mesh3d"
           }
          ],
          "parcoords": [
           {
            "line": {
             "colorbar": {
              "outlinewidth": 0,
              "ticks": ""
             }
            },
            "type": "parcoords"
           }
          ],
          "pie": [
           {
            "automargin": true,
            "type": "pie"
           }
          ],
          "scatter": [
           {
            "marker": {
             "colorbar": {
              "outlinewidth": 0,
              "ticks": ""
             }
            },
            "type": "scatter"
           }
          ],
          "scatter3d": [
           {
            "line": {
             "colorbar": {
              "outlinewidth": 0,
              "ticks": ""
             }
            },
            "marker": {
             "colorbar": {
              "outlinewidth": 0,
              "ticks": ""
             }
            },
            "type": "scatter3d"
           }
          ],
          "scattercarpet": [
           {
            "marker": {
             "colorbar": {
              "outlinewidth": 0,
              "ticks": ""
             }
            },
            "type": "scattercarpet"
           }
          ],
          "scattergeo": [
           {
            "marker": {
             "colorbar": {
              "outlinewidth": 0,
              "ticks": ""
             }
            },
            "type": "scattergeo"
           }
          ],
          "scattergl": [
           {
            "marker": {
             "colorbar": {
              "outlinewidth": 0,
              "ticks": ""
             }
            },
            "type": "scattergl"
           }
          ],
          "scattermapbox": [
           {
            "marker": {
             "colorbar": {
              "outlinewidth": 0,
              "ticks": ""
             }
            },
            "type": "scattermapbox"
           }
          ],
          "scatterpolar": [
           {
            "marker": {
             "colorbar": {
              "outlinewidth": 0,
              "ticks": ""
             }
            },
            "type": "scatterpolar"
           }
          ],
          "scatterpolargl": [
           {
            "marker": {
             "colorbar": {
              "outlinewidth": 0,
              "ticks": ""
             }
            },
            "type": "scatterpolargl"
           }
          ],
          "scatterternary": [
           {
            "marker": {
             "colorbar": {
              "outlinewidth": 0,
              "ticks": ""
             }
            },
            "type": "scatterternary"
           }
          ],
          "surface": [
           {
            "colorbar": {
             "outlinewidth": 0,
             "ticks": ""
            },
            "colorscale": [
             [
              0,
              "#0d0887"
             ],
             [
              0.1111111111111111,
              "#46039f"
             ],
             [
              0.2222222222222222,
              "#7201a8"
             ],
             [
              0.3333333333333333,
              "#9c179e"
             ],
             [
              0.4444444444444444,
              "#bd3786"
             ],
             [
              0.5555555555555556,
              "#d8576b"
             ],
             [
              0.6666666666666666,
              "#ed7953"
             ],
             [
              0.7777777777777778,
              "#fb9f3a"
             ],
             [
              0.8888888888888888,
              "#fdca26"
             ],
             [
              1,
              "#f0f921"
             ]
            ],
            "type": "surface"
           }
          ],
          "table": [
           {
            "cells": {
             "fill": {
              "color": "#EBF0F8"
             },
             "line": {
              "color": "white"
             }
            },
            "header": {
             "fill": {
              "color": "#C8D4E3"
             },
             "line": {
              "color": "white"
             }
            },
            "type": "table"
           }
          ]
         },
         "layout": {
          "annotationdefaults": {
           "arrowcolor": "#2a3f5f",
           "arrowhead": 0,
           "arrowwidth": 1
          },
          "coloraxis": {
           "colorbar": {
            "outlinewidth": 0,
            "ticks": ""
           }
          },
          "colorscale": {
           "diverging": [
            [
             0,
             "#8e0152"
            ],
            [
             0.1,
             "#c51b7d"
            ],
            [
             0.2,
             "#de77ae"
            ],
            [
             0.3,
             "#f1b6da"
            ],
            [
             0.4,
             "#fde0ef"
            ],
            [
             0.5,
             "#f7f7f7"
            ],
            [
             0.6,
             "#e6f5d0"
            ],
            [
             0.7,
             "#b8e186"
            ],
            [
             0.8,
             "#7fbc41"
            ],
            [
             0.9,
             "#4d9221"
            ],
            [
             1,
             "#276419"
            ]
           ],
           "sequential": [
            [
             0,
             "#0d0887"
            ],
            [
             0.1111111111111111,
             "#46039f"
            ],
            [
             0.2222222222222222,
             "#7201a8"
            ],
            [
             0.3333333333333333,
             "#9c179e"
            ],
            [
             0.4444444444444444,
             "#bd3786"
            ],
            [
             0.5555555555555556,
             "#d8576b"
            ],
            [
             0.6666666666666666,
             "#ed7953"
            ],
            [
             0.7777777777777778,
             "#fb9f3a"
            ],
            [
             0.8888888888888888,
             "#fdca26"
            ],
            [
             1,
             "#f0f921"
            ]
           ],
           "sequentialminus": [
            [
             0,
             "#0d0887"
            ],
            [
             0.1111111111111111,
             "#46039f"
            ],
            [
             0.2222222222222222,
             "#7201a8"
            ],
            [
             0.3333333333333333,
             "#9c179e"
            ],
            [
             0.4444444444444444,
             "#bd3786"
            ],
            [
             0.5555555555555556,
             "#d8576b"
            ],
            [
             0.6666666666666666,
             "#ed7953"
            ],
            [
             0.7777777777777778,
             "#fb9f3a"
            ],
            [
             0.8888888888888888,
             "#fdca26"
            ],
            [
             1,
             "#f0f921"
            ]
           ]
          },
          "colorway": [
           "#636efa",
           "#EF553B",
           "#00cc96",
           "#ab63fa",
           "#FFA15A",
           "#19d3f3",
           "#FF6692",
           "#B6E880",
           "#FF97FF",
           "#FECB52"
          ],
          "font": {
           "color": "#2a3f5f"
          },
          "geo": {
           "bgcolor": "white",
           "lakecolor": "white",
           "landcolor": "#E5ECF6",
           "showlakes": true,
           "showland": true,
           "subunitcolor": "white"
          },
          "hoverlabel": {
           "align": "left"
          },
          "hovermode": "closest",
          "mapbox": {
           "style": "light"
          },
          "paper_bgcolor": "white",
          "plot_bgcolor": "#E5ECF6",
          "polar": {
           "angularaxis": {
            "gridcolor": "white",
            "linecolor": "white",
            "ticks": ""
           },
           "bgcolor": "#E5ECF6",
           "radialaxis": {
            "gridcolor": "white",
            "linecolor": "white",
            "ticks": ""
           }
          },
          "scene": {
           "xaxis": {
            "backgroundcolor": "#E5ECF6",
            "gridcolor": "white",
            "gridwidth": 2,
            "linecolor": "white",
            "showbackground": true,
            "ticks": "",
            "zerolinecolor": "white"
           },
           "yaxis": {
            "backgroundcolor": "#E5ECF6",
            "gridcolor": "white",
            "gridwidth": 2,
            "linecolor": "white",
            "showbackground": true,
            "ticks": "",
            "zerolinecolor": "white"
           },
           "zaxis": {
            "backgroundcolor": "#E5ECF6",
            "gridcolor": "white",
            "gridwidth": 2,
            "linecolor": "white",
            "showbackground": true,
            "ticks": "",
            "zerolinecolor": "white"
           }
          },
          "shapedefaults": {
           "line": {
            "color": "#2a3f5f"
           }
          },
          "ternary": {
           "aaxis": {
            "gridcolor": "white",
            "linecolor": "white",
            "ticks": ""
           },
           "baxis": {
            "gridcolor": "white",
            "linecolor": "white",
            "ticks": ""
           },
           "bgcolor": "#E5ECF6",
           "caxis": {
            "gridcolor": "white",
            "linecolor": "white",
            "ticks": ""
           }
          },
          "title": {
           "x": 0.05
          },
          "xaxis": {
           "automargin": true,
           "gridcolor": "white",
           "linecolor": "white",
           "ticks": "",
           "title": {
            "standoff": 15
           },
           "zerolinecolor": "white",
           "zerolinewidth": 2
          },
          "yaxis": {
           "automargin": true,
           "gridcolor": "white",
           "linecolor": "white",
           "ticks": "",
           "title": {
            "standoff": 15
           },
           "zerolinecolor": "white",
           "zerolinewidth": 2
          }
         }
        },
        "title": {
         "text": "Lift coefficient (Cl) vs Angle of attack (alpha) for <b>NACA 65(sub)2-215</b>"
        },
        "xaxis": {
         "anchor": "y",
         "domain": [
          0,
          1
         ],
         "title": {
          "text": "alpha"
         }
        },
        "yaxis": {
         "anchor": "x",
         "domain": [
          0,
          1
         ],
         "title": {
          "text": "Cd"
         }
        }
       }
      },
      "text/html": [
       "<div>\n",
       "        \n",
       "        \n",
       "            <div id=\"8d9527b9-a2e7-443a-9276-11af31dd2bda\" class=\"plotly-graph-div\" style=\"height:525px; width:100%;\"></div>\n",
       "            <script type=\"text/javascript\">\n",
       "                require([\"plotly\"], function(Plotly) {\n",
       "                    window.PLOTLYENV=window.PLOTLYENV || {};\n",
       "                    \n",
       "                if (document.getElementById(\"8d9527b9-a2e7-443a-9276-11af31dd2bda\")) {\n",
       "                    Plotly.newPlot(\n",
       "                        '8d9527b9-a2e7-443a-9276-11af31dd2bda',\n",
       "                        [{\"hovertemplate\": \"alpha=%{x}<br>Cd=%{y}<extra></extra>\", \"legendgroup\": \"\", \"line\": {\"color\": \"#636efa\", \"dash\": \"solid\"}, \"mode\": \"lines\", \"name\": \"\", \"orientation\": \"v\", \"showlegend\": false, \"type\": \"scatter\", \"x\": [19.3762, 18.2929, 17.4013, 16.2855, 15.2965, 14.275, 13.285, 12.3585, 10.1524, 8.10419, 6.11858, 5.22122, 4.16323, 3.13713, 2.0783, 1.14765, 0.023847, -0.972193, -2.00008, -2.96464, -4.15416, -5.05523, -6.02079, -8.04904, -10.1755, -12.1095, -13.3023, -14.1081, -15.0409, -16.1889, -17.3476], \"xaxis\": \"x\", \"y\": [0.01700467, 0.01894406, 0.0, 0.0, 0.0, 0.0, 0.0, 0.01752197, 0.01322415, 0.01084256, 0.00929616, 0.00851506, 0.00774809, 0.00501697, 0.00464042, 0.00449673, 0.00437726, 0.00431487, 0.00458751, 0.00646094, 0.00730966, 0.00784964, 0.00829687, 0.00988445, 0.01178989, 0.01508647, 0.01689708, 0.01765563, 0.01650049, 0.00935725, 0.008933], \"yaxis\": \"y\"}],\n",
       "                        {\"legend\": {\"tracegroupgap\": 0}, \"template\": {\"data\": {\"bar\": [{\"error_x\": {\"color\": \"#2a3f5f\"}, \"error_y\": {\"color\": \"#2a3f5f\"}, \"marker\": {\"line\": {\"color\": \"#E5ECF6\", \"width\": 0.5}}, \"type\": \"bar\"}], \"barpolar\": [{\"marker\": {\"line\": {\"color\": \"#E5ECF6\", \"width\": 0.5}}, \"type\": \"barpolar\"}], \"carpet\": [{\"aaxis\": {\"endlinecolor\": \"#2a3f5f\", \"gridcolor\": \"white\", \"linecolor\": \"white\", \"minorgridcolor\": \"white\", \"startlinecolor\": \"#2a3f5f\"}, \"baxis\": {\"endlinecolor\": \"#2a3f5f\", \"gridcolor\": \"white\", \"linecolor\": \"white\", \"minorgridcolor\": \"white\", \"startlinecolor\": \"#2a3f5f\"}, \"type\": \"carpet\"}], \"choropleth\": [{\"colorbar\": {\"outlinewidth\": 0, \"ticks\": \"\"}, \"type\": \"choropleth\"}], \"contour\": [{\"colorbar\": {\"outlinewidth\": 0, \"ticks\": \"\"}, \"colorscale\": [[0.0, \"#0d0887\"], [0.1111111111111111, \"#46039f\"], [0.2222222222222222, \"#7201a8\"], [0.3333333333333333, \"#9c179e\"], [0.4444444444444444, \"#bd3786\"], [0.5555555555555556, \"#d8576b\"], [0.6666666666666666, \"#ed7953\"], [0.7777777777777778, \"#fb9f3a\"], [0.8888888888888888, \"#fdca26\"], [1.0, \"#f0f921\"]], \"type\": \"contour\"}], \"contourcarpet\": [{\"colorbar\": {\"outlinewidth\": 0, \"ticks\": \"\"}, \"type\": \"contourcarpet\"}], \"heatmap\": [{\"colorbar\": {\"outlinewidth\": 0, \"ticks\": \"\"}, \"colorscale\": [[0.0, \"#0d0887\"], [0.1111111111111111, \"#46039f\"], [0.2222222222222222, \"#7201a8\"], [0.3333333333333333, \"#9c179e\"], [0.4444444444444444, \"#bd3786\"], [0.5555555555555556, \"#d8576b\"], [0.6666666666666666, \"#ed7953\"], [0.7777777777777778, \"#fb9f3a\"], [0.8888888888888888, \"#fdca26\"], [1.0, \"#f0f921\"]], \"type\": \"heatmap\"}], \"heatmapgl\": [{\"colorbar\": {\"outlinewidth\": 0, \"ticks\": \"\"}, \"colorscale\": [[0.0, \"#0d0887\"], [0.1111111111111111, \"#46039f\"], [0.2222222222222222, \"#7201a8\"], [0.3333333333333333, \"#9c179e\"], [0.4444444444444444, \"#bd3786\"], [0.5555555555555556, \"#d8576b\"], [0.6666666666666666, \"#ed7953\"], [0.7777777777777778, \"#fb9f3a\"], [0.8888888888888888, \"#fdca26\"], [1.0, \"#f0f921\"]], \"type\": \"heatmapgl\"}], \"histogram\": [{\"marker\": {\"colorbar\": {\"outlinewidth\": 0, \"ticks\": \"\"}}, \"type\": \"histogram\"}], \"histogram2d\": [{\"colorbar\": {\"outlinewidth\": 0, \"ticks\": \"\"}, \"colorscale\": [[0.0, \"#0d0887\"], [0.1111111111111111, \"#46039f\"], [0.2222222222222222, \"#7201a8\"], [0.3333333333333333, \"#9c179e\"], [0.4444444444444444, \"#bd3786\"], [0.5555555555555556, \"#d8576b\"], [0.6666666666666666, \"#ed7953\"], [0.7777777777777778, \"#fb9f3a\"], [0.8888888888888888, \"#fdca26\"], [1.0, \"#f0f921\"]], \"type\": \"histogram2d\"}], \"histogram2dcontour\": [{\"colorbar\": {\"outlinewidth\": 0, \"ticks\": \"\"}, \"colorscale\": [[0.0, \"#0d0887\"], [0.1111111111111111, \"#46039f\"], [0.2222222222222222, \"#7201a8\"], [0.3333333333333333, \"#9c179e\"], [0.4444444444444444, \"#bd3786\"], [0.5555555555555556, \"#d8576b\"], [0.6666666666666666, \"#ed7953\"], [0.7777777777777778, \"#fb9f3a\"], [0.8888888888888888, \"#fdca26\"], [1.0, \"#f0f921\"]], \"type\": \"histogram2dcontour\"}], \"mesh3d\": [{\"colorbar\": {\"outlinewidth\": 0, \"ticks\": \"\"}, \"type\": \"mesh3d\"}], \"parcoords\": [{\"line\": {\"colorbar\": {\"outlinewidth\": 0, \"ticks\": \"\"}}, \"type\": \"parcoords\"}], \"pie\": [{\"automargin\": true, \"type\": \"pie\"}], \"scatter\": [{\"marker\": {\"colorbar\": {\"outlinewidth\": 0, \"ticks\": \"\"}}, \"type\": \"scatter\"}], \"scatter3d\": [{\"line\": {\"colorbar\": {\"outlinewidth\": 0, \"ticks\": \"\"}}, \"marker\": {\"colorbar\": {\"outlinewidth\": 0, \"ticks\": \"\"}}, \"type\": \"scatter3d\"}], \"scattercarpet\": [{\"marker\": {\"colorbar\": {\"outlinewidth\": 0, \"ticks\": \"\"}}, \"type\": \"scattercarpet\"}], \"scattergeo\": [{\"marker\": {\"colorbar\": {\"outlinewidth\": 0, \"ticks\": \"\"}}, \"type\": \"scattergeo\"}], \"scattergl\": [{\"marker\": {\"colorbar\": {\"outlinewidth\": 0, \"ticks\": \"\"}}, \"type\": \"scattergl\"}], \"scattermapbox\": [{\"marker\": {\"colorbar\": {\"outlinewidth\": 0, \"ticks\": \"\"}}, \"type\": \"scattermapbox\"}], \"scatterpolar\": [{\"marker\": {\"colorbar\": {\"outlinewidth\": 0, \"ticks\": \"\"}}, \"type\": \"scatterpolar\"}], \"scatterpolargl\": [{\"marker\": {\"colorbar\": {\"outlinewidth\": 0, \"ticks\": \"\"}}, \"type\": \"scatterpolargl\"}], \"scatterternary\": [{\"marker\": {\"colorbar\": {\"outlinewidth\": 0, \"ticks\": \"\"}}, \"type\": \"scatterternary\"}], \"surface\": [{\"colorbar\": {\"outlinewidth\": 0, \"ticks\": \"\"}, \"colorscale\": [[0.0, \"#0d0887\"], [0.1111111111111111, \"#46039f\"], [0.2222222222222222, \"#7201a8\"], [0.3333333333333333, \"#9c179e\"], [0.4444444444444444, \"#bd3786\"], [0.5555555555555556, \"#d8576b\"], [0.6666666666666666, \"#ed7953\"], [0.7777777777777778, \"#fb9f3a\"], [0.8888888888888888, \"#fdca26\"], [1.0, \"#f0f921\"]], \"type\": \"surface\"}], \"table\": [{\"cells\": {\"fill\": {\"color\": \"#EBF0F8\"}, \"line\": {\"color\": \"white\"}}, \"header\": {\"fill\": {\"color\": \"#C8D4E3\"}, \"line\": {\"color\": \"white\"}}, \"type\": \"table\"}]}, \"layout\": {\"annotationdefaults\": {\"arrowcolor\": \"#2a3f5f\", \"arrowhead\": 0, \"arrowwidth\": 1}, \"coloraxis\": {\"colorbar\": {\"outlinewidth\": 0, \"ticks\": \"\"}}, \"colorscale\": {\"diverging\": [[0, \"#8e0152\"], [0.1, \"#c51b7d\"], [0.2, \"#de77ae\"], [0.3, \"#f1b6da\"], [0.4, \"#fde0ef\"], [0.5, \"#f7f7f7\"], [0.6, \"#e6f5d0\"], [0.7, \"#b8e186\"], [0.8, \"#7fbc41\"], [0.9, \"#4d9221\"], [1, \"#276419\"]], \"sequential\": [[0.0, \"#0d0887\"], [0.1111111111111111, \"#46039f\"], [0.2222222222222222, \"#7201a8\"], [0.3333333333333333, \"#9c179e\"], [0.4444444444444444, \"#bd3786\"], [0.5555555555555556, \"#d8576b\"], [0.6666666666666666, \"#ed7953\"], [0.7777777777777778, \"#fb9f3a\"], [0.8888888888888888, \"#fdca26\"], [1.0, \"#f0f921\"]], \"sequentialminus\": [[0.0, \"#0d0887\"], [0.1111111111111111, \"#46039f\"], [0.2222222222222222, \"#7201a8\"], [0.3333333333333333, \"#9c179e\"], [0.4444444444444444, \"#bd3786\"], [0.5555555555555556, \"#d8576b\"], [0.6666666666666666, \"#ed7953\"], [0.7777777777777778, \"#fb9f3a\"], [0.8888888888888888, \"#fdca26\"], [1.0, \"#f0f921\"]]}, \"colorway\": [\"#636efa\", \"#EF553B\", \"#00cc96\", \"#ab63fa\", \"#FFA15A\", \"#19d3f3\", \"#FF6692\", \"#B6E880\", \"#FF97FF\", \"#FECB52\"], \"font\": {\"color\": \"#2a3f5f\"}, \"geo\": {\"bgcolor\": \"white\", \"lakecolor\": \"white\", \"landcolor\": \"#E5ECF6\", \"showlakes\": true, \"showland\": true, \"subunitcolor\": \"white\"}, \"hoverlabel\": {\"align\": \"left\"}, \"hovermode\": \"closest\", \"mapbox\": {\"style\": \"light\"}, \"paper_bgcolor\": \"white\", \"plot_bgcolor\": \"#E5ECF6\", \"polar\": {\"angularaxis\": {\"gridcolor\": \"white\", \"linecolor\": \"white\", \"ticks\": \"\"}, \"bgcolor\": \"#E5ECF6\", \"radialaxis\": {\"gridcolor\": \"white\", \"linecolor\": \"white\", \"ticks\": \"\"}}, \"scene\": {\"xaxis\": {\"backgroundcolor\": \"#E5ECF6\", \"gridcolor\": \"white\", \"gridwidth\": 2, \"linecolor\": \"white\", \"showbackground\": true, \"ticks\": \"\", \"zerolinecolor\": \"white\"}, \"yaxis\": {\"backgroundcolor\": \"#E5ECF6\", \"gridcolor\": \"white\", \"gridwidth\": 2, \"linecolor\": \"white\", \"showbackground\": true, \"ticks\": \"\", \"zerolinecolor\": \"white\"}, \"zaxis\": {\"backgroundcolor\": \"#E5ECF6\", \"gridcolor\": \"white\", \"gridwidth\": 2, \"linecolor\": \"white\", \"showbackground\": true, \"ticks\": \"\", \"zerolinecolor\": \"white\"}}, \"shapedefaults\": {\"line\": {\"color\": \"#2a3f5f\"}}, \"ternary\": {\"aaxis\": {\"gridcolor\": \"white\", \"linecolor\": \"white\", \"ticks\": \"\"}, \"baxis\": {\"gridcolor\": \"white\", \"linecolor\": \"white\", \"ticks\": \"\"}, \"bgcolor\": \"#E5ECF6\", \"caxis\": {\"gridcolor\": \"white\", \"linecolor\": \"white\", \"ticks\": \"\"}}, \"title\": {\"x\": 0.05}, \"xaxis\": {\"automargin\": true, \"gridcolor\": \"white\", \"linecolor\": \"white\", \"ticks\": \"\", \"title\": {\"standoff\": 15}, \"zerolinecolor\": \"white\", \"zerolinewidth\": 2}, \"yaxis\": {\"automargin\": true, \"gridcolor\": \"white\", \"linecolor\": \"white\", \"ticks\": \"\", \"title\": {\"standoff\": 15}, \"zerolinecolor\": \"white\", \"zerolinewidth\": 2}}}, \"title\": {\"text\": \"Lift coefficient (Cl) vs Angle of attack (alpha) for <b>NACA 65(sub)2-215</b>\"}, \"xaxis\": {\"anchor\": \"y\", \"domain\": [0.0, 1.0], \"title\": {\"text\": \"alpha\"}}, \"yaxis\": {\"anchor\": \"x\", \"domain\": [0.0, 1.0], \"title\": {\"text\": \"Cd\"}}},\n",
       "                        {\"responsive\": true}\n",
       "                    ).then(function(){\n",
       "                            \n",
       "var gd = document.getElementById('8d9527b9-a2e7-443a-9276-11af31dd2bda');\n",
       "var x = new MutationObserver(function (mutations, observer) {{\n",
       "        var display = window.getComputedStyle(gd).display;\n",
       "        if (!display || display === 'none') {{\n",
       "            console.log([gd, 'removed!']);\n",
       "            Plotly.purge(gd);\n",
       "            observer.disconnect();\n",
       "        }}\n",
       "}});\n",
       "\n",
       "// Listen for the removal of the full notebook cells\n",
       "var notebookContainer = gd.closest('#notebook-container');\n",
       "if (notebookContainer) {{\n",
       "    x.observe(notebookContainer, {childList: true});\n",
       "}}\n",
       "\n",
       "// Listen for the clearing of the current output cell\n",
       "var outputEl = gd.closest('.output');\n",
       "if (outputEl) {{\n",
       "    x.observe(outputEl, {childList: true});\n",
       "}}\n",
       "\n",
       "                        })\n",
       "                };\n",
       "                });\n",
       "            </script>\n",
       "        </div>"
      ]
     },
     "metadata": {},
     "output_type": "display_data"
    }
   ],
   "source": [
    "idx='216'\n",
    "sampleAlphaLiftDrag=dfProperties[dfProperties['id']==idx]\n",
    "\n",
    "xs = dfCoords[dfCoords['id']==idx]['xs'].values[0]\n",
    "ys = dfCoords[dfCoords['id']==idx]['ys'].values[0]\n",
    "title=dfNames[dfNames['id']==idx].values[0][1] +' '+\\\n",
    "dfNames[dfNames['id']==idx].values[0][2]\n",
    "f=px.line(x=xs, y=ys, title='<b>'+title+'</b>')\n",
    "f.update_yaxes(scaleanchor = \"x\", scaleratio = 1)\n",
    "f.show()\n",
    "f.write_html(f'images/airfoil_{title}')\n",
    "f = px.line(sampleAlphaLiftDrag, x ='alpha', y='Cl', title=f'Lift coefficient (Cl) vs Angle of attack (alpha) for <b>{title}</b>')\n",
    "f.show()\n",
    "f.write_html(f'images/alphaCl_{title}')\n",
    "f = px.line(sampleAlphaLiftDrag, x ='alpha', y='Cd', title=f'Lift coefficient (Cl) vs Angle of attack (alpha) for <b>{title}</b>')\n",
    "f.show()\n",
    "f.write_html(f'images/alphaCd_{title}')"
   ]
  },
  {
   "cell_type": "markdown",
   "metadata": {},
   "source": [
    "## Feature generation\n",
    "As soon as x coordinates of shape do not have any valuable information, I decided to find a ratio of y coordinates to x coordinates.  \n",
    "Later I will need to remove inf values as there are 0's in denominator. This new feature can be considered as a parameter defining angle of a vector connecting the origin with the point and therefore represents geometry of an airfoil. "
   ]
  },
  {
   "cell_type": "code",
   "execution_count": 15,
   "metadata": {},
   "outputs": [
    {
     "data": {
      "text/html": [
       "<div>\n",
       "<style scoped>\n",
       "    .dataframe tbody tr th:only-of-type {\n",
       "        vertical-align: middle;\n",
       "    }\n",
       "\n",
       "    .dataframe tbody tr th {\n",
       "        vertical-align: top;\n",
       "    }\n",
       "\n",
       "    .dataframe thead th {\n",
       "        text-align: right;\n",
       "    }\n",
       "</style>\n",
       "<table border=\"1\" class=\"dataframe\">\n",
       "  <thead>\n",
       "    <tr style=\"text-align: right;\">\n",
       "      <th></th>\n",
       "      <th>id</th>\n",
       "      <th>alpha</th>\n",
       "      <th>Cl</th>\n",
       "      <th>Cd</th>\n",
       "      <th>xs</th>\n",
       "      <th>ys</th>\n",
       "      <th>ysr</th>\n",
       "    </tr>\n",
       "  </thead>\n",
       "  <tbody>\n",
       "    <tr>\n",
       "      <th>0</th>\n",
       "      <td>216</td>\n",
       "      <td>19.37620</td>\n",
       "      <td>1.373150</td>\n",
       "      <td>0.017005</td>\n",
       "      <td>[1.0, 0.9502, 0.9004, 0.85055, 0.80063, 0.7506...</td>\n",
       "      <td>[0.0, 0.00744, 0.0166, 0.02649, 0.03653, 0.046...</td>\n",
       "      <td>[0.0, 0.00782993054093875, 0.01843625055530875...</td>\n",
       "    </tr>\n",
       "    <tr>\n",
       "      <th>1</th>\n",
       "      <td>216</td>\n",
       "      <td>18.29290</td>\n",
       "      <td>1.411050</td>\n",
       "      <td>0.018944</td>\n",
       "      <td>[1.0, 0.9502, 0.9004, 0.85055, 0.80063, 0.7506...</td>\n",
       "      <td>[0.0, 0.00744, 0.0166, 0.02649, 0.03653, 0.046...</td>\n",
       "      <td>[0.0, 0.00782993054093875, 0.01843625055530875...</td>\n",
       "    </tr>\n",
       "    <tr>\n",
       "      <th>2</th>\n",
       "      <td>216</td>\n",
       "      <td>17.40130</td>\n",
       "      <td>1.519540</td>\n",
       "      <td>0.000000</td>\n",
       "      <td>[1.0, 0.9502, 0.9004, 0.85055, 0.80063, 0.7506...</td>\n",
       "      <td>[0.0, 0.00744, 0.0166, 0.02649, 0.03653, 0.046...</td>\n",
       "      <td>[0.0, 0.00782993054093875, 0.01843625055530875...</td>\n",
       "    </tr>\n",
       "    <tr>\n",
       "      <th>3</th>\n",
       "      <td>216</td>\n",
       "      <td>16.28550</td>\n",
       "      <td>1.549260</td>\n",
       "      <td>0.000000</td>\n",
       "      <td>[1.0, 0.9502, 0.9004, 0.85055, 0.80063, 0.7506...</td>\n",
       "      <td>[0.0, 0.00744, 0.0166, 0.02649, 0.03653, 0.046...</td>\n",
       "      <td>[0.0, 0.00782993054093875, 0.01843625055530875...</td>\n",
       "    </tr>\n",
       "    <tr>\n",
       "      <th>4</th>\n",
       "      <td>216</td>\n",
       "      <td>15.29650</td>\n",
       "      <td>1.531330</td>\n",
       "      <td>0.000000</td>\n",
       "      <td>[1.0, 0.9502, 0.9004, 0.85055, 0.80063, 0.7506...</td>\n",
       "      <td>[0.0, 0.00744, 0.0166, 0.02649, 0.03653, 0.046...</td>\n",
       "      <td>[0.0, 0.00782993054093875, 0.01843625055530875...</td>\n",
       "    </tr>\n",
       "    <tr>\n",
       "      <th>...</th>\n",
       "      <td>...</td>\n",
       "      <td>...</td>\n",
       "      <td>...</td>\n",
       "      <td>...</td>\n",
       "      <td>...</td>\n",
       "      <td>...</td>\n",
       "      <td>...</td>\n",
       "    </tr>\n",
       "    <tr>\n",
       "      <th>3318</th>\n",
       "      <td>233</td>\n",
       "      <td>-8.23054</td>\n",
       "      <td>-0.714753</td>\n",
       "      <td>0.010010</td>\n",
       "      <td>[1.0, 0.95022, 0.90043, 0.85057, 0.80065, 0.75...</td>\n",
       "      <td>[0.0, 0.00789, 0.0175, 0.02755, 0.03739, 0.046...</td>\n",
       "      <td>[0.0, 0.008303340279093262, 0.0194351587574825...</td>\n",
       "    </tr>\n",
       "    <tr>\n",
       "      <th>3319</th>\n",
       "      <td>233</td>\n",
       "      <td>-10.40240</td>\n",
       "      <td>-0.904422</td>\n",
       "      <td>0.000000</td>\n",
       "      <td>[1.0, 0.95022, 0.90043, 0.85057, 0.80065, 0.75...</td>\n",
       "      <td>[0.0, 0.00789, 0.0175, 0.02755, 0.03739, 0.046...</td>\n",
       "      <td>[0.0, 0.008303340279093262, 0.0194351587574825...</td>\n",
       "    </tr>\n",
       "    <tr>\n",
       "      <th>3320</th>\n",
       "      <td>233</td>\n",
       "      <td>-11.07290</td>\n",
       "      <td>-0.985190</td>\n",
       "      <td>0.000000</td>\n",
       "      <td>[1.0, 0.95022, 0.90043, 0.85057, 0.80065, 0.75...</td>\n",
       "      <td>[0.0, 0.00789, 0.0175, 0.02755, 0.03739, 0.046...</td>\n",
       "      <td>[0.0, 0.008303340279093262, 0.0194351587574825...</td>\n",
       "    </tr>\n",
       "    <tr>\n",
       "      <th>3321</th>\n",
       "      <td>233</td>\n",
       "      <td>-12.35700</td>\n",
       "      <td>-0.646564</td>\n",
       "      <td>0.009324</td>\n",
       "      <td>[1.0, 0.95022, 0.90043, 0.85057, 0.80065, 0.75...</td>\n",
       "      <td>[0.0, 0.00789, 0.0175, 0.02755, 0.03739, 0.046...</td>\n",
       "      <td>[0.0, 0.008303340279093262, 0.0194351587574825...</td>\n",
       "    </tr>\n",
       "    <tr>\n",
       "      <th>3322</th>\n",
       "      <td>233</td>\n",
       "      <td>-14.18290</td>\n",
       "      <td>-0.518578</td>\n",
       "      <td>0.008144</td>\n",
       "      <td>[1.0, 0.95022, 0.90043, 0.85057, 0.80065, 0.75...</td>\n",
       "      <td>[0.0, 0.00789, 0.0175, 0.02755, 0.03739, 0.046...</td>\n",
       "      <td>[0.0, 0.008303340279093262, 0.0194351587574825...</td>\n",
       "    </tr>\n",
       "  </tbody>\n",
       "</table>\n",
       "<p>1800 rows × 7 columns</p>\n",
       "</div>"
      ],
      "text/plain": [
       "       id     alpha        Cl        Cd  \\\n",
       "0     216  19.37620  1.373150  0.017005   \n",
       "1     216  18.29290  1.411050  0.018944   \n",
       "2     216  17.40130  1.519540  0.000000   \n",
       "3     216  16.28550  1.549260  0.000000   \n",
       "4     216  15.29650  1.531330  0.000000   \n",
       "...   ...       ...       ...       ...   \n",
       "3318  233  -8.23054 -0.714753  0.010010   \n",
       "3319  233 -10.40240 -0.904422  0.000000   \n",
       "3320  233 -11.07290 -0.985190  0.000000   \n",
       "3321  233 -12.35700 -0.646564  0.009324   \n",
       "3322  233 -14.18290 -0.518578  0.008144   \n",
       "\n",
       "                                                     xs  \\\n",
       "0     [1.0, 0.9502, 0.9004, 0.85055, 0.80063, 0.7506...   \n",
       "1     [1.0, 0.9502, 0.9004, 0.85055, 0.80063, 0.7506...   \n",
       "2     [1.0, 0.9502, 0.9004, 0.85055, 0.80063, 0.7506...   \n",
       "3     [1.0, 0.9502, 0.9004, 0.85055, 0.80063, 0.7506...   \n",
       "4     [1.0, 0.9502, 0.9004, 0.85055, 0.80063, 0.7506...   \n",
       "...                                                 ...   \n",
       "3318  [1.0, 0.95022, 0.90043, 0.85057, 0.80065, 0.75...   \n",
       "3319  [1.0, 0.95022, 0.90043, 0.85057, 0.80065, 0.75...   \n",
       "3320  [1.0, 0.95022, 0.90043, 0.85057, 0.80065, 0.75...   \n",
       "3321  [1.0, 0.95022, 0.90043, 0.85057, 0.80065, 0.75...   \n",
       "3322  [1.0, 0.95022, 0.90043, 0.85057, 0.80065, 0.75...   \n",
       "\n",
       "                                                     ys  \\\n",
       "0     [0.0, 0.00744, 0.0166, 0.02649, 0.03653, 0.046...   \n",
       "1     [0.0, 0.00744, 0.0166, 0.02649, 0.03653, 0.046...   \n",
       "2     [0.0, 0.00744, 0.0166, 0.02649, 0.03653, 0.046...   \n",
       "3     [0.0, 0.00744, 0.0166, 0.02649, 0.03653, 0.046...   \n",
       "4     [0.0, 0.00744, 0.0166, 0.02649, 0.03653, 0.046...   \n",
       "...                                                 ...   \n",
       "3318  [0.0, 0.00789, 0.0175, 0.02755, 0.03739, 0.046...   \n",
       "3319  [0.0, 0.00789, 0.0175, 0.02755, 0.03739, 0.046...   \n",
       "3320  [0.0, 0.00789, 0.0175, 0.02755, 0.03739, 0.046...   \n",
       "3321  [0.0, 0.00789, 0.0175, 0.02755, 0.03739, 0.046...   \n",
       "3322  [0.0, 0.00789, 0.0175, 0.02755, 0.03739, 0.046...   \n",
       "\n",
       "                                                    ysr  \n",
       "0     [0.0, 0.00782993054093875, 0.01843625055530875...  \n",
       "1     [0.0, 0.00782993054093875, 0.01843625055530875...  \n",
       "2     [0.0, 0.00782993054093875, 0.01843625055530875...  \n",
       "3     [0.0, 0.00782993054093875, 0.01843625055530875...  \n",
       "4     [0.0, 0.00782993054093875, 0.01843625055530875...  \n",
       "...                                                 ...  \n",
       "3318  [0.0, 0.008303340279093262, 0.0194351587574825...  \n",
       "3319  [0.0, 0.008303340279093262, 0.0194351587574825...  \n",
       "3320  [0.0, 0.008303340279093262, 0.0194351587574825...  \n",
       "3321  [0.0, 0.008303340279093262, 0.0194351587574825...  \n",
       "3322  [0.0, 0.008303340279093262, 0.0194351587574825...  \n",
       "\n",
       "[1800 rows x 7 columns]"
      ]
     },
     "execution_count": 15,
     "metadata": {},
     "output_type": "execute_result"
    }
   ],
   "source": [
    "df2['xs'] = df2['xs'].apply(lambda x: np.array(x))\n",
    "df2['ys'] = df2['ys'].apply(lambda x: np.array(x))\n",
    "df2['ysr'] = df2['ys']/df2['xs']\n",
    "df2"
   ]
  },
  {
   "cell_type": "markdown",
   "metadata": {},
   "source": [
    "## Plotting some random airfoils"
   ]
  },
  {
   "cell_type": "code",
   "execution_count": 16,
   "metadata": {},
   "outputs": [
    {
     "data": {
      "text/plain": [
       "array([51, 35, 97, 34, 50, 36, 61])"
      ]
     },
     "execution_count": 16,
     "metadata": {},
     "output_type": "execute_result"
    }
   ],
   "source": [
    "df2['ysr'].apply(len).unique()"
   ]
  },
  {
   "cell_type": "markdown",
   "metadata": {},
   "source": [
    "Here is the problem. Each airfoil feometry consists of different number of points. What I decided to do is to shrink the number of points to the lowest number. And remove nan and inf values as well."
   ]
  },
  {
   "cell_type": "code",
   "execution_count": 17,
   "metadata": {},
   "outputs": [
    {
     "data": {
      "text/plain": [
       "array([50, 34, 96, 33, 49, 35, 60])"
      ]
     },
     "execution_count": 17,
     "metadata": {},
     "output_type": "execute_result"
    }
   ],
   "source": [
    "df2['ysr'] = df2['ysr'].apply(lambda x: x[~np.isnan(x)]) \n",
    "df2['ysr'] = df2['ysr'].apply(lambda x: x[~np.isinf(x)]) \n",
    "df2['ysr'].apply(len).unique()"
   ]
  },
  {
   "cell_type": "code",
   "execution_count": 18,
   "metadata": {},
   "outputs": [],
   "source": [
    "def shrink(lst, num = 33):\n",
    "    while len(lst)!=num:\n",
    "        lst=np.delete(lst, random.randint(0, len(lst)-1))\n",
    "    return lst"
   ]
  },
  {
   "cell_type": "code",
   "execution_count": 19,
   "metadata": {},
   "outputs": [],
   "source": [
    "df2['ysr'] = df2['ysr'].apply(lambda x: shrink(x))"
   ]
  },
  {
   "cell_type": "code",
   "execution_count": 20,
   "metadata": {},
   "outputs": [
    {
     "data": {
      "text/html": [
       "<div>\n",
       "<style scoped>\n",
       "    .dataframe tbody tr th:only-of-type {\n",
       "        vertical-align: middle;\n",
       "    }\n",
       "\n",
       "    .dataframe tbody tr th {\n",
       "        vertical-align: top;\n",
       "    }\n",
       "\n",
       "    .dataframe thead th {\n",
       "        text-align: right;\n",
       "    }\n",
       "</style>\n",
       "<table border=\"1\" class=\"dataframe\">\n",
       "  <thead>\n",
       "    <tr style=\"text-align: right;\">\n",
       "      <th></th>\n",
       "      <th>id</th>\n",
       "      <th>alpha</th>\n",
       "      <th>Cl</th>\n",
       "      <th>Cd</th>\n",
       "      <th>xs</th>\n",
       "      <th>ys</th>\n",
       "      <th>ysr</th>\n",
       "      <th>ysr0</th>\n",
       "      <th>ysr1</th>\n",
       "      <th>ysr2</th>\n",
       "      <th>...</th>\n",
       "      <th>ysr23</th>\n",
       "      <th>ysr24</th>\n",
       "      <th>ysr25</th>\n",
       "      <th>ysr26</th>\n",
       "      <th>ysr27</th>\n",
       "      <th>ysr28</th>\n",
       "      <th>ysr29</th>\n",
       "      <th>ysr30</th>\n",
       "      <th>ysr31</th>\n",
       "      <th>ysr32</th>\n",
       "    </tr>\n",
       "  </thead>\n",
       "  <tbody>\n",
       "    <tr>\n",
       "      <th>0</th>\n",
       "      <td>216</td>\n",
       "      <td>19.3762</td>\n",
       "      <td>1.37315</td>\n",
       "      <td>0.017005</td>\n",
       "      <td>[1.0, 0.9502, 0.9004, 0.85055, 0.80063, 0.7506...</td>\n",
       "      <td>[0.0, 0.00744, 0.0166, 0.02649, 0.03653, 0.046...</td>\n",
       "      <td>[0.0, 0.031144553524190228, 0.0617864517418237...</td>\n",
       "      <td>0.00000</td>\n",
       "      <td>0.031145</td>\n",
       "      <td>0.061786</td>\n",
       "      <td>...</td>\n",
       "      <td>-0.160482</td>\n",
       "      <td>-0.140636</td>\n",
       "      <td>-0.121300</td>\n",
       "      <td>-0.102312</td>\n",
       "      <td>-0.067332</td>\n",
       "      <td>-0.051875</td>\n",
       "      <td>-0.038006</td>\n",
       "      <td>-0.015339</td>\n",
       "      <td>-0.006959</td>\n",
       "      <td>-0.001179</td>\n",
       "    </tr>\n",
       "    <tr>\n",
       "      <th>1</th>\n",
       "      <td>216</td>\n",
       "      <td>18.2929</td>\n",
       "      <td>1.41105</td>\n",
       "      <td>0.018944</td>\n",
       "      <td>[1.0, 0.9502, 0.9004, 0.85055, 0.80063, 0.7506...</td>\n",
       "      <td>[0.0, 0.00744, 0.0166, 0.02649, 0.03653, 0.046...</td>\n",
       "      <td>[0.0, 0.00782993054093875, 0.03114455352419022...</td>\n",
       "      <td>0.00000</td>\n",
       "      <td>0.007830</td>\n",
       "      <td>0.031145</td>\n",
       "      <td>...</td>\n",
       "      <td>-0.160482</td>\n",
       "      <td>-0.140636</td>\n",
       "      <td>-0.121300</td>\n",
       "      <td>-0.102312</td>\n",
       "      <td>-0.084171</td>\n",
       "      <td>-0.067332</td>\n",
       "      <td>-0.051875</td>\n",
       "      <td>-0.025783</td>\n",
       "      <td>-0.015339</td>\n",
       "      <td>0.000000</td>\n",
       "    </tr>\n",
       "    <tr>\n",
       "      <th>2</th>\n",
       "      <td>216</td>\n",
       "      <td>17.4013</td>\n",
       "      <td>1.51954</td>\n",
       "      <td>0.000000</td>\n",
       "      <td>[1.0, 0.9502, 0.9004, 0.85055, 0.80063, 0.7506...</td>\n",
       "      <td>[0.0, 0.00744, 0.0166, 0.02649, 0.03653, 0.046...</td>\n",
       "      <td>[0.00782993054093875, 0.031144553524190228, 0....</td>\n",
       "      <td>0.00783</td>\n",
       "      <td>0.031145</td>\n",
       "      <td>0.045627</td>\n",
       "      <td>...</td>\n",
       "      <td>-0.181507</td>\n",
       "      <td>-0.160482</td>\n",
       "      <td>-0.121300</td>\n",
       "      <td>-0.084171</td>\n",
       "      <td>-0.067332</td>\n",
       "      <td>-0.038006</td>\n",
       "      <td>-0.025783</td>\n",
       "      <td>-0.006959</td>\n",
       "      <td>-0.001179</td>\n",
       "      <td>0.000000</td>\n",
       "    </tr>\n",
       "    <tr>\n",
       "      <th>3</th>\n",
       "      <td>216</td>\n",
       "      <td>16.2855</td>\n",
       "      <td>1.54926</td>\n",
       "      <td>0.000000</td>\n",
       "      <td>[1.0, 0.9502, 0.9004, 0.85055, 0.80063, 0.7506...</td>\n",
       "      <td>[0.0, 0.00744, 0.0166, 0.02649, 0.03653, 0.046...</td>\n",
       "      <td>[0.0, 0.00782993054093875, 0.01843625055530875...</td>\n",
       "      <td>0.00000</td>\n",
       "      <td>0.007830</td>\n",
       "      <td>0.018436</td>\n",
       "      <td>...</td>\n",
       "      <td>-0.397185</td>\n",
       "      <td>-0.205310</td>\n",
       "      <td>-0.181507</td>\n",
       "      <td>-0.160482</td>\n",
       "      <td>-0.140636</td>\n",
       "      <td>-0.121300</td>\n",
       "      <td>-0.084171</td>\n",
       "      <td>-0.038006</td>\n",
       "      <td>-0.025783</td>\n",
       "      <td>-0.015339</td>\n",
       "    </tr>\n",
       "    <tr>\n",
       "      <th>4</th>\n",
       "      <td>216</td>\n",
       "      <td>15.2965</td>\n",
       "      <td>1.53133</td>\n",
       "      <td>0.000000</td>\n",
       "      <td>[1.0, 0.9502, 0.9004, 0.85055, 0.80063, 0.7506...</td>\n",
       "      <td>[0.0, 0.00744, 0.0166, 0.02649, 0.03653, 0.046...</td>\n",
       "      <td>[0.00782993054093875, 0.031144553524190228, 0....</td>\n",
       "      <td>0.00783</td>\n",
       "      <td>0.031145</td>\n",
       "      <td>0.045627</td>\n",
       "      <td>...</td>\n",
       "      <td>-0.233617</td>\n",
       "      <td>-0.205310</td>\n",
       "      <td>-0.181507</td>\n",
       "      <td>-0.160482</td>\n",
       "      <td>-0.102312</td>\n",
       "      <td>-0.067332</td>\n",
       "      <td>-0.025783</td>\n",
       "      <td>-0.015339</td>\n",
       "      <td>-0.006959</td>\n",
       "      <td>0.000000</td>\n",
       "    </tr>\n",
       "  </tbody>\n",
       "</table>\n",
       "<p>5 rows × 40 columns</p>\n",
       "</div>"
      ],
      "text/plain": [
       "    id    alpha       Cl        Cd  \\\n",
       "0  216  19.3762  1.37315  0.017005   \n",
       "1  216  18.2929  1.41105  0.018944   \n",
       "2  216  17.4013  1.51954  0.000000   \n",
       "3  216  16.2855  1.54926  0.000000   \n",
       "4  216  15.2965  1.53133  0.000000   \n",
       "\n",
       "                                                  xs  \\\n",
       "0  [1.0, 0.9502, 0.9004, 0.85055, 0.80063, 0.7506...   \n",
       "1  [1.0, 0.9502, 0.9004, 0.85055, 0.80063, 0.7506...   \n",
       "2  [1.0, 0.9502, 0.9004, 0.85055, 0.80063, 0.7506...   \n",
       "3  [1.0, 0.9502, 0.9004, 0.85055, 0.80063, 0.7506...   \n",
       "4  [1.0, 0.9502, 0.9004, 0.85055, 0.80063, 0.7506...   \n",
       "\n",
       "                                                  ys  \\\n",
       "0  [0.0, 0.00744, 0.0166, 0.02649, 0.03653, 0.046...   \n",
       "1  [0.0, 0.00744, 0.0166, 0.02649, 0.03653, 0.046...   \n",
       "2  [0.0, 0.00744, 0.0166, 0.02649, 0.03653, 0.046...   \n",
       "3  [0.0, 0.00744, 0.0166, 0.02649, 0.03653, 0.046...   \n",
       "4  [0.0, 0.00744, 0.0166, 0.02649, 0.03653, 0.046...   \n",
       "\n",
       "                                                 ysr     ysr0      ysr1  \\\n",
       "0  [0.0, 0.031144553524190228, 0.0617864517418237...  0.00000  0.031145   \n",
       "1  [0.0, 0.00782993054093875, 0.03114455352419022...  0.00000  0.007830   \n",
       "2  [0.00782993054093875, 0.031144553524190228, 0....  0.00783  0.031145   \n",
       "3  [0.0, 0.00782993054093875, 0.01843625055530875...  0.00000  0.007830   \n",
       "4  [0.00782993054093875, 0.031144553524190228, 0....  0.00783  0.031145   \n",
       "\n",
       "       ysr2  ...     ysr23     ysr24     ysr25     ysr26     ysr27     ysr28  \\\n",
       "0  0.061786  ... -0.160482 -0.140636 -0.121300 -0.102312 -0.067332 -0.051875   \n",
       "1  0.031145  ... -0.160482 -0.140636 -0.121300 -0.102312 -0.084171 -0.067332   \n",
       "2  0.045627  ... -0.181507 -0.160482 -0.121300 -0.084171 -0.067332 -0.038006   \n",
       "3  0.018436  ... -0.397185 -0.205310 -0.181507 -0.160482 -0.140636 -0.121300   \n",
       "4  0.045627  ... -0.233617 -0.205310 -0.181507 -0.160482 -0.102312 -0.067332   \n",
       "\n",
       "      ysr29     ysr30     ysr31     ysr32  \n",
       "0 -0.038006 -0.015339 -0.006959 -0.001179  \n",
       "1 -0.051875 -0.025783 -0.015339  0.000000  \n",
       "2 -0.025783 -0.006959 -0.001179  0.000000  \n",
       "3 -0.084171 -0.038006 -0.025783 -0.015339  \n",
       "4 -0.025783 -0.015339 -0.006959  0.000000  \n",
       "\n",
       "[5 rows x 40 columns]"
      ]
     },
     "execution_count": 20,
     "metadata": {},
     "output_type": "execute_result"
    }
   ],
   "source": [
    "df2[[f'ysr{i}' for i in range(33)]] = pd.DataFrame(df2.ysr.tolist(), index= df2.index)\n",
    "df2.head()"
   ]
  },
  {
   "cell_type": "code",
   "execution_count": 21,
   "metadata": {},
   "outputs": [
    {
     "data": {
      "text/html": [
       "<div>\n",
       "<style scoped>\n",
       "    .dataframe tbody tr th:only-of-type {\n",
       "        vertical-align: middle;\n",
       "    }\n",
       "\n",
       "    .dataframe tbody tr th {\n",
       "        vertical-align: top;\n",
       "    }\n",
       "\n",
       "    .dataframe thead th {\n",
       "        text-align: right;\n",
       "    }\n",
       "</style>\n",
       "<table border=\"1\" class=\"dataframe\">\n",
       "  <thead>\n",
       "    <tr style=\"text-align: right;\">\n",
       "      <th></th>\n",
       "      <th>alpha</th>\n",
       "      <th>ysr0</th>\n",
       "      <th>ysr1</th>\n",
       "      <th>ysr2</th>\n",
       "      <th>ysr3</th>\n",
       "      <th>ysr4</th>\n",
       "      <th>ysr5</th>\n",
       "      <th>ysr6</th>\n",
       "      <th>ysr7</th>\n",
       "      <th>ysr8</th>\n",
       "      <th>...</th>\n",
       "      <th>ysr24</th>\n",
       "      <th>ysr25</th>\n",
       "      <th>ysr26</th>\n",
       "      <th>ysr27</th>\n",
       "      <th>ysr28</th>\n",
       "      <th>ysr29</th>\n",
       "      <th>ysr30</th>\n",
       "      <th>ysr31</th>\n",
       "      <th>ysr32</th>\n",
       "      <th>Cl</th>\n",
       "    </tr>\n",
       "  </thead>\n",
       "  <tbody>\n",
       "    <tr>\n",
       "      <th>0</th>\n",
       "      <td>19.3762</td>\n",
       "      <td>0.00000</td>\n",
       "      <td>0.031145</td>\n",
       "      <td>0.061786</td>\n",
       "      <td>0.079530</td>\n",
       "      <td>0.098889</td>\n",
       "      <td>0.119679</td>\n",
       "      <td>0.142037</td>\n",
       "      <td>0.189479</td>\n",
       "      <td>0.241246</td>\n",
       "      <td>...</td>\n",
       "      <td>-0.140636</td>\n",
       "      <td>-0.121300</td>\n",
       "      <td>-0.102312</td>\n",
       "      <td>-0.067332</td>\n",
       "      <td>-0.051875</td>\n",
       "      <td>-0.038006</td>\n",
       "      <td>-0.015339</td>\n",
       "      <td>-0.006959</td>\n",
       "      <td>-0.001179</td>\n",
       "      <td>1.37315</td>\n",
       "    </tr>\n",
       "    <tr>\n",
       "      <th>1</th>\n",
       "      <td>18.2929</td>\n",
       "      <td>0.00000</td>\n",
       "      <td>0.007830</td>\n",
       "      <td>0.031145</td>\n",
       "      <td>0.061786</td>\n",
       "      <td>0.079530</td>\n",
       "      <td>0.098889</td>\n",
       "      <td>0.119679</td>\n",
       "      <td>0.165420</td>\n",
       "      <td>0.189479</td>\n",
       "      <td>...</td>\n",
       "      <td>-0.140636</td>\n",
       "      <td>-0.121300</td>\n",
       "      <td>-0.102312</td>\n",
       "      <td>-0.084171</td>\n",
       "      <td>-0.067332</td>\n",
       "      <td>-0.051875</td>\n",
       "      <td>-0.025783</td>\n",
       "      <td>-0.015339</td>\n",
       "      <td>0.000000</td>\n",
       "      <td>1.41105</td>\n",
       "    </tr>\n",
       "    <tr>\n",
       "      <th>2</th>\n",
       "      <td>17.4013</td>\n",
       "      <td>0.00783</td>\n",
       "      <td>0.031145</td>\n",
       "      <td>0.045627</td>\n",
       "      <td>0.061786</td>\n",
       "      <td>0.079530</td>\n",
       "      <td>0.098889</td>\n",
       "      <td>0.119679</td>\n",
       "      <td>0.142037</td>\n",
       "      <td>0.165420</td>\n",
       "      <td>...</td>\n",
       "      <td>-0.160482</td>\n",
       "      <td>-0.121300</td>\n",
       "      <td>-0.084171</td>\n",
       "      <td>-0.067332</td>\n",
       "      <td>-0.038006</td>\n",
       "      <td>-0.025783</td>\n",
       "      <td>-0.006959</td>\n",
       "      <td>-0.001179</td>\n",
       "      <td>0.000000</td>\n",
       "      <td>1.51954</td>\n",
       "    </tr>\n",
       "    <tr>\n",
       "      <th>3</th>\n",
       "      <td>16.2855</td>\n",
       "      <td>0.00000</td>\n",
       "      <td>0.007830</td>\n",
       "      <td>0.018436</td>\n",
       "      <td>0.031145</td>\n",
       "      <td>0.045627</td>\n",
       "      <td>0.098889</td>\n",
       "      <td>0.119679</td>\n",
       "      <td>0.142037</td>\n",
       "      <td>0.165420</td>\n",
       "      <td>...</td>\n",
       "      <td>-0.205310</td>\n",
       "      <td>-0.181507</td>\n",
       "      <td>-0.160482</td>\n",
       "      <td>-0.140636</td>\n",
       "      <td>-0.121300</td>\n",
       "      <td>-0.084171</td>\n",
       "      <td>-0.038006</td>\n",
       "      <td>-0.025783</td>\n",
       "      <td>-0.015339</td>\n",
       "      <td>1.54926</td>\n",
       "    </tr>\n",
       "    <tr>\n",
       "      <th>4</th>\n",
       "      <td>15.2965</td>\n",
       "      <td>0.00783</td>\n",
       "      <td>0.031145</td>\n",
       "      <td>0.045627</td>\n",
       "      <td>0.119679</td>\n",
       "      <td>0.142037</td>\n",
       "      <td>0.214482</td>\n",
       "      <td>0.241246</td>\n",
       "      <td>0.271636</td>\n",
       "      <td>0.307773</td>\n",
       "      <td>...</td>\n",
       "      <td>-0.205310</td>\n",
       "      <td>-0.181507</td>\n",
       "      <td>-0.160482</td>\n",
       "      <td>-0.102312</td>\n",
       "      <td>-0.067332</td>\n",
       "      <td>-0.025783</td>\n",
       "      <td>-0.015339</td>\n",
       "      <td>-0.006959</td>\n",
       "      <td>0.000000</td>\n",
       "      <td>1.53133</td>\n",
       "    </tr>\n",
       "  </tbody>\n",
       "</table>\n",
       "<p>5 rows × 35 columns</p>\n",
       "</div>"
      ],
      "text/plain": [
       "     alpha     ysr0      ysr1      ysr2      ysr3      ysr4      ysr5  \\\n",
       "0  19.3762  0.00000  0.031145  0.061786  0.079530  0.098889  0.119679   \n",
       "1  18.2929  0.00000  0.007830  0.031145  0.061786  0.079530  0.098889   \n",
       "2  17.4013  0.00783  0.031145  0.045627  0.061786  0.079530  0.098889   \n",
       "3  16.2855  0.00000  0.007830  0.018436  0.031145  0.045627  0.098889   \n",
       "4  15.2965  0.00783  0.031145  0.045627  0.119679  0.142037  0.214482   \n",
       "\n",
       "       ysr6      ysr7      ysr8  ...     ysr24     ysr25     ysr26     ysr27  \\\n",
       "0  0.142037  0.189479  0.241246  ... -0.140636 -0.121300 -0.102312 -0.067332   \n",
       "1  0.119679  0.165420  0.189479  ... -0.140636 -0.121300 -0.102312 -0.084171   \n",
       "2  0.119679  0.142037  0.165420  ... -0.160482 -0.121300 -0.084171 -0.067332   \n",
       "3  0.119679  0.142037  0.165420  ... -0.205310 -0.181507 -0.160482 -0.140636   \n",
       "4  0.241246  0.271636  0.307773  ... -0.205310 -0.181507 -0.160482 -0.102312   \n",
       "\n",
       "      ysr28     ysr29     ysr30     ysr31     ysr32       Cl  \n",
       "0 -0.051875 -0.038006 -0.015339 -0.006959 -0.001179  1.37315  \n",
       "1 -0.067332 -0.051875 -0.025783 -0.015339  0.000000  1.41105  \n",
       "2 -0.038006 -0.025783 -0.006959 -0.001179  0.000000  1.51954  \n",
       "3 -0.121300 -0.084171 -0.038006 -0.025783 -0.015339  1.54926  \n",
       "4 -0.067332 -0.025783 -0.015339 -0.006959  0.000000  1.53133  \n",
       "\n",
       "[5 rows x 35 columns]"
      ]
     },
     "execution_count": 21,
     "metadata": {},
     "output_type": "execute_result"
    }
   ],
   "source": [
    "Xy = df2[['alpha']+[f'ysr{i}' for i in range(33)]+['Cl']]\n",
    "Xy.head()"
   ]
  },
  {
   "cell_type": "code",
   "execution_count": 22,
   "metadata": {},
   "outputs": [],
   "source": [
    "mms= MinMaxScaler()\n",
    "X = Xy.iloc[:,:-1]\n",
    "X = mms.fit_transform(X)\n",
    "df2 = pd.DataFrame(df2)\n",
    "rfr = RandomForestRegressor(n_estimators=300)\n",
    "X_train, X_test, y_train, y_test = train_test_split(X, Xy.iloc[:,-1])"
   ]
  },
  {
   "cell_type": "code",
   "execution_count": 23,
   "metadata": {},
   "outputs": [
    {
     "data": {
      "text/plain": [
       "RandomForestRegressor(bootstrap=True, ccp_alpha=0.0, criterion='mse',\n",
       "                      max_depth=None, max_features='auto', max_leaf_nodes=None,\n",
       "                      max_samples=None, min_impurity_decrease=0.0,\n",
       "                      min_impurity_split=None, min_samples_leaf=1,\n",
       "                      min_samples_split=2, min_weight_fraction_leaf=0.0,\n",
       "                      n_estimators=300, n_jobs=None, oob_score=False,\n",
       "                      random_state=None, verbose=0, warm_start=False)"
      ]
     },
     "execution_count": 23,
     "metadata": {},
     "output_type": "execute_result"
    }
   ],
   "source": [
    "rfr.fit(X_train, y_train)"
   ]
  },
  {
   "cell_type": "code",
   "execution_count": 24,
   "metadata": {},
   "outputs": [
    {
     "name": "stdout",
     "output_type": "stream",
     "text": [
      "0.26911524962962974 ± 0.050659977937162134\n",
      "0.270846811111111 ± 0.1274919619496774\n"
     ]
    }
   ],
   "source": [
    "print(np.mean(y_train),'±',mean_squared_error(y_train,rfr.predict(X_train), squared=False))\n",
    "print(np.mean(y_test),'±',mean_squared_error(y_test,rfr.predict(X_test), squared=False))"
   ]
  },
  {
   "cell_type": "code",
   "execution_count": 25,
   "metadata": {},
   "outputs": [
    {
     "data": {
      "text/plain": [
       "array([0.96334855, 0.96213631, 0.96927479, 0.98188037, 0.97481756])"
      ]
     },
     "execution_count": 25,
     "metadata": {},
     "output_type": "execute_result"
    }
   ],
   "source": [
    "from sklearn.model_selection import cross_val_score\n",
    "cross_val_score(rfr,X_test, y_test)"
   ]
  },
  {
   "cell_type": "code",
   "execution_count": 26,
   "metadata": {},
   "outputs": [
    {
     "data": {
      "text/html": [
       "<div>\n",
       "<style scoped>\n",
       "    .dataframe tbody tr th:only-of-type {\n",
       "        vertical-align: middle;\n",
       "    }\n",
       "\n",
       "    .dataframe tbody tr th {\n",
       "        vertical-align: top;\n",
       "    }\n",
       "\n",
       "    .dataframe thead th {\n",
       "        text-align: right;\n",
       "    }\n",
       "</style>\n",
       "<table border=\"1\" class=\"dataframe\">\n",
       "  <thead>\n",
       "    <tr style=\"text-align: right;\">\n",
       "      <th></th>\n",
       "      <th>feature</th>\n",
       "      <th>importance</th>\n",
       "    </tr>\n",
       "  </thead>\n",
       "  <tbody>\n",
       "    <tr>\n",
       "      <th>0</th>\n",
       "      <td>alpha</td>\n",
       "      <td>0.970440</td>\n",
       "    </tr>\n",
       "    <tr>\n",
       "      <th>12</th>\n",
       "      <td>ysr11</td>\n",
       "      <td>0.002503</td>\n",
       "    </tr>\n",
       "    <tr>\n",
       "      <th>32</th>\n",
       "      <td>ysr31</td>\n",
       "      <td>0.002234</td>\n",
       "    </tr>\n",
       "    <tr>\n",
       "      <th>2</th>\n",
       "      <td>ysr1</td>\n",
       "      <td>0.001384</td>\n",
       "    </tr>\n",
       "    <tr>\n",
       "      <th>10</th>\n",
       "      <td>ysr9</td>\n",
       "      <td>0.001291</td>\n",
       "    </tr>\n",
       "    <tr>\n",
       "      <th>24</th>\n",
       "      <td>ysr23</td>\n",
       "      <td>0.001138</td>\n",
       "    </tr>\n",
       "    <tr>\n",
       "      <th>9</th>\n",
       "      <td>ysr8</td>\n",
       "      <td>0.001127</td>\n",
       "    </tr>\n",
       "    <tr>\n",
       "      <th>22</th>\n",
       "      <td>ysr21</td>\n",
       "      <td>0.000998</td>\n",
       "    </tr>\n",
       "    <tr>\n",
       "      <th>25</th>\n",
       "      <td>ysr24</td>\n",
       "      <td>0.000980</td>\n",
       "    </tr>\n",
       "    <tr>\n",
       "      <th>31</th>\n",
       "      <td>ysr30</td>\n",
       "      <td>0.000970</td>\n",
       "    </tr>\n",
       "  </tbody>\n",
       "</table>\n",
       "</div>"
      ],
      "text/plain": [
       "   feature  importance\n",
       "0    alpha    0.970440\n",
       "12   ysr11    0.002503\n",
       "32   ysr31    0.002234\n",
       "2     ysr1    0.001384\n",
       "10    ysr9    0.001291\n",
       "24   ysr23    0.001138\n",
       "9     ysr8    0.001127\n",
       "22   ysr21    0.000998\n",
       "25   ysr24    0.000980\n",
       "31   ysr30    0.000970"
      ]
     },
     "execution_count": 26,
     "metadata": {},
     "output_type": "execute_result"
    }
   ],
   "source": [
    "from collections import defaultdict\n",
    "dct = {'feature':Xy.columns[:-1], 'importance':rfr.feature_importances_}\n",
    "dfFI = pd.DataFrame(dct)\n",
    "dfFI.sort_values(by='importance', ascending = False).head(10)"
   ]
  },
  {
   "cell_type": "markdown",
   "metadata": {},
   "source": [
    "## Randomized Search for Random Forest"
   ]
  },
  {
   "cell_type": "code",
   "execution_count": 27,
   "metadata": {},
   "outputs": [
    {
     "name": "stdout",
     "output_type": "stream",
     "text": [
      "Fitting 3 folds for each of 100 candidates, totalling 300 fits\n"
     ]
    },
    {
     "name": "stderr",
     "output_type": "stream",
     "text": [
      "[Parallel(n_jobs=-1)]: Using backend LokyBackend with 16 concurrent workers.\n",
      "[Parallel(n_jobs=-1)]: Done   9 tasks      | elapsed:    8.8s\n",
      "/opt/anaconda3/lib/python3.7/site-packages/joblib/externals/loky/process_executor.py:706: UserWarning:\n",
      "\n",
      "A worker stopped while some jobs were given to the executor. This can be caused by a too short worker timeout or by a memory leak.\n",
      "\n",
      "[Parallel(n_jobs=-1)]: Done 130 tasks      | elapsed:  2.0min\n",
      "[Parallel(n_jobs=-1)]: Done 300 out of 300 | elapsed:  5.3min finished\n"
     ]
    },
    {
     "data": {
      "text/plain": [
       "RandomizedSearchCV(cv=3, error_score=nan,\n",
       "                   estimator=RandomForestRegressor(bootstrap=True,\n",
       "                                                   ccp_alpha=0.0,\n",
       "                                                   criterion='mse',\n",
       "                                                   max_depth=None,\n",
       "                                                   max_features='auto',\n",
       "                                                   max_leaf_nodes=None,\n",
       "                                                   max_samples=None,\n",
       "                                                   min_impurity_decrease=0.0,\n",
       "                                                   min_impurity_split=None,\n",
       "                                                   min_samples_leaf=1,\n",
       "                                                   min_samples_split=2,\n",
       "                                                   min_weight_fraction_leaf=0.0,\n",
       "                                                   n_estimators=100,\n",
       "                                                   n_jobs=None, oob_score=Fals...\n",
       "                   param_distributions={'bootstrap': [True, False],\n",
       "                                        'max_depth': [10, 20, 30, 40, 50, 60,\n",
       "                                                      70, 80, 90, 100, 110,\n",
       "                                                      None],\n",
       "                                        'max_features': ['auto', 'sqrt'],\n",
       "                                        'min_samples_leaf': [1, 2, 4],\n",
       "                                        'min_samples_split': [2, 5, 10],\n",
       "                                        'n_estimators': [200, 400, 600, 800,\n",
       "                                                         1000, 1200, 1400, 1600,\n",
       "                                                         1800, 2000]},\n",
       "                   pre_dispatch='2*n_jobs', random_state=42, refit=True,\n",
       "                   return_train_score=False, scoring=None, verbose=2)"
      ]
     },
     "execution_count": 27,
     "metadata": {},
     "output_type": "execute_result"
    }
   ],
   "source": [
    "\n",
    "# Number of trees in random forest\n",
    "n_estimators = [int(x) for x in np.linspace(start = 200, stop = 2000, num = 10)]\n",
    "# Number of features to consider at every split\n",
    "max_features = ['auto', 'sqrt']\n",
    "# Maximum number of levels in tree\n",
    "max_depth = [int(x) for x in np.linspace(10, 110, num = 11)]\n",
    "max_depth.append(None)\n",
    "# Minimum number of samples required to split a node\n",
    "min_samples_split = [2, 5, 10]\n",
    "# Minimum number of samples required at each leaf node\n",
    "min_samples_leaf = [1, 2, 4]\n",
    "# Method of selecting samples for training each tree\n",
    "bootstrap = [True, False]\n",
    "# Create the random grid\n",
    "random_grid = {'n_estimators': n_estimators,\n",
    "               'max_features': max_features,\n",
    "               'max_depth': max_depth,\n",
    "               'min_samples_split': min_samples_split,\n",
    "               'min_samples_leaf': min_samples_leaf,\n",
    "               'bootstrap': bootstrap}\n",
    "rf = RandomForestRegressor()\n",
    "# Random search of parameters, using 3 fold cross validation, \n",
    "# search across 100 different combinations, and use all available cores\n",
    "rf_random = RandomizedSearchCV(estimator = rf, \n",
    "                               param_distributions = random_grid, \n",
    "                               n_iter = 100, cv = 3, verbose=2, random_state=42, n_jobs = -1)\n",
    "# Fit the random search model\n",
    "rf_random.fit(X_train, y_train)"
   ]
  },
  {
   "cell_type": "code",
   "execution_count": 28,
   "metadata": {},
   "outputs": [
    {
     "data": {
      "text/plain": [
       "{'n_estimators': 800,\n",
       " 'min_samples_split': 2,\n",
       " 'min_samples_leaf': 1,\n",
       " 'max_features': 'auto',\n",
       " 'max_depth': 100,\n",
       " 'bootstrap': True}"
      ]
     },
     "execution_count": 28,
     "metadata": {},
     "output_type": "execute_result"
    }
   ],
   "source": [
    "rf_random.best_params_"
   ]
  },
  {
   "cell_type": "code",
   "execution_count": 29,
   "metadata": {},
   "outputs": [
    {
     "name": "stdout",
     "output_type": "stream",
     "text": [
      "0.26911524962962974 ± 0.05004622405190772\n",
      "0.270846811111111 ± 0.1266206565569564\n"
     ]
    }
   ],
   "source": [
    "rfr = rf_random.best_estimator_\n",
    "print(np.mean(y_train),'±',mean_squared_error(y_train,rfr.predict(X_train), squared=False))\n",
    "print(np.mean(y_test),'±',mean_squared_error(y_test,rfr.predict(X_test), squared=False))"
   ]
  },
  {
   "cell_type": "markdown",
   "metadata": {},
   "source": [
    "## XGBRegressor"
   ]
  },
  {
   "cell_type": "code",
   "execution_count": 31,
   "metadata": {},
   "outputs": [
    {
     "name": "stdout",
     "output_type": "stream",
     "text": [
      "0.26911524962962974 ± 0.008382442788871285\n",
      "0.270846811111111 ± 0.11827098263123968\n"
     ]
    }
   ],
   "source": [
    "from xgboost import XGBRegressor\n",
    "xgbr = XGBRegressor()\n",
    "xgbr.fit(X_train, y_train)\n",
    "print(np.mean(y_train),'±',mean_squared_error(y_train,xgbr.predict(X_train), squared=False))\n",
    "print(np.mean(y_test),'±',mean_squared_error(y_test,xgbr.predict(X_test), squared=False))"
   ]
  },
  {
   "cell_type": "markdown",
   "metadata": {},
   "source": [
    "## Neural network"
   ]
  },
  {
   "cell_type": "code",
   "execution_count": 32,
   "metadata": {},
   "outputs": [],
   "source": [
    "from keras.models import Sequential\n",
    "from keras.layers import Dense, Activation, Flatten\n",
    "import warnings \n",
    "warnings.filterwarnings('ignore')\n",
    "warnings.filterwarnings('ignore', category=DeprecationWarning)\n"
   ]
  },
  {
   "cell_type": "code",
   "execution_count": 37,
   "metadata": {},
   "outputs": [
    {
     "name": "stdout",
     "output_type": "stream",
     "text": [
      "Model: \"sequential_1\"\n",
      "_________________________________________________________________\n",
      "Layer (type)                 Output Shape              Param #   \n",
      "=================================================================\n",
      "dense_5 (Dense)              (None, 128)               4480      \n",
      "_________________________________________________________________\n",
      "dense_6 (Dense)              (None, 256)               33024     \n",
      "_________________________________________________________________\n",
      "dense_7 (Dense)              (None, 256)               65792     \n",
      "_________________________________________________________________\n",
      "dense_8 (Dense)              (None, 256)               65792     \n",
      "_________________________________________________________________\n",
      "dense_9 (Dense)              (None, 256)               65792     \n",
      "_________________________________________________________________\n",
      "dense_10 (Dense)             (None, 256)               65792     \n",
      "_________________________________________________________________\n",
      "dense_11 (Dense)             (None, 256)               65792     \n",
      "_________________________________________________________________\n",
      "dense_12 (Dense)             (None, 1)                 257       \n",
      "=================================================================\n",
      "Total params: 366,721\n",
      "Trainable params: 366,721\n",
      "Non-trainable params: 0\n",
      "_________________________________________________________________\n"
     ]
    }
   ],
   "source": [
    "\n",
    "nnModel = Sequential()\n",
    "\n",
    "nnModel.add(Dense(128, kernel_initializer='normal',input_dim = X_train.shape[1], activation='relu'))\n",
    "\n",
    "nnModel.add(Dense(256, kernel_initializer='normal',activation='relu'))\n",
    "nnModel.add(Dense(256, kernel_initializer='normal',activation='relu'))\n",
    "nnModel.add(Dense(256, kernel_initializer='normal',activation='relu'))\n",
    "\n",
    "nnModel.add(Dense(1, kernel_initializer='normal',activation='linear'))\n",
    "\n",
    "nnModel.compile(loss='mean_absolute_error', optimizer='adam', metrics=['mean_absolute_error'])\n",
    "nnModel.summary()"
   ]
  },
  {
   "cell_type": "code",
   "execution_count": 38,
   "metadata": {},
   "outputs": [
    {
     "name": "stdout",
     "output_type": "stream",
     "text": [
      "Epoch 1/500\n",
      "34/34 [==============================] - 1s 6ms/step - loss: 0.8294 - mean_absolute_error: 0.8294 - val_loss: 0.7214 - val_mean_absolute_error: 0.7214\n",
      "Epoch 2/500\n",
      "34/34 [==============================] - 0s 3ms/step - loss: 0.5534 - mean_absolute_error: 0.5534 - val_loss: 0.4973 - val_mean_absolute_error: 0.4973\n",
      "Epoch 3/500\n",
      "34/34 [==============================] - 0s 3ms/step - loss: 0.3060 - mean_absolute_error: 0.3060 - val_loss: 0.2933 - val_mean_absolute_error: 0.2933\n",
      "Epoch 4/500\n",
      "34/34 [==============================] - 0s 3ms/step - loss: 0.2059 - mean_absolute_error: 0.2059 - val_loss: 0.1745 - val_mean_absolute_error: 0.1745\n",
      "Epoch 5/500\n",
      "34/34 [==============================] - 0s 3ms/step - loss: 0.1903 - mean_absolute_error: 0.1903 - val_loss: 0.2806 - val_mean_absolute_error: 0.2806\n",
      "Epoch 6/500\n",
      "34/34 [==============================] - 0s 3ms/step - loss: 0.2131 - mean_absolute_error: 0.2131 - val_loss: 0.1484 - val_mean_absolute_error: 0.1484\n",
      "Epoch 7/500\n",
      "34/34 [==============================] - 0s 3ms/step - loss: 0.1617 - mean_absolute_error: 0.1617 - val_loss: 0.1421 - val_mean_absolute_error: 0.1421\n",
      "Epoch 8/500\n",
      "34/34 [==============================] - 0s 3ms/step - loss: 0.1489 - mean_absolute_error: 0.1489 - val_loss: 0.1499 - val_mean_absolute_error: 0.1499\n",
      "Epoch 9/500\n",
      "34/34 [==============================] - 0s 3ms/step - loss: 0.1773 - mean_absolute_error: 0.1773 - val_loss: 0.1436 - val_mean_absolute_error: 0.1436\n",
      "Epoch 10/500\n",
      "34/34 [==============================] - 0s 3ms/step - loss: 0.1471 - mean_absolute_error: 0.1471 - val_loss: 0.1421 - val_mean_absolute_error: 0.1421\n",
      "Epoch 11/500\n",
      "34/34 [==============================] - 0s 6ms/step - loss: 0.1363 - mean_absolute_error: 0.1363 - val_loss: 0.1406 - val_mean_absolute_error: 0.1406\n",
      "Epoch 12/500\n",
      "34/34 [==============================] - 0s 3ms/step - loss: 0.1565 - mean_absolute_error: 0.1565 - val_loss: 0.1580 - val_mean_absolute_error: 0.1580\n",
      "Epoch 13/500\n",
      "34/34 [==============================] - 0s 3ms/step - loss: 0.1428 - mean_absolute_error: 0.1428 - val_loss: 0.1494 - val_mean_absolute_error: 0.1494\n",
      "Epoch 14/500\n",
      "34/34 [==============================] - 0s 3ms/step - loss: 0.1372 - mean_absolute_error: 0.1372 - val_loss: 0.1615 - val_mean_absolute_error: 0.1615\n",
      "Epoch 15/500\n",
      "34/34 [==============================] - 0s 3ms/step - loss: 0.1499 - mean_absolute_error: 0.1499 - val_loss: 0.1387 - val_mean_absolute_error: 0.1387\n",
      "Epoch 16/500\n",
      "34/34 [==============================] - 0s 3ms/step - loss: 0.1379 - mean_absolute_error: 0.1379 - val_loss: 0.1527 - val_mean_absolute_error: 0.1527\n",
      "Epoch 17/500\n",
      "34/34 [==============================] - 0s 3ms/step - loss: 0.1410 - mean_absolute_error: 0.1410 - val_loss: 0.1552 - val_mean_absolute_error: 0.1552\n",
      "Epoch 18/500\n",
      "34/34 [==============================] - 0s 3ms/step - loss: 0.1391 - mean_absolute_error: 0.1391 - val_loss: 0.1307 - val_mean_absolute_error: 0.1307\n",
      "Epoch 19/500\n",
      "34/34 [==============================] - 0s 3ms/step - loss: 0.1356 - mean_absolute_error: 0.1356 - val_loss: 0.1264 - val_mean_absolute_error: 0.1264\n",
      "Epoch 20/500\n",
      "34/34 [==============================] - 0s 3ms/step - loss: 0.1293 - mean_absolute_error: 0.1293 - val_loss: 0.1502 - val_mean_absolute_error: 0.1502\n",
      "Epoch 21/500\n",
      "34/34 [==============================] - 0s 3ms/step - loss: 0.1461 - mean_absolute_error: 0.1461 - val_loss: 0.1302 - val_mean_absolute_error: 0.1302\n",
      "Epoch 22/500\n",
      "34/34 [==============================] - 0s 3ms/step - loss: 0.1362 - mean_absolute_error: 0.1362 - val_loss: 0.1290 - val_mean_absolute_error: 0.1290\n",
      "Epoch 23/500\n",
      "34/34 [==============================] - 0s 3ms/step - loss: 0.1328 - mean_absolute_error: 0.1328 - val_loss: 0.1810 - val_mean_absolute_error: 0.1810\n",
      "Epoch 24/500\n",
      "34/34 [==============================] - 0s 3ms/step - loss: 0.1632 - mean_absolute_error: 0.1632 - val_loss: 0.1499 - val_mean_absolute_error: 0.1499\n",
      "Epoch 25/500\n",
      "34/34 [==============================] - 0s 3ms/step - loss: 0.1354 - mean_absolute_error: 0.1354 - val_loss: 0.1324 - val_mean_absolute_error: 0.1324\n",
      "Epoch 26/500\n",
      "34/34 [==============================] - 0s 3ms/step - loss: 0.1429 - mean_absolute_error: 0.1429 - val_loss: 0.1457 - val_mean_absolute_error: 0.1457\n",
      "Epoch 27/500\n",
      "34/34 [==============================] - 0s 3ms/step - loss: 0.1428 - mean_absolute_error: 0.1428 - val_loss: 0.1270 - val_mean_absolute_error: 0.1270\n",
      "Epoch 28/500\n",
      "34/34 [==============================] - 0s 3ms/step - loss: 0.1306 - mean_absolute_error: 0.1306 - val_loss: 0.1439 - val_mean_absolute_error: 0.1439\n",
      "Epoch 29/500\n",
      "34/34 [==============================] - 0s 3ms/step - loss: 0.1292 - mean_absolute_error: 0.1292 - val_loss: 0.1225 - val_mean_absolute_error: 0.1225\n",
      "Epoch 30/500\n",
      "34/34 [==============================] - 0s 3ms/step - loss: 0.1312 - mean_absolute_error: 0.1312 - val_loss: 0.1404 - val_mean_absolute_error: 0.1404\n",
      "Epoch 31/500\n",
      "34/34 [==============================] - 0s 3ms/step - loss: 0.1240 - mean_absolute_error: 0.1240 - val_loss: 0.1389 - val_mean_absolute_error: 0.1389\n",
      "Epoch 32/500\n",
      "34/34 [==============================] - 0s 3ms/step - loss: 0.1307 - mean_absolute_error: 0.1307 - val_loss: 0.1624 - val_mean_absolute_error: 0.1624\n",
      "Epoch 33/500\n",
      "34/34 [==============================] - 0s 3ms/step - loss: 0.1238 - mean_absolute_error: 0.1238 - val_loss: 0.1282 - val_mean_absolute_error: 0.1282\n",
      "Epoch 34/500\n",
      "34/34 [==============================] - 0s 3ms/step - loss: 0.1351 - mean_absolute_error: 0.1351 - val_loss: 0.1418 - val_mean_absolute_error: 0.1418\n",
      "Epoch 35/500\n",
      "34/34 [==============================] - 0s 3ms/step - loss: 0.1693 - mean_absolute_error: 0.1693 - val_loss: 0.1215 - val_mean_absolute_error: 0.1215\n",
      "Epoch 36/500\n",
      "34/34 [==============================] - 0s 5ms/step - loss: 0.1315 - mean_absolute_error: 0.1315 - val_loss: 0.1272 - val_mean_absolute_error: 0.1272\n",
      "Epoch 37/500\n",
      "34/34 [==============================] - 0s 3ms/step - loss: 0.1376 - mean_absolute_error: 0.1376 - val_loss: 0.1239 - val_mean_absolute_error: 0.1239\n",
      "Epoch 38/500\n",
      "34/34 [==============================] - 0s 3ms/step - loss: 0.1229 - mean_absolute_error: 0.1229 - val_loss: 0.1652 - val_mean_absolute_error: 0.1652\n",
      "Epoch 39/500\n",
      "34/34 [==============================] - 0s 3ms/step - loss: 0.1228 - mean_absolute_error: 0.1228 - val_loss: 0.1302 - val_mean_absolute_error: 0.1302\n",
      "Epoch 40/500\n",
      "34/34 [==============================] - 0s 3ms/step - loss: 0.1257 - mean_absolute_error: 0.1257 - val_loss: 0.1292 - val_mean_absolute_error: 0.1292\n",
      "Epoch 41/500\n",
      "34/34 [==============================] - 0s 3ms/step - loss: 0.1185 - mean_absolute_error: 0.1185 - val_loss: 0.1937 - val_mean_absolute_error: 0.1937\n",
      "Epoch 42/500\n",
      "34/34 [==============================] - 0s 3ms/step - loss: 0.1443 - mean_absolute_error: 0.1443 - val_loss: 0.1224 - val_mean_absolute_error: 0.1224\n",
      "Epoch 43/500\n",
      "34/34 [==============================] - 0s 3ms/step - loss: 0.1175 - mean_absolute_error: 0.1175 - val_loss: 0.1053 - val_mean_absolute_error: 0.1053\n",
      "Epoch 44/500\n",
      "34/34 [==============================] - 0s 3ms/step - loss: 0.1156 - mean_absolute_error: 0.1156 - val_loss: 0.1749 - val_mean_absolute_error: 0.1749\n",
      "Epoch 45/500\n",
      "34/34 [==============================] - 0s 3ms/step - loss: 0.1308 - mean_absolute_error: 0.1308 - val_loss: 0.1778 - val_mean_absolute_error: 0.1778\n",
      "Epoch 46/500\n",
      "34/34 [==============================] - 0s 3ms/step - loss: 0.1435 - mean_absolute_error: 0.1435 - val_loss: 0.1155 - val_mean_absolute_error: 0.1155\n",
      "Epoch 47/500\n",
      "34/34 [==============================] - 0s 3ms/step - loss: 0.1128 - mean_absolute_error: 0.1128 - val_loss: 0.1587 - val_mean_absolute_error: 0.1587\n",
      "Epoch 48/500\n",
      "34/34 [==============================] - 0s 3ms/step - loss: 0.1474 - mean_absolute_error: 0.1474 - val_loss: 0.1231 - val_mean_absolute_error: 0.1231\n",
      "Epoch 49/500\n",
      "34/34 [==============================] - 0s 3ms/step - loss: 0.1296 - mean_absolute_error: 0.1296 - val_loss: 0.1222 - val_mean_absolute_error: 0.1222\n",
      "Epoch 50/500\n",
      "34/34 [==============================] - 0s 3ms/step - loss: 0.1169 - mean_absolute_error: 0.1169 - val_loss: 0.1127 - val_mean_absolute_error: 0.1127\n",
      "Epoch 51/500\n"
     ]
    },
    {
     "name": "stdout",
     "output_type": "stream",
     "text": [
      "34/34 [==============================] - 0s 3ms/step - loss: 0.1171 - mean_absolute_error: 0.1171 - val_loss: 0.1422 - val_mean_absolute_error: 0.1422\n",
      "Epoch 52/500\n",
      "34/34 [==============================] - 0s 3ms/step - loss: 0.1185 - mean_absolute_error: 0.1185 - val_loss: 0.1148 - val_mean_absolute_error: 0.1148\n",
      "Epoch 53/500\n",
      "34/34 [==============================] - 0s 3ms/step - loss: 0.1171 - mean_absolute_error: 0.1171 - val_loss: 0.1208 - val_mean_absolute_error: 0.1208\n",
      "Epoch 54/500\n",
      "34/34 [==============================] - 0s 3ms/step - loss: 0.1052 - mean_absolute_error: 0.1052 - val_loss: 0.1158 - val_mean_absolute_error: 0.1158\n",
      "Epoch 55/500\n",
      "34/34 [==============================] - 0s 6ms/step - loss: 0.1204 - mean_absolute_error: 0.1204 - val_loss: 0.1170 - val_mean_absolute_error: 0.1170\n",
      "Epoch 56/500\n",
      "34/34 [==============================] - 0s 3ms/step - loss: 0.1178 - mean_absolute_error: 0.1178 - val_loss: 0.1423 - val_mean_absolute_error: 0.1423\n",
      "Epoch 57/500\n",
      "34/34 [==============================] - 0s 3ms/step - loss: 0.1328 - mean_absolute_error: 0.1328 - val_loss: 0.1219 - val_mean_absolute_error: 0.1219\n",
      "Epoch 58/500\n",
      "34/34 [==============================] - 0s 3ms/step - loss: 0.1143 - mean_absolute_error: 0.1143 - val_loss: 0.1138 - val_mean_absolute_error: 0.1138\n",
      "Epoch 59/500\n",
      "34/34 [==============================] - 0s 3ms/step - loss: 0.1099 - mean_absolute_error: 0.1099 - val_loss: 0.1198 - val_mean_absolute_error: 0.1198\n",
      "Epoch 60/500\n",
      "34/34 [==============================] - 0s 3ms/step - loss: 0.1123 - mean_absolute_error: 0.1123 - val_loss: 0.1370 - val_mean_absolute_error: 0.1370\n",
      "Epoch 61/500\n",
      "34/34 [==============================] - 0s 3ms/step - loss: 0.1235 - mean_absolute_error: 0.1235 - val_loss: 0.1234 - val_mean_absolute_error: 0.1234\n",
      "Epoch 62/500\n",
      "34/34 [==============================] - 0s 3ms/step - loss: 0.1188 - mean_absolute_error: 0.1188 - val_loss: 0.1279 - val_mean_absolute_error: 0.1279\n",
      "Epoch 63/500\n",
      "34/34 [==============================] - 0s 3ms/step - loss: 0.1242 - mean_absolute_error: 0.1242 - val_loss: 0.1595 - val_mean_absolute_error: 0.1595\n",
      "Epoch 64/500\n",
      "34/34 [==============================] - 0s 3ms/step - loss: 0.1379 - mean_absolute_error: 0.1379 - val_loss: 0.1250 - val_mean_absolute_error: 0.1250\n",
      "Epoch 65/500\n",
      "34/34 [==============================] - 0s 3ms/step - loss: 0.1108 - mean_absolute_error: 0.1108 - val_loss: 0.1561 - val_mean_absolute_error: 0.1561\n",
      "Epoch 66/500\n",
      "34/34 [==============================] - 0s 3ms/step - loss: 0.1265 - mean_absolute_error: 0.1265 - val_loss: 0.1756 - val_mean_absolute_error: 0.1756\n",
      "Epoch 67/500\n",
      "34/34 [==============================] - 0s 3ms/step - loss: 0.1228 - mean_absolute_error: 0.1228 - val_loss: 0.1432 - val_mean_absolute_error: 0.1432\n",
      "Epoch 68/500\n",
      "34/34 [==============================] - 0s 3ms/step - loss: 0.1116 - mean_absolute_error: 0.1116 - val_loss: 0.1278 - val_mean_absolute_error: 0.1278\n",
      "Epoch 69/500\n",
      "34/34 [==============================] - 0s 3ms/step - loss: 0.1155 - mean_absolute_error: 0.1155 - val_loss: 0.1102 - val_mean_absolute_error: 0.1102\n",
      "Epoch 70/500\n",
      "34/34 [==============================] - 0s 3ms/step - loss: 0.1073 - mean_absolute_error: 0.1073 - val_loss: 0.1196 - val_mean_absolute_error: 0.1196\n",
      "Epoch 71/500\n",
      "34/34 [==============================] - 0s 3ms/step - loss: 0.0976 - mean_absolute_error: 0.0976 - val_loss: 0.1286 - val_mean_absolute_error: 0.1286\n",
      "Epoch 72/500\n",
      "34/34 [==============================] - 0s 5ms/step - loss: 0.1010 - mean_absolute_error: 0.1010 - val_loss: 0.1320 - val_mean_absolute_error: 0.1320\n",
      "Epoch 73/500\n",
      "34/34 [==============================] - 0s 3ms/step - loss: 0.1068 - mean_absolute_error: 0.1068 - val_loss: 0.1236 - val_mean_absolute_error: 0.1236\n",
      "Epoch 74/500\n",
      "34/34 [==============================] - 0s 3ms/step - loss: 0.1038 - mean_absolute_error: 0.1038 - val_loss: 0.1254 - val_mean_absolute_error: 0.1254\n",
      "Epoch 75/500\n",
      "34/34 [==============================] - 0s 3ms/step - loss: 0.1049 - mean_absolute_error: 0.1049 - val_loss: 0.1265 - val_mean_absolute_error: 0.1265\n",
      "Epoch 76/500\n",
      "34/34 [==============================] - 0s 3ms/step - loss: 0.1121 - mean_absolute_error: 0.1121 - val_loss: 0.1432 - val_mean_absolute_error: 0.1432\n",
      "Epoch 77/500\n",
      "34/34 [==============================] - 0s 3ms/step - loss: 0.1077 - mean_absolute_error: 0.1077 - val_loss: 0.1096 - val_mean_absolute_error: 0.1096\n",
      "Epoch 78/500\n",
      "34/34 [==============================] - 0s 3ms/step - loss: 0.1173 - mean_absolute_error: 0.1173 - val_loss: 0.1319 - val_mean_absolute_error: 0.1319\n",
      "Epoch 79/500\n",
      "34/34 [==============================] - 0s 3ms/step - loss: 0.1117 - mean_absolute_error: 0.1117 - val_loss: 0.1211 - val_mean_absolute_error: 0.1211\n",
      "Epoch 80/500\n",
      "34/34 [==============================] - 0s 3ms/step - loss: 0.1254 - mean_absolute_error: 0.1254 - val_loss: 0.1259 - val_mean_absolute_error: 0.1259\n",
      "Epoch 81/500\n",
      "34/34 [==============================] - 0s 3ms/step - loss: 0.1048 - mean_absolute_error: 0.1048 - val_loss: 0.1053 - val_mean_absolute_error: 0.1053\n",
      "Epoch 82/500\n",
      "34/34 [==============================] - 0s 3ms/step - loss: 0.0993 - mean_absolute_error: 0.0993 - val_loss: 0.1066 - val_mean_absolute_error: 0.1066\n",
      "Epoch 83/500\n",
      "34/34 [==============================] - 0s 3ms/step - loss: 0.0961 - mean_absolute_error: 0.0961 - val_loss: 0.1291 - val_mean_absolute_error: 0.1291\n",
      "Epoch 84/500\n",
      "34/34 [==============================] - 0s 3ms/step - loss: 0.1144 - mean_absolute_error: 0.1144 - val_loss: 0.1488 - val_mean_absolute_error: 0.1488\n",
      "Epoch 85/500\n",
      "34/34 [==============================] - 0s 3ms/step - loss: 0.1096 - mean_absolute_error: 0.1096 - val_loss: 0.1135 - val_mean_absolute_error: 0.1135\n",
      "Epoch 86/500\n",
      "34/34 [==============================] - 0s 5ms/step - loss: 0.1044 - mean_absolute_error: 0.1044 - val_loss: 0.1343 - val_mean_absolute_error: 0.1343\n",
      "Epoch 87/500\n",
      "34/34 [==============================] - 0s 3ms/step - loss: 0.1083 - mean_absolute_error: 0.1083 - val_loss: 0.1628 - val_mean_absolute_error: 0.1628\n",
      "Epoch 88/500\n",
      "34/34 [==============================] - 0s 3ms/step - loss: 0.1257 - mean_absolute_error: 0.1257 - val_loss: 0.1108 - val_mean_absolute_error: 0.1108\n",
      "Epoch 89/500\n",
      "34/34 [==============================] - 0s 3ms/step - loss: 0.1024 - mean_absolute_error: 0.1024 - val_loss: 0.1067 - val_mean_absolute_error: 0.1067\n",
      "Epoch 90/500\n",
      "34/34 [==============================] - 0s 3ms/step - loss: 0.1159 - mean_absolute_error: 0.1159 - val_loss: 0.1123 - val_mean_absolute_error: 0.1123\n",
      "Epoch 91/500\n",
      "34/34 [==============================] - 0s 3ms/step - loss: 0.1058 - mean_absolute_error: 0.1058 - val_loss: 0.1090 - val_mean_absolute_error: 0.1090\n",
      "Epoch 92/500\n",
      "34/34 [==============================] - 0s 3ms/step - loss: 0.1025 - mean_absolute_error: 0.1025 - val_loss: 0.1175 - val_mean_absolute_error: 0.1175\n",
      "Epoch 93/500\n",
      "34/34 [==============================] - 0s 3ms/step - loss: 0.1220 - mean_absolute_error: 0.1220 - val_loss: 0.1244 - val_mean_absolute_error: 0.1244\n",
      "Epoch 94/500\n",
      "34/34 [==============================] - 0s 3ms/step - loss: 0.1199 - mean_absolute_error: 0.1199 - val_loss: 0.1271 - val_mean_absolute_error: 0.1271\n",
      "Epoch 95/500\n",
      "34/34 [==============================] - 0s 3ms/step - loss: 0.1148 - mean_absolute_error: 0.1148 - val_loss: 0.1325 - val_mean_absolute_error: 0.1325\n",
      "Epoch 96/500\n",
      "34/34 [==============================] - 0s 3ms/step - loss: 0.0962 - mean_absolute_error: 0.0962 - val_loss: 0.1474 - val_mean_absolute_error: 0.1474\n",
      "Epoch 97/500\n",
      "34/34 [==============================] - 0s 3ms/step - loss: 0.1117 - mean_absolute_error: 0.1117 - val_loss: 0.1073 - val_mean_absolute_error: 0.1073\n",
      "Epoch 98/500\n",
      "34/34 [==============================] - 0s 3ms/step - loss: 0.1021 - mean_absolute_error: 0.1021 - val_loss: 0.1501 - val_mean_absolute_error: 0.1501\n",
      "Epoch 99/500\n",
      "34/34 [==============================] - 0s 3ms/step - loss: 0.1143 - mean_absolute_error: 0.1143 - val_loss: 0.1148 - val_mean_absolute_error: 0.1148\n",
      "Epoch 100/500\n",
      "34/34 [==============================] - 0s 3ms/step - loss: 0.1004 - mean_absolute_error: 0.1004 - val_loss: 0.1119 - val_mean_absolute_error: 0.1119\n",
      "Epoch 101/500\n"
     ]
    },
    {
     "name": "stdout",
     "output_type": "stream",
     "text": [
      "34/34 [==============================] - 0s 3ms/step - loss: 0.1197 - mean_absolute_error: 0.1197 - val_loss: 0.1465 - val_mean_absolute_error: 0.1465\n",
      "Epoch 102/500\n",
      "34/34 [==============================] - 0s 3ms/step - loss: 0.1100 - mean_absolute_error: 0.1100 - val_loss: 0.1193 - val_mean_absolute_error: 0.1193\n",
      "Epoch 103/500\n",
      "34/34 [==============================] - 0s 3ms/step - loss: 0.1030 - mean_absolute_error: 0.1030 - val_loss: 0.1051 - val_mean_absolute_error: 0.1051\n",
      "Epoch 104/500\n",
      "34/34 [==============================] - 0s 3ms/step - loss: 0.0898 - mean_absolute_error: 0.0898 - val_loss: 0.1105 - val_mean_absolute_error: 0.1105\n",
      "Epoch 105/500\n",
      "34/34 [==============================] - 0s 3ms/step - loss: 0.0996 - mean_absolute_error: 0.0996 - val_loss: 0.1182 - val_mean_absolute_error: 0.1182\n",
      "Epoch 106/500\n",
      "34/34 [==============================] - 0s 3ms/step - loss: 0.1084 - mean_absolute_error: 0.1084 - val_loss: 0.1245 - val_mean_absolute_error: 0.1245\n",
      "Epoch 107/500\n",
      "34/34 [==============================] - 0s 3ms/step - loss: 0.1052 - mean_absolute_error: 0.1052 - val_loss: 0.1240 - val_mean_absolute_error: 0.1240\n",
      "Epoch 108/500\n",
      "34/34 [==============================] - 0s 3ms/step - loss: 0.1135 - mean_absolute_error: 0.1135 - val_loss: 0.1178 - val_mean_absolute_error: 0.1178\n",
      "Epoch 109/500\n",
      "34/34 [==============================] - 0s 3ms/step - loss: 0.0946 - mean_absolute_error: 0.0946 - val_loss: 0.1086 - val_mean_absolute_error: 0.1086\n",
      "Epoch 110/500\n",
      "34/34 [==============================] - 0s 3ms/step - loss: 0.1014 - mean_absolute_error: 0.1014 - val_loss: 0.1213 - val_mean_absolute_error: 0.1213\n",
      "Epoch 111/500\n",
      "34/34 [==============================] - 0s 6ms/step - loss: 0.0952 - mean_absolute_error: 0.0952 - val_loss: 0.1157 - val_mean_absolute_error: 0.1157\n",
      "Epoch 112/500\n",
      "34/34 [==============================] - 0s 3ms/step - loss: 0.1093 - mean_absolute_error: 0.1093 - val_loss: 0.1118 - val_mean_absolute_error: 0.1118\n",
      "Epoch 113/500\n",
      "34/34 [==============================] - 0s 3ms/step - loss: 0.0995 - mean_absolute_error: 0.0995 - val_loss: 0.1218 - val_mean_absolute_error: 0.1218\n",
      "Epoch 114/500\n",
      "34/34 [==============================] - 0s 3ms/step - loss: 0.1029 - mean_absolute_error: 0.1029 - val_loss: 0.1129 - val_mean_absolute_error: 0.1129\n",
      "Epoch 115/500\n",
      "34/34 [==============================] - 0s 3ms/step - loss: 0.1068 - mean_absolute_error: 0.1068 - val_loss: 0.1137 - val_mean_absolute_error: 0.1137\n",
      "Epoch 116/500\n",
      "34/34 [==============================] - 0s 3ms/step - loss: 0.1014 - mean_absolute_error: 0.1014 - val_loss: 0.1104 - val_mean_absolute_error: 0.1104\n",
      "Epoch 117/500\n",
      "34/34 [==============================] - 0s 3ms/step - loss: 0.0973 - mean_absolute_error: 0.0973 - val_loss: 0.1118 - val_mean_absolute_error: 0.1118\n",
      "Epoch 118/500\n",
      "34/34 [==============================] - 0s 3ms/step - loss: 0.1023 - mean_absolute_error: 0.1023 - val_loss: 0.1610 - val_mean_absolute_error: 0.1610\n",
      "Epoch 119/500\n",
      "34/34 [==============================] - 0s 3ms/step - loss: 0.1157 - mean_absolute_error: 0.1157 - val_loss: 0.1178 - val_mean_absolute_error: 0.1178\n",
      "Epoch 120/500\n",
      "34/34 [==============================] - 0s 3ms/step - loss: 0.1004 - mean_absolute_error: 0.1004 - val_loss: 0.1126 - val_mean_absolute_error: 0.1126\n",
      "Epoch 121/500\n",
      "34/34 [==============================] - 0s 3ms/step - loss: 0.0923 - mean_absolute_error: 0.0923 - val_loss: 0.1087 - val_mean_absolute_error: 0.1087\n",
      "Epoch 122/500\n",
      "34/34 [==============================] - 0s 3ms/step - loss: 0.1008 - mean_absolute_error: 0.1008 - val_loss: 0.1178 - val_mean_absolute_error: 0.1178\n",
      "Epoch 123/500\n",
      "34/34 [==============================] - 0s 3ms/step - loss: 0.0964 - mean_absolute_error: 0.0964 - val_loss: 0.1082 - val_mean_absolute_error: 0.1082\n",
      "Epoch 124/500\n",
      "34/34 [==============================] - 0s 3ms/step - loss: 0.0930 - mean_absolute_error: 0.0930 - val_loss: 0.1020 - val_mean_absolute_error: 0.1020\n",
      "Epoch 125/500\n",
      "34/34 [==============================] - 0s 3ms/step - loss: 0.0943 - mean_absolute_error: 0.0943 - val_loss: 0.1227 - val_mean_absolute_error: 0.1227\n",
      "Epoch 126/500\n",
      "34/34 [==============================] - 0s 3ms/step - loss: 0.1244 - mean_absolute_error: 0.1244 - val_loss: 0.1305 - val_mean_absolute_error: 0.1305\n",
      "Epoch 127/500\n",
      "34/34 [==============================] - 0s 3ms/step - loss: 0.0943 - mean_absolute_error: 0.0943 - val_loss: 0.1382 - val_mean_absolute_error: 0.1382\n",
      "Epoch 128/500\n",
      "34/34 [==============================] - 0s 3ms/step - loss: 0.1100 - mean_absolute_error: 0.1100 - val_loss: 0.1116 - val_mean_absolute_error: 0.1116\n",
      "Epoch 129/500\n",
      "34/34 [==============================] - 0s 3ms/step - loss: 0.0858 - mean_absolute_error: 0.0858 - val_loss: 0.1085 - val_mean_absolute_error: 0.1085\n",
      "Epoch 130/500\n",
      "34/34 [==============================] - 0s 5ms/step - loss: 0.0905 - mean_absolute_error: 0.0905 - val_loss: 0.1073 - val_mean_absolute_error: 0.1073\n",
      "Epoch 131/500\n",
      "34/34 [==============================] - 0s 3ms/step - loss: 0.0931 - mean_absolute_error: 0.0931 - val_loss: 0.1077 - val_mean_absolute_error: 0.1077\n",
      "Epoch 132/500\n",
      "34/34 [==============================] - 0s 3ms/step - loss: 0.1007 - mean_absolute_error: 0.1007 - val_loss: 0.1104 - val_mean_absolute_error: 0.1104\n",
      "Epoch 133/500\n",
      "34/34 [==============================] - 0s 3ms/step - loss: 0.1080 - mean_absolute_error: 0.1080 - val_loss: 0.1161 - val_mean_absolute_error: 0.1161\n",
      "Epoch 134/500\n",
      "34/34 [==============================] - 0s 3ms/step - loss: 0.1119 - mean_absolute_error: 0.1119 - val_loss: 0.1279 - val_mean_absolute_error: 0.1279\n",
      "Epoch 135/500\n",
      "34/34 [==============================] - 0s 3ms/step - loss: 0.1064 - mean_absolute_error: 0.1064 - val_loss: 0.1244 - val_mean_absolute_error: 0.1244\n",
      "Epoch 136/500\n",
      "34/34 [==============================] - 0s 3ms/step - loss: 0.1018 - mean_absolute_error: 0.1018 - val_loss: 0.1160 - val_mean_absolute_error: 0.1160\n",
      "Epoch 137/500\n",
      "34/34 [==============================] - 0s 3ms/step - loss: 0.1220 - mean_absolute_error: 0.1220 - val_loss: 0.1173 - val_mean_absolute_error: 0.1173\n",
      "Epoch 138/500\n",
      "34/34 [==============================] - 0s 3ms/step - loss: 0.1136 - mean_absolute_error: 0.1136 - val_loss: 0.1384 - val_mean_absolute_error: 0.1384\n",
      "Epoch 139/500\n",
      "34/34 [==============================] - 0s 3ms/step - loss: 0.1239 - mean_absolute_error: 0.1239 - val_loss: 0.1244 - val_mean_absolute_error: 0.1244\n",
      "Epoch 140/500\n",
      "34/34 [==============================] - 0s 3ms/step - loss: 0.1028 - mean_absolute_error: 0.1028 - val_loss: 0.1077 - val_mean_absolute_error: 0.1077\n",
      "Epoch 141/500\n",
      "34/34 [==============================] - 0s 3ms/step - loss: 0.0864 - mean_absolute_error: 0.0864 - val_loss: 0.1100 - val_mean_absolute_error: 0.1100\n",
      "Epoch 142/500\n",
      "34/34 [==============================] - 0s 3ms/step - loss: 0.0862 - mean_absolute_error: 0.0862 - val_loss: 0.1221 - val_mean_absolute_error: 0.1221\n",
      "Epoch 143/500\n",
      "34/34 [==============================] - 0s 3ms/step - loss: 0.0968 - mean_absolute_error: 0.0968 - val_loss: 0.1367 - val_mean_absolute_error: 0.1367\n",
      "Epoch 144/500\n",
      "34/34 [==============================] - 0s 3ms/step - loss: 0.0967 - mean_absolute_error: 0.0967 - val_loss: 0.1162 - val_mean_absolute_error: 0.1162\n",
      "Epoch 145/500\n",
      "34/34 [==============================] - 0s 3ms/step - loss: 0.0925 - mean_absolute_error: 0.0925 - val_loss: 0.1253 - val_mean_absolute_error: 0.1253\n",
      "Epoch 146/500\n",
      "34/34 [==============================] - 0s 3ms/step - loss: 0.1089 - mean_absolute_error: 0.1089 - val_loss: 0.1197 - val_mean_absolute_error: 0.1197\n",
      "Epoch 147/500\n",
      "34/34 [==============================] - 0s 6ms/step - loss: 0.0941 - mean_absolute_error: 0.0941 - val_loss: 0.1260 - val_mean_absolute_error: 0.1260\n",
      "Epoch 148/500\n",
      "34/34 [==============================] - 0s 3ms/step - loss: 0.0880 - mean_absolute_error: 0.0880 - val_loss: 0.1188 - val_mean_absolute_error: 0.1188\n",
      "Epoch 149/500\n",
      "34/34 [==============================] - 0s 3ms/step - loss: 0.0875 - mean_absolute_error: 0.0875 - val_loss: 0.1216 - val_mean_absolute_error: 0.1216\n",
      "Epoch 150/500\n",
      "34/34 [==============================] - 0s 3ms/step - loss: 0.0889 - mean_absolute_error: 0.0889 - val_loss: 0.1109 - val_mean_absolute_error: 0.1109\n"
     ]
    },
    {
     "name": "stdout",
     "output_type": "stream",
     "text": [
      "Epoch 151/500\n",
      "34/34 [==============================] - 0s 3ms/step - loss: 0.1058 - mean_absolute_error: 0.1058 - val_loss: 0.1462 - val_mean_absolute_error: 0.1462\n",
      "Epoch 152/500\n",
      "34/34 [==============================] - 0s 3ms/step - loss: 0.0975 - mean_absolute_error: 0.0975 - val_loss: 0.1112 - val_mean_absolute_error: 0.1112\n",
      "Epoch 153/500\n",
      "34/34 [==============================] - 0s 3ms/step - loss: 0.0890 - mean_absolute_error: 0.0890 - val_loss: 0.1232 - val_mean_absolute_error: 0.1232\n",
      "Epoch 154/500\n",
      "34/34 [==============================] - 0s 3ms/step - loss: 0.0973 - mean_absolute_error: 0.0973 - val_loss: 0.1519 - val_mean_absolute_error: 0.1519\n",
      "Epoch 155/500\n",
      "34/34 [==============================] - 0s 3ms/step - loss: 0.1117 - mean_absolute_error: 0.1117 - val_loss: 0.1158 - val_mean_absolute_error: 0.1158\n",
      "Epoch 156/500\n",
      "34/34 [==============================] - 0s 3ms/step - loss: 0.0983 - mean_absolute_error: 0.0983 - val_loss: 0.1089 - val_mean_absolute_error: 0.1089\n",
      "Epoch 157/500\n",
      "34/34 [==============================] - 0s 3ms/step - loss: 0.0967 - mean_absolute_error: 0.0967 - val_loss: 0.1226 - val_mean_absolute_error: 0.1226\n",
      "Epoch 158/500\n",
      "34/34 [==============================] - 0s 3ms/step - loss: 0.0971 - mean_absolute_error: 0.0971 - val_loss: 0.1417 - val_mean_absolute_error: 0.1417\n",
      "Epoch 159/500\n",
      "34/34 [==============================] - 0s 3ms/step - loss: 0.1069 - mean_absolute_error: 0.1069 - val_loss: 0.1192 - val_mean_absolute_error: 0.1192\n",
      "Epoch 160/500\n",
      "34/34 [==============================] - 0s 3ms/step - loss: 0.1141 - mean_absolute_error: 0.1141 - val_loss: 0.1280 - val_mean_absolute_error: 0.1280\n",
      "Epoch 161/500\n",
      "34/34 [==============================] - 0s 5ms/step - loss: 0.0955 - mean_absolute_error: 0.0955 - val_loss: 0.1316 - val_mean_absolute_error: 0.1316\n",
      "Epoch 162/500\n",
      "34/34 [==============================] - 0s 3ms/step - loss: 0.0927 - mean_absolute_error: 0.0927 - val_loss: 0.1357 - val_mean_absolute_error: 0.1357\n",
      "Epoch 163/500\n",
      "34/34 [==============================] - 0s 3ms/step - loss: 0.0966 - mean_absolute_error: 0.0966 - val_loss: 0.1113 - val_mean_absolute_error: 0.1113\n",
      "Epoch 164/500\n",
      "34/34 [==============================] - 0s 3ms/step - loss: 0.0919 - mean_absolute_error: 0.0919 - val_loss: 0.1211 - val_mean_absolute_error: 0.1211\n",
      "Epoch 165/500\n",
      "34/34 [==============================] - 0s 3ms/step - loss: 0.0998 - mean_absolute_error: 0.0998 - val_loss: 0.1232 - val_mean_absolute_error: 0.1232\n",
      "Epoch 166/500\n",
      "34/34 [==============================] - 0s 3ms/step - loss: 0.0981 - mean_absolute_error: 0.0981 - val_loss: 0.1148 - val_mean_absolute_error: 0.1148\n",
      "Epoch 167/500\n",
      "34/34 [==============================] - 0s 3ms/step - loss: 0.0896 - mean_absolute_error: 0.0896 - val_loss: 0.1267 - val_mean_absolute_error: 0.1267\n",
      "Epoch 168/500\n",
      "34/34 [==============================] - 0s 3ms/step - loss: 0.0980 - mean_absolute_error: 0.0980 - val_loss: 0.1243 - val_mean_absolute_error: 0.1243\n",
      "Epoch 169/500\n",
      "34/34 [==============================] - 0s 3ms/step - loss: 0.0870 - mean_absolute_error: 0.0870 - val_loss: 0.1146 - val_mean_absolute_error: 0.1146\n",
      "Epoch 170/500\n",
      "34/34 [==============================] - 0s 3ms/step - loss: 0.0949 - mean_absolute_error: 0.0949 - val_loss: 0.1138 - val_mean_absolute_error: 0.1138\n",
      "Epoch 171/500\n",
      "34/34 [==============================] - 0s 3ms/step - loss: 0.0866 - mean_absolute_error: 0.0866 - val_loss: 0.1110 - val_mean_absolute_error: 0.1110\n",
      "Epoch 172/500\n",
      "34/34 [==============================] - 0s 3ms/step - loss: 0.0874 - mean_absolute_error: 0.0874 - val_loss: 0.1193 - val_mean_absolute_error: 0.1193\n",
      "Epoch 173/500\n",
      "34/34 [==============================] - 0s 3ms/step - loss: 0.0800 - mean_absolute_error: 0.0800 - val_loss: 0.1102 - val_mean_absolute_error: 0.1102\n",
      "Epoch 174/500\n",
      "34/34 [==============================] - 0s 3ms/step - loss: 0.0843 - mean_absolute_error: 0.0843 - val_loss: 0.1276 - val_mean_absolute_error: 0.1276\n",
      "Epoch 175/500\n",
      "34/34 [==============================] - 0s 3ms/step - loss: 0.0896 - mean_absolute_error: 0.0896 - val_loss: 0.1206 - val_mean_absolute_error: 0.1206\n",
      "Epoch 176/500\n",
      "34/34 [==============================] - 0s 3ms/step - loss: 0.0788 - mean_absolute_error: 0.0788 - val_loss: 0.1119 - val_mean_absolute_error: 0.1119\n",
      "Epoch 177/500\n",
      "34/34 [==============================] - 0s 3ms/step - loss: 0.0968 - mean_absolute_error: 0.0968 - val_loss: 0.1089 - val_mean_absolute_error: 0.1089\n",
      "Epoch 178/500\n",
      "34/34 [==============================] - 0s 3ms/step - loss: 0.0864 - mean_absolute_error: 0.0864 - val_loss: 0.1373 - val_mean_absolute_error: 0.1373\n",
      "Epoch 179/500\n",
      "34/34 [==============================] - 0s 3ms/step - loss: 0.0979 - mean_absolute_error: 0.0979 - val_loss: 0.1274 - val_mean_absolute_error: 0.1274\n",
      "Epoch 180/500\n",
      "34/34 [==============================] - 0s 3ms/step - loss: 0.0937 - mean_absolute_error: 0.0937 - val_loss: 0.1195 - val_mean_absolute_error: 0.1195\n",
      "Epoch 181/500\n",
      "34/34 [==============================] - 0s 3ms/step - loss: 0.0944 - mean_absolute_error: 0.0944 - val_loss: 0.1217 - val_mean_absolute_error: 0.1217\n",
      "Epoch 182/500\n",
      "34/34 [==============================] - 0s 3ms/step - loss: 0.0998 - mean_absolute_error: 0.0998 - val_loss: 0.1109 - val_mean_absolute_error: 0.1109\n",
      "Epoch 183/500\n",
      "34/34 [==============================] - 0s 3ms/step - loss: 0.0892 - mean_absolute_error: 0.0892 - val_loss: 0.1086 - val_mean_absolute_error: 0.1086\n",
      "Epoch 184/500\n",
      "34/34 [==============================] - 0s 3ms/step - loss: 0.0925 - mean_absolute_error: 0.0925 - val_loss: 0.1380 - val_mean_absolute_error: 0.1380\n",
      "Epoch 185/500\n",
      "34/34 [==============================] - 0s 3ms/step - loss: 0.0973 - mean_absolute_error: 0.0973 - val_loss: 0.1157 - val_mean_absolute_error: 0.1157\n",
      "Epoch 186/500\n",
      "34/34 [==============================] - 0s 5ms/step - loss: 0.0893 - mean_absolute_error: 0.0893 - val_loss: 0.1303 - val_mean_absolute_error: 0.1303\n",
      "Epoch 187/500\n",
      "34/34 [==============================] - 0s 2ms/step - loss: 0.0974 - mean_absolute_error: 0.0974 - val_loss: 0.1390 - val_mean_absolute_error: 0.1390\n",
      "Epoch 188/500\n",
      "34/34 [==============================] - 0s 3ms/step - loss: 0.0873 - mean_absolute_error: 0.0873 - val_loss: 0.1080 - val_mean_absolute_error: 0.1080\n",
      "Epoch 189/500\n",
      "34/34 [==============================] - 0s 2ms/step - loss: 0.0855 - mean_absolute_error: 0.0855 - val_loss: 0.1110 - val_mean_absolute_error: 0.1110\n",
      "Epoch 190/500\n",
      "34/34 [==============================] - 0s 3ms/step - loss: 0.0824 - mean_absolute_error: 0.0824 - val_loss: 0.1210 - val_mean_absolute_error: 0.1210\n",
      "Epoch 191/500\n",
      "34/34 [==============================] - 0s 3ms/step - loss: 0.1022 - mean_absolute_error: 0.1022 - val_loss: 0.1150 - val_mean_absolute_error: 0.1150\n",
      "Epoch 192/500\n",
      "34/34 [==============================] - 0s 3ms/step - loss: 0.0805 - mean_absolute_error: 0.0805 - val_loss: 0.1156 - val_mean_absolute_error: 0.1156\n",
      "Epoch 193/500\n",
      "34/34 [==============================] - 0s 3ms/step - loss: 0.0903 - mean_absolute_error: 0.0903 - val_loss: 0.1118 - val_mean_absolute_error: 0.1118\n",
      "Epoch 194/500\n",
      "34/34 [==============================] - 0s 3ms/step - loss: 0.0907 - mean_absolute_error: 0.0907 - val_loss: 0.1340 - val_mean_absolute_error: 0.1340\n",
      "Epoch 195/500\n",
      "34/34 [==============================] - 0s 3ms/step - loss: 0.0964 - mean_absolute_error: 0.0964 - val_loss: 0.1222 - val_mean_absolute_error: 0.1222\n",
      "Epoch 196/500\n",
      "34/34 [==============================] - 0s 3ms/step - loss: 0.0912 - mean_absolute_error: 0.0912 - val_loss: 0.1060 - val_mean_absolute_error: 0.1060\n",
      "Epoch 197/500\n",
      "34/34 [==============================] - 0s 3ms/step - loss: 0.0826 - mean_absolute_error: 0.0826 - val_loss: 0.1047 - val_mean_absolute_error: 0.1047\n",
      "Epoch 198/500\n",
      "34/34 [==============================] - 0s 3ms/step - loss: 0.0870 - mean_absolute_error: 0.0870 - val_loss: 0.1366 - val_mean_absolute_error: 0.1366\n",
      "Epoch 199/500\n",
      "34/34 [==============================] - 0s 3ms/step - loss: 0.0907 - mean_absolute_error: 0.0907 - val_loss: 0.1119 - val_mean_absolute_error: 0.1119\n",
      "Epoch 200/500\n",
      "34/34 [==============================] - 0s 3ms/step - loss: 0.0938 - mean_absolute_error: 0.0938 - val_loss: 0.1280 - val_mean_absolute_error: 0.1280\n"
     ]
    },
    {
     "name": "stdout",
     "output_type": "stream",
     "text": [
      "Epoch 201/500\n",
      "34/34 [==============================] - 0s 3ms/step - loss: 0.1034 - mean_absolute_error: 0.1034 - val_loss: 0.1139 - val_mean_absolute_error: 0.1139\n",
      "Epoch 202/500\n",
      "34/34 [==============================] - 0s 3ms/step - loss: 0.0905 - mean_absolute_error: 0.0905 - val_loss: 0.1119 - val_mean_absolute_error: 0.1119\n",
      "Epoch 203/500\n",
      "34/34 [==============================] - 0s 3ms/step - loss: 0.0829 - mean_absolute_error: 0.0829 - val_loss: 0.1064 - val_mean_absolute_error: 0.1064\n",
      "Epoch 204/500\n",
      "34/34 [==============================] - 0s 3ms/step - loss: 0.0879 - mean_absolute_error: 0.0879 - val_loss: 0.1059 - val_mean_absolute_error: 0.1059\n",
      "Epoch 205/500\n",
      "34/34 [==============================] - 0s 3ms/step - loss: 0.0880 - mean_absolute_error: 0.0880 - val_loss: 0.1147 - val_mean_absolute_error: 0.1147\n",
      "Epoch 206/500\n",
      "34/34 [==============================] - 0s 6ms/step - loss: 0.0797 - mean_absolute_error: 0.0797 - val_loss: 0.1219 - val_mean_absolute_error: 0.1219\n",
      "Epoch 207/500\n",
      "34/34 [==============================] - 0s 3ms/step - loss: 0.1066 - mean_absolute_error: 0.1066 - val_loss: 0.1517 - val_mean_absolute_error: 0.1517\n",
      "Epoch 208/500\n",
      "34/34 [==============================] - 0s 3ms/step - loss: 0.1021 - mean_absolute_error: 0.1021 - val_loss: 0.1283 - val_mean_absolute_error: 0.1283\n",
      "Epoch 209/500\n",
      "34/34 [==============================] - 0s 3ms/step - loss: 0.0915 - mean_absolute_error: 0.0915 - val_loss: 0.1067 - val_mean_absolute_error: 0.1067\n",
      "Epoch 210/500\n",
      "34/34 [==============================] - 0s 3ms/step - loss: 0.0790 - mean_absolute_error: 0.0790 - val_loss: 0.1565 - val_mean_absolute_error: 0.1565\n",
      "Epoch 211/500\n",
      "34/34 [==============================] - 0s 3ms/step - loss: 0.1039 - mean_absolute_error: 0.1039 - val_loss: 0.1333 - val_mean_absolute_error: 0.1333\n",
      "Epoch 212/500\n",
      "34/34 [==============================] - 0s 3ms/step - loss: 0.0904 - mean_absolute_error: 0.0904 - val_loss: 0.1160 - val_mean_absolute_error: 0.1160\n",
      "Epoch 213/500\n",
      "34/34 [==============================] - 0s 3ms/step - loss: 0.0857 - mean_absolute_error: 0.0857 - val_loss: 0.1189 - val_mean_absolute_error: 0.1189\n",
      "Epoch 214/500\n",
      "34/34 [==============================] - 0s 3ms/step - loss: 0.0829 - mean_absolute_error: 0.0829 - val_loss: 0.1166 - val_mean_absolute_error: 0.1166\n",
      "Epoch 215/500\n",
      "34/34 [==============================] - 0s 3ms/step - loss: 0.0883 - mean_absolute_error: 0.0883 - val_loss: 0.1626 - val_mean_absolute_error: 0.1626\n",
      "Epoch 216/500\n",
      "34/34 [==============================] - 0s 3ms/step - loss: 0.1097 - mean_absolute_error: 0.1097 - val_loss: 0.1105 - val_mean_absolute_error: 0.1105\n",
      "Epoch 217/500\n",
      "34/34 [==============================] - 0s 3ms/step - loss: 0.1013 - mean_absolute_error: 0.1013 - val_loss: 0.1074 - val_mean_absolute_error: 0.1074\n",
      "Epoch 218/500\n",
      "34/34 [==============================] - 0s 3ms/step - loss: 0.0787 - mean_absolute_error: 0.0787 - val_loss: 0.1019 - val_mean_absolute_error: 0.1019\n",
      "Epoch 219/500\n",
      "34/34 [==============================] - 0s 3ms/step - loss: 0.0783 - mean_absolute_error: 0.0783 - val_loss: 0.1172 - val_mean_absolute_error: 0.1172\n",
      "Epoch 220/500\n",
      "34/34 [==============================] - 0s 3ms/step - loss: 0.0873 - mean_absolute_error: 0.0873 - val_loss: 0.1038 - val_mean_absolute_error: 0.1038\n",
      "Epoch 221/500\n",
      "34/34 [==============================] - 0s 3ms/step - loss: 0.0789 - mean_absolute_error: 0.0789 - val_loss: 0.1124 - val_mean_absolute_error: 0.1124\n",
      "Epoch 222/500\n",
      "34/34 [==============================] - 0s 6ms/step - loss: 0.0981 - mean_absolute_error: 0.0981 - val_loss: 0.1369 - val_mean_absolute_error: 0.1369\n",
      "Epoch 223/500\n",
      "34/34 [==============================] - 0s 3ms/step - loss: 0.0948 - mean_absolute_error: 0.0948 - val_loss: 0.1138 - val_mean_absolute_error: 0.1138\n",
      "Epoch 224/500\n",
      "34/34 [==============================] - 0s 3ms/step - loss: 0.0890 - mean_absolute_error: 0.0890 - val_loss: 0.1077 - val_mean_absolute_error: 0.1077\n",
      "Epoch 225/500\n",
      "34/34 [==============================] - 0s 3ms/step - loss: 0.0791 - mean_absolute_error: 0.0791 - val_loss: 0.1717 - val_mean_absolute_error: 0.1717\n",
      "Epoch 226/500\n",
      "34/34 [==============================] - 0s 3ms/step - loss: 0.1054 - mean_absolute_error: 0.1054 - val_loss: 0.1077 - val_mean_absolute_error: 0.1077\n",
      "Epoch 227/500\n",
      "34/34 [==============================] - 0s 3ms/step - loss: 0.0756 - mean_absolute_error: 0.0756 - val_loss: 0.1065 - val_mean_absolute_error: 0.1065\n",
      "Epoch 228/500\n",
      "34/34 [==============================] - 0s 3ms/step - loss: 0.0764 - mean_absolute_error: 0.0764 - val_loss: 0.1139 - val_mean_absolute_error: 0.1139\n",
      "Epoch 229/500\n",
      "34/34 [==============================] - 0s 3ms/step - loss: 0.0754 - mean_absolute_error: 0.0754 - val_loss: 0.1304 - val_mean_absolute_error: 0.1304\n",
      "Epoch 230/500\n",
      "34/34 [==============================] - 0s 3ms/step - loss: 0.0884 - mean_absolute_error: 0.0884 - val_loss: 0.1308 - val_mean_absolute_error: 0.1308\n",
      "Epoch 231/500\n",
      "34/34 [==============================] - 0s 3ms/step - loss: 0.0797 - mean_absolute_error: 0.0797 - val_loss: 0.1215 - val_mean_absolute_error: 0.1215\n",
      "Epoch 232/500\n",
      "34/34 [==============================] - 0s 3ms/step - loss: 0.0861 - mean_absolute_error: 0.0861 - val_loss: 0.1063 - val_mean_absolute_error: 0.1063\n",
      "Epoch 233/500\n",
      "34/34 [==============================] - 0s 3ms/step - loss: 0.0759 - mean_absolute_error: 0.0759 - val_loss: 0.1059 - val_mean_absolute_error: 0.1059\n",
      "Epoch 234/500\n",
      "34/34 [==============================] - 0s 3ms/step - loss: 0.0724 - mean_absolute_error: 0.0724 - val_loss: 0.1202 - val_mean_absolute_error: 0.1202\n",
      "Epoch 235/500\n",
      "34/34 [==============================] - 0s 2ms/step - loss: 0.0931 - mean_absolute_error: 0.0931 - val_loss: 0.1415 - val_mean_absolute_error: 0.1415\n",
      "Epoch 236/500\n",
      "34/34 [==============================] - 0s 3ms/step - loss: 0.1082 - mean_absolute_error: 0.1082 - val_loss: 0.1107 - val_mean_absolute_error: 0.1107\n",
      "Epoch 237/500\n",
      "34/34 [==============================] - 0s 5ms/step - loss: 0.0781 - mean_absolute_error: 0.0781 - val_loss: 0.1055 - val_mean_absolute_error: 0.1055\n",
      "Epoch 238/500\n",
      "34/34 [==============================] - 0s 3ms/step - loss: 0.0833 - mean_absolute_error: 0.0833 - val_loss: 0.1117 - val_mean_absolute_error: 0.1117\n",
      "Epoch 239/500\n",
      "34/34 [==============================] - 0s 3ms/step - loss: 0.0798 - mean_absolute_error: 0.0798 - val_loss: 0.1336 - val_mean_absolute_error: 0.1336\n",
      "Epoch 240/500\n",
      "34/34 [==============================] - 0s 3ms/step - loss: 0.0799 - mean_absolute_error: 0.0799 - val_loss: 0.1134 - val_mean_absolute_error: 0.1134\n",
      "Epoch 241/500\n",
      "34/34 [==============================] - 0s 3ms/step - loss: 0.0789 - mean_absolute_error: 0.0789 - val_loss: 0.1283 - val_mean_absolute_error: 0.1283\n",
      "Epoch 242/500\n",
      "34/34 [==============================] - 0s 3ms/step - loss: 0.0846 - mean_absolute_error: 0.0846 - val_loss: 0.1226 - val_mean_absolute_error: 0.1226\n",
      "Epoch 243/500\n",
      "34/34 [==============================] - 0s 3ms/step - loss: 0.0841 - mean_absolute_error: 0.0841 - val_loss: 0.1140 - val_mean_absolute_error: 0.1140\n",
      "Epoch 244/500\n",
      "34/34 [==============================] - 0s 3ms/step - loss: 0.0841 - mean_absolute_error: 0.0841 - val_loss: 0.1258 - val_mean_absolute_error: 0.1258\n",
      "Epoch 245/500\n",
      "34/34 [==============================] - 0s 3ms/step - loss: 0.0840 - mean_absolute_error: 0.0840 - val_loss: 0.1162 - val_mean_absolute_error: 0.1162\n",
      "Epoch 246/500\n",
      "34/34 [==============================] - 0s 3ms/step - loss: 0.0992 - mean_absolute_error: 0.0992 - val_loss: 0.1158 - val_mean_absolute_error: 0.1158\n",
      "Epoch 247/500\n",
      "34/34 [==============================] - 0s 3ms/step - loss: 0.0883 - mean_absolute_error: 0.0883 - val_loss: 0.1122 - val_mean_absolute_error: 0.1122\n",
      "Epoch 248/500\n",
      "34/34 [==============================] - 0s 3ms/step - loss: 0.0967 - mean_absolute_error: 0.0967 - val_loss: 0.1059 - val_mean_absolute_error: 0.1059\n",
      "Epoch 249/500\n",
      "34/34 [==============================] - 0s 3ms/step - loss: 0.0791 - mean_absolute_error: 0.0791 - val_loss: 0.1164 - val_mean_absolute_error: 0.1164\n",
      "Epoch 250/500\n",
      "34/34 [==============================] - 0s 3ms/step - loss: 0.0839 - mean_absolute_error: 0.0839 - val_loss: 0.1074 - val_mean_absolute_error: 0.1074\n"
     ]
    },
    {
     "name": "stdout",
     "output_type": "stream",
     "text": [
      "Epoch 251/500\n",
      "34/34 [==============================] - 0s 3ms/step - loss: 0.0836 - mean_absolute_error: 0.0836 - val_loss: 0.1172 - val_mean_absolute_error: 0.1172\n",
      "Epoch 252/500\n",
      "34/34 [==============================] - 0s 3ms/step - loss: 0.0738 - mean_absolute_error: 0.0738 - val_loss: 0.1205 - val_mean_absolute_error: 0.1205\n",
      "Epoch 253/500\n",
      "34/34 [==============================] - 0s 3ms/step - loss: 0.0860 - mean_absolute_error: 0.0860 - val_loss: 0.1123 - val_mean_absolute_error: 0.1123\n",
      "Epoch 254/500\n",
      "34/34 [==============================] - 0s 2ms/step - loss: 0.0830 - mean_absolute_error: 0.0830 - val_loss: 0.1173 - val_mean_absolute_error: 0.1173\n",
      "Epoch 255/500\n",
      "34/34 [==============================] - 0s 3ms/step - loss: 0.0967 - mean_absolute_error: 0.0967 - val_loss: 0.1228 - val_mean_absolute_error: 0.1228\n",
      "Epoch 256/500\n",
      "34/34 [==============================] - 0s 3ms/step - loss: 0.0911 - mean_absolute_error: 0.0911 - val_loss: 0.1093 - val_mean_absolute_error: 0.1093\n",
      "Epoch 257/500\n",
      "34/34 [==============================] - 0s 3ms/step - loss: 0.0773 - mean_absolute_error: 0.0773 - val_loss: 0.1126 - val_mean_absolute_error: 0.1126\n",
      "Epoch 258/500\n",
      "34/34 [==============================] - 0s 3ms/step - loss: 0.0676 - mean_absolute_error: 0.0676 - val_loss: 0.1203 - val_mean_absolute_error: 0.1203\n",
      "Epoch 259/500\n",
      "34/34 [==============================] - 0s 3ms/step - loss: 0.0753 - mean_absolute_error: 0.0753 - val_loss: 0.1059 - val_mean_absolute_error: 0.1059\n",
      "Epoch 260/500\n",
      "34/34 [==============================] - 0s 3ms/step - loss: 0.0706 - mean_absolute_error: 0.0706 - val_loss: 0.1502 - val_mean_absolute_error: 0.1502\n",
      "Epoch 261/500\n",
      "34/34 [==============================] - 0s 5ms/step - loss: 0.0956 - mean_absolute_error: 0.0956 - val_loss: 0.1082 - val_mean_absolute_error: 0.1082\n",
      "Epoch 262/500\n",
      "34/34 [==============================] - 0s 3ms/step - loss: 0.0952 - mean_absolute_error: 0.0952 - val_loss: 0.1142 - val_mean_absolute_error: 0.1142\n",
      "Epoch 263/500\n",
      "34/34 [==============================] - 0s 3ms/step - loss: 0.0783 - mean_absolute_error: 0.0783 - val_loss: 0.1047 - val_mean_absolute_error: 0.1047\n",
      "Epoch 264/500\n",
      "34/34 [==============================] - 0s 3ms/step - loss: 0.0776 - mean_absolute_error: 0.0776 - val_loss: 0.1032 - val_mean_absolute_error: 0.1032\n",
      "Epoch 265/500\n",
      "34/34 [==============================] - 0s 3ms/step - loss: 0.0838 - mean_absolute_error: 0.0838 - val_loss: 0.1110 - val_mean_absolute_error: 0.1110\n",
      "Epoch 266/500\n",
      "34/34 [==============================] - 0s 3ms/step - loss: 0.0793 - mean_absolute_error: 0.0793 - val_loss: 0.1152 - val_mean_absolute_error: 0.1152\n",
      "Epoch 267/500\n",
      "34/34 [==============================] - 0s 3ms/step - loss: 0.0717 - mean_absolute_error: 0.0717 - val_loss: 0.1128 - val_mean_absolute_error: 0.1128\n",
      "Epoch 268/500\n",
      "34/34 [==============================] - 0s 3ms/step - loss: 0.0746 - mean_absolute_error: 0.0746 - val_loss: 0.1145 - val_mean_absolute_error: 0.1145\n",
      "Epoch 269/500\n",
      "34/34 [==============================] - 0s 3ms/step - loss: 0.0788 - mean_absolute_error: 0.0788 - val_loss: 0.1127 - val_mean_absolute_error: 0.1127\n",
      "Epoch 270/500\n",
      "34/34 [==============================] - 0s 3ms/step - loss: 0.0701 - mean_absolute_error: 0.0701 - val_loss: 0.1362 - val_mean_absolute_error: 0.1362\n",
      "Epoch 271/500\n",
      "34/34 [==============================] - 0s 3ms/step - loss: 0.0890 - mean_absolute_error: 0.0890 - val_loss: 0.1094 - val_mean_absolute_error: 0.1094\n",
      "Epoch 272/500\n",
      "34/34 [==============================] - 0s 3ms/step - loss: 0.0881 - mean_absolute_error: 0.0881 - val_loss: 0.1259 - val_mean_absolute_error: 0.1259\n",
      "Epoch 273/500\n",
      "34/34 [==============================] - 0s 3ms/step - loss: 0.0884 - mean_absolute_error: 0.0884 - val_loss: 0.1118 - val_mean_absolute_error: 0.1118\n",
      "Epoch 274/500\n",
      "34/34 [==============================] - 0s 3ms/step - loss: 0.0747 - mean_absolute_error: 0.0747 - val_loss: 0.1298 - val_mean_absolute_error: 0.1298\n",
      "Epoch 275/500\n",
      "34/34 [==============================] - 0s 3ms/step - loss: 0.0795 - mean_absolute_error: 0.0795 - val_loss: 0.1244 - val_mean_absolute_error: 0.1244\n",
      "Epoch 276/500\n",
      "34/34 [==============================] - 0s 3ms/step - loss: 0.1022 - mean_absolute_error: 0.1022 - val_loss: 0.1129 - val_mean_absolute_error: 0.1129\n",
      "Epoch 277/500\n",
      "34/34 [==============================] - 0s 3ms/step - loss: 0.0753 - mean_absolute_error: 0.0753 - val_loss: 0.1152 - val_mean_absolute_error: 0.1152\n",
      "Epoch 278/500\n",
      "34/34 [==============================] - 0s 3ms/step - loss: 0.0762 - mean_absolute_error: 0.0762 - val_loss: 0.1201 - val_mean_absolute_error: 0.1201\n",
      "Epoch 279/500\n",
      "34/34 [==============================] - 0s 3ms/step - loss: 0.0798 - mean_absolute_error: 0.0798 - val_loss: 0.1268 - val_mean_absolute_error: 0.1268\n",
      "Epoch 280/500\n",
      "34/34 [==============================] - 0s 3ms/step - loss: 0.0840 - mean_absolute_error: 0.0840 - val_loss: 0.1074 - val_mean_absolute_error: 0.1074\n",
      "Epoch 281/500\n",
      "34/34 [==============================] - 0s 5ms/step - loss: 0.0674 - mean_absolute_error: 0.0674 - val_loss: 0.1169 - val_mean_absolute_error: 0.1169\n",
      "Epoch 282/500\n",
      "34/34 [==============================] - 0s 3ms/step - loss: 0.0780 - mean_absolute_error: 0.0780 - val_loss: 0.1292 - val_mean_absolute_error: 0.1292\n",
      "Epoch 283/500\n",
      "34/34 [==============================] - 0s 3ms/step - loss: 0.0989 - mean_absolute_error: 0.0989 - val_loss: 0.1225 - val_mean_absolute_error: 0.1225\n",
      "Epoch 284/500\n",
      "34/34 [==============================] - 0s 3ms/step - loss: 0.0771 - mean_absolute_error: 0.0771 - val_loss: 0.1024 - val_mean_absolute_error: 0.1024\n",
      "Epoch 285/500\n",
      "34/34 [==============================] - 0s 3ms/step - loss: 0.1001 - mean_absolute_error: 0.1001 - val_loss: 0.1308 - val_mean_absolute_error: 0.1308\n",
      "Epoch 286/500\n",
      "34/34 [==============================] - 0s 3ms/step - loss: 0.1021 - mean_absolute_error: 0.1021 - val_loss: 0.1177 - val_mean_absolute_error: 0.1177\n",
      "Epoch 287/500\n",
      "34/34 [==============================] - 0s 3ms/step - loss: 0.0821 - mean_absolute_error: 0.0821 - val_loss: 0.1187 - val_mean_absolute_error: 0.1187\n",
      "Epoch 288/500\n",
      "34/34 [==============================] - 0s 3ms/step - loss: 0.0737 - mean_absolute_error: 0.0737 - val_loss: 0.1170 - val_mean_absolute_error: 0.1170\n",
      "Epoch 289/500\n",
      "34/34 [==============================] - 0s 3ms/step - loss: 0.0855 - mean_absolute_error: 0.0855 - val_loss: 0.1096 - val_mean_absolute_error: 0.1096\n",
      "Epoch 290/500\n",
      "34/34 [==============================] - 0s 3ms/step - loss: 0.0770 - mean_absolute_error: 0.0770 - val_loss: 0.1097 - val_mean_absolute_error: 0.1097\n",
      "Epoch 291/500\n",
      "34/34 [==============================] - 0s 3ms/step - loss: 0.0790 - mean_absolute_error: 0.0790 - val_loss: 0.1202 - val_mean_absolute_error: 0.1202\n",
      "Epoch 292/500\n",
      "34/34 [==============================] - 0s 3ms/step - loss: 0.0777 - mean_absolute_error: 0.0777 - val_loss: 0.1099 - val_mean_absolute_error: 0.1099\n",
      "Epoch 293/500\n",
      "34/34 [==============================] - 0s 3ms/step - loss: 0.0737 - mean_absolute_error: 0.0737 - val_loss: 0.1160 - val_mean_absolute_error: 0.1160\n",
      "Epoch 294/500\n",
      "34/34 [==============================] - 0s 3ms/step - loss: 0.0769 - mean_absolute_error: 0.0769 - val_loss: 0.1319 - val_mean_absolute_error: 0.1319\n",
      "Epoch 295/500\n",
      "34/34 [==============================] - 0s 3ms/step - loss: 0.0875 - mean_absolute_error: 0.0875 - val_loss: 0.1182 - val_mean_absolute_error: 0.1182\n",
      "Epoch 296/500\n",
      "34/34 [==============================] - 0s 3ms/step - loss: 0.0774 - mean_absolute_error: 0.0774 - val_loss: 0.1260 - val_mean_absolute_error: 0.1260\n",
      "Epoch 297/500\n",
      "34/34 [==============================] - 0s 5ms/step - loss: 0.0749 - mean_absolute_error: 0.0749 - val_loss: 0.1173 - val_mean_absolute_error: 0.1173\n",
      "Epoch 298/500\n",
      "34/34 [==============================] - 0s 3ms/step - loss: 0.0839 - mean_absolute_error: 0.0839 - val_loss: 0.1101 - val_mean_absolute_error: 0.1101\n",
      "Epoch 299/500\n",
      "34/34 [==============================] - 0s 3ms/step - loss: 0.0796 - mean_absolute_error: 0.0796 - val_loss: 0.1424 - val_mean_absolute_error: 0.1424\n",
      "Epoch 300/500\n",
      "34/34 [==============================] - 0s 3ms/step - loss: 0.0965 - mean_absolute_error: 0.0965 - val_loss: 0.1149 - val_mean_absolute_error: 0.1149\n"
     ]
    },
    {
     "name": "stdout",
     "output_type": "stream",
     "text": [
      "Epoch 301/500\n",
      "34/34 [==============================] - 0s 3ms/step - loss: 0.0706 - mean_absolute_error: 0.0706 - val_loss: 0.1180 - val_mean_absolute_error: 0.1180\n",
      "Epoch 302/500\n",
      "34/34 [==============================] - 0s 3ms/step - loss: 0.0704 - mean_absolute_error: 0.0704 - val_loss: 0.1114 - val_mean_absolute_error: 0.1114\n",
      "Epoch 303/500\n",
      "34/34 [==============================] - 0s 3ms/step - loss: 0.0796 - mean_absolute_error: 0.0796 - val_loss: 0.1105 - val_mean_absolute_error: 0.1105\n",
      "Epoch 304/500\n",
      "34/34 [==============================] - 0s 3ms/step - loss: 0.0786 - mean_absolute_error: 0.0786 - val_loss: 0.1156 - val_mean_absolute_error: 0.1156\n",
      "Epoch 305/500\n",
      "34/34 [==============================] - 0s 3ms/step - loss: 0.0642 - mean_absolute_error: 0.0642 - val_loss: 0.1270 - val_mean_absolute_error: 0.1270\n",
      "Epoch 306/500\n",
      "34/34 [==============================] - 0s 3ms/step - loss: 0.0793 - mean_absolute_error: 0.0793 - val_loss: 0.1033 - val_mean_absolute_error: 0.1033\n",
      "Epoch 307/500\n",
      "34/34 [==============================] - 0s 3ms/step - loss: 0.0776 - mean_absolute_error: 0.0776 - val_loss: 0.1074 - val_mean_absolute_error: 0.1074\n",
      "Epoch 308/500\n",
      "34/34 [==============================] - 0s 3ms/step - loss: 0.0651 - mean_absolute_error: 0.0651 - val_loss: 0.1346 - val_mean_absolute_error: 0.1346\n",
      "Epoch 309/500\n",
      "34/34 [==============================] - 0s 3ms/step - loss: 0.0969 - mean_absolute_error: 0.0969 - val_loss: 0.1186 - val_mean_absolute_error: 0.1186\n",
      "Epoch 310/500\n",
      "34/34 [==============================] - 0s 3ms/step - loss: 0.0833 - mean_absolute_error: 0.0833 - val_loss: 0.1202 - val_mean_absolute_error: 0.1202\n",
      "Epoch 311/500\n",
      "34/34 [==============================] - 0s 3ms/step - loss: 0.0937 - mean_absolute_error: 0.0937 - val_loss: 0.1160 - val_mean_absolute_error: 0.1160\n",
      "Epoch 312/500\n",
      "34/34 [==============================] - 0s 6ms/step - loss: 0.0912 - mean_absolute_error: 0.0912 - val_loss: 0.1260 - val_mean_absolute_error: 0.1260\n",
      "Epoch 313/500\n",
      "34/34 [==============================] - 0s 3ms/step - loss: 0.0909 - mean_absolute_error: 0.0909 - val_loss: 0.1022 - val_mean_absolute_error: 0.1022\n",
      "Epoch 314/500\n",
      "34/34 [==============================] - 0s 3ms/step - loss: 0.0661 - mean_absolute_error: 0.0661 - val_loss: 0.1148 - val_mean_absolute_error: 0.1148\n",
      "Epoch 315/500\n",
      "34/34 [==============================] - 0s 3ms/step - loss: 0.0760 - mean_absolute_error: 0.0760 - val_loss: 0.1223 - val_mean_absolute_error: 0.1223\n",
      "Epoch 316/500\n",
      "34/34 [==============================] - 0s 3ms/step - loss: 0.0771 - mean_absolute_error: 0.0771 - val_loss: 0.1116 - val_mean_absolute_error: 0.1116\n",
      "Epoch 317/500\n",
      "34/34 [==============================] - 0s 3ms/step - loss: 0.0726 - mean_absolute_error: 0.0726 - val_loss: 0.1082 - val_mean_absolute_error: 0.1082\n",
      "Epoch 318/500\n",
      "34/34 [==============================] - 0s 3ms/step - loss: 0.0693 - mean_absolute_error: 0.0693 - val_loss: 0.1377 - val_mean_absolute_error: 0.1377\n",
      "Epoch 319/500\n",
      "34/34 [==============================] - 0s 3ms/step - loss: 0.0807 - mean_absolute_error: 0.0807 - val_loss: 0.1068 - val_mean_absolute_error: 0.1068\n",
      "Epoch 320/500\n",
      "34/34 [==============================] - 0s 3ms/step - loss: 0.0633 - mean_absolute_error: 0.0633 - val_loss: 0.1147 - val_mean_absolute_error: 0.1147\n",
      "Epoch 321/500\n",
      "34/34 [==============================] - 0s 3ms/step - loss: 0.0783 - mean_absolute_error: 0.0783 - val_loss: 0.1105 - val_mean_absolute_error: 0.1105\n",
      "Epoch 322/500\n",
      "34/34 [==============================] - 0s 3ms/step - loss: 0.0774 - mean_absolute_error: 0.0774 - val_loss: 0.1226 - val_mean_absolute_error: 0.1226\n",
      "Epoch 323/500\n",
      "34/34 [==============================] - 0s 3ms/step - loss: 0.0929 - mean_absolute_error: 0.0929 - val_loss: 0.1127 - val_mean_absolute_error: 0.1127\n",
      "Epoch 324/500\n",
      "34/34 [==============================] - 0s 3ms/step - loss: 0.0830 - mean_absolute_error: 0.0830 - val_loss: 0.1281 - val_mean_absolute_error: 0.1281\n",
      "Epoch 325/500\n",
      "34/34 [==============================] - 0s 3ms/step - loss: 0.0823 - mean_absolute_error: 0.0823 - val_loss: 0.1209 - val_mean_absolute_error: 0.1209\n",
      "Epoch 326/500\n",
      "34/34 [==============================] - 0s 3ms/step - loss: 0.0752 - mean_absolute_error: 0.0752 - val_loss: 0.1094 - val_mean_absolute_error: 0.1094\n",
      "Epoch 327/500\n",
      "34/34 [==============================] - 0s 3ms/step - loss: 0.0704 - mean_absolute_error: 0.0704 - val_loss: 0.1121 - val_mean_absolute_error: 0.1121\n",
      "Epoch 328/500\n",
      "34/34 [==============================] - 0s 3ms/step - loss: 0.0655 - mean_absolute_error: 0.0655 - val_loss: 0.1101 - val_mean_absolute_error: 0.1101\n",
      "Epoch 329/500\n",
      "34/34 [==============================] - 0s 3ms/step - loss: 0.0656 - mean_absolute_error: 0.0656 - val_loss: 0.1095 - val_mean_absolute_error: 0.1095\n",
      "Epoch 330/500\n",
      "34/34 [==============================] - 0s 3ms/step - loss: 0.0633 - mean_absolute_error: 0.0633 - val_loss: 0.1088 - val_mean_absolute_error: 0.1088\n",
      "Epoch 331/500\n",
      "34/34 [==============================] - 0s 3ms/step - loss: 0.0717 - mean_absolute_error: 0.0717 - val_loss: 0.1157 - val_mean_absolute_error: 0.1157\n",
      "Epoch 332/500\n",
      "34/34 [==============================] - 0s 3ms/step - loss: 0.0796 - mean_absolute_error: 0.0796 - val_loss: 0.1106 - val_mean_absolute_error: 0.1106\n",
      "Epoch 333/500\n",
      "34/34 [==============================] - 0s 3ms/step - loss: 0.0872 - mean_absolute_error: 0.0872 - val_loss: 0.1193 - val_mean_absolute_error: 0.1193\n",
      "Epoch 334/500\n",
      "34/34 [==============================] - 0s 3ms/step - loss: 0.0770 - mean_absolute_error: 0.0770 - val_loss: 0.1111 - val_mean_absolute_error: 0.1111\n",
      "Epoch 335/500\n",
      "34/34 [==============================] - 0s 3ms/step - loss: 0.0800 - mean_absolute_error: 0.0800 - val_loss: 0.1133 - val_mean_absolute_error: 0.1133\n",
      "Epoch 336/500\n",
      "34/34 [==============================] - 0s 3ms/step - loss: 0.0720 - mean_absolute_error: 0.0720 - val_loss: 0.1113 - val_mean_absolute_error: 0.1113\n",
      "Epoch 337/500\n",
      "34/34 [==============================] - 0s 6ms/step - loss: 0.0668 - mean_absolute_error: 0.0668 - val_loss: 0.1211 - val_mean_absolute_error: 0.1211\n",
      "Epoch 338/500\n",
      "34/34 [==============================] - 0s 3ms/step - loss: 0.0769 - mean_absolute_error: 0.0769 - val_loss: 0.1089 - val_mean_absolute_error: 0.1089\n",
      "Epoch 339/500\n",
      "34/34 [==============================] - 0s 3ms/step - loss: 0.0650 - mean_absolute_error: 0.0650 - val_loss: 0.1195 - val_mean_absolute_error: 0.1195\n",
      "Epoch 340/500\n",
      "34/34 [==============================] - 0s 3ms/step - loss: 0.0732 - mean_absolute_error: 0.0732 - val_loss: 0.1319 - val_mean_absolute_error: 0.1319\n",
      "Epoch 341/500\n",
      "34/34 [==============================] - 0s 3ms/step - loss: 0.0789 - mean_absolute_error: 0.0789 - val_loss: 0.1082 - val_mean_absolute_error: 0.1082\n",
      "Epoch 342/500\n",
      "34/34 [==============================] - 0s 3ms/step - loss: 0.0666 - mean_absolute_error: 0.0666 - val_loss: 0.1086 - val_mean_absolute_error: 0.1086\n",
      "Epoch 343/500\n",
      "34/34 [==============================] - 0s 3ms/step - loss: 0.0780 - mean_absolute_error: 0.0780 - val_loss: 0.1119 - val_mean_absolute_error: 0.1119\n",
      "Epoch 344/500\n",
      "34/34 [==============================] - 0s 3ms/step - loss: 0.0805 - mean_absolute_error: 0.0805 - val_loss: 0.1133 - val_mean_absolute_error: 0.1133\n",
      "Epoch 345/500\n",
      "34/34 [==============================] - 0s 3ms/step - loss: 0.0727 - mean_absolute_error: 0.0727 - val_loss: 0.1142 - val_mean_absolute_error: 0.1142\n",
      "Epoch 346/500\n",
      "34/34 [==============================] - 0s 3ms/step - loss: 0.0757 - mean_absolute_error: 0.0757 - val_loss: 0.1125 - val_mean_absolute_error: 0.1125\n",
      "Epoch 347/500\n",
      "34/34 [==============================] - 0s 3ms/step - loss: 0.0739 - mean_absolute_error: 0.0739 - val_loss: 0.1422 - val_mean_absolute_error: 0.1422\n",
      "Epoch 348/500\n",
      "34/34 [==============================] - 0s 3ms/step - loss: 0.0951 - mean_absolute_error: 0.0951 - val_loss: 0.1163 - val_mean_absolute_error: 0.1163\n",
      "Epoch 349/500\n",
      "34/34 [==============================] - 0s 3ms/step - loss: 0.0745 - mean_absolute_error: 0.0745 - val_loss: 0.1064 - val_mean_absolute_error: 0.1064\n",
      "Epoch 350/500\n",
      "34/34 [==============================] - 0s 3ms/step - loss: 0.0706 - mean_absolute_error: 0.0706 - val_loss: 0.1114 - val_mean_absolute_error: 0.1114\n"
     ]
    },
    {
     "name": "stdout",
     "output_type": "stream",
     "text": [
      "Epoch 351/500\n",
      "34/34 [==============================] - 0s 3ms/step - loss: 0.0712 - mean_absolute_error: 0.0712 - val_loss: 0.1099 - val_mean_absolute_error: 0.1099\n",
      "Epoch 352/500\n",
      "34/34 [==============================] - 0s 3ms/step - loss: 0.0669 - mean_absolute_error: 0.0669 - val_loss: 0.1107 - val_mean_absolute_error: 0.1107\n",
      "Epoch 353/500\n",
      "34/34 [==============================] - 0s 3ms/step - loss: 0.0718 - mean_absolute_error: 0.0718 - val_loss: 0.1231 - val_mean_absolute_error: 0.1231\n",
      "Epoch 354/500\n",
      "34/34 [==============================] - 0s 3ms/step - loss: 0.0751 - mean_absolute_error: 0.0751 - val_loss: 0.1110 - val_mean_absolute_error: 0.1110\n",
      "Epoch 355/500\n",
      "34/34 [==============================] - 0s 3ms/step - loss: 0.0717 - mean_absolute_error: 0.0717 - val_loss: 0.1148 - val_mean_absolute_error: 0.1148\n",
      "Epoch 356/500\n",
      "34/34 [==============================] - 0s 5ms/step - loss: 0.0711 - mean_absolute_error: 0.0711 - val_loss: 0.1208 - val_mean_absolute_error: 0.1208\n",
      "Epoch 357/500\n",
      "34/34 [==============================] - 0s 3ms/step - loss: 0.0773 - mean_absolute_error: 0.0773 - val_loss: 0.1092 - val_mean_absolute_error: 0.1092\n",
      "Epoch 358/500\n",
      "34/34 [==============================] - 0s 3ms/step - loss: 0.0733 - mean_absolute_error: 0.0733 - val_loss: 0.1149 - val_mean_absolute_error: 0.1149\n",
      "Epoch 359/500\n",
      "34/34 [==============================] - 0s 3ms/step - loss: 0.0756 - mean_absolute_error: 0.0756 - val_loss: 0.1098 - val_mean_absolute_error: 0.1098\n",
      "Epoch 360/500\n",
      "34/34 [==============================] - 0s 3ms/step - loss: 0.0714 - mean_absolute_error: 0.0714 - val_loss: 0.1132 - val_mean_absolute_error: 0.1132\n",
      "Epoch 361/500\n",
      "34/34 [==============================] - 0s 3ms/step - loss: 0.0697 - mean_absolute_error: 0.0697 - val_loss: 0.1072 - val_mean_absolute_error: 0.1072\n",
      "Epoch 362/500\n",
      "34/34 [==============================] - 0s 3ms/step - loss: 0.0586 - mean_absolute_error: 0.0586 - val_loss: 0.1082 - val_mean_absolute_error: 0.1082\n",
      "Epoch 363/500\n",
      "34/34 [==============================] - 0s 3ms/step - loss: 0.0672 - mean_absolute_error: 0.0672 - val_loss: 0.1054 - val_mean_absolute_error: 0.1054\n",
      "Epoch 364/500\n",
      "34/34 [==============================] - 0s 3ms/step - loss: 0.0609 - mean_absolute_error: 0.0609 - val_loss: 0.1114 - val_mean_absolute_error: 0.1114\n",
      "Epoch 365/500\n",
      "34/34 [==============================] - 0s 3ms/step - loss: 0.0623 - mean_absolute_error: 0.0623 - val_loss: 0.1090 - val_mean_absolute_error: 0.1090\n",
      "Epoch 366/500\n",
      "34/34 [==============================] - 0s 3ms/step - loss: 0.0793 - mean_absolute_error: 0.0793 - val_loss: 0.1060 - val_mean_absolute_error: 0.1060\n",
      "Epoch 367/500\n",
      "34/34 [==============================] - 0s 3ms/step - loss: 0.0733 - mean_absolute_error: 0.0733 - val_loss: 0.1159 - val_mean_absolute_error: 0.1159\n",
      "Epoch 368/500\n",
      "34/34 [==============================] - 0s 3ms/step - loss: 0.1013 - mean_absolute_error: 0.1013 - val_loss: 0.1144 - val_mean_absolute_error: 0.1144\n",
      "Epoch 369/500\n",
      "34/34 [==============================] - 0s 3ms/step - loss: 0.0853 - mean_absolute_error: 0.0853 - val_loss: 0.1197 - val_mean_absolute_error: 0.1197\n",
      "Epoch 370/500\n",
      "34/34 [==============================] - 0s 3ms/step - loss: 0.0670 - mean_absolute_error: 0.0670 - val_loss: 0.1263 - val_mean_absolute_error: 0.1263\n",
      "Epoch 371/500\n",
      "34/34 [==============================] - 0s 3ms/step - loss: 0.0769 - mean_absolute_error: 0.0769 - val_loss: 0.1068 - val_mean_absolute_error: 0.1068\n",
      "Epoch 372/500\n",
      "34/34 [==============================] - 0s 3ms/step - loss: 0.0591 - mean_absolute_error: 0.0591 - val_loss: 0.1237 - val_mean_absolute_error: 0.1237\n",
      "Epoch 373/500\n",
      "34/34 [==============================] - 0s 5ms/step - loss: 0.0767 - mean_absolute_error: 0.0767 - val_loss: 0.1368 - val_mean_absolute_error: 0.1368\n",
      "Epoch 374/500\n",
      "34/34 [==============================] - 0s 3ms/step - loss: 0.0713 - mean_absolute_error: 0.0713 - val_loss: 0.1159 - val_mean_absolute_error: 0.1159\n",
      "Epoch 375/500\n",
      "34/34 [==============================] - 0s 3ms/step - loss: 0.0788 - mean_absolute_error: 0.0788 - val_loss: 0.1107 - val_mean_absolute_error: 0.1107\n",
      "Epoch 376/500\n",
      "34/34 [==============================] - 0s 3ms/step - loss: 0.0697 - mean_absolute_error: 0.0697 - val_loss: 0.1251 - val_mean_absolute_error: 0.1251\n",
      "Epoch 377/500\n",
      "34/34 [==============================] - 0s 3ms/step - loss: 0.0792 - mean_absolute_error: 0.0792 - val_loss: 0.1120 - val_mean_absolute_error: 0.1120\n",
      "Epoch 378/500\n",
      "34/34 [==============================] - 0s 3ms/step - loss: 0.0675 - mean_absolute_error: 0.0675 - val_loss: 0.1271 - val_mean_absolute_error: 0.1271\n",
      "Epoch 379/500\n",
      "34/34 [==============================] - 0s 3ms/step - loss: 0.0895 - mean_absolute_error: 0.0895 - val_loss: 0.1148 - val_mean_absolute_error: 0.1148\n",
      "Epoch 380/500\n",
      "34/34 [==============================] - 0s 3ms/step - loss: 0.0663 - mean_absolute_error: 0.0663 - val_loss: 0.1160 - val_mean_absolute_error: 0.1160\n",
      "Epoch 381/500\n",
      "34/34 [==============================] - 0s 3ms/step - loss: 0.0649 - mean_absolute_error: 0.0649 - val_loss: 0.1099 - val_mean_absolute_error: 0.1099\n",
      "Epoch 382/500\n",
      "34/34 [==============================] - 0s 3ms/step - loss: 0.0642 - mean_absolute_error: 0.0642 - val_loss: 0.1058 - val_mean_absolute_error: 0.1058\n",
      "Epoch 383/500\n",
      "34/34 [==============================] - 0s 3ms/step - loss: 0.0620 - mean_absolute_error: 0.0620 - val_loss: 0.1182 - val_mean_absolute_error: 0.1182\n",
      "Epoch 384/500\n",
      "34/34 [==============================] - 0s 3ms/step - loss: 0.0600 - mean_absolute_error: 0.0600 - val_loss: 0.1322 - val_mean_absolute_error: 0.1322\n",
      "Epoch 385/500\n",
      "34/34 [==============================] - 0s 3ms/step - loss: 0.0857 - mean_absolute_error: 0.0857 - val_loss: 0.1192 - val_mean_absolute_error: 0.1192\n",
      "Epoch 386/500\n",
      "34/34 [==============================] - 0s 3ms/step - loss: 0.0826 - mean_absolute_error: 0.0826 - val_loss: 0.1269 - val_mean_absolute_error: 0.1269\n",
      "Epoch 387/500\n",
      "34/34 [==============================] - 0s 6ms/step - loss: 0.0719 - mean_absolute_error: 0.0719 - val_loss: 0.1069 - val_mean_absolute_error: 0.1069\n",
      "Epoch 388/500\n",
      "34/34 [==============================] - 0s 3ms/step - loss: 0.0638 - mean_absolute_error: 0.0638 - val_loss: 0.1205 - val_mean_absolute_error: 0.1205\n",
      "Epoch 389/500\n",
      "34/34 [==============================] - 0s 3ms/step - loss: 0.0643 - mean_absolute_error: 0.0643 - val_loss: 0.1181 - val_mean_absolute_error: 0.1181\n",
      "Epoch 390/500\n",
      "34/34 [==============================] - 0s 3ms/step - loss: 0.0716 - mean_absolute_error: 0.0716 - val_loss: 0.1261 - val_mean_absolute_error: 0.1261\n",
      "Epoch 391/500\n",
      "34/34 [==============================] - 0s 3ms/step - loss: 0.0764 - mean_absolute_error: 0.0764 - val_loss: 0.1120 - val_mean_absolute_error: 0.1120\n",
      "Epoch 392/500\n",
      "34/34 [==============================] - 0s 3ms/step - loss: 0.0733 - mean_absolute_error: 0.0733 - val_loss: 0.1129 - val_mean_absolute_error: 0.1129\n",
      "Epoch 393/500\n",
      "34/34 [==============================] - 0s 3ms/step - loss: 0.0859 - mean_absolute_error: 0.0859 - val_loss: 0.1148 - val_mean_absolute_error: 0.1148\n",
      "Epoch 394/500\n",
      "34/34 [==============================] - 0s 3ms/step - loss: 0.0642 - mean_absolute_error: 0.0642 - val_loss: 0.1062 - val_mean_absolute_error: 0.1062\n",
      "Epoch 395/500\n",
      "34/34 [==============================] - 0s 3ms/step - loss: 0.0592 - mean_absolute_error: 0.0592 - val_loss: 0.1089 - val_mean_absolute_error: 0.1089\n",
      "Epoch 396/500\n",
      "34/34 [==============================] - 0s 3ms/step - loss: 0.0612 - mean_absolute_error: 0.0612 - val_loss: 0.1102 - val_mean_absolute_error: 0.1102\n",
      "Epoch 397/500\n",
      "34/34 [==============================] - 0s 3ms/step - loss: 0.0642 - mean_absolute_error: 0.0642 - val_loss: 0.1086 - val_mean_absolute_error: 0.1086\n",
      "Epoch 398/500\n",
      "34/34 [==============================] - 0s 3ms/step - loss: 0.0621 - mean_absolute_error: 0.0621 - val_loss: 0.1213 - val_mean_absolute_error: 0.1213\n",
      "Epoch 399/500\n",
      "34/34 [==============================] - 0s 3ms/step - loss: 0.0753 - mean_absolute_error: 0.0753 - val_loss: 0.1851 - val_mean_absolute_error: 0.1851\n",
      "Epoch 400/500\n",
      "34/34 [==============================] - 0s 3ms/step - loss: 0.1020 - mean_absolute_error: 0.1020 - val_loss: 0.1309 - val_mean_absolute_error: 0.1309\n"
     ]
    },
    {
     "name": "stdout",
     "output_type": "stream",
     "text": [
      "Epoch 401/500\n",
      "34/34 [==============================] - 0s 3ms/step - loss: 0.0725 - mean_absolute_error: 0.0725 - val_loss: 0.1115 - val_mean_absolute_error: 0.1115\n",
      "Epoch 402/500\n",
      "34/34 [==============================] - 0s 3ms/step - loss: 0.0661 - mean_absolute_error: 0.0661 - val_loss: 0.1376 - val_mean_absolute_error: 0.1376\n",
      "Epoch 403/500\n",
      "34/34 [==============================] - 0s 3ms/step - loss: 0.0749 - mean_absolute_error: 0.0749 - val_loss: 0.1125 - val_mean_absolute_error: 0.1125\n",
      "Epoch 404/500\n",
      "34/34 [==============================] - 0s 3ms/step - loss: 0.0621 - mean_absolute_error: 0.0621 - val_loss: 0.1171 - val_mean_absolute_error: 0.1171\n",
      "Epoch 405/500\n",
      "34/34 [==============================] - 0s 3ms/step - loss: 0.0689 - mean_absolute_error: 0.0689 - val_loss: 0.1201 - val_mean_absolute_error: 0.1201\n",
      "Epoch 406/500\n",
      "34/34 [==============================] - 0s 3ms/step - loss: 0.0666 - mean_absolute_error: 0.0666 - val_loss: 0.1093 - val_mean_absolute_error: 0.1093\n",
      "Epoch 407/500\n",
      "34/34 [==============================] - 0s 3ms/step - loss: 0.0653 - mean_absolute_error: 0.0653 - val_loss: 0.1128 - val_mean_absolute_error: 0.1128\n",
      "Epoch 408/500\n",
      "34/34 [==============================] - 0s 3ms/step - loss: 0.0707 - mean_absolute_error: 0.0707 - val_loss: 0.1105 - val_mean_absolute_error: 0.1105\n",
      "Epoch 409/500\n",
      "34/34 [==============================] - 0s 3ms/step - loss: 0.0670 - mean_absolute_error: 0.0670 - val_loss: 0.1157 - val_mean_absolute_error: 0.1157\n",
      "Epoch 410/500\n",
      "34/34 [==============================] - 0s 3ms/step - loss: 0.0621 - mean_absolute_error: 0.0621 - val_loss: 0.1117 - val_mean_absolute_error: 0.1117\n",
      "Epoch 411/500\n",
      "34/34 [==============================] - 0s 3ms/step - loss: 0.0617 - mean_absolute_error: 0.0617 - val_loss: 0.1087 - val_mean_absolute_error: 0.1087\n",
      "Epoch 412/500\n",
      "34/34 [==============================] - 0s 6ms/step - loss: 0.0678 - mean_absolute_error: 0.0678 - val_loss: 0.1213 - val_mean_absolute_error: 0.1213\n",
      "Epoch 413/500\n",
      "34/34 [==============================] - 0s 3ms/step - loss: 0.0741 - mean_absolute_error: 0.0741 - val_loss: 0.1152 - val_mean_absolute_error: 0.1152\n",
      "Epoch 414/500\n",
      "34/34 [==============================] - 0s 3ms/step - loss: 0.0575 - mean_absolute_error: 0.0575 - val_loss: 0.1092 - val_mean_absolute_error: 0.1092\n",
      "Epoch 415/500\n",
      "34/34 [==============================] - 0s 3ms/step - loss: 0.0581 - mean_absolute_error: 0.0581 - val_loss: 0.1205 - val_mean_absolute_error: 0.1205\n",
      "Epoch 416/500\n",
      "34/34 [==============================] - 0s 3ms/step - loss: 0.0771 - mean_absolute_error: 0.0771 - val_loss: 0.1064 - val_mean_absolute_error: 0.1064\n",
      "Epoch 417/500\n",
      "34/34 [==============================] - 0s 3ms/step - loss: 0.0552 - mean_absolute_error: 0.0552 - val_loss: 0.1190 - val_mean_absolute_error: 0.1190\n",
      "Epoch 418/500\n",
      "34/34 [==============================] - 0s 3ms/step - loss: 0.0716 - mean_absolute_error: 0.0716 - val_loss: 0.1054 - val_mean_absolute_error: 0.1054\n",
      "Epoch 419/500\n",
      "34/34 [==============================] - 0s 3ms/step - loss: 0.0582 - mean_absolute_error: 0.0582 - val_loss: 0.1210 - val_mean_absolute_error: 0.1210\n",
      "Epoch 420/500\n",
      "34/34 [==============================] - 0s 3ms/step - loss: 0.0737 - mean_absolute_error: 0.0737 - val_loss: 0.1137 - val_mean_absolute_error: 0.1137\n",
      "Epoch 421/500\n",
      "34/34 [==============================] - 0s 3ms/step - loss: 0.0675 - mean_absolute_error: 0.0675 - val_loss: 0.1163 - val_mean_absolute_error: 0.1163\n",
      "Epoch 422/500\n",
      "34/34 [==============================] - 0s 3ms/step - loss: 0.0572 - mean_absolute_error: 0.0572 - val_loss: 0.1164 - val_mean_absolute_error: 0.1164\n",
      "Epoch 423/500\n",
      "34/34 [==============================] - 0s 3ms/step - loss: 0.0707 - mean_absolute_error: 0.0707 - val_loss: 0.1053 - val_mean_absolute_error: 0.1053\n",
      "Epoch 424/500\n",
      "34/34 [==============================] - 0s 3ms/step - loss: 0.0626 - mean_absolute_error: 0.0626 - val_loss: 0.1091 - val_mean_absolute_error: 0.1091\n",
      "Epoch 425/500\n",
      "34/34 [==============================] - 0s 3ms/step - loss: 0.0609 - mean_absolute_error: 0.0609 - val_loss: 0.1140 - val_mean_absolute_error: 0.1140\n",
      "Epoch 426/500\n",
      "34/34 [==============================] - 0s 3ms/step - loss: 0.0731 - mean_absolute_error: 0.0731 - val_loss: 0.1085 - val_mean_absolute_error: 0.1085\n",
      "Epoch 427/500\n",
      "34/34 [==============================] - 0s 3ms/step - loss: 0.0602 - mean_absolute_error: 0.0602 - val_loss: 0.1099 - val_mean_absolute_error: 0.1099\n",
      "Epoch 428/500\n",
      "34/34 [==============================] - 0s 3ms/step - loss: 0.0552 - mean_absolute_error: 0.0552 - val_loss: 0.1086 - val_mean_absolute_error: 0.1086\n",
      "Epoch 429/500\n",
      "34/34 [==============================] - 0s 3ms/step - loss: 0.0545 - mean_absolute_error: 0.0545 - val_loss: 0.1082 - val_mean_absolute_error: 0.1082\n",
      "Epoch 430/500\n",
      "34/34 [==============================] - 0s 3ms/step - loss: 0.0561 - mean_absolute_error: 0.0561 - val_loss: 0.1072 - val_mean_absolute_error: 0.1072\n",
      "Epoch 431/500\n",
      "34/34 [==============================] - 0s 5ms/step - loss: 0.0569 - mean_absolute_error: 0.0569 - val_loss: 0.1135 - val_mean_absolute_error: 0.1135\n",
      "Epoch 432/500\n",
      "34/34 [==============================] - 0s 3ms/step - loss: 0.0703 - mean_absolute_error: 0.0703 - val_loss: 0.1171 - val_mean_absolute_error: 0.1171\n",
      "Epoch 433/500\n",
      "34/34 [==============================] - 0s 3ms/step - loss: 0.0718 - mean_absolute_error: 0.0718 - val_loss: 0.1102 - val_mean_absolute_error: 0.1102\n",
      "Epoch 434/500\n",
      "34/34 [==============================] - 0s 3ms/step - loss: 0.0636 - mean_absolute_error: 0.0636 - val_loss: 0.1173 - val_mean_absolute_error: 0.1173\n",
      "Epoch 435/500\n",
      "34/34 [==============================] - 0s 3ms/step - loss: 0.0690 - mean_absolute_error: 0.0690 - val_loss: 0.1178 - val_mean_absolute_error: 0.1178\n",
      "Epoch 436/500\n",
      "34/34 [==============================] - 0s 3ms/step - loss: 0.0619 - mean_absolute_error: 0.0619 - val_loss: 0.1070 - val_mean_absolute_error: 0.1070\n",
      "Epoch 437/500\n",
      "34/34 [==============================] - 0s 3ms/step - loss: 0.0514 - mean_absolute_error: 0.0514 - val_loss: 0.1066 - val_mean_absolute_error: 0.1066\n",
      "Epoch 438/500\n",
      "34/34 [==============================] - 0s 3ms/step - loss: 0.0667 - mean_absolute_error: 0.0667 - val_loss: 0.1197 - val_mean_absolute_error: 0.1197\n",
      "Epoch 439/500\n",
      "34/34 [==============================] - 0s 3ms/step - loss: 0.0644 - mean_absolute_error: 0.0644 - val_loss: 0.1302 - val_mean_absolute_error: 0.1302\n",
      "Epoch 440/500\n",
      "34/34 [==============================] - 0s 3ms/step - loss: 0.0735 - mean_absolute_error: 0.0735 - val_loss: 0.1268 - val_mean_absolute_error: 0.1268\n",
      "Epoch 441/500\n",
      "34/34 [==============================] - 0s 3ms/step - loss: 0.0825 - mean_absolute_error: 0.0825 - val_loss: 0.1069 - val_mean_absolute_error: 0.1069\n",
      "Epoch 442/500\n",
      "34/34 [==============================] - 0s 3ms/step - loss: 0.0575 - mean_absolute_error: 0.0575 - val_loss: 0.1075 - val_mean_absolute_error: 0.1075\n",
      "Epoch 443/500\n",
      "34/34 [==============================] - 0s 3ms/step - loss: 0.0582 - mean_absolute_error: 0.0582 - val_loss: 0.1042 - val_mean_absolute_error: 0.1042\n",
      "Epoch 444/500\n",
      "34/34 [==============================] - 0s 3ms/step - loss: 0.0601 - mean_absolute_error: 0.0601 - val_loss: 0.1196 - val_mean_absolute_error: 0.1196\n",
      "Epoch 445/500\n",
      "34/34 [==============================] - 0s 3ms/step - loss: 0.0668 - mean_absolute_error: 0.0668 - val_loss: 0.1134 - val_mean_absolute_error: 0.1134\n",
      "Epoch 446/500\n",
      "34/34 [==============================] - 0s 3ms/step - loss: 0.0560 - mean_absolute_error: 0.0560 - val_loss: 0.1129 - val_mean_absolute_error: 0.1129\n",
      "Epoch 447/500\n",
      "34/34 [==============================] - 0s 3ms/step - loss: 0.0625 - mean_absolute_error: 0.0625 - val_loss: 0.1171 - val_mean_absolute_error: 0.1171\n",
      "Epoch 448/500\n",
      "34/34 [==============================] - 0s 5ms/step - loss: 0.0648 - mean_absolute_error: 0.0648 - val_loss: 0.1116 - val_mean_absolute_error: 0.1116\n",
      "Epoch 449/500\n",
      "34/34 [==============================] - 0s 3ms/step - loss: 0.0607 - mean_absolute_error: 0.0607 - val_loss: 0.1074 - val_mean_absolute_error: 0.1074\n",
      "Epoch 450/500\n",
      "34/34 [==============================] - 0s 3ms/step - loss: 0.0752 - mean_absolute_error: 0.0752 - val_loss: 0.1084 - val_mean_absolute_error: 0.1084\n"
     ]
    },
    {
     "name": "stdout",
     "output_type": "stream",
     "text": [
      "Epoch 451/500\n",
      "34/34 [==============================] - 0s 3ms/step - loss: 0.0621 - mean_absolute_error: 0.0621 - val_loss: 0.1322 - val_mean_absolute_error: 0.1322\n",
      "Epoch 452/500\n",
      "34/34 [==============================] - 0s 3ms/step - loss: 0.0679 - mean_absolute_error: 0.0679 - val_loss: 0.1113 - val_mean_absolute_error: 0.1113\n",
      "Epoch 453/500\n",
      "34/34 [==============================] - 0s 3ms/step - loss: 0.0662 - mean_absolute_error: 0.0662 - val_loss: 0.1162 - val_mean_absolute_error: 0.1162\n",
      "Epoch 454/500\n",
      "34/34 [==============================] - 0s 3ms/step - loss: 0.0694 - mean_absolute_error: 0.0694 - val_loss: 0.1128 - val_mean_absolute_error: 0.1128\n",
      "Epoch 455/500\n",
      "34/34 [==============================] - 0s 3ms/step - loss: 0.0665 - mean_absolute_error: 0.0665 - val_loss: 0.1054 - val_mean_absolute_error: 0.1054\n",
      "Epoch 456/500\n",
      "34/34 [==============================] - 0s 3ms/step - loss: 0.0641 - mean_absolute_error: 0.0641 - val_loss: 0.1144 - val_mean_absolute_error: 0.1144\n",
      "Epoch 457/500\n",
      "34/34 [==============================] - 0s 3ms/step - loss: 0.0700 - mean_absolute_error: 0.0700 - val_loss: 0.1098 - val_mean_absolute_error: 0.1098\n",
      "Epoch 458/500\n",
      "34/34 [==============================] - 0s 3ms/step - loss: 0.0591 - mean_absolute_error: 0.0591 - val_loss: 0.1095 - val_mean_absolute_error: 0.1095\n",
      "Epoch 459/500\n",
      "34/34 [==============================] - 0s 2ms/step - loss: 0.0675 - mean_absolute_error: 0.0675 - val_loss: 0.1168 - val_mean_absolute_error: 0.1168\n",
      "Epoch 460/500\n",
      "34/34 [==============================] - 0s 3ms/step - loss: 0.0620 - mean_absolute_error: 0.0620 - val_loss: 0.1100 - val_mean_absolute_error: 0.1100\n",
      "Epoch 461/500\n",
      "34/34 [==============================] - 0s 3ms/step - loss: 0.0591 - mean_absolute_error: 0.0591 - val_loss: 0.1074 - val_mean_absolute_error: 0.1074\n",
      "Epoch 462/500\n",
      "34/34 [==============================] - 0s 5ms/step - loss: 0.0590 - mean_absolute_error: 0.0590 - val_loss: 0.1049 - val_mean_absolute_error: 0.1049\n",
      "Epoch 463/500\n",
      "34/34 [==============================] - 0s 3ms/step - loss: 0.0565 - mean_absolute_error: 0.0565 - val_loss: 0.1073 - val_mean_absolute_error: 0.1073\n",
      "Epoch 464/500\n",
      "34/34 [==============================] - 0s 3ms/step - loss: 0.0495 - mean_absolute_error: 0.0495 - val_loss: 0.1101 - val_mean_absolute_error: 0.1101\n",
      "Epoch 465/500\n",
      "34/34 [==============================] - 0s 3ms/step - loss: 0.0607 - mean_absolute_error: 0.0607 - val_loss: 0.1088 - val_mean_absolute_error: 0.1088\n",
      "Epoch 466/500\n",
      "34/34 [==============================] - 0s 3ms/step - loss: 0.0596 - mean_absolute_error: 0.0596 - val_loss: 0.1093 - val_mean_absolute_error: 0.1093\n",
      "Epoch 467/500\n",
      "34/34 [==============================] - 0s 3ms/step - loss: 0.0556 - mean_absolute_error: 0.0556 - val_loss: 0.1049 - val_mean_absolute_error: 0.1049\n",
      "Epoch 468/500\n",
      "34/34 [==============================] - 0s 3ms/step - loss: 0.0565 - mean_absolute_error: 0.0565 - val_loss: 0.1269 - val_mean_absolute_error: 0.1269\n",
      "Epoch 469/500\n",
      "34/34 [==============================] - 0s 2ms/step - loss: 0.0713 - mean_absolute_error: 0.0713 - val_loss: 0.1094 - val_mean_absolute_error: 0.1094\n",
      "Epoch 470/500\n",
      "34/34 [==============================] - 0s 3ms/step - loss: 0.0578 - mean_absolute_error: 0.0578 - val_loss: 0.1064 - val_mean_absolute_error: 0.1064\n",
      "Epoch 471/500\n",
      "34/34 [==============================] - 0s 3ms/step - loss: 0.0536 - mean_absolute_error: 0.0536 - val_loss: 0.1094 - val_mean_absolute_error: 0.1094\n",
      "Epoch 472/500\n",
      "34/34 [==============================] - 0s 3ms/step - loss: 0.0533 - mean_absolute_error: 0.0533 - val_loss: 0.1164 - val_mean_absolute_error: 0.1164\n",
      "Epoch 473/500\n",
      "34/34 [==============================] - 0s 3ms/step - loss: 0.0628 - mean_absolute_error: 0.0628 - val_loss: 0.1101 - val_mean_absolute_error: 0.1101\n",
      "Epoch 474/500\n",
      "34/34 [==============================] - 0s 3ms/step - loss: 0.0584 - mean_absolute_error: 0.0584 - val_loss: 0.1048 - val_mean_absolute_error: 0.1048\n",
      "Epoch 475/500\n",
      "34/34 [==============================] - 0s 3ms/step - loss: 0.0536 - mean_absolute_error: 0.0536 - val_loss: 0.1076 - val_mean_absolute_error: 0.1076\n",
      "Epoch 476/500\n",
      "34/34 [==============================] - 0s 3ms/step - loss: 0.0579 - mean_absolute_error: 0.0579 - val_loss: 0.1060 - val_mean_absolute_error: 0.1060\n",
      "Epoch 477/500\n",
      "34/34 [==============================] - 0s 3ms/step - loss: 0.0523 - mean_absolute_error: 0.0523 - val_loss: 0.1171 - val_mean_absolute_error: 0.1171\n",
      "Epoch 478/500\n",
      "34/34 [==============================] - 0s 3ms/step - loss: 0.0608 - mean_absolute_error: 0.0608 - val_loss: 0.1099 - val_mean_absolute_error: 0.1099\n",
      "Epoch 479/500\n",
      "34/34 [==============================] - 0s 3ms/step - loss: 0.0535 - mean_absolute_error: 0.0535 - val_loss: 0.1179 - val_mean_absolute_error: 0.1179\n",
      "Epoch 480/500\n",
      "34/34 [==============================] - 0s 3ms/step - loss: 0.0625 - mean_absolute_error: 0.0625 - val_loss: 0.1100 - val_mean_absolute_error: 0.1100\n",
      "Epoch 481/500\n",
      "34/34 [==============================] - 0s 3ms/step - loss: 0.0611 - mean_absolute_error: 0.0611 - val_loss: 0.1309 - val_mean_absolute_error: 0.1309\n",
      "Epoch 482/500\n",
      "34/34 [==============================] - 0s 3ms/step - loss: 0.0780 - mean_absolute_error: 0.0780 - val_loss: 0.1076 - val_mean_absolute_error: 0.1076\n",
      "Epoch 483/500\n",
      "34/34 [==============================] - 0s 3ms/step - loss: 0.0536 - mean_absolute_error: 0.0536 - val_loss: 0.1125 - val_mean_absolute_error: 0.1125\n",
      "Epoch 484/500\n",
      "34/34 [==============================] - 0s 3ms/step - loss: 0.0632 - mean_absolute_error: 0.0632 - val_loss: 0.1074 - val_mean_absolute_error: 0.1074\n",
      "Epoch 485/500\n",
      "34/34 [==============================] - 0s 3ms/step - loss: 0.0552 - mean_absolute_error: 0.0552 - val_loss: 0.1172 - val_mean_absolute_error: 0.1172\n",
      "Epoch 486/500\n",
      "34/34 [==============================] - 0s 3ms/step - loss: 0.0618 - mean_absolute_error: 0.0618 - val_loss: 0.1209 - val_mean_absolute_error: 0.1209\n",
      "Epoch 487/500\n",
      "34/34 [==============================] - 0s 5ms/step - loss: 0.0659 - mean_absolute_error: 0.0659 - val_loss: 0.1145 - val_mean_absolute_error: 0.1145\n",
      "Epoch 488/500\n",
      "34/34 [==============================] - 0s 3ms/step - loss: 0.0590 - mean_absolute_error: 0.0590 - val_loss: 0.1056 - val_mean_absolute_error: 0.1056\n",
      "Epoch 489/500\n",
      "34/34 [==============================] - 0s 3ms/step - loss: 0.0596 - mean_absolute_error: 0.0596 - val_loss: 0.1098 - val_mean_absolute_error: 0.1098\n",
      "Epoch 490/500\n",
      "34/34 [==============================] - 0s 3ms/step - loss: 0.0534 - mean_absolute_error: 0.0534 - val_loss: 0.1018 - val_mean_absolute_error: 0.1018\n",
      "Epoch 491/500\n",
      "34/34 [==============================] - 0s 3ms/step - loss: 0.0542 - mean_absolute_error: 0.0542 - val_loss: 0.1135 - val_mean_absolute_error: 0.1135\n",
      "Epoch 492/500\n",
      "34/34 [==============================] - 0s 3ms/step - loss: 0.0580 - mean_absolute_error: 0.0580 - val_loss: 0.1089 - val_mean_absolute_error: 0.1089\n",
      "Epoch 493/500\n",
      "34/34 [==============================] - 0s 3ms/step - loss: 0.0491 - mean_absolute_error: 0.0491 - val_loss: 0.1060 - val_mean_absolute_error: 0.1060\n",
      "Epoch 494/500\n",
      "34/34 [==============================] - 0s 3ms/step - loss: 0.0551 - mean_absolute_error: 0.0551 - val_loss: 0.1053 - val_mean_absolute_error: 0.1053\n",
      "Epoch 495/500\n",
      "34/34 [==============================] - 0s 3ms/step - loss: 0.0475 - mean_absolute_error: 0.0475 - val_loss: 0.1131 - val_mean_absolute_error: 0.1131\n",
      "Epoch 496/500\n",
      "34/34 [==============================] - 0s 3ms/step - loss: 0.0558 - mean_absolute_error: 0.0558 - val_loss: 0.1223 - val_mean_absolute_error: 0.1223\n",
      "Epoch 497/500\n",
      "34/34 [==============================] - 0s 3ms/step - loss: 0.0559 - mean_absolute_error: 0.0559 - val_loss: 0.1108 - val_mean_absolute_error: 0.1108\n",
      "Epoch 498/500\n",
      "34/34 [==============================] - 0s 3ms/step - loss: 0.0505 - mean_absolute_error: 0.0505 - val_loss: 0.1054 - val_mean_absolute_error: 0.1054\n",
      "Epoch 499/500\n",
      "34/34 [==============================] - 0s 3ms/step - loss: 0.0557 - mean_absolute_error: 0.0557 - val_loss: 0.1043 - val_mean_absolute_error: 0.1043\n",
      "Epoch 500/500\n",
      "34/34 [==============================] - 0s 3ms/step - loss: 0.0509 - mean_absolute_error: 0.0509 - val_loss: 0.1055 - val_mean_absolute_error: 0.1055\n"
     ]
    },
    {
     "data": {
      "text/plain": [
       "<tensorflow.python.keras.callbacks.History at 0x7fc05c13f150>"
      ]
     },
     "execution_count": 38,
     "metadata": {},
     "output_type": "execute_result"
    }
   ],
   "source": [
    "nnModel.fit(X_train, y_train, epochs=500, batch_size=32, validation_split = 0.2)"
   ]
  },
  {
   "cell_type": "code",
   "execution_count": 39,
   "metadata": {},
   "outputs": [
    {
     "name": "stdout",
     "output_type": "stream",
     "text": [
      "0.26911524962962974 ± 0.10436253240844469\n",
      "0.270846811111111 ± 0.15689247185471575\n"
     ]
    }
   ],
   "source": [
    "print(np.mean(y_train),'±',mean_squared_error(y_train,NN_model.predict(X_train), squared=False))\n",
    "print(np.mean(y_test),'±',mean_squared_error(y_test,NN_model.predict(X_test), squared=False))"
   ]
  },
  {
   "cell_type": "markdown",
   "metadata": {},
   "source": [
    "## Conclusions\n",
    "The RMSE values are enormous for test sets for all types of models which is no surprice as I have only 64 records in total which is too few. \n",
    "The best model so far is XGBoost.\n",
    "What I need to do next is to extend my initial dataset. "
   ]
  },
  {
   "cell_type": "code",
   "execution_count": null,
   "metadata": {},
   "outputs": [],
   "source": []
  }
 ],
 "metadata": {
  "kernelspec": {
   "display_name": "Python 3",
   "language": "python",
   "name": "python3"
  },
  "language_info": {
   "codemirror_mode": {
    "name": "ipython",
    "version": 3
   },
   "file_extension": ".py",
   "mimetype": "text/x-python",
   "name": "python",
   "nbconvert_exporter": "python",
   "pygments_lexer": "ipython3",
   "version": "3.7.6"
  }
 },
 "nbformat": 4,
 "nbformat_minor": 4
}
