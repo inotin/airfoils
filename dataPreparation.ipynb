{
 "cells": [
  {
   "cell_type": "code",
   "execution_count": 581,
   "metadata": {},
   "outputs": [],
   "source": [
    "import pandas as pd\n",
    "from tqdm.notebook import tqdm\n",
    "from os import listdir\n",
    "from os.path import isfile, join\n",
    "import shutil\n",
    "import plotly.express as px\n",
    "import random\n",
    "import numpy as np\n",
    "from sklearn.metrics import mean_squared_error\n",
    "from sklearn.model_selection import train_test_split\n",
    "from sklearn.ensemble import RandomForestRegressor\n",
    "from sklearn.preprocessing import MinMaxScaler"
   ]
  },
  {
   "cell_type": "markdown",
   "metadata": {},
   "source": [
    "## Extracting properties of airfoils"
   ]
  },
  {
   "cell_type": "code",
   "execution_count": 88,
   "metadata": {},
   "outputs": [],
   "source": [
    "pathForCharacteristics = '/Users/inotin/Dropbox/DS/Personal/airfoil/TR824-Digitized/'"
   ]
  },
  {
   "cell_type": "code",
   "execution_count": 97,
   "metadata": {},
   "outputs": [],
   "source": [
    "filesInDirectory = [f for f in listdir(pathForCharacteristics) if isfile(join(pathForCharacteristics, f)) and f.split('.')[1]=='ALL']"
   ]
  },
  {
   "cell_type": "code",
   "execution_count": 105,
   "metadata": {},
   "outputs": [],
   "source": [
    "def extractProperties(filePath, parameter='Alpha, Cl, Cd(interpolated)', num = 1):\n",
    "    f = open(filePath, \"r\")\n",
    "    f = f.read()\n",
    "    \n",
    "    dct = {'id':[],'alpha':[],'Cl':[],'Cd':[]}\n",
    "    for r in f.split(parameter)[1].split('Data set')[1:][num].split('\\n')[2:-1]:\n",
    "        row = [x for x in r.split(' ') if x!='']\n",
    "        dct['id'].append(filePath.split('/')[-1].split('.')[0])\n",
    "        dct['alpha'].append(float(row[0]))\n",
    "        dct['Cl'].append(float(row[1]))\n",
    "        dct['Cd'].append(float(row[2]))\n",
    "    return pd.DataFrame(dct)"
   ]
  },
  {
   "cell_type": "code",
   "execution_count": 156,
   "metadata": {},
   "outputs": [
    {
     "data": {
      "text/html": [
       "<div>\n",
       "<style scoped>\n",
       "    .dataframe tbody tr th:only-of-type {\n",
       "        vertical-align: middle;\n",
       "    }\n",
       "\n",
       "    .dataframe tbody tr th {\n",
       "        vertical-align: top;\n",
       "    }\n",
       "\n",
       "    .dataframe thead th {\n",
       "        text-align: right;\n",
       "    }\n",
       "</style>\n",
       "<table border=\"1\" class=\"dataframe\">\n",
       "  <thead>\n",
       "    <tr style=\"text-align: right;\">\n",
       "      <th></th>\n",
       "      <th>id</th>\n",
       "      <th>alpha</th>\n",
       "      <th>Cl</th>\n",
       "      <th>Cd</th>\n",
       "    </tr>\n",
       "  </thead>\n",
       "  <tbody>\n",
       "    <tr>\n",
       "      <th>0</th>\n",
       "      <td>216</td>\n",
       "      <td>19.37620</td>\n",
       "      <td>1.373150</td>\n",
       "      <td>0.017005</td>\n",
       "    </tr>\n",
       "    <tr>\n",
       "      <th>1</th>\n",
       "      <td>216</td>\n",
       "      <td>18.29290</td>\n",
       "      <td>1.411050</td>\n",
       "      <td>0.018944</td>\n",
       "    </tr>\n",
       "    <tr>\n",
       "      <th>2</th>\n",
       "      <td>216</td>\n",
       "      <td>17.40130</td>\n",
       "      <td>1.519540</td>\n",
       "      <td>0.000000</td>\n",
       "    </tr>\n",
       "    <tr>\n",
       "      <th>3</th>\n",
       "      <td>216</td>\n",
       "      <td>16.28550</td>\n",
       "      <td>1.549260</td>\n",
       "      <td>0.000000</td>\n",
       "    </tr>\n",
       "    <tr>\n",
       "      <th>4</th>\n",
       "      <td>216</td>\n",
       "      <td>15.29650</td>\n",
       "      <td>1.531330</td>\n",
       "      <td>0.000000</td>\n",
       "    </tr>\n",
       "    <tr>\n",
       "      <th>...</th>\n",
       "      <td>...</td>\n",
       "      <td>...</td>\n",
       "      <td>...</td>\n",
       "      <td>...</td>\n",
       "    </tr>\n",
       "    <tr>\n",
       "      <th>24</th>\n",
       "      <td>233</td>\n",
       "      <td>-8.23054</td>\n",
       "      <td>-0.714753</td>\n",
       "      <td>0.010010</td>\n",
       "    </tr>\n",
       "    <tr>\n",
       "      <th>25</th>\n",
       "      <td>233</td>\n",
       "      <td>-10.40240</td>\n",
       "      <td>-0.904422</td>\n",
       "      <td>0.000000</td>\n",
       "    </tr>\n",
       "    <tr>\n",
       "      <th>26</th>\n",
       "      <td>233</td>\n",
       "      <td>-11.07290</td>\n",
       "      <td>-0.985190</td>\n",
       "      <td>0.000000</td>\n",
       "    </tr>\n",
       "    <tr>\n",
       "      <th>27</th>\n",
       "      <td>233</td>\n",
       "      <td>-12.35700</td>\n",
       "      <td>-0.646564</td>\n",
       "      <td>0.009324</td>\n",
       "    </tr>\n",
       "    <tr>\n",
       "      <th>28</th>\n",
       "      <td>233</td>\n",
       "      <td>-14.18290</td>\n",
       "      <td>-0.518578</td>\n",
       "      <td>0.008144</td>\n",
       "    </tr>\n",
       "  </tbody>\n",
       "</table>\n",
       "<p>3323 rows × 4 columns</p>\n",
       "</div>"
      ],
      "text/plain": [
       "     id     alpha        Cl        Cd\n",
       "0   216  19.37620  1.373150  0.017005\n",
       "1   216  18.29290  1.411050  0.018944\n",
       "2   216  17.40130  1.519540  0.000000\n",
       "3   216  16.28550  1.549260  0.000000\n",
       "4   216  15.29650  1.531330  0.000000\n",
       "..  ...       ...       ...       ...\n",
       "24  233  -8.23054 -0.714753  0.010010\n",
       "25  233 -10.40240 -0.904422  0.000000\n",
       "26  233 -11.07290 -0.985190  0.000000\n",
       "27  233 -12.35700 -0.646564  0.009324\n",
       "28  233 -14.18290 -0.518578  0.008144\n",
       "\n",
       "[3323 rows x 4 columns]"
      ]
     },
     "execution_count": 156,
     "metadata": {},
     "output_type": "execute_result"
    }
   ],
   "source": [
    "dfProperties = pd.DataFrame()\n",
    "for file in filesInDirectory:\n",
    "    dfProperties = pd.concat([dfProperties, extractProperties(pathForCharacteristics+file)])\n",
    "dfProperties"
   ]
  },
  {
   "cell_type": "markdown",
   "metadata": {},
   "source": [
    "## Forming dataframe with ids and airfoil names (type, model)"
   ]
  },
  {
   "cell_type": "code",
   "execution_count": 175,
   "metadata": {},
   "outputs": [],
   "source": [
    "f = open(path+\"NACA.LST\", \"r\")\n",
    "f=f.read()"
   ]
  },
  {
   "cell_type": "code",
   "execution_count": 176,
   "metadata": {},
   "outputs": [
    {
     "data": {
      "text/html": [
       "<div>\n",
       "<style scoped>\n",
       "    .dataframe tbody tr th:only-of-type {\n",
       "        vertical-align: middle;\n",
       "    }\n",
       "\n",
       "    .dataframe tbody tr th {\n",
       "        vertical-align: top;\n",
       "    }\n",
       "\n",
       "    .dataframe thead th {\n",
       "        text-align: right;\n",
       "    }\n",
       "</style>\n",
       "<table border=\"1\" class=\"dataframe\">\n",
       "  <thead>\n",
       "    <tr style=\"text-align: right;\">\n",
       "      <th></th>\n",
       "      <th>id</th>\n",
       "      <th>type</th>\n",
       "      <th>model</th>\n",
       "    </tr>\n",
       "  </thead>\n",
       "  <tbody>\n",
       "    <tr>\n",
       "      <th>0</th>\n",
       "      <td>131</td>\n",
       "      <td>NACA</td>\n",
       "      <td>0006</td>\n",
       "    </tr>\n",
       "    <tr>\n",
       "      <th>1</th>\n",
       "      <td>132</td>\n",
       "      <td>NACA</td>\n",
       "      <td>0009</td>\n",
       "    </tr>\n",
       "    <tr>\n",
       "      <th>2</th>\n",
       "      <td>133</td>\n",
       "      <td>NACA</td>\n",
       "      <td>1408</td>\n",
       "    </tr>\n",
       "    <tr>\n",
       "      <th>3</th>\n",
       "      <td>134</td>\n",
       "      <td>NACA</td>\n",
       "      <td>1410</td>\n",
       "    </tr>\n",
       "    <tr>\n",
       "      <th>4</th>\n",
       "      <td>135</td>\n",
       "      <td>NACA</td>\n",
       "      <td>1412</td>\n",
       "    </tr>\n",
       "  </tbody>\n",
       "</table>\n",
       "</div>"
      ],
      "text/plain": [
       "    id  type model\n",
       "0  131  NACA  0006\n",
       "1  132  NACA  0009\n",
       "2  133  NACA  1408\n",
       "3  134  NACA  1410\n",
       "4  135  NACA  1412"
      ]
     },
     "execution_count": 176,
     "metadata": {},
     "output_type": "execute_result"
    }
   ],
   "source": [
    "dct = {'id':[],'type':[],'model':[]}\n",
    "for r in f.split('---------------------')[1].split('\\n')[1:-1]:\n",
    "    dct['id'].append(r.split('  ')[0].split('.')[0][1:])\n",
    "    dct['type'].append(r.split('  ')[1])\n",
    "    dct['model'].append(r.split('  ')[2])\n",
    "dfNames = pd.DataFrame(dct)\n",
    "dfNames.head()"
   ]
  },
  {
   "cell_type": "markdown",
   "metadata": {},
   "source": [
    "## Forming a data frame with airfoil geometries"
   ]
  },
  {
   "cell_type": "code",
   "execution_count": 178,
   "metadata": {},
   "outputs": [],
   "source": [
    "import urllib.request\n",
    "from requests import get  # to make GET request\n",
    "\n",
    "\n",
    "def download(url, file_name):\n",
    "    response = get(url)\n",
    "    if response.status_code != 404:\n",
    "        # open in binary mode\n",
    "        with open(file_name, \"wb\") as file:\n",
    "            # get request\n",
    "            file.write(response.content)\n"
   ]
  },
  {
   "cell_type": "markdown",
   "metadata": {},
   "source": [
    "### Downloading airfoli geometries to coords folder"
   ]
  },
  {
   "cell_type": "code",
   "execution_count": 179,
   "metadata": {},
   "outputs": [
    {
     "data": {
      "application/vnd.jupyter.widget-view+json": {
       "model_id": "41f57e0cbec8447fa814d3d05d0ce452",
       "version_major": 2,
       "version_minor": 0
      },
      "text/plain": [
       "HBox(children=(FloatProgress(value=0.0, max=118.0), HTML(value='')))"
      ]
     },
     "metadata": {},
     "output_type": "display_data"
    },
    {
     "name": "stdout",
     "output_type": "stream",
     "text": [
      "\n"
     ]
    }
   ],
   "source": [
    "ids = dfNames['id'].values\n",
    "for i,r in tqdm(dfNames.iterrows(), total = len(dfNames)):\n",
    "    mdl = ''.join(c for c in r['model'] if c.isdigit())\n",
    "    download(f\"https://m-selig.ae.illinois.edu/ads/coord/n{r['model']}.dat\", \n",
    "             f\"/Users/inotin/Dropbox/DS/Personal/airfoil/coords/{r['id']}.dat\")\n",
    "    download(f\"https://m-selig.ae.illinois.edu/ads/coord/naca{r['model']}.dat\", \n",
    "             f\"/Users/inotin/Dropbox/DS/Personal/airfoil/coords/{r['id']}.dat\")\n",
    "    download(f\"https://m-selig.ae.illinois.edu/ads/coord/naca{mdl}.dat\", \n",
    "             f\"/Users/inotin/Dropbox/DS/Personal/airfoil/coords/{r['id']}.dat\")"
   ]
  },
  {
   "cell_type": "code",
   "execution_count": 417,
   "metadata": {},
   "outputs": [
    {
     "name": "stdout",
     "output_type": "stream",
     "text": [
      "Succesfully downloaded 64 from 118\n"
     ]
    }
   ],
   "source": [
    "mypath='/Users/inotin/Dropbox/DS/Personal/airfoil/coords/'\n",
    "files = [f for f in listdir(mypath) if isfile(join(mypath, f)) and f.split('.')[1]=='dat']\n",
    "print(f'Succesfully downloaded {len(files)} from {len(dfNames)}')"
   ]
  },
  {
   "cell_type": "markdown",
   "metadata": {},
   "source": [
    "### Forming a data frame"
   ]
  },
  {
   "cell_type": "code",
   "execution_count": 497,
   "metadata": {},
   "outputs": [],
   "source": [
    "import re\n",
    "dfCoords = pd.DataFrame()\n",
    "for file in files:\n",
    "    f = open(mypath+file, \"r\")\n",
    "    f = f.read()\n",
    "    xs = []\n",
    "    ys = []\n",
    "\n",
    "    for r in f.split('\\n')[1:-1]:\n",
    "        row = re.findall(\"-?\\d+\\.\\d+\",r)\n",
    "        if len(row)==2:\n",
    "            xs.append(float(row[0]))\n",
    "            ys.append(float(row[1]))\n",
    "    dfCoords = pd.concat([dfCoords, pd.DataFrame({'id':[file.split('.')[0]],\n",
    "                                                 'xs':[xs], \n",
    "                                                 'ys':[ys]})])"
   ]
  },
  {
   "cell_type": "markdown",
   "metadata": {},
   "source": [
    "## Joining all together"
   ]
  },
  {
   "cell_type": "code",
   "execution_count": 552,
   "metadata": {},
   "outputs": [],
   "source": [
    "df2 = dfProperties.merge(dfCoords, left_on='id', right_on='id', how='left')\n",
    "df2.dropna(inplace=True)"
   ]
  },
  {
   "cell_type": "code",
   "execution_count": 553,
   "metadata": {},
   "outputs": [
    {
     "data": {
      "text/html": [
       "<div>\n",
       "<style scoped>\n",
       "    .dataframe tbody tr th:only-of-type {\n",
       "        vertical-align: middle;\n",
       "    }\n",
       "\n",
       "    .dataframe tbody tr th {\n",
       "        vertical-align: top;\n",
       "    }\n",
       "\n",
       "    .dataframe thead th {\n",
       "        text-align: right;\n",
       "    }\n",
       "</style>\n",
       "<table border=\"1\" class=\"dataframe\">\n",
       "  <thead>\n",
       "    <tr style=\"text-align: right;\">\n",
       "      <th></th>\n",
       "      <th>id</th>\n",
       "      <th>alpha</th>\n",
       "      <th>Cl</th>\n",
       "      <th>Cd</th>\n",
       "      <th>xs</th>\n",
       "      <th>ys</th>\n",
       "    </tr>\n",
       "  </thead>\n",
       "  <tbody>\n",
       "    <tr>\n",
       "      <th>0</th>\n",
       "      <td>216</td>\n",
       "      <td>19.3762</td>\n",
       "      <td>1.37315</td>\n",
       "      <td>0.017005</td>\n",
       "      <td>[1.0, 0.9502, 0.9004, 0.85055, 0.80063, 0.7506...</td>\n",
       "      <td>[0.0, 0.00744, 0.0166, 0.02649, 0.03653, 0.046...</td>\n",
       "    </tr>\n",
       "    <tr>\n",
       "      <th>1</th>\n",
       "      <td>216</td>\n",
       "      <td>18.2929</td>\n",
       "      <td>1.41105</td>\n",
       "      <td>0.018944</td>\n",
       "      <td>[1.0, 0.9502, 0.9004, 0.85055, 0.80063, 0.7506...</td>\n",
       "      <td>[0.0, 0.00744, 0.0166, 0.02649, 0.03653, 0.046...</td>\n",
       "    </tr>\n",
       "    <tr>\n",
       "      <th>2</th>\n",
       "      <td>216</td>\n",
       "      <td>17.4013</td>\n",
       "      <td>1.51954</td>\n",
       "      <td>0.000000</td>\n",
       "      <td>[1.0, 0.9502, 0.9004, 0.85055, 0.80063, 0.7506...</td>\n",
       "      <td>[0.0, 0.00744, 0.0166, 0.02649, 0.03653, 0.046...</td>\n",
       "    </tr>\n",
       "    <tr>\n",
       "      <th>3</th>\n",
       "      <td>216</td>\n",
       "      <td>16.2855</td>\n",
       "      <td>1.54926</td>\n",
       "      <td>0.000000</td>\n",
       "      <td>[1.0, 0.9502, 0.9004, 0.85055, 0.80063, 0.7506...</td>\n",
       "      <td>[0.0, 0.00744, 0.0166, 0.02649, 0.03653, 0.046...</td>\n",
       "    </tr>\n",
       "    <tr>\n",
       "      <th>4</th>\n",
       "      <td>216</td>\n",
       "      <td>15.2965</td>\n",
       "      <td>1.53133</td>\n",
       "      <td>0.000000</td>\n",
       "      <td>[1.0, 0.9502, 0.9004, 0.85055, 0.80063, 0.7506...</td>\n",
       "      <td>[0.0, 0.00744, 0.0166, 0.02649, 0.03653, 0.046...</td>\n",
       "    </tr>\n",
       "  </tbody>\n",
       "</table>\n",
       "</div>"
      ],
      "text/plain": [
       "    id    alpha       Cl        Cd  \\\n",
       "0  216  19.3762  1.37315  0.017005   \n",
       "1  216  18.2929  1.41105  0.018944   \n",
       "2  216  17.4013  1.51954  0.000000   \n",
       "3  216  16.2855  1.54926  0.000000   \n",
       "4  216  15.2965  1.53133  0.000000   \n",
       "\n",
       "                                                  xs  \\\n",
       "0  [1.0, 0.9502, 0.9004, 0.85055, 0.80063, 0.7506...   \n",
       "1  [1.0, 0.9502, 0.9004, 0.85055, 0.80063, 0.7506...   \n",
       "2  [1.0, 0.9502, 0.9004, 0.85055, 0.80063, 0.7506...   \n",
       "3  [1.0, 0.9502, 0.9004, 0.85055, 0.80063, 0.7506...   \n",
       "4  [1.0, 0.9502, 0.9004, 0.85055, 0.80063, 0.7506...   \n",
       "\n",
       "                                                  ys  \n",
       "0  [0.0, 0.00744, 0.0166, 0.02649, 0.03653, 0.046...  \n",
       "1  [0.0, 0.00744, 0.0166, 0.02649, 0.03653, 0.046...  \n",
       "2  [0.0, 0.00744, 0.0166, 0.02649, 0.03653, 0.046...  \n",
       "3  [0.0, 0.00744, 0.0166, 0.02649, 0.03653, 0.046...  \n",
       "4  [0.0, 0.00744, 0.0166, 0.02649, 0.03653, 0.046...  "
      ]
     },
     "execution_count": 553,
     "metadata": {},
     "output_type": "execute_result"
    }
   ],
   "source": [
    "df2.head()"
   ]
  },
  {
   "cell_type": "markdown",
   "metadata": {},
   "source": [
    "## Some visuals"
   ]
  },
  {
   "cell_type": "code",
   "execution_count": 580,
   "metadata": {},
   "outputs": [
    {
     "data": {
      "application/vnd.plotly.v1+json": {
       "config": {
        "plotlyServerURL": "https://plot.ly"
       },
       "data": [
        {
         "hovertemplate": "x=%{x}<br>y=%{y}<extra></extra>",
         "legendgroup": "",
         "line": {
          "color": "#636efa",
          "dash": "solid"
         },
         "mode": "lines",
         "name": "",
         "orientation": "v",
         "showlegend": false,
         "type": "scatter",
         "x": [
          1,
          0.9502,
          0.9004,
          0.85055,
          0.80063,
          0.75065,
          0.70062,
          0.65053,
          0.60069,
          0.55021,
          0.5,
          0.44976,
          0.39952,
          0.34927,
          0.29904,
          0.24882,
          0.19863,
          0.14848,
          0.09841,
          0.07342,
          0.04848,
          0.02365,
          0.01132,
          0.00645,
          0.00406,
          0,
          0.00594,
          0.00855,
          0.01368,
          0.02635,
          0.05152,
          0.07658,
          0.10159,
          0.15152,
          0.20137,
          0.25118,
          0.30096,
          0.35073,
          0.40048,
          0.45024,
          0.5,
          0.54979,
          0.59961,
          0.64947,
          0.69938,
          0.74935,
          0.79937,
          0.84945,
          0.8996,
          0.9498,
          1
         ],
         "xaxis": "x",
         "y": [
          0,
          0.00744,
          0.0166,
          0.02649,
          0.03653,
          0.04638,
          0.05572,
          0.06433,
          0.07189,
          0.07815,
          0.08271,
          0.08522,
          0.08569,
          0.08426,
          0.08123,
          0.07658,
          0.07018,
          0.06175,
          0.05069,
          0.0438,
          0.03557,
          0.02506,
          0.01805,
          0.01422,
          0.0117,
          0,
          -0.0107,
          -0.01282,
          -0.01591,
          -0.02134,
          -0.02925,
          -0.03532,
          -0.04035,
          -0.04829,
          -0.05426,
          -0.05868,
          -0.06179,
          -0.06366,
          -0.06427,
          -0.06332,
          -0.06065,
          -0.05625,
          -0.05047,
          -0.04373,
          -0.03628,
          -0.02848,
          -0.02061,
          -0.01303,
          -0.00626,
          -0.00112,
          0
         ],
         "yaxis": "y"
        }
       ],
       "layout": {
        "legend": {
         "tracegroupgap": 0
        },
        "template": {
         "data": {
          "bar": [
           {
            "error_x": {
             "color": "#2a3f5f"
            },
            "error_y": {
             "color": "#2a3f5f"
            },
            "marker": {
             "line": {
              "color": "#E5ECF6",
              "width": 0.5
             }
            },
            "type": "bar"
           }
          ],
          "barpolar": [
           {
            "marker": {
             "line": {
              "color": "#E5ECF6",
              "width": 0.5
             }
            },
            "type": "barpolar"
           }
          ],
          "carpet": [
           {
            "aaxis": {
             "endlinecolor": "#2a3f5f",
             "gridcolor": "white",
             "linecolor": "white",
             "minorgridcolor": "white",
             "startlinecolor": "#2a3f5f"
            },
            "baxis": {
             "endlinecolor": "#2a3f5f",
             "gridcolor": "white",
             "linecolor": "white",
             "minorgridcolor": "white",
             "startlinecolor": "#2a3f5f"
            },
            "type": "carpet"
           }
          ],
          "choropleth": [
           {
            "colorbar": {
             "outlinewidth": 0,
             "ticks": ""
            },
            "type": "choropleth"
           }
          ],
          "contour": [
           {
            "colorbar": {
             "outlinewidth": 0,
             "ticks": ""
            },
            "colorscale": [
             [
              0,
              "#0d0887"
             ],
             [
              0.1111111111111111,
              "#46039f"
             ],
             [
              0.2222222222222222,
              "#7201a8"
             ],
             [
              0.3333333333333333,
              "#9c179e"
             ],
             [
              0.4444444444444444,
              "#bd3786"
             ],
             [
              0.5555555555555556,
              "#d8576b"
             ],
             [
              0.6666666666666666,
              "#ed7953"
             ],
             [
              0.7777777777777778,
              "#fb9f3a"
             ],
             [
              0.8888888888888888,
              "#fdca26"
             ],
             [
              1,
              "#f0f921"
             ]
            ],
            "type": "contour"
           }
          ],
          "contourcarpet": [
           {
            "colorbar": {
             "outlinewidth": 0,
             "ticks": ""
            },
            "type": "contourcarpet"
           }
          ],
          "heatmap": [
           {
            "colorbar": {
             "outlinewidth": 0,
             "ticks": ""
            },
            "colorscale": [
             [
              0,
              "#0d0887"
             ],
             [
              0.1111111111111111,
              "#46039f"
             ],
             [
              0.2222222222222222,
              "#7201a8"
             ],
             [
              0.3333333333333333,
              "#9c179e"
             ],
             [
              0.4444444444444444,
              "#bd3786"
             ],
             [
              0.5555555555555556,
              "#d8576b"
             ],
             [
              0.6666666666666666,
              "#ed7953"
             ],
             [
              0.7777777777777778,
              "#fb9f3a"
             ],
             [
              0.8888888888888888,
              "#fdca26"
             ],
             [
              1,
              "#f0f921"
             ]
            ],
            "type": "heatmap"
           }
          ],
          "heatmapgl": [
           {
            "colorbar": {
             "outlinewidth": 0,
             "ticks": ""
            },
            "colorscale": [
             [
              0,
              "#0d0887"
             ],
             [
              0.1111111111111111,
              "#46039f"
             ],
             [
              0.2222222222222222,
              "#7201a8"
             ],
             [
              0.3333333333333333,
              "#9c179e"
             ],
             [
              0.4444444444444444,
              "#bd3786"
             ],
             [
              0.5555555555555556,
              "#d8576b"
             ],
             [
              0.6666666666666666,
              "#ed7953"
             ],
             [
              0.7777777777777778,
              "#fb9f3a"
             ],
             [
              0.8888888888888888,
              "#fdca26"
             ],
             [
              1,
              "#f0f921"
             ]
            ],
            "type": "heatmapgl"
           }
          ],
          "histogram": [
           {
            "marker": {
             "colorbar": {
              "outlinewidth": 0,
              "ticks": ""
             }
            },
            "type": "histogram"
           }
          ],
          "histogram2d": [
           {
            "colorbar": {
             "outlinewidth": 0,
             "ticks": ""
            },
            "colorscale": [
             [
              0,
              "#0d0887"
             ],
             [
              0.1111111111111111,
              "#46039f"
             ],
             [
              0.2222222222222222,
              "#7201a8"
             ],
             [
              0.3333333333333333,
              "#9c179e"
             ],
             [
              0.4444444444444444,
              "#bd3786"
             ],
             [
              0.5555555555555556,
              "#d8576b"
             ],
             [
              0.6666666666666666,
              "#ed7953"
             ],
             [
              0.7777777777777778,
              "#fb9f3a"
             ],
             [
              0.8888888888888888,
              "#fdca26"
             ],
             [
              1,
              "#f0f921"
             ]
            ],
            "type": "histogram2d"
           }
          ],
          "histogram2dcontour": [
           {
            "colorbar": {
             "outlinewidth": 0,
             "ticks": ""
            },
            "colorscale": [
             [
              0,
              "#0d0887"
             ],
             [
              0.1111111111111111,
              "#46039f"
             ],
             [
              0.2222222222222222,
              "#7201a8"
             ],
             [
              0.3333333333333333,
              "#9c179e"
             ],
             [
              0.4444444444444444,
              "#bd3786"
             ],
             [
              0.5555555555555556,
              "#d8576b"
             ],
             [
              0.6666666666666666,
              "#ed7953"
             ],
             [
              0.7777777777777778,
              "#fb9f3a"
             ],
             [
              0.8888888888888888,
              "#fdca26"
             ],
             [
              1,
              "#f0f921"
             ]
            ],
            "type": "histogram2dcontour"
           }
          ],
          "mesh3d": [
           {
            "colorbar": {
             "outlinewidth": 0,
             "ticks": ""
            },
            "type": "mesh3d"
           }
          ],
          "parcoords": [
           {
            "line": {
             "colorbar": {
              "outlinewidth": 0,
              "ticks": ""
             }
            },
            "type": "parcoords"
           }
          ],
          "pie": [
           {
            "automargin": true,
            "type": "pie"
           }
          ],
          "scatter": [
           {
            "marker": {
             "colorbar": {
              "outlinewidth": 0,
              "ticks": ""
             }
            },
            "type": "scatter"
           }
          ],
          "scatter3d": [
           {
            "line": {
             "colorbar": {
              "outlinewidth": 0,
              "ticks": ""
             }
            },
            "marker": {
             "colorbar": {
              "outlinewidth": 0,
              "ticks": ""
             }
            },
            "type": "scatter3d"
           }
          ],
          "scattercarpet": [
           {
            "marker": {
             "colorbar": {
              "outlinewidth": 0,
              "ticks": ""
             }
            },
            "type": "scattercarpet"
           }
          ],
          "scattergeo": [
           {
            "marker": {
             "colorbar": {
              "outlinewidth": 0,
              "ticks": ""
             }
            },
            "type": "scattergeo"
           }
          ],
          "scattergl": [
           {
            "marker": {
             "colorbar": {
              "outlinewidth": 0,
              "ticks": ""
             }
            },
            "type": "scattergl"
           }
          ],
          "scattermapbox": [
           {
            "marker": {
             "colorbar": {
              "outlinewidth": 0,
              "ticks": ""
             }
            },
            "type": "scattermapbox"
           }
          ],
          "scatterpolar": [
           {
            "marker": {
             "colorbar": {
              "outlinewidth": 0,
              "ticks": ""
             }
            },
            "type": "scatterpolar"
           }
          ],
          "scatterpolargl": [
           {
            "marker": {
             "colorbar": {
              "outlinewidth": 0,
              "ticks": ""
             }
            },
            "type": "scatterpolargl"
           }
          ],
          "scatterternary": [
           {
            "marker": {
             "colorbar": {
              "outlinewidth": 0,
              "ticks": ""
             }
            },
            "type": "scatterternary"
           }
          ],
          "surface": [
           {
            "colorbar": {
             "outlinewidth": 0,
             "ticks": ""
            },
            "colorscale": [
             [
              0,
              "#0d0887"
             ],
             [
              0.1111111111111111,
              "#46039f"
             ],
             [
              0.2222222222222222,
              "#7201a8"
             ],
             [
              0.3333333333333333,
              "#9c179e"
             ],
             [
              0.4444444444444444,
              "#bd3786"
             ],
             [
              0.5555555555555556,
              "#d8576b"
             ],
             [
              0.6666666666666666,
              "#ed7953"
             ],
             [
              0.7777777777777778,
              "#fb9f3a"
             ],
             [
              0.8888888888888888,
              "#fdca26"
             ],
             [
              1,
              "#f0f921"
             ]
            ],
            "type": "surface"
           }
          ],
          "table": [
           {
            "cells": {
             "fill": {
              "color": "#EBF0F8"
             },
             "line": {
              "color": "white"
             }
            },
            "header": {
             "fill": {
              "color": "#C8D4E3"
             },
             "line": {
              "color": "white"
             }
            },
            "type": "table"
           }
          ]
         },
         "layout": {
          "annotationdefaults": {
           "arrowcolor": "#2a3f5f",
           "arrowhead": 0,
           "arrowwidth": 1
          },
          "coloraxis": {
           "colorbar": {
            "outlinewidth": 0,
            "ticks": ""
           }
          },
          "colorscale": {
           "diverging": [
            [
             0,
             "#8e0152"
            ],
            [
             0.1,
             "#c51b7d"
            ],
            [
             0.2,
             "#de77ae"
            ],
            [
             0.3,
             "#f1b6da"
            ],
            [
             0.4,
             "#fde0ef"
            ],
            [
             0.5,
             "#f7f7f7"
            ],
            [
             0.6,
             "#e6f5d0"
            ],
            [
             0.7,
             "#b8e186"
            ],
            [
             0.8,
             "#7fbc41"
            ],
            [
             0.9,
             "#4d9221"
            ],
            [
             1,
             "#276419"
            ]
           ],
           "sequential": [
            [
             0,
             "#0d0887"
            ],
            [
             0.1111111111111111,
             "#46039f"
            ],
            [
             0.2222222222222222,
             "#7201a8"
            ],
            [
             0.3333333333333333,
             "#9c179e"
            ],
            [
             0.4444444444444444,
             "#bd3786"
            ],
            [
             0.5555555555555556,
             "#d8576b"
            ],
            [
             0.6666666666666666,
             "#ed7953"
            ],
            [
             0.7777777777777778,
             "#fb9f3a"
            ],
            [
             0.8888888888888888,
             "#fdca26"
            ],
            [
             1,
             "#f0f921"
            ]
           ],
           "sequentialminus": [
            [
             0,
             "#0d0887"
            ],
            [
             0.1111111111111111,
             "#46039f"
            ],
            [
             0.2222222222222222,
             "#7201a8"
            ],
            [
             0.3333333333333333,
             "#9c179e"
            ],
            [
             0.4444444444444444,
             "#bd3786"
            ],
            [
             0.5555555555555556,
             "#d8576b"
            ],
            [
             0.6666666666666666,
             "#ed7953"
            ],
            [
             0.7777777777777778,
             "#fb9f3a"
            ],
            [
             0.8888888888888888,
             "#fdca26"
            ],
            [
             1,
             "#f0f921"
            ]
           ]
          },
          "colorway": [
           "#636efa",
           "#EF553B",
           "#00cc96",
           "#ab63fa",
           "#FFA15A",
           "#19d3f3",
           "#FF6692",
           "#B6E880",
           "#FF97FF",
           "#FECB52"
          ],
          "font": {
           "color": "#2a3f5f"
          },
          "geo": {
           "bgcolor": "white",
           "lakecolor": "white",
           "landcolor": "#E5ECF6",
           "showlakes": true,
           "showland": true,
           "subunitcolor": "white"
          },
          "hoverlabel": {
           "align": "left"
          },
          "hovermode": "closest",
          "mapbox": {
           "style": "light"
          },
          "paper_bgcolor": "white",
          "plot_bgcolor": "#E5ECF6",
          "polar": {
           "angularaxis": {
            "gridcolor": "white",
            "linecolor": "white",
            "ticks": ""
           },
           "bgcolor": "#E5ECF6",
           "radialaxis": {
            "gridcolor": "white",
            "linecolor": "white",
            "ticks": ""
           }
          },
          "scene": {
           "xaxis": {
            "backgroundcolor": "#E5ECF6",
            "gridcolor": "white",
            "gridwidth": 2,
            "linecolor": "white",
            "showbackground": true,
            "ticks": "",
            "zerolinecolor": "white"
           },
           "yaxis": {
            "backgroundcolor": "#E5ECF6",
            "gridcolor": "white",
            "gridwidth": 2,
            "linecolor": "white",
            "showbackground": true,
            "ticks": "",
            "zerolinecolor": "white"
           },
           "zaxis": {
            "backgroundcolor": "#E5ECF6",
            "gridcolor": "white",
            "gridwidth": 2,
            "linecolor": "white",
            "showbackground": true,
            "ticks": "",
            "zerolinecolor": "white"
           }
          },
          "shapedefaults": {
           "line": {
            "color": "#2a3f5f"
           }
          },
          "ternary": {
           "aaxis": {
            "gridcolor": "white",
            "linecolor": "white",
            "ticks": ""
           },
           "baxis": {
            "gridcolor": "white",
            "linecolor": "white",
            "ticks": ""
           },
           "bgcolor": "#E5ECF6",
           "caxis": {
            "gridcolor": "white",
            "linecolor": "white",
            "ticks": ""
           }
          },
          "title": {
           "x": 0.05
          },
          "xaxis": {
           "automargin": true,
           "gridcolor": "white",
           "linecolor": "white",
           "ticks": "",
           "title": {
            "standoff": 15
           },
           "zerolinecolor": "white",
           "zerolinewidth": 2
          },
          "yaxis": {
           "automargin": true,
           "gridcolor": "white",
           "linecolor": "white",
           "ticks": "",
           "title": {
            "standoff": 15
           },
           "zerolinecolor": "white",
           "zerolinewidth": 2
          }
         }
        },
        "title": {
         "text": "<b>NACA 65(sub)2-215</b>"
        },
        "xaxis": {
         "anchor": "y",
         "domain": [
          0,
          1
         ],
         "title": {
          "text": "x"
         }
        },
        "yaxis": {
         "anchor": "x",
         "domain": [
          0,
          1
         ],
         "scaleanchor": "x",
         "scaleratio": 1,
         "title": {
          "text": "y"
         }
        }
       }
      },
      "text/html": [
       "<div>\n",
       "        \n",
       "        \n",
       "            <div id=\"0857854e-ebac-4c96-8830-5d5b447fc06c\" class=\"plotly-graph-div\" style=\"height:525px; width:100%;\"></div>\n",
       "            <script type=\"text/javascript\">\n",
       "                require([\"plotly\"], function(Plotly) {\n",
       "                    window.PLOTLYENV=window.PLOTLYENV || {};\n",
       "                    \n",
       "                if (document.getElementById(\"0857854e-ebac-4c96-8830-5d5b447fc06c\")) {\n",
       "                    Plotly.newPlot(\n",
       "                        '0857854e-ebac-4c96-8830-5d5b447fc06c',\n",
       "                        [{\"hovertemplate\": \"x=%{x}<br>y=%{y}<extra></extra>\", \"legendgroup\": \"\", \"line\": {\"color\": \"#636efa\", \"dash\": \"solid\"}, \"mode\": \"lines\", \"name\": \"\", \"orientation\": \"v\", \"showlegend\": false, \"type\": \"scatter\", \"x\": [1.0, 0.9502, 0.9004, 0.85055, 0.80063, 0.75065, 0.70062, 0.65053, 0.60069, 0.55021, 0.5, 0.44976, 0.39952, 0.34927, 0.29904, 0.24882, 0.19863, 0.14848, 0.09841, 0.07342, 0.04848, 0.02365, 0.01132, 0.00645, 0.00406, 0.0, 0.00594, 0.00855, 0.01368, 0.02635, 0.05152, 0.07658, 0.10159, 0.15152, 0.20137, 0.25118, 0.30096, 0.35073, 0.40048, 0.45024, 0.5, 0.54979, 0.59961, 0.64947, 0.69938, 0.74935, 0.79937, 0.84945, 0.8996, 0.9498, 1.0], \"xaxis\": \"x\", \"y\": [0.0, 0.00744, 0.0166, 0.02649, 0.03653, 0.04638, 0.05572, 0.06433, 0.07189, 0.07815, 0.08271, 0.08522, 0.08569, 0.08426, 0.08123, 0.07658, 0.07018, 0.06175, 0.05069, 0.0438, 0.03557, 0.02506, 0.01805, 0.01422, 0.0117, 0.0, -0.0107, -0.01282, -0.01591, -0.02134, -0.02925, -0.03532, -0.04035, -0.04829, -0.05426, -0.05868, -0.06179, -0.06366, -0.06427, -0.06332, -0.06065, -0.05625, -0.05047, -0.04373, -0.03628, -0.02848, -0.02061, -0.01303, -0.00626, -0.00112, 0.0], \"yaxis\": \"y\"}],\n",
       "                        {\"legend\": {\"tracegroupgap\": 0}, \"template\": {\"data\": {\"bar\": [{\"error_x\": {\"color\": \"#2a3f5f\"}, \"error_y\": {\"color\": \"#2a3f5f\"}, \"marker\": {\"line\": {\"color\": \"#E5ECF6\", \"width\": 0.5}}, \"type\": \"bar\"}], \"barpolar\": [{\"marker\": {\"line\": {\"color\": \"#E5ECF6\", \"width\": 0.5}}, \"type\": \"barpolar\"}], \"carpet\": [{\"aaxis\": {\"endlinecolor\": \"#2a3f5f\", \"gridcolor\": \"white\", \"linecolor\": \"white\", \"minorgridcolor\": \"white\", \"startlinecolor\": \"#2a3f5f\"}, \"baxis\": {\"endlinecolor\": \"#2a3f5f\", \"gridcolor\": \"white\", \"linecolor\": \"white\", \"minorgridcolor\": \"white\", \"startlinecolor\": \"#2a3f5f\"}, \"type\": \"carpet\"}], \"choropleth\": [{\"colorbar\": {\"outlinewidth\": 0, \"ticks\": \"\"}, \"type\": \"choropleth\"}], \"contour\": [{\"colorbar\": {\"outlinewidth\": 0, \"ticks\": \"\"}, \"colorscale\": [[0.0, \"#0d0887\"], [0.1111111111111111, \"#46039f\"], [0.2222222222222222, \"#7201a8\"], [0.3333333333333333, \"#9c179e\"], [0.4444444444444444, \"#bd3786\"], [0.5555555555555556, \"#d8576b\"], [0.6666666666666666, \"#ed7953\"], [0.7777777777777778, \"#fb9f3a\"], [0.8888888888888888, \"#fdca26\"], [1.0, \"#f0f921\"]], \"type\": \"contour\"}], \"contourcarpet\": [{\"colorbar\": {\"outlinewidth\": 0, \"ticks\": \"\"}, \"type\": \"contourcarpet\"}], \"heatmap\": [{\"colorbar\": {\"outlinewidth\": 0, \"ticks\": \"\"}, \"colorscale\": [[0.0, \"#0d0887\"], [0.1111111111111111, \"#46039f\"], [0.2222222222222222, \"#7201a8\"], [0.3333333333333333, \"#9c179e\"], [0.4444444444444444, \"#bd3786\"], [0.5555555555555556, \"#d8576b\"], [0.6666666666666666, \"#ed7953\"], [0.7777777777777778, \"#fb9f3a\"], [0.8888888888888888, \"#fdca26\"], [1.0, \"#f0f921\"]], \"type\": \"heatmap\"}], \"heatmapgl\": [{\"colorbar\": {\"outlinewidth\": 0, \"ticks\": \"\"}, \"colorscale\": [[0.0, \"#0d0887\"], [0.1111111111111111, \"#46039f\"], [0.2222222222222222, \"#7201a8\"], [0.3333333333333333, \"#9c179e\"], [0.4444444444444444, \"#bd3786\"], [0.5555555555555556, \"#d8576b\"], [0.6666666666666666, \"#ed7953\"], [0.7777777777777778, \"#fb9f3a\"], [0.8888888888888888, \"#fdca26\"], [1.0, \"#f0f921\"]], \"type\": \"heatmapgl\"}], \"histogram\": [{\"marker\": {\"colorbar\": {\"outlinewidth\": 0, \"ticks\": \"\"}}, \"type\": \"histogram\"}], \"histogram2d\": [{\"colorbar\": {\"outlinewidth\": 0, \"ticks\": \"\"}, \"colorscale\": [[0.0, \"#0d0887\"], [0.1111111111111111, \"#46039f\"], [0.2222222222222222, \"#7201a8\"], [0.3333333333333333, \"#9c179e\"], [0.4444444444444444, \"#bd3786\"], [0.5555555555555556, \"#d8576b\"], [0.6666666666666666, \"#ed7953\"], [0.7777777777777778, \"#fb9f3a\"], [0.8888888888888888, \"#fdca26\"], [1.0, \"#f0f921\"]], \"type\": \"histogram2d\"}], \"histogram2dcontour\": [{\"colorbar\": {\"outlinewidth\": 0, \"ticks\": \"\"}, \"colorscale\": [[0.0, \"#0d0887\"], [0.1111111111111111, \"#46039f\"], [0.2222222222222222, \"#7201a8\"], [0.3333333333333333, \"#9c179e\"], [0.4444444444444444, \"#bd3786\"], [0.5555555555555556, \"#d8576b\"], [0.6666666666666666, \"#ed7953\"], [0.7777777777777778, \"#fb9f3a\"], [0.8888888888888888, \"#fdca26\"], [1.0, \"#f0f921\"]], \"type\": \"histogram2dcontour\"}], \"mesh3d\": [{\"colorbar\": {\"outlinewidth\": 0, \"ticks\": \"\"}, \"type\": \"mesh3d\"}], \"parcoords\": [{\"line\": {\"colorbar\": {\"outlinewidth\": 0, \"ticks\": \"\"}}, \"type\": \"parcoords\"}], \"pie\": [{\"automargin\": true, \"type\": \"pie\"}], \"scatter\": [{\"marker\": {\"colorbar\": {\"outlinewidth\": 0, \"ticks\": \"\"}}, \"type\": \"scatter\"}], \"scatter3d\": [{\"line\": {\"colorbar\": {\"outlinewidth\": 0, \"ticks\": \"\"}}, \"marker\": {\"colorbar\": {\"outlinewidth\": 0, \"ticks\": \"\"}}, \"type\": \"scatter3d\"}], \"scattercarpet\": [{\"marker\": {\"colorbar\": {\"outlinewidth\": 0, \"ticks\": \"\"}}, \"type\": \"scattercarpet\"}], \"scattergeo\": [{\"marker\": {\"colorbar\": {\"outlinewidth\": 0, \"ticks\": \"\"}}, \"type\": \"scattergeo\"}], \"scattergl\": [{\"marker\": {\"colorbar\": {\"outlinewidth\": 0, \"ticks\": \"\"}}, \"type\": \"scattergl\"}], \"scattermapbox\": [{\"marker\": {\"colorbar\": {\"outlinewidth\": 0, \"ticks\": \"\"}}, \"type\": \"scattermapbox\"}], \"scatterpolar\": [{\"marker\": {\"colorbar\": {\"outlinewidth\": 0, \"ticks\": \"\"}}, \"type\": \"scatterpolar\"}], \"scatterpolargl\": [{\"marker\": {\"colorbar\": {\"outlinewidth\": 0, \"ticks\": \"\"}}, \"type\": \"scatterpolargl\"}], \"scatterternary\": [{\"marker\": {\"colorbar\": {\"outlinewidth\": 0, \"ticks\": \"\"}}, \"type\": \"scatterternary\"}], \"surface\": [{\"colorbar\": {\"outlinewidth\": 0, \"ticks\": \"\"}, \"colorscale\": [[0.0, \"#0d0887\"], [0.1111111111111111, \"#46039f\"], [0.2222222222222222, \"#7201a8\"], [0.3333333333333333, \"#9c179e\"], [0.4444444444444444, \"#bd3786\"], [0.5555555555555556, \"#d8576b\"], [0.6666666666666666, \"#ed7953\"], [0.7777777777777778, \"#fb9f3a\"], [0.8888888888888888, \"#fdca26\"], [1.0, \"#f0f921\"]], \"type\": \"surface\"}], \"table\": [{\"cells\": {\"fill\": {\"color\": \"#EBF0F8\"}, \"line\": {\"color\": \"white\"}}, \"header\": {\"fill\": {\"color\": \"#C8D4E3\"}, \"line\": {\"color\": \"white\"}}, \"type\": \"table\"}]}, \"layout\": {\"annotationdefaults\": {\"arrowcolor\": \"#2a3f5f\", \"arrowhead\": 0, \"arrowwidth\": 1}, \"coloraxis\": {\"colorbar\": {\"outlinewidth\": 0, \"ticks\": \"\"}}, \"colorscale\": {\"diverging\": [[0, \"#8e0152\"], [0.1, \"#c51b7d\"], [0.2, \"#de77ae\"], [0.3, \"#f1b6da\"], [0.4, \"#fde0ef\"], [0.5, \"#f7f7f7\"], [0.6, \"#e6f5d0\"], [0.7, \"#b8e186\"], [0.8, \"#7fbc41\"], [0.9, \"#4d9221\"], [1, \"#276419\"]], \"sequential\": [[0.0, \"#0d0887\"], [0.1111111111111111, \"#46039f\"], [0.2222222222222222, \"#7201a8\"], [0.3333333333333333, \"#9c179e\"], [0.4444444444444444, \"#bd3786\"], [0.5555555555555556, \"#d8576b\"], [0.6666666666666666, \"#ed7953\"], [0.7777777777777778, \"#fb9f3a\"], [0.8888888888888888, \"#fdca26\"], [1.0, \"#f0f921\"]], \"sequentialminus\": [[0.0, \"#0d0887\"], [0.1111111111111111, \"#46039f\"], [0.2222222222222222, \"#7201a8\"], [0.3333333333333333, \"#9c179e\"], [0.4444444444444444, \"#bd3786\"], [0.5555555555555556, \"#d8576b\"], [0.6666666666666666, \"#ed7953\"], [0.7777777777777778, \"#fb9f3a\"], [0.8888888888888888, \"#fdca26\"], [1.0, \"#f0f921\"]]}, \"colorway\": [\"#636efa\", \"#EF553B\", \"#00cc96\", \"#ab63fa\", \"#FFA15A\", \"#19d3f3\", \"#FF6692\", \"#B6E880\", \"#FF97FF\", \"#FECB52\"], \"font\": {\"color\": \"#2a3f5f\"}, \"geo\": {\"bgcolor\": \"white\", \"lakecolor\": \"white\", \"landcolor\": \"#E5ECF6\", \"showlakes\": true, \"showland\": true, \"subunitcolor\": \"white\"}, \"hoverlabel\": {\"align\": \"left\"}, \"hovermode\": \"closest\", \"mapbox\": {\"style\": \"light\"}, \"paper_bgcolor\": \"white\", \"plot_bgcolor\": \"#E5ECF6\", \"polar\": {\"angularaxis\": {\"gridcolor\": \"white\", \"linecolor\": \"white\", \"ticks\": \"\"}, \"bgcolor\": \"#E5ECF6\", \"radialaxis\": {\"gridcolor\": \"white\", \"linecolor\": \"white\", \"ticks\": \"\"}}, \"scene\": {\"xaxis\": {\"backgroundcolor\": \"#E5ECF6\", \"gridcolor\": \"white\", \"gridwidth\": 2, \"linecolor\": \"white\", \"showbackground\": true, \"ticks\": \"\", \"zerolinecolor\": \"white\"}, \"yaxis\": {\"backgroundcolor\": \"#E5ECF6\", \"gridcolor\": \"white\", \"gridwidth\": 2, \"linecolor\": \"white\", \"showbackground\": true, \"ticks\": \"\", \"zerolinecolor\": \"white\"}, \"zaxis\": {\"backgroundcolor\": \"#E5ECF6\", \"gridcolor\": \"white\", \"gridwidth\": 2, \"linecolor\": \"white\", \"showbackground\": true, \"ticks\": \"\", \"zerolinecolor\": \"white\"}}, \"shapedefaults\": {\"line\": {\"color\": \"#2a3f5f\"}}, \"ternary\": {\"aaxis\": {\"gridcolor\": \"white\", \"linecolor\": \"white\", \"ticks\": \"\"}, \"baxis\": {\"gridcolor\": \"white\", \"linecolor\": \"white\", \"ticks\": \"\"}, \"bgcolor\": \"#E5ECF6\", \"caxis\": {\"gridcolor\": \"white\", \"linecolor\": \"white\", \"ticks\": \"\"}}, \"title\": {\"x\": 0.05}, \"xaxis\": {\"automargin\": true, \"gridcolor\": \"white\", \"linecolor\": \"white\", \"ticks\": \"\", \"title\": {\"standoff\": 15}, \"zerolinecolor\": \"white\", \"zerolinewidth\": 2}, \"yaxis\": {\"automargin\": true, \"gridcolor\": \"white\", \"linecolor\": \"white\", \"ticks\": \"\", \"title\": {\"standoff\": 15}, \"zerolinecolor\": \"white\", \"zerolinewidth\": 2}}}, \"title\": {\"text\": \"<b>NACA 65(sub)2-215</b>\"}, \"xaxis\": {\"anchor\": \"y\", \"domain\": [0.0, 1.0], \"title\": {\"text\": \"x\"}}, \"yaxis\": {\"anchor\": \"x\", \"domain\": [0.0, 1.0], \"scaleanchor\": \"x\", \"scaleratio\": 1, \"title\": {\"text\": \"y\"}}},\n",
       "                        {\"responsive\": true}\n",
       "                    ).then(function(){\n",
       "                            \n",
       "var gd = document.getElementById('0857854e-ebac-4c96-8830-5d5b447fc06c');\n",
       "var x = new MutationObserver(function (mutations, observer) {{\n",
       "        var display = window.getComputedStyle(gd).display;\n",
       "        if (!display || display === 'none') {{\n",
       "            console.log([gd, 'removed!']);\n",
       "            Plotly.purge(gd);\n",
       "            observer.disconnect();\n",
       "        }}\n",
       "}});\n",
       "\n",
       "// Listen for the removal of the full notebook cells\n",
       "var notebookContainer = gd.closest('#notebook-container');\n",
       "if (notebookContainer) {{\n",
       "    x.observe(notebookContainer, {childList: true});\n",
       "}}\n",
       "\n",
       "// Listen for the clearing of the current output cell\n",
       "var outputEl = gd.closest('.output');\n",
       "if (outputEl) {{\n",
       "    x.observe(outputEl, {childList: true});\n",
       "}}\n",
       "\n",
       "                        })\n",
       "                };\n",
       "                });\n",
       "            </script>\n",
       "        </div>"
      ]
     },
     "metadata": {},
     "output_type": "display_data"
    },
    {
     "data": {
      "application/vnd.plotly.v1+json": {
       "config": {
        "plotlyServerURL": "https://plot.ly"
       },
       "data": [
        {
         "hovertemplate": "alpha=%{x}<br>Cl=%{y}<extra></extra>",
         "legendgroup": "",
         "line": {
          "color": "#636efa",
          "dash": "solid"
         },
         "mode": "lines",
         "name": "",
         "orientation": "v",
         "showlegend": false,
         "type": "scatter",
         "x": [
          19.3762,
          18.2929,
          17.4013,
          16.2855,
          15.2965,
          14.275,
          13.285,
          12.3585,
          10.1524,
          8.10419,
          6.11858,
          5.22122,
          4.16323,
          3.13713,
          2.0783,
          1.14765,
          0.023847,
          -0.972193,
          -2.00008,
          -2.96464,
          -4.15416,
          -5.05523,
          -6.02079,
          -8.04904,
          -10.1755,
          -12.1095,
          -13.3023,
          -14.1081,
          -15.0409,
          -16.1889,
          -17.3476
         ],
         "xaxis": "x",
         "y": [
          1.37315,
          1.41105,
          1.51954,
          1.54926,
          1.53133,
          1.49205,
          1.43468,
          1.38386,
          1.20986,
          1.00941,
          0.818675,
          0.719965,
          0.603116,
          0.504335,
          0.384107,
          0.290194,
          0.164935,
          0.036336,
          -0.056047,
          -0.176486,
          -0.292048,
          -0.41092,
          -0.526541,
          -0.739769,
          -0.966385,
          -1.14522,
          -1.22977,
          -1.26799,
          -1.21038,
          -0.670185,
          -0.61419
         ],
         "yaxis": "y"
        }
       ],
       "layout": {
        "legend": {
         "tracegroupgap": 0
        },
        "template": {
         "data": {
          "bar": [
           {
            "error_x": {
             "color": "#2a3f5f"
            },
            "error_y": {
             "color": "#2a3f5f"
            },
            "marker": {
             "line": {
              "color": "#E5ECF6",
              "width": 0.5
             }
            },
            "type": "bar"
           }
          ],
          "barpolar": [
           {
            "marker": {
             "line": {
              "color": "#E5ECF6",
              "width": 0.5
             }
            },
            "type": "barpolar"
           }
          ],
          "carpet": [
           {
            "aaxis": {
             "endlinecolor": "#2a3f5f",
             "gridcolor": "white",
             "linecolor": "white",
             "minorgridcolor": "white",
             "startlinecolor": "#2a3f5f"
            },
            "baxis": {
             "endlinecolor": "#2a3f5f",
             "gridcolor": "white",
             "linecolor": "white",
             "minorgridcolor": "white",
             "startlinecolor": "#2a3f5f"
            },
            "type": "carpet"
           }
          ],
          "choropleth": [
           {
            "colorbar": {
             "outlinewidth": 0,
             "ticks": ""
            },
            "type": "choropleth"
           }
          ],
          "contour": [
           {
            "colorbar": {
             "outlinewidth": 0,
             "ticks": ""
            },
            "colorscale": [
             [
              0,
              "#0d0887"
             ],
             [
              0.1111111111111111,
              "#46039f"
             ],
             [
              0.2222222222222222,
              "#7201a8"
             ],
             [
              0.3333333333333333,
              "#9c179e"
             ],
             [
              0.4444444444444444,
              "#bd3786"
             ],
             [
              0.5555555555555556,
              "#d8576b"
             ],
             [
              0.6666666666666666,
              "#ed7953"
             ],
             [
              0.7777777777777778,
              "#fb9f3a"
             ],
             [
              0.8888888888888888,
              "#fdca26"
             ],
             [
              1,
              "#f0f921"
             ]
            ],
            "type": "contour"
           }
          ],
          "contourcarpet": [
           {
            "colorbar": {
             "outlinewidth": 0,
             "ticks": ""
            },
            "type": "contourcarpet"
           }
          ],
          "heatmap": [
           {
            "colorbar": {
             "outlinewidth": 0,
             "ticks": ""
            },
            "colorscale": [
             [
              0,
              "#0d0887"
             ],
             [
              0.1111111111111111,
              "#46039f"
             ],
             [
              0.2222222222222222,
              "#7201a8"
             ],
             [
              0.3333333333333333,
              "#9c179e"
             ],
             [
              0.4444444444444444,
              "#bd3786"
             ],
             [
              0.5555555555555556,
              "#d8576b"
             ],
             [
              0.6666666666666666,
              "#ed7953"
             ],
             [
              0.7777777777777778,
              "#fb9f3a"
             ],
             [
              0.8888888888888888,
              "#fdca26"
             ],
             [
              1,
              "#f0f921"
             ]
            ],
            "type": "heatmap"
           }
          ],
          "heatmapgl": [
           {
            "colorbar": {
             "outlinewidth": 0,
             "ticks": ""
            },
            "colorscale": [
             [
              0,
              "#0d0887"
             ],
             [
              0.1111111111111111,
              "#46039f"
             ],
             [
              0.2222222222222222,
              "#7201a8"
             ],
             [
              0.3333333333333333,
              "#9c179e"
             ],
             [
              0.4444444444444444,
              "#bd3786"
             ],
             [
              0.5555555555555556,
              "#d8576b"
             ],
             [
              0.6666666666666666,
              "#ed7953"
             ],
             [
              0.7777777777777778,
              "#fb9f3a"
             ],
             [
              0.8888888888888888,
              "#fdca26"
             ],
             [
              1,
              "#f0f921"
             ]
            ],
            "type": "heatmapgl"
           }
          ],
          "histogram": [
           {
            "marker": {
             "colorbar": {
              "outlinewidth": 0,
              "ticks": ""
             }
            },
            "type": "histogram"
           }
          ],
          "histogram2d": [
           {
            "colorbar": {
             "outlinewidth": 0,
             "ticks": ""
            },
            "colorscale": [
             [
              0,
              "#0d0887"
             ],
             [
              0.1111111111111111,
              "#46039f"
             ],
             [
              0.2222222222222222,
              "#7201a8"
             ],
             [
              0.3333333333333333,
              "#9c179e"
             ],
             [
              0.4444444444444444,
              "#bd3786"
             ],
             [
              0.5555555555555556,
              "#d8576b"
             ],
             [
              0.6666666666666666,
              "#ed7953"
             ],
             [
              0.7777777777777778,
              "#fb9f3a"
             ],
             [
              0.8888888888888888,
              "#fdca26"
             ],
             [
              1,
              "#f0f921"
             ]
            ],
            "type": "histogram2d"
           }
          ],
          "histogram2dcontour": [
           {
            "colorbar": {
             "outlinewidth": 0,
             "ticks": ""
            },
            "colorscale": [
             [
              0,
              "#0d0887"
             ],
             [
              0.1111111111111111,
              "#46039f"
             ],
             [
              0.2222222222222222,
              "#7201a8"
             ],
             [
              0.3333333333333333,
              "#9c179e"
             ],
             [
              0.4444444444444444,
              "#bd3786"
             ],
             [
              0.5555555555555556,
              "#d8576b"
             ],
             [
              0.6666666666666666,
              "#ed7953"
             ],
             [
              0.7777777777777778,
              "#fb9f3a"
             ],
             [
              0.8888888888888888,
              "#fdca26"
             ],
             [
              1,
              "#f0f921"
             ]
            ],
            "type": "histogram2dcontour"
           }
          ],
          "mesh3d": [
           {
            "colorbar": {
             "outlinewidth": 0,
             "ticks": ""
            },
            "type": "mesh3d"
           }
          ],
          "parcoords": [
           {
            "line": {
             "colorbar": {
              "outlinewidth": 0,
              "ticks": ""
             }
            },
            "type": "parcoords"
           }
          ],
          "pie": [
           {
            "automargin": true,
            "type": "pie"
           }
          ],
          "scatter": [
           {
            "marker": {
             "colorbar": {
              "outlinewidth": 0,
              "ticks": ""
             }
            },
            "type": "scatter"
           }
          ],
          "scatter3d": [
           {
            "line": {
             "colorbar": {
              "outlinewidth": 0,
              "ticks": ""
             }
            },
            "marker": {
             "colorbar": {
              "outlinewidth": 0,
              "ticks": ""
             }
            },
            "type": "scatter3d"
           }
          ],
          "scattercarpet": [
           {
            "marker": {
             "colorbar": {
              "outlinewidth": 0,
              "ticks": ""
             }
            },
            "type": "scattercarpet"
           }
          ],
          "scattergeo": [
           {
            "marker": {
             "colorbar": {
              "outlinewidth": 0,
              "ticks": ""
             }
            },
            "type": "scattergeo"
           }
          ],
          "scattergl": [
           {
            "marker": {
             "colorbar": {
              "outlinewidth": 0,
              "ticks": ""
             }
            },
            "type": "scattergl"
           }
          ],
          "scattermapbox": [
           {
            "marker": {
             "colorbar": {
              "outlinewidth": 0,
              "ticks": ""
             }
            },
            "type": "scattermapbox"
           }
          ],
          "scatterpolar": [
           {
            "marker": {
             "colorbar": {
              "outlinewidth": 0,
              "ticks": ""
             }
            },
            "type": "scatterpolar"
           }
          ],
          "scatterpolargl": [
           {
            "marker": {
             "colorbar": {
              "outlinewidth": 0,
              "ticks": ""
             }
            },
            "type": "scatterpolargl"
           }
          ],
          "scatterternary": [
           {
            "marker": {
             "colorbar": {
              "outlinewidth": 0,
              "ticks": ""
             }
            },
            "type": "scatterternary"
           }
          ],
          "surface": [
           {
            "colorbar": {
             "outlinewidth": 0,
             "ticks": ""
            },
            "colorscale": [
             [
              0,
              "#0d0887"
             ],
             [
              0.1111111111111111,
              "#46039f"
             ],
             [
              0.2222222222222222,
              "#7201a8"
             ],
             [
              0.3333333333333333,
              "#9c179e"
             ],
             [
              0.4444444444444444,
              "#bd3786"
             ],
             [
              0.5555555555555556,
              "#d8576b"
             ],
             [
              0.6666666666666666,
              "#ed7953"
             ],
             [
              0.7777777777777778,
              "#fb9f3a"
             ],
             [
              0.8888888888888888,
              "#fdca26"
             ],
             [
              1,
              "#f0f921"
             ]
            ],
            "type": "surface"
           }
          ],
          "table": [
           {
            "cells": {
             "fill": {
              "color": "#EBF0F8"
             },
             "line": {
              "color": "white"
             }
            },
            "header": {
             "fill": {
              "color": "#C8D4E3"
             },
             "line": {
              "color": "white"
             }
            },
            "type": "table"
           }
          ]
         },
         "layout": {
          "annotationdefaults": {
           "arrowcolor": "#2a3f5f",
           "arrowhead": 0,
           "arrowwidth": 1
          },
          "coloraxis": {
           "colorbar": {
            "outlinewidth": 0,
            "ticks": ""
           }
          },
          "colorscale": {
           "diverging": [
            [
             0,
             "#8e0152"
            ],
            [
             0.1,
             "#c51b7d"
            ],
            [
             0.2,
             "#de77ae"
            ],
            [
             0.3,
             "#f1b6da"
            ],
            [
             0.4,
             "#fde0ef"
            ],
            [
             0.5,
             "#f7f7f7"
            ],
            [
             0.6,
             "#e6f5d0"
            ],
            [
             0.7,
             "#b8e186"
            ],
            [
             0.8,
             "#7fbc41"
            ],
            [
             0.9,
             "#4d9221"
            ],
            [
             1,
             "#276419"
            ]
           ],
           "sequential": [
            [
             0,
             "#0d0887"
            ],
            [
             0.1111111111111111,
             "#46039f"
            ],
            [
             0.2222222222222222,
             "#7201a8"
            ],
            [
             0.3333333333333333,
             "#9c179e"
            ],
            [
             0.4444444444444444,
             "#bd3786"
            ],
            [
             0.5555555555555556,
             "#d8576b"
            ],
            [
             0.6666666666666666,
             "#ed7953"
            ],
            [
             0.7777777777777778,
             "#fb9f3a"
            ],
            [
             0.8888888888888888,
             "#fdca26"
            ],
            [
             1,
             "#f0f921"
            ]
           ],
           "sequentialminus": [
            [
             0,
             "#0d0887"
            ],
            [
             0.1111111111111111,
             "#46039f"
            ],
            [
             0.2222222222222222,
             "#7201a8"
            ],
            [
             0.3333333333333333,
             "#9c179e"
            ],
            [
             0.4444444444444444,
             "#bd3786"
            ],
            [
             0.5555555555555556,
             "#d8576b"
            ],
            [
             0.6666666666666666,
             "#ed7953"
            ],
            [
             0.7777777777777778,
             "#fb9f3a"
            ],
            [
             0.8888888888888888,
             "#fdca26"
            ],
            [
             1,
             "#f0f921"
            ]
           ]
          },
          "colorway": [
           "#636efa",
           "#EF553B",
           "#00cc96",
           "#ab63fa",
           "#FFA15A",
           "#19d3f3",
           "#FF6692",
           "#B6E880",
           "#FF97FF",
           "#FECB52"
          ],
          "font": {
           "color": "#2a3f5f"
          },
          "geo": {
           "bgcolor": "white",
           "lakecolor": "white",
           "landcolor": "#E5ECF6",
           "showlakes": true,
           "showland": true,
           "subunitcolor": "white"
          },
          "hoverlabel": {
           "align": "left"
          },
          "hovermode": "closest",
          "mapbox": {
           "style": "light"
          },
          "paper_bgcolor": "white",
          "plot_bgcolor": "#E5ECF6",
          "polar": {
           "angularaxis": {
            "gridcolor": "white",
            "linecolor": "white",
            "ticks": ""
           },
           "bgcolor": "#E5ECF6",
           "radialaxis": {
            "gridcolor": "white",
            "linecolor": "white",
            "ticks": ""
           }
          },
          "scene": {
           "xaxis": {
            "backgroundcolor": "#E5ECF6",
            "gridcolor": "white",
            "gridwidth": 2,
            "linecolor": "white",
            "showbackground": true,
            "ticks": "",
            "zerolinecolor": "white"
           },
           "yaxis": {
            "backgroundcolor": "#E5ECF6",
            "gridcolor": "white",
            "gridwidth": 2,
            "linecolor": "white",
            "showbackground": true,
            "ticks": "",
            "zerolinecolor": "white"
           },
           "zaxis": {
            "backgroundcolor": "#E5ECF6",
            "gridcolor": "white",
            "gridwidth": 2,
            "linecolor": "white",
            "showbackground": true,
            "ticks": "",
            "zerolinecolor": "white"
           }
          },
          "shapedefaults": {
           "line": {
            "color": "#2a3f5f"
           }
          },
          "ternary": {
           "aaxis": {
            "gridcolor": "white",
            "linecolor": "white",
            "ticks": ""
           },
           "baxis": {
            "gridcolor": "white",
            "linecolor": "white",
            "ticks": ""
           },
           "bgcolor": "#E5ECF6",
           "caxis": {
            "gridcolor": "white",
            "linecolor": "white",
            "ticks": ""
           }
          },
          "title": {
           "x": 0.05
          },
          "xaxis": {
           "automargin": true,
           "gridcolor": "white",
           "linecolor": "white",
           "ticks": "",
           "title": {
            "standoff": 15
           },
           "zerolinecolor": "white",
           "zerolinewidth": 2
          },
          "yaxis": {
           "automargin": true,
           "gridcolor": "white",
           "linecolor": "white",
           "ticks": "",
           "title": {
            "standoff": 15
           },
           "zerolinecolor": "white",
           "zerolinewidth": 2
          }
         }
        },
        "title": {
         "text": "Lift coefficient (Cl) vs Angle of attack (alpha) for <b>NACA 65(sub)2-215</b>"
        },
        "xaxis": {
         "anchor": "y",
         "domain": [
          0,
          1
         ],
         "title": {
          "text": "alpha"
         }
        },
        "yaxis": {
         "anchor": "x",
         "domain": [
          0,
          1
         ],
         "title": {
          "text": "Cl"
         }
        }
       }
      },
      "text/html": [
       "<div>\n",
       "        \n",
       "        \n",
       "            <div id=\"bea81993-edb2-4034-a5b5-53fb8d0ebe1c\" class=\"plotly-graph-div\" style=\"height:525px; width:100%;\"></div>\n",
       "            <script type=\"text/javascript\">\n",
       "                require([\"plotly\"], function(Plotly) {\n",
       "                    window.PLOTLYENV=window.PLOTLYENV || {};\n",
       "                    \n",
       "                if (document.getElementById(\"bea81993-edb2-4034-a5b5-53fb8d0ebe1c\")) {\n",
       "                    Plotly.newPlot(\n",
       "                        'bea81993-edb2-4034-a5b5-53fb8d0ebe1c',\n",
       "                        [{\"hovertemplate\": \"alpha=%{x}<br>Cl=%{y}<extra></extra>\", \"legendgroup\": \"\", \"line\": {\"color\": \"#636efa\", \"dash\": \"solid\"}, \"mode\": \"lines\", \"name\": \"\", \"orientation\": \"v\", \"showlegend\": false, \"type\": \"scatter\", \"x\": [19.3762, 18.2929, 17.4013, 16.2855, 15.2965, 14.275, 13.285, 12.3585, 10.1524, 8.10419, 6.11858, 5.22122, 4.16323, 3.13713, 2.0783, 1.14765, 0.023847, -0.972193, -2.00008, -2.96464, -4.15416, -5.05523, -6.02079, -8.04904, -10.1755, -12.1095, -13.3023, -14.1081, -15.0409, -16.1889, -17.3476], \"xaxis\": \"x\", \"y\": [1.37315, 1.41105, 1.51954, 1.54926, 1.53133, 1.49205, 1.43468, 1.38386, 1.20986, 1.00941, 0.818675, 0.719965, 0.603116, 0.504335, 0.384107, 0.290194, 0.164935, 0.036336, -0.056047, -0.176486, -0.292048, -0.41092, -0.526541, -0.739769, -0.966385, -1.14522, -1.22977, -1.26799, -1.21038, -0.670185, -0.61419], \"yaxis\": \"y\"}],\n",
       "                        {\"legend\": {\"tracegroupgap\": 0}, \"template\": {\"data\": {\"bar\": [{\"error_x\": {\"color\": \"#2a3f5f\"}, \"error_y\": {\"color\": \"#2a3f5f\"}, \"marker\": {\"line\": {\"color\": \"#E5ECF6\", \"width\": 0.5}}, \"type\": \"bar\"}], \"barpolar\": [{\"marker\": {\"line\": {\"color\": \"#E5ECF6\", \"width\": 0.5}}, \"type\": \"barpolar\"}], \"carpet\": [{\"aaxis\": {\"endlinecolor\": \"#2a3f5f\", \"gridcolor\": \"white\", \"linecolor\": \"white\", \"minorgridcolor\": \"white\", \"startlinecolor\": \"#2a3f5f\"}, \"baxis\": {\"endlinecolor\": \"#2a3f5f\", \"gridcolor\": \"white\", \"linecolor\": \"white\", \"minorgridcolor\": \"white\", \"startlinecolor\": \"#2a3f5f\"}, \"type\": \"carpet\"}], \"choropleth\": [{\"colorbar\": {\"outlinewidth\": 0, \"ticks\": \"\"}, \"type\": \"choropleth\"}], \"contour\": [{\"colorbar\": {\"outlinewidth\": 0, \"ticks\": \"\"}, \"colorscale\": [[0.0, \"#0d0887\"], [0.1111111111111111, \"#46039f\"], [0.2222222222222222, \"#7201a8\"], [0.3333333333333333, \"#9c179e\"], [0.4444444444444444, \"#bd3786\"], [0.5555555555555556, \"#d8576b\"], [0.6666666666666666, \"#ed7953\"], [0.7777777777777778, \"#fb9f3a\"], [0.8888888888888888, \"#fdca26\"], [1.0, \"#f0f921\"]], \"type\": \"contour\"}], \"contourcarpet\": [{\"colorbar\": {\"outlinewidth\": 0, \"ticks\": \"\"}, \"type\": \"contourcarpet\"}], \"heatmap\": [{\"colorbar\": {\"outlinewidth\": 0, \"ticks\": \"\"}, \"colorscale\": [[0.0, \"#0d0887\"], [0.1111111111111111, \"#46039f\"], [0.2222222222222222, \"#7201a8\"], [0.3333333333333333, \"#9c179e\"], [0.4444444444444444, \"#bd3786\"], [0.5555555555555556, \"#d8576b\"], [0.6666666666666666, \"#ed7953\"], [0.7777777777777778, \"#fb9f3a\"], [0.8888888888888888, \"#fdca26\"], [1.0, \"#f0f921\"]], \"type\": \"heatmap\"}], \"heatmapgl\": [{\"colorbar\": {\"outlinewidth\": 0, \"ticks\": \"\"}, \"colorscale\": [[0.0, \"#0d0887\"], [0.1111111111111111, \"#46039f\"], [0.2222222222222222, \"#7201a8\"], [0.3333333333333333, \"#9c179e\"], [0.4444444444444444, \"#bd3786\"], [0.5555555555555556, \"#d8576b\"], [0.6666666666666666, \"#ed7953\"], [0.7777777777777778, \"#fb9f3a\"], [0.8888888888888888, \"#fdca26\"], [1.0, \"#f0f921\"]], \"type\": \"heatmapgl\"}], \"histogram\": [{\"marker\": {\"colorbar\": {\"outlinewidth\": 0, \"ticks\": \"\"}}, \"type\": \"histogram\"}], \"histogram2d\": [{\"colorbar\": {\"outlinewidth\": 0, \"ticks\": \"\"}, \"colorscale\": [[0.0, \"#0d0887\"], [0.1111111111111111, \"#46039f\"], [0.2222222222222222, \"#7201a8\"], [0.3333333333333333, \"#9c179e\"], [0.4444444444444444, \"#bd3786\"], [0.5555555555555556, \"#d8576b\"], [0.6666666666666666, \"#ed7953\"], [0.7777777777777778, \"#fb9f3a\"], [0.8888888888888888, \"#fdca26\"], [1.0, \"#f0f921\"]], \"type\": \"histogram2d\"}], \"histogram2dcontour\": [{\"colorbar\": {\"outlinewidth\": 0, \"ticks\": \"\"}, \"colorscale\": [[0.0, \"#0d0887\"], [0.1111111111111111, \"#46039f\"], [0.2222222222222222, \"#7201a8\"], [0.3333333333333333, \"#9c179e\"], [0.4444444444444444, \"#bd3786\"], [0.5555555555555556, \"#d8576b\"], [0.6666666666666666, \"#ed7953\"], [0.7777777777777778, \"#fb9f3a\"], [0.8888888888888888, \"#fdca26\"], [1.0, \"#f0f921\"]], \"type\": \"histogram2dcontour\"}], \"mesh3d\": [{\"colorbar\": {\"outlinewidth\": 0, \"ticks\": \"\"}, \"type\": \"mesh3d\"}], \"parcoords\": [{\"line\": {\"colorbar\": {\"outlinewidth\": 0, \"ticks\": \"\"}}, \"type\": \"parcoords\"}], \"pie\": [{\"automargin\": true, \"type\": \"pie\"}], \"scatter\": [{\"marker\": {\"colorbar\": {\"outlinewidth\": 0, \"ticks\": \"\"}}, \"type\": \"scatter\"}], \"scatter3d\": [{\"line\": {\"colorbar\": {\"outlinewidth\": 0, \"ticks\": \"\"}}, \"marker\": {\"colorbar\": {\"outlinewidth\": 0, \"ticks\": \"\"}}, \"type\": \"scatter3d\"}], \"scattercarpet\": [{\"marker\": {\"colorbar\": {\"outlinewidth\": 0, \"ticks\": \"\"}}, \"type\": \"scattercarpet\"}], \"scattergeo\": [{\"marker\": {\"colorbar\": {\"outlinewidth\": 0, \"ticks\": \"\"}}, \"type\": \"scattergeo\"}], \"scattergl\": [{\"marker\": {\"colorbar\": {\"outlinewidth\": 0, \"ticks\": \"\"}}, \"type\": \"scattergl\"}], \"scattermapbox\": [{\"marker\": {\"colorbar\": {\"outlinewidth\": 0, \"ticks\": \"\"}}, \"type\": \"scattermapbox\"}], \"scatterpolar\": [{\"marker\": {\"colorbar\": {\"outlinewidth\": 0, \"ticks\": \"\"}}, \"type\": \"scatterpolar\"}], \"scatterpolargl\": [{\"marker\": {\"colorbar\": {\"outlinewidth\": 0, \"ticks\": \"\"}}, \"type\": \"scatterpolargl\"}], \"scatterternary\": [{\"marker\": {\"colorbar\": {\"outlinewidth\": 0, \"ticks\": \"\"}}, \"type\": \"scatterternary\"}], \"surface\": [{\"colorbar\": {\"outlinewidth\": 0, \"ticks\": \"\"}, \"colorscale\": [[0.0, \"#0d0887\"], [0.1111111111111111, \"#46039f\"], [0.2222222222222222, \"#7201a8\"], [0.3333333333333333, \"#9c179e\"], [0.4444444444444444, \"#bd3786\"], [0.5555555555555556, \"#d8576b\"], [0.6666666666666666, \"#ed7953\"], [0.7777777777777778, \"#fb9f3a\"], [0.8888888888888888, \"#fdca26\"], [1.0, \"#f0f921\"]], \"type\": \"surface\"}], \"table\": [{\"cells\": {\"fill\": {\"color\": \"#EBF0F8\"}, \"line\": {\"color\": \"white\"}}, \"header\": {\"fill\": {\"color\": \"#C8D4E3\"}, \"line\": {\"color\": \"white\"}}, \"type\": \"table\"}]}, \"layout\": {\"annotationdefaults\": {\"arrowcolor\": \"#2a3f5f\", \"arrowhead\": 0, \"arrowwidth\": 1}, \"coloraxis\": {\"colorbar\": {\"outlinewidth\": 0, \"ticks\": \"\"}}, \"colorscale\": {\"diverging\": [[0, \"#8e0152\"], [0.1, \"#c51b7d\"], [0.2, \"#de77ae\"], [0.3, \"#f1b6da\"], [0.4, \"#fde0ef\"], [0.5, \"#f7f7f7\"], [0.6, \"#e6f5d0\"], [0.7, \"#b8e186\"], [0.8, \"#7fbc41\"], [0.9, \"#4d9221\"], [1, \"#276419\"]], \"sequential\": [[0.0, \"#0d0887\"], [0.1111111111111111, \"#46039f\"], [0.2222222222222222, \"#7201a8\"], [0.3333333333333333, \"#9c179e\"], [0.4444444444444444, \"#bd3786\"], [0.5555555555555556, \"#d8576b\"], [0.6666666666666666, \"#ed7953\"], [0.7777777777777778, \"#fb9f3a\"], [0.8888888888888888, \"#fdca26\"], [1.0, \"#f0f921\"]], \"sequentialminus\": [[0.0, \"#0d0887\"], [0.1111111111111111, \"#46039f\"], [0.2222222222222222, \"#7201a8\"], [0.3333333333333333, \"#9c179e\"], [0.4444444444444444, \"#bd3786\"], [0.5555555555555556, \"#d8576b\"], [0.6666666666666666, \"#ed7953\"], [0.7777777777777778, \"#fb9f3a\"], [0.8888888888888888, \"#fdca26\"], [1.0, \"#f0f921\"]]}, \"colorway\": [\"#636efa\", \"#EF553B\", \"#00cc96\", \"#ab63fa\", \"#FFA15A\", \"#19d3f3\", \"#FF6692\", \"#B6E880\", \"#FF97FF\", \"#FECB52\"], \"font\": {\"color\": \"#2a3f5f\"}, \"geo\": {\"bgcolor\": \"white\", \"lakecolor\": \"white\", \"landcolor\": \"#E5ECF6\", \"showlakes\": true, \"showland\": true, \"subunitcolor\": \"white\"}, \"hoverlabel\": {\"align\": \"left\"}, \"hovermode\": \"closest\", \"mapbox\": {\"style\": \"light\"}, \"paper_bgcolor\": \"white\", \"plot_bgcolor\": \"#E5ECF6\", \"polar\": {\"angularaxis\": {\"gridcolor\": \"white\", \"linecolor\": \"white\", \"ticks\": \"\"}, \"bgcolor\": \"#E5ECF6\", \"radialaxis\": {\"gridcolor\": \"white\", \"linecolor\": \"white\", \"ticks\": \"\"}}, \"scene\": {\"xaxis\": {\"backgroundcolor\": \"#E5ECF6\", \"gridcolor\": \"white\", \"gridwidth\": 2, \"linecolor\": \"white\", \"showbackground\": true, \"ticks\": \"\", \"zerolinecolor\": \"white\"}, \"yaxis\": {\"backgroundcolor\": \"#E5ECF6\", \"gridcolor\": \"white\", \"gridwidth\": 2, \"linecolor\": \"white\", \"showbackground\": true, \"ticks\": \"\", \"zerolinecolor\": \"white\"}, \"zaxis\": {\"backgroundcolor\": \"#E5ECF6\", \"gridcolor\": \"white\", \"gridwidth\": 2, \"linecolor\": \"white\", \"showbackground\": true, \"ticks\": \"\", \"zerolinecolor\": \"white\"}}, \"shapedefaults\": {\"line\": {\"color\": \"#2a3f5f\"}}, \"ternary\": {\"aaxis\": {\"gridcolor\": \"white\", \"linecolor\": \"white\", \"ticks\": \"\"}, \"baxis\": {\"gridcolor\": \"white\", \"linecolor\": \"white\", \"ticks\": \"\"}, \"bgcolor\": \"#E5ECF6\", \"caxis\": {\"gridcolor\": \"white\", \"linecolor\": \"white\", \"ticks\": \"\"}}, \"title\": {\"x\": 0.05}, \"xaxis\": {\"automargin\": true, \"gridcolor\": \"white\", \"linecolor\": \"white\", \"ticks\": \"\", \"title\": {\"standoff\": 15}, \"zerolinecolor\": \"white\", \"zerolinewidth\": 2}, \"yaxis\": {\"automargin\": true, \"gridcolor\": \"white\", \"linecolor\": \"white\", \"ticks\": \"\", \"title\": {\"standoff\": 15}, \"zerolinecolor\": \"white\", \"zerolinewidth\": 2}}}, \"title\": {\"text\": \"Lift coefficient (Cl) vs Angle of attack (alpha) for <b>NACA 65(sub)2-215</b>\"}, \"xaxis\": {\"anchor\": \"y\", \"domain\": [0.0, 1.0], \"title\": {\"text\": \"alpha\"}}, \"yaxis\": {\"anchor\": \"x\", \"domain\": [0.0, 1.0], \"title\": {\"text\": \"Cl\"}}},\n",
       "                        {\"responsive\": true}\n",
       "                    ).then(function(){\n",
       "                            \n",
       "var gd = document.getElementById('bea81993-edb2-4034-a5b5-53fb8d0ebe1c');\n",
       "var x = new MutationObserver(function (mutations, observer) {{\n",
       "        var display = window.getComputedStyle(gd).display;\n",
       "        if (!display || display === 'none') {{\n",
       "            console.log([gd, 'removed!']);\n",
       "            Plotly.purge(gd);\n",
       "            observer.disconnect();\n",
       "        }}\n",
       "}});\n",
       "\n",
       "// Listen for the removal of the full notebook cells\n",
       "var notebookContainer = gd.closest('#notebook-container');\n",
       "if (notebookContainer) {{\n",
       "    x.observe(notebookContainer, {childList: true});\n",
       "}}\n",
       "\n",
       "// Listen for the clearing of the current output cell\n",
       "var outputEl = gd.closest('.output');\n",
       "if (outputEl) {{\n",
       "    x.observe(outputEl, {childList: true});\n",
       "}}\n",
       "\n",
       "                        })\n",
       "                };\n",
       "                });\n",
       "            </script>\n",
       "        </div>"
      ]
     },
     "metadata": {},
     "output_type": "display_data"
    },
    {
     "data": {
      "application/vnd.plotly.v1+json": {
       "config": {
        "plotlyServerURL": "https://plot.ly"
       },
       "data": [
        {
         "hovertemplate": "alpha=%{x}<br>Cd=%{y}<extra></extra>",
         "legendgroup": "",
         "line": {
          "color": "#636efa",
          "dash": "solid"
         },
         "mode": "lines",
         "name": "",
         "orientation": "v",
         "showlegend": false,
         "type": "scatter",
         "x": [
          19.3762,
          18.2929,
          17.4013,
          16.2855,
          15.2965,
          14.275,
          13.285,
          12.3585,
          10.1524,
          8.10419,
          6.11858,
          5.22122,
          4.16323,
          3.13713,
          2.0783,
          1.14765,
          0.023847,
          -0.972193,
          -2.00008,
          -2.96464,
          -4.15416,
          -5.05523,
          -6.02079,
          -8.04904,
          -10.1755,
          -12.1095,
          -13.3023,
          -14.1081,
          -15.0409,
          -16.1889,
          -17.3476
         ],
         "xaxis": "x",
         "y": [
          0.01700467,
          0.01894406,
          0,
          0,
          0,
          0,
          0,
          0.01752197,
          0.01322415,
          0.01084256,
          0.00929616,
          0.00851506,
          0.00774809,
          0.00501697,
          0.00464042,
          0.00449673,
          0.00437726,
          0.00431487,
          0.00458751,
          0.00646094,
          0.00730966,
          0.00784964,
          0.00829687,
          0.00988445,
          0.01178989,
          0.01508647,
          0.01689708,
          0.01765563,
          0.01650049,
          0.00935725,
          0.008933
         ],
         "yaxis": "y"
        }
       ],
       "layout": {
        "legend": {
         "tracegroupgap": 0
        },
        "template": {
         "data": {
          "bar": [
           {
            "error_x": {
             "color": "#2a3f5f"
            },
            "error_y": {
             "color": "#2a3f5f"
            },
            "marker": {
             "line": {
              "color": "#E5ECF6",
              "width": 0.5
             }
            },
            "type": "bar"
           }
          ],
          "barpolar": [
           {
            "marker": {
             "line": {
              "color": "#E5ECF6",
              "width": 0.5
             }
            },
            "type": "barpolar"
           }
          ],
          "carpet": [
           {
            "aaxis": {
             "endlinecolor": "#2a3f5f",
             "gridcolor": "white",
             "linecolor": "white",
             "minorgridcolor": "white",
             "startlinecolor": "#2a3f5f"
            },
            "baxis": {
             "endlinecolor": "#2a3f5f",
             "gridcolor": "white",
             "linecolor": "white",
             "minorgridcolor": "white",
             "startlinecolor": "#2a3f5f"
            },
            "type": "carpet"
           }
          ],
          "choropleth": [
           {
            "colorbar": {
             "outlinewidth": 0,
             "ticks": ""
            },
            "type": "choropleth"
           }
          ],
          "contour": [
           {
            "colorbar": {
             "outlinewidth": 0,
             "ticks": ""
            },
            "colorscale": [
             [
              0,
              "#0d0887"
             ],
             [
              0.1111111111111111,
              "#46039f"
             ],
             [
              0.2222222222222222,
              "#7201a8"
             ],
             [
              0.3333333333333333,
              "#9c179e"
             ],
             [
              0.4444444444444444,
              "#bd3786"
             ],
             [
              0.5555555555555556,
              "#d8576b"
             ],
             [
              0.6666666666666666,
              "#ed7953"
             ],
             [
              0.7777777777777778,
              "#fb9f3a"
             ],
             [
              0.8888888888888888,
              "#fdca26"
             ],
             [
              1,
              "#f0f921"
             ]
            ],
            "type": "contour"
           }
          ],
          "contourcarpet": [
           {
            "colorbar": {
             "outlinewidth": 0,
             "ticks": ""
            },
            "type": "contourcarpet"
           }
          ],
          "heatmap": [
           {
            "colorbar": {
             "outlinewidth": 0,
             "ticks": ""
            },
            "colorscale": [
             [
              0,
              "#0d0887"
             ],
             [
              0.1111111111111111,
              "#46039f"
             ],
             [
              0.2222222222222222,
              "#7201a8"
             ],
             [
              0.3333333333333333,
              "#9c179e"
             ],
             [
              0.4444444444444444,
              "#bd3786"
             ],
             [
              0.5555555555555556,
              "#d8576b"
             ],
             [
              0.6666666666666666,
              "#ed7953"
             ],
             [
              0.7777777777777778,
              "#fb9f3a"
             ],
             [
              0.8888888888888888,
              "#fdca26"
             ],
             [
              1,
              "#f0f921"
             ]
            ],
            "type": "heatmap"
           }
          ],
          "heatmapgl": [
           {
            "colorbar": {
             "outlinewidth": 0,
             "ticks": ""
            },
            "colorscale": [
             [
              0,
              "#0d0887"
             ],
             [
              0.1111111111111111,
              "#46039f"
             ],
             [
              0.2222222222222222,
              "#7201a8"
             ],
             [
              0.3333333333333333,
              "#9c179e"
             ],
             [
              0.4444444444444444,
              "#bd3786"
             ],
             [
              0.5555555555555556,
              "#d8576b"
             ],
             [
              0.6666666666666666,
              "#ed7953"
             ],
             [
              0.7777777777777778,
              "#fb9f3a"
             ],
             [
              0.8888888888888888,
              "#fdca26"
             ],
             [
              1,
              "#f0f921"
             ]
            ],
            "type": "heatmapgl"
           }
          ],
          "histogram": [
           {
            "marker": {
             "colorbar": {
              "outlinewidth": 0,
              "ticks": ""
             }
            },
            "type": "histogram"
           }
          ],
          "histogram2d": [
           {
            "colorbar": {
             "outlinewidth": 0,
             "ticks": ""
            },
            "colorscale": [
             [
              0,
              "#0d0887"
             ],
             [
              0.1111111111111111,
              "#46039f"
             ],
             [
              0.2222222222222222,
              "#7201a8"
             ],
             [
              0.3333333333333333,
              "#9c179e"
             ],
             [
              0.4444444444444444,
              "#bd3786"
             ],
             [
              0.5555555555555556,
              "#d8576b"
             ],
             [
              0.6666666666666666,
              "#ed7953"
             ],
             [
              0.7777777777777778,
              "#fb9f3a"
             ],
             [
              0.8888888888888888,
              "#fdca26"
             ],
             [
              1,
              "#f0f921"
             ]
            ],
            "type": "histogram2d"
           }
          ],
          "histogram2dcontour": [
           {
            "colorbar": {
             "outlinewidth": 0,
             "ticks": ""
            },
            "colorscale": [
             [
              0,
              "#0d0887"
             ],
             [
              0.1111111111111111,
              "#46039f"
             ],
             [
              0.2222222222222222,
              "#7201a8"
             ],
             [
              0.3333333333333333,
              "#9c179e"
             ],
             [
              0.4444444444444444,
              "#bd3786"
             ],
             [
              0.5555555555555556,
              "#d8576b"
             ],
             [
              0.6666666666666666,
              "#ed7953"
             ],
             [
              0.7777777777777778,
              "#fb9f3a"
             ],
             [
              0.8888888888888888,
              "#fdca26"
             ],
             [
              1,
              "#f0f921"
             ]
            ],
            "type": "histogram2dcontour"
           }
          ],
          "mesh3d": [
           {
            "colorbar": {
             "outlinewidth": 0,
             "ticks": ""
            },
            "type": "mesh3d"
           }
          ],
          "parcoords": [
           {
            "line": {
             "colorbar": {
              "outlinewidth": 0,
              "ticks": ""
             }
            },
            "type": "parcoords"
           }
          ],
          "pie": [
           {
            "automargin": true,
            "type": "pie"
           }
          ],
          "scatter": [
           {
            "marker": {
             "colorbar": {
              "outlinewidth": 0,
              "ticks": ""
             }
            },
            "type": "scatter"
           }
          ],
          "scatter3d": [
           {
            "line": {
             "colorbar": {
              "outlinewidth": 0,
              "ticks": ""
             }
            },
            "marker": {
             "colorbar": {
              "outlinewidth": 0,
              "ticks": ""
             }
            },
            "type": "scatter3d"
           }
          ],
          "scattercarpet": [
           {
            "marker": {
             "colorbar": {
              "outlinewidth": 0,
              "ticks": ""
             }
            },
            "type": "scattercarpet"
           }
          ],
          "scattergeo": [
           {
            "marker": {
             "colorbar": {
              "outlinewidth": 0,
              "ticks": ""
             }
            },
            "type": "scattergeo"
           }
          ],
          "scattergl": [
           {
            "marker": {
             "colorbar": {
              "outlinewidth": 0,
              "ticks": ""
             }
            },
            "type": "scattergl"
           }
          ],
          "scattermapbox": [
           {
            "marker": {
             "colorbar": {
              "outlinewidth": 0,
              "ticks": ""
             }
            },
            "type": "scattermapbox"
           }
          ],
          "scatterpolar": [
           {
            "marker": {
             "colorbar": {
              "outlinewidth": 0,
              "ticks": ""
             }
            },
            "type": "scatterpolar"
           }
          ],
          "scatterpolargl": [
           {
            "marker": {
             "colorbar": {
              "outlinewidth": 0,
              "ticks": ""
             }
            },
            "type": "scatterpolargl"
           }
          ],
          "scatterternary": [
           {
            "marker": {
             "colorbar": {
              "outlinewidth": 0,
              "ticks": ""
             }
            },
            "type": "scatterternary"
           }
          ],
          "surface": [
           {
            "colorbar": {
             "outlinewidth": 0,
             "ticks": ""
            },
            "colorscale": [
             [
              0,
              "#0d0887"
             ],
             [
              0.1111111111111111,
              "#46039f"
             ],
             [
              0.2222222222222222,
              "#7201a8"
             ],
             [
              0.3333333333333333,
              "#9c179e"
             ],
             [
              0.4444444444444444,
              "#bd3786"
             ],
             [
              0.5555555555555556,
              "#d8576b"
             ],
             [
              0.6666666666666666,
              "#ed7953"
             ],
             [
              0.7777777777777778,
              "#fb9f3a"
             ],
             [
              0.8888888888888888,
              "#fdca26"
             ],
             [
              1,
              "#f0f921"
             ]
            ],
            "type": "surface"
           }
          ],
          "table": [
           {
            "cells": {
             "fill": {
              "color": "#EBF0F8"
             },
             "line": {
              "color": "white"
             }
            },
            "header": {
             "fill": {
              "color": "#C8D4E3"
             },
             "line": {
              "color": "white"
             }
            },
            "type": "table"
           }
          ]
         },
         "layout": {
          "annotationdefaults": {
           "arrowcolor": "#2a3f5f",
           "arrowhead": 0,
           "arrowwidth": 1
          },
          "coloraxis": {
           "colorbar": {
            "outlinewidth": 0,
            "ticks": ""
           }
          },
          "colorscale": {
           "diverging": [
            [
             0,
             "#8e0152"
            ],
            [
             0.1,
             "#c51b7d"
            ],
            [
             0.2,
             "#de77ae"
            ],
            [
             0.3,
             "#f1b6da"
            ],
            [
             0.4,
             "#fde0ef"
            ],
            [
             0.5,
             "#f7f7f7"
            ],
            [
             0.6,
             "#e6f5d0"
            ],
            [
             0.7,
             "#b8e186"
            ],
            [
             0.8,
             "#7fbc41"
            ],
            [
             0.9,
             "#4d9221"
            ],
            [
             1,
             "#276419"
            ]
           ],
           "sequential": [
            [
             0,
             "#0d0887"
            ],
            [
             0.1111111111111111,
             "#46039f"
            ],
            [
             0.2222222222222222,
             "#7201a8"
            ],
            [
             0.3333333333333333,
             "#9c179e"
            ],
            [
             0.4444444444444444,
             "#bd3786"
            ],
            [
             0.5555555555555556,
             "#d8576b"
            ],
            [
             0.6666666666666666,
             "#ed7953"
            ],
            [
             0.7777777777777778,
             "#fb9f3a"
            ],
            [
             0.8888888888888888,
             "#fdca26"
            ],
            [
             1,
             "#f0f921"
            ]
           ],
           "sequentialminus": [
            [
             0,
             "#0d0887"
            ],
            [
             0.1111111111111111,
             "#46039f"
            ],
            [
             0.2222222222222222,
             "#7201a8"
            ],
            [
             0.3333333333333333,
             "#9c179e"
            ],
            [
             0.4444444444444444,
             "#bd3786"
            ],
            [
             0.5555555555555556,
             "#d8576b"
            ],
            [
             0.6666666666666666,
             "#ed7953"
            ],
            [
             0.7777777777777778,
             "#fb9f3a"
            ],
            [
             0.8888888888888888,
             "#fdca26"
            ],
            [
             1,
             "#f0f921"
            ]
           ]
          },
          "colorway": [
           "#636efa",
           "#EF553B",
           "#00cc96",
           "#ab63fa",
           "#FFA15A",
           "#19d3f3",
           "#FF6692",
           "#B6E880",
           "#FF97FF",
           "#FECB52"
          ],
          "font": {
           "color": "#2a3f5f"
          },
          "geo": {
           "bgcolor": "white",
           "lakecolor": "white",
           "landcolor": "#E5ECF6",
           "showlakes": true,
           "showland": true,
           "subunitcolor": "white"
          },
          "hoverlabel": {
           "align": "left"
          },
          "hovermode": "closest",
          "mapbox": {
           "style": "light"
          },
          "paper_bgcolor": "white",
          "plot_bgcolor": "#E5ECF6",
          "polar": {
           "angularaxis": {
            "gridcolor": "white",
            "linecolor": "white",
            "ticks": ""
           },
           "bgcolor": "#E5ECF6",
           "radialaxis": {
            "gridcolor": "white",
            "linecolor": "white",
            "ticks": ""
           }
          },
          "scene": {
           "xaxis": {
            "backgroundcolor": "#E5ECF6",
            "gridcolor": "white",
            "gridwidth": 2,
            "linecolor": "white",
            "showbackground": true,
            "ticks": "",
            "zerolinecolor": "white"
           },
           "yaxis": {
            "backgroundcolor": "#E5ECF6",
            "gridcolor": "white",
            "gridwidth": 2,
            "linecolor": "white",
            "showbackground": true,
            "ticks": "",
            "zerolinecolor": "white"
           },
           "zaxis": {
            "backgroundcolor": "#E5ECF6",
            "gridcolor": "white",
            "gridwidth": 2,
            "linecolor": "white",
            "showbackground": true,
            "ticks": "",
            "zerolinecolor": "white"
           }
          },
          "shapedefaults": {
           "line": {
            "color": "#2a3f5f"
           }
          },
          "ternary": {
           "aaxis": {
            "gridcolor": "white",
            "linecolor": "white",
            "ticks": ""
           },
           "baxis": {
            "gridcolor": "white",
            "linecolor": "white",
            "ticks": ""
           },
           "bgcolor": "#E5ECF6",
           "caxis": {
            "gridcolor": "white",
            "linecolor": "white",
            "ticks": ""
           }
          },
          "title": {
           "x": 0.05
          },
          "xaxis": {
           "automargin": true,
           "gridcolor": "white",
           "linecolor": "white",
           "ticks": "",
           "title": {
            "standoff": 15
           },
           "zerolinecolor": "white",
           "zerolinewidth": 2
          },
          "yaxis": {
           "automargin": true,
           "gridcolor": "white",
           "linecolor": "white",
           "ticks": "",
           "title": {
            "standoff": 15
           },
           "zerolinecolor": "white",
           "zerolinewidth": 2
          }
         }
        },
        "title": {
         "text": "Lift coefficient (Cl) vs Angle of attack (alpha) for <b>NACA 65(sub)2-215</b>"
        },
        "xaxis": {
         "anchor": "y",
         "domain": [
          0,
          1
         ],
         "title": {
          "text": "alpha"
         }
        },
        "yaxis": {
         "anchor": "x",
         "domain": [
          0,
          1
         ],
         "title": {
          "text": "Cd"
         }
        }
       }
      },
      "text/html": [
       "<div>\n",
       "        \n",
       "        \n",
       "            <div id=\"1dfbbfd0-8ec0-4a22-9171-0660e16088c4\" class=\"plotly-graph-div\" style=\"height:525px; width:100%;\"></div>\n",
       "            <script type=\"text/javascript\">\n",
       "                require([\"plotly\"], function(Plotly) {\n",
       "                    window.PLOTLYENV=window.PLOTLYENV || {};\n",
       "                    \n",
       "                if (document.getElementById(\"1dfbbfd0-8ec0-4a22-9171-0660e16088c4\")) {\n",
       "                    Plotly.newPlot(\n",
       "                        '1dfbbfd0-8ec0-4a22-9171-0660e16088c4',\n",
       "                        [{\"hovertemplate\": \"alpha=%{x}<br>Cd=%{y}<extra></extra>\", \"legendgroup\": \"\", \"line\": {\"color\": \"#636efa\", \"dash\": \"solid\"}, \"mode\": \"lines\", \"name\": \"\", \"orientation\": \"v\", \"showlegend\": false, \"type\": \"scatter\", \"x\": [19.3762, 18.2929, 17.4013, 16.2855, 15.2965, 14.275, 13.285, 12.3585, 10.1524, 8.10419, 6.11858, 5.22122, 4.16323, 3.13713, 2.0783, 1.14765, 0.023847, -0.972193, -2.00008, -2.96464, -4.15416, -5.05523, -6.02079, -8.04904, -10.1755, -12.1095, -13.3023, -14.1081, -15.0409, -16.1889, -17.3476], \"xaxis\": \"x\", \"y\": [0.01700467, 0.01894406, 0.0, 0.0, 0.0, 0.0, 0.0, 0.01752197, 0.01322415, 0.01084256, 0.00929616, 0.00851506, 0.00774809, 0.00501697, 0.00464042, 0.00449673, 0.00437726, 0.00431487, 0.00458751, 0.00646094, 0.00730966, 0.00784964, 0.00829687, 0.00988445, 0.01178989, 0.01508647, 0.01689708, 0.01765563, 0.01650049, 0.00935725, 0.008933], \"yaxis\": \"y\"}],\n",
       "                        {\"legend\": {\"tracegroupgap\": 0}, \"template\": {\"data\": {\"bar\": [{\"error_x\": {\"color\": \"#2a3f5f\"}, \"error_y\": {\"color\": \"#2a3f5f\"}, \"marker\": {\"line\": {\"color\": \"#E5ECF6\", \"width\": 0.5}}, \"type\": \"bar\"}], \"barpolar\": [{\"marker\": {\"line\": {\"color\": \"#E5ECF6\", \"width\": 0.5}}, \"type\": \"barpolar\"}], \"carpet\": [{\"aaxis\": {\"endlinecolor\": \"#2a3f5f\", \"gridcolor\": \"white\", \"linecolor\": \"white\", \"minorgridcolor\": \"white\", \"startlinecolor\": \"#2a3f5f\"}, \"baxis\": {\"endlinecolor\": \"#2a3f5f\", \"gridcolor\": \"white\", \"linecolor\": \"white\", \"minorgridcolor\": \"white\", \"startlinecolor\": \"#2a3f5f\"}, \"type\": \"carpet\"}], \"choropleth\": [{\"colorbar\": {\"outlinewidth\": 0, \"ticks\": \"\"}, \"type\": \"choropleth\"}], \"contour\": [{\"colorbar\": {\"outlinewidth\": 0, \"ticks\": \"\"}, \"colorscale\": [[0.0, \"#0d0887\"], [0.1111111111111111, \"#46039f\"], [0.2222222222222222, \"#7201a8\"], [0.3333333333333333, \"#9c179e\"], [0.4444444444444444, \"#bd3786\"], [0.5555555555555556, \"#d8576b\"], [0.6666666666666666, \"#ed7953\"], [0.7777777777777778, \"#fb9f3a\"], [0.8888888888888888, \"#fdca26\"], [1.0, \"#f0f921\"]], \"type\": \"contour\"}], \"contourcarpet\": [{\"colorbar\": {\"outlinewidth\": 0, \"ticks\": \"\"}, \"type\": \"contourcarpet\"}], \"heatmap\": [{\"colorbar\": {\"outlinewidth\": 0, \"ticks\": \"\"}, \"colorscale\": [[0.0, \"#0d0887\"], [0.1111111111111111, \"#46039f\"], [0.2222222222222222, \"#7201a8\"], [0.3333333333333333, \"#9c179e\"], [0.4444444444444444, \"#bd3786\"], [0.5555555555555556, \"#d8576b\"], [0.6666666666666666, \"#ed7953\"], [0.7777777777777778, \"#fb9f3a\"], [0.8888888888888888, \"#fdca26\"], [1.0, \"#f0f921\"]], \"type\": \"heatmap\"}], \"heatmapgl\": [{\"colorbar\": {\"outlinewidth\": 0, \"ticks\": \"\"}, \"colorscale\": [[0.0, \"#0d0887\"], [0.1111111111111111, \"#46039f\"], [0.2222222222222222, \"#7201a8\"], [0.3333333333333333, \"#9c179e\"], [0.4444444444444444, \"#bd3786\"], [0.5555555555555556, \"#d8576b\"], [0.6666666666666666, \"#ed7953\"], [0.7777777777777778, \"#fb9f3a\"], [0.8888888888888888, \"#fdca26\"], [1.0, \"#f0f921\"]], \"type\": \"heatmapgl\"}], \"histogram\": [{\"marker\": {\"colorbar\": {\"outlinewidth\": 0, \"ticks\": \"\"}}, \"type\": \"histogram\"}], \"histogram2d\": [{\"colorbar\": {\"outlinewidth\": 0, \"ticks\": \"\"}, \"colorscale\": [[0.0, \"#0d0887\"], [0.1111111111111111, \"#46039f\"], [0.2222222222222222, \"#7201a8\"], [0.3333333333333333, \"#9c179e\"], [0.4444444444444444, \"#bd3786\"], [0.5555555555555556, \"#d8576b\"], [0.6666666666666666, \"#ed7953\"], [0.7777777777777778, \"#fb9f3a\"], [0.8888888888888888, \"#fdca26\"], [1.0, \"#f0f921\"]], \"type\": \"histogram2d\"}], \"histogram2dcontour\": [{\"colorbar\": {\"outlinewidth\": 0, \"ticks\": \"\"}, \"colorscale\": [[0.0, \"#0d0887\"], [0.1111111111111111, \"#46039f\"], [0.2222222222222222, \"#7201a8\"], [0.3333333333333333, \"#9c179e\"], [0.4444444444444444, \"#bd3786\"], [0.5555555555555556, \"#d8576b\"], [0.6666666666666666, \"#ed7953\"], [0.7777777777777778, \"#fb9f3a\"], [0.8888888888888888, \"#fdca26\"], [1.0, \"#f0f921\"]], \"type\": \"histogram2dcontour\"}], \"mesh3d\": [{\"colorbar\": {\"outlinewidth\": 0, \"ticks\": \"\"}, \"type\": \"mesh3d\"}], \"parcoords\": [{\"line\": {\"colorbar\": {\"outlinewidth\": 0, \"ticks\": \"\"}}, \"type\": \"parcoords\"}], \"pie\": [{\"automargin\": true, \"type\": \"pie\"}], \"scatter\": [{\"marker\": {\"colorbar\": {\"outlinewidth\": 0, \"ticks\": \"\"}}, \"type\": \"scatter\"}], \"scatter3d\": [{\"line\": {\"colorbar\": {\"outlinewidth\": 0, \"ticks\": \"\"}}, \"marker\": {\"colorbar\": {\"outlinewidth\": 0, \"ticks\": \"\"}}, \"type\": \"scatter3d\"}], \"scattercarpet\": [{\"marker\": {\"colorbar\": {\"outlinewidth\": 0, \"ticks\": \"\"}}, \"type\": \"scattercarpet\"}], \"scattergeo\": [{\"marker\": {\"colorbar\": {\"outlinewidth\": 0, \"ticks\": \"\"}}, \"type\": \"scattergeo\"}], \"scattergl\": [{\"marker\": {\"colorbar\": {\"outlinewidth\": 0, \"ticks\": \"\"}}, \"type\": \"scattergl\"}], \"scattermapbox\": [{\"marker\": {\"colorbar\": {\"outlinewidth\": 0, \"ticks\": \"\"}}, \"type\": \"scattermapbox\"}], \"scatterpolar\": [{\"marker\": {\"colorbar\": {\"outlinewidth\": 0, \"ticks\": \"\"}}, \"type\": \"scatterpolar\"}], \"scatterpolargl\": [{\"marker\": {\"colorbar\": {\"outlinewidth\": 0, \"ticks\": \"\"}}, \"type\": \"scatterpolargl\"}], \"scatterternary\": [{\"marker\": {\"colorbar\": {\"outlinewidth\": 0, \"ticks\": \"\"}}, \"type\": \"scatterternary\"}], \"surface\": [{\"colorbar\": {\"outlinewidth\": 0, \"ticks\": \"\"}, \"colorscale\": [[0.0, \"#0d0887\"], [0.1111111111111111, \"#46039f\"], [0.2222222222222222, \"#7201a8\"], [0.3333333333333333, \"#9c179e\"], [0.4444444444444444, \"#bd3786\"], [0.5555555555555556, \"#d8576b\"], [0.6666666666666666, \"#ed7953\"], [0.7777777777777778, \"#fb9f3a\"], [0.8888888888888888, \"#fdca26\"], [1.0, \"#f0f921\"]], \"type\": \"surface\"}], \"table\": [{\"cells\": {\"fill\": {\"color\": \"#EBF0F8\"}, \"line\": {\"color\": \"white\"}}, \"header\": {\"fill\": {\"color\": \"#C8D4E3\"}, \"line\": {\"color\": \"white\"}}, \"type\": \"table\"}]}, \"layout\": {\"annotationdefaults\": {\"arrowcolor\": \"#2a3f5f\", \"arrowhead\": 0, \"arrowwidth\": 1}, \"coloraxis\": {\"colorbar\": {\"outlinewidth\": 0, \"ticks\": \"\"}}, \"colorscale\": {\"diverging\": [[0, \"#8e0152\"], [0.1, \"#c51b7d\"], [0.2, \"#de77ae\"], [0.3, \"#f1b6da\"], [0.4, \"#fde0ef\"], [0.5, \"#f7f7f7\"], [0.6, \"#e6f5d0\"], [0.7, \"#b8e186\"], [0.8, \"#7fbc41\"], [0.9, \"#4d9221\"], [1, \"#276419\"]], \"sequential\": [[0.0, \"#0d0887\"], [0.1111111111111111, \"#46039f\"], [0.2222222222222222, \"#7201a8\"], [0.3333333333333333, \"#9c179e\"], [0.4444444444444444, \"#bd3786\"], [0.5555555555555556, \"#d8576b\"], [0.6666666666666666, \"#ed7953\"], [0.7777777777777778, \"#fb9f3a\"], [0.8888888888888888, \"#fdca26\"], [1.0, \"#f0f921\"]], \"sequentialminus\": [[0.0, \"#0d0887\"], [0.1111111111111111, \"#46039f\"], [0.2222222222222222, \"#7201a8\"], [0.3333333333333333, \"#9c179e\"], [0.4444444444444444, \"#bd3786\"], [0.5555555555555556, \"#d8576b\"], [0.6666666666666666, \"#ed7953\"], [0.7777777777777778, \"#fb9f3a\"], [0.8888888888888888, \"#fdca26\"], [1.0, \"#f0f921\"]]}, \"colorway\": [\"#636efa\", \"#EF553B\", \"#00cc96\", \"#ab63fa\", \"#FFA15A\", \"#19d3f3\", \"#FF6692\", \"#B6E880\", \"#FF97FF\", \"#FECB52\"], \"font\": {\"color\": \"#2a3f5f\"}, \"geo\": {\"bgcolor\": \"white\", \"lakecolor\": \"white\", \"landcolor\": \"#E5ECF6\", \"showlakes\": true, \"showland\": true, \"subunitcolor\": \"white\"}, \"hoverlabel\": {\"align\": \"left\"}, \"hovermode\": \"closest\", \"mapbox\": {\"style\": \"light\"}, \"paper_bgcolor\": \"white\", \"plot_bgcolor\": \"#E5ECF6\", \"polar\": {\"angularaxis\": {\"gridcolor\": \"white\", \"linecolor\": \"white\", \"ticks\": \"\"}, \"bgcolor\": \"#E5ECF6\", \"radialaxis\": {\"gridcolor\": \"white\", \"linecolor\": \"white\", \"ticks\": \"\"}}, \"scene\": {\"xaxis\": {\"backgroundcolor\": \"#E5ECF6\", \"gridcolor\": \"white\", \"gridwidth\": 2, \"linecolor\": \"white\", \"showbackground\": true, \"ticks\": \"\", \"zerolinecolor\": \"white\"}, \"yaxis\": {\"backgroundcolor\": \"#E5ECF6\", \"gridcolor\": \"white\", \"gridwidth\": 2, \"linecolor\": \"white\", \"showbackground\": true, \"ticks\": \"\", \"zerolinecolor\": \"white\"}, \"zaxis\": {\"backgroundcolor\": \"#E5ECF6\", \"gridcolor\": \"white\", \"gridwidth\": 2, \"linecolor\": \"white\", \"showbackground\": true, \"ticks\": \"\", \"zerolinecolor\": \"white\"}}, \"shapedefaults\": {\"line\": {\"color\": \"#2a3f5f\"}}, \"ternary\": {\"aaxis\": {\"gridcolor\": \"white\", \"linecolor\": \"white\", \"ticks\": \"\"}, \"baxis\": {\"gridcolor\": \"white\", \"linecolor\": \"white\", \"ticks\": \"\"}, \"bgcolor\": \"#E5ECF6\", \"caxis\": {\"gridcolor\": \"white\", \"linecolor\": \"white\", \"ticks\": \"\"}}, \"title\": {\"x\": 0.05}, \"xaxis\": {\"automargin\": true, \"gridcolor\": \"white\", \"linecolor\": \"white\", \"ticks\": \"\", \"title\": {\"standoff\": 15}, \"zerolinecolor\": \"white\", \"zerolinewidth\": 2}, \"yaxis\": {\"automargin\": true, \"gridcolor\": \"white\", \"linecolor\": \"white\", \"ticks\": \"\", \"title\": {\"standoff\": 15}, \"zerolinecolor\": \"white\", \"zerolinewidth\": 2}}}, \"title\": {\"text\": \"Lift coefficient (Cl) vs Angle of attack (alpha) for <b>NACA 65(sub)2-215</b>\"}, \"xaxis\": {\"anchor\": \"y\", \"domain\": [0.0, 1.0], \"title\": {\"text\": \"alpha\"}}, \"yaxis\": {\"anchor\": \"x\", \"domain\": [0.0, 1.0], \"title\": {\"text\": \"Cd\"}}},\n",
       "                        {\"responsive\": true}\n",
       "                    ).then(function(){\n",
       "                            \n",
       "var gd = document.getElementById('1dfbbfd0-8ec0-4a22-9171-0660e16088c4');\n",
       "var x = new MutationObserver(function (mutations, observer) {{\n",
       "        var display = window.getComputedStyle(gd).display;\n",
       "        if (!display || display === 'none') {{\n",
       "            console.log([gd, 'removed!']);\n",
       "            Plotly.purge(gd);\n",
       "            observer.disconnect();\n",
       "        }}\n",
       "}});\n",
       "\n",
       "// Listen for the removal of the full notebook cells\n",
       "var notebookContainer = gd.closest('#notebook-container');\n",
       "if (notebookContainer) {{\n",
       "    x.observe(notebookContainer, {childList: true});\n",
       "}}\n",
       "\n",
       "// Listen for the clearing of the current output cell\n",
       "var outputEl = gd.closest('.output');\n",
       "if (outputEl) {{\n",
       "    x.observe(outputEl, {childList: true});\n",
       "}}\n",
       "\n",
       "                        })\n",
       "                };\n",
       "                });\n",
       "            </script>\n",
       "        </div>"
      ]
     },
     "metadata": {},
     "output_type": "display_data"
    }
   ],
   "source": [
    "idx='216'\n",
    "sampleAlphaLiftDrag=dfProperties[dfProperties['id']==idx]\n",
    "\n",
    "xs = dfCoords[dfCoords['id']==idx]['xs'].values[0]\n",
    "ys = dfCoords[dfCoords['id']==idx]['ys'].values[0]\n",
    "title=dfNames[dfNames['id']==idx].values[0][1] +' '+\\\n",
    "dfNames[dfNames['id']==idx].values[0][2]\n",
    "f=px.line(x=xs, y=ys, title='<b>'+title+'</b>')\n",
    "f.update_yaxes(scaleanchor = \"x\", scaleratio = 1)\n",
    "f.show()\n",
    "\n",
    "f = px.line(sampleAlphaLiftDrag, x ='alpha', y='Cl', title=f'Lift coefficient (Cl) vs Angle of attack (alpha) for <b>{title}</b>')\n",
    "f.show()\n",
    "f = px.line(sampleAlphaLiftDrag, x ='alpha', y='Cd', title=f'Lift coefficient (Cl) vs Angle of attack (alpha) for <b>{title}</b>')\n",
    "f.show()"
   ]
  },
  {
   "cell_type": "markdown",
   "metadata": {},
   "source": [
    "## Feature generation\n",
    "As soon as x coordinates of shape do not have any valuable information, I decided to find a ratio of y coordinates to x coordinates.  \n",
    "Later I will need to remove inf values as there are 0's in denominator. This new feature can be considered as a parameter defining angle of a vector connecting the origin with the point and therefore represents geometry of an airfoil. "
   ]
  },
  {
   "cell_type": "code",
   "execution_count": 554,
   "metadata": {},
   "outputs": [
    {
     "data": {
      "text/html": [
       "<div>\n",
       "<style scoped>\n",
       "    .dataframe tbody tr th:only-of-type {\n",
       "        vertical-align: middle;\n",
       "    }\n",
       "\n",
       "    .dataframe tbody tr th {\n",
       "        vertical-align: top;\n",
       "    }\n",
       "\n",
       "    .dataframe thead th {\n",
       "        text-align: right;\n",
       "    }\n",
       "</style>\n",
       "<table border=\"1\" class=\"dataframe\">\n",
       "  <thead>\n",
       "    <tr style=\"text-align: right;\">\n",
       "      <th></th>\n",
       "      <th>id</th>\n",
       "      <th>alpha</th>\n",
       "      <th>Cl</th>\n",
       "      <th>Cd</th>\n",
       "      <th>xs</th>\n",
       "      <th>ys</th>\n",
       "      <th>ysr</th>\n",
       "    </tr>\n",
       "  </thead>\n",
       "  <tbody>\n",
       "    <tr>\n",
       "      <th>0</th>\n",
       "      <td>216</td>\n",
       "      <td>19.37620</td>\n",
       "      <td>1.373150</td>\n",
       "      <td>0.017005</td>\n",
       "      <td>[1.0, 0.9502, 0.9004, 0.85055, 0.80063, 0.7506...</td>\n",
       "      <td>[0.0, 0.00744, 0.0166, 0.02649, 0.03653, 0.046...</td>\n",
       "      <td>[0.0, 0.00782993054093875, 0.01843625055530875...</td>\n",
       "    </tr>\n",
       "    <tr>\n",
       "      <th>1</th>\n",
       "      <td>216</td>\n",
       "      <td>18.29290</td>\n",
       "      <td>1.411050</td>\n",
       "      <td>0.018944</td>\n",
       "      <td>[1.0, 0.9502, 0.9004, 0.85055, 0.80063, 0.7506...</td>\n",
       "      <td>[0.0, 0.00744, 0.0166, 0.02649, 0.03653, 0.046...</td>\n",
       "      <td>[0.0, 0.00782993054093875, 0.01843625055530875...</td>\n",
       "    </tr>\n",
       "    <tr>\n",
       "      <th>2</th>\n",
       "      <td>216</td>\n",
       "      <td>17.40130</td>\n",
       "      <td>1.519540</td>\n",
       "      <td>0.000000</td>\n",
       "      <td>[1.0, 0.9502, 0.9004, 0.85055, 0.80063, 0.7506...</td>\n",
       "      <td>[0.0, 0.00744, 0.0166, 0.02649, 0.03653, 0.046...</td>\n",
       "      <td>[0.0, 0.00782993054093875, 0.01843625055530875...</td>\n",
       "    </tr>\n",
       "    <tr>\n",
       "      <th>3</th>\n",
       "      <td>216</td>\n",
       "      <td>16.28550</td>\n",
       "      <td>1.549260</td>\n",
       "      <td>0.000000</td>\n",
       "      <td>[1.0, 0.9502, 0.9004, 0.85055, 0.80063, 0.7506...</td>\n",
       "      <td>[0.0, 0.00744, 0.0166, 0.02649, 0.03653, 0.046...</td>\n",
       "      <td>[0.0, 0.00782993054093875, 0.01843625055530875...</td>\n",
       "    </tr>\n",
       "    <tr>\n",
       "      <th>4</th>\n",
       "      <td>216</td>\n",
       "      <td>15.29650</td>\n",
       "      <td>1.531330</td>\n",
       "      <td>0.000000</td>\n",
       "      <td>[1.0, 0.9502, 0.9004, 0.85055, 0.80063, 0.7506...</td>\n",
       "      <td>[0.0, 0.00744, 0.0166, 0.02649, 0.03653, 0.046...</td>\n",
       "      <td>[0.0, 0.00782993054093875, 0.01843625055530875...</td>\n",
       "    </tr>\n",
       "    <tr>\n",
       "      <th>...</th>\n",
       "      <td>...</td>\n",
       "      <td>...</td>\n",
       "      <td>...</td>\n",
       "      <td>...</td>\n",
       "      <td>...</td>\n",
       "      <td>...</td>\n",
       "      <td>...</td>\n",
       "    </tr>\n",
       "    <tr>\n",
       "      <th>3318</th>\n",
       "      <td>233</td>\n",
       "      <td>-8.23054</td>\n",
       "      <td>-0.714753</td>\n",
       "      <td>0.010010</td>\n",
       "      <td>[1.0, 0.95022, 0.90043, 0.85057, 0.80065, 0.75...</td>\n",
       "      <td>[0.0, 0.00789, 0.0175, 0.02755, 0.03739, 0.046...</td>\n",
       "      <td>[0.0, 0.008303340279093262, 0.0194351587574825...</td>\n",
       "    </tr>\n",
       "    <tr>\n",
       "      <th>3319</th>\n",
       "      <td>233</td>\n",
       "      <td>-10.40240</td>\n",
       "      <td>-0.904422</td>\n",
       "      <td>0.000000</td>\n",
       "      <td>[1.0, 0.95022, 0.90043, 0.85057, 0.80065, 0.75...</td>\n",
       "      <td>[0.0, 0.00789, 0.0175, 0.02755, 0.03739, 0.046...</td>\n",
       "      <td>[0.0, 0.008303340279093262, 0.0194351587574825...</td>\n",
       "    </tr>\n",
       "    <tr>\n",
       "      <th>3320</th>\n",
       "      <td>233</td>\n",
       "      <td>-11.07290</td>\n",
       "      <td>-0.985190</td>\n",
       "      <td>0.000000</td>\n",
       "      <td>[1.0, 0.95022, 0.90043, 0.85057, 0.80065, 0.75...</td>\n",
       "      <td>[0.0, 0.00789, 0.0175, 0.02755, 0.03739, 0.046...</td>\n",
       "      <td>[0.0, 0.008303340279093262, 0.0194351587574825...</td>\n",
       "    </tr>\n",
       "    <tr>\n",
       "      <th>3321</th>\n",
       "      <td>233</td>\n",
       "      <td>-12.35700</td>\n",
       "      <td>-0.646564</td>\n",
       "      <td>0.009324</td>\n",
       "      <td>[1.0, 0.95022, 0.90043, 0.85057, 0.80065, 0.75...</td>\n",
       "      <td>[0.0, 0.00789, 0.0175, 0.02755, 0.03739, 0.046...</td>\n",
       "      <td>[0.0, 0.008303340279093262, 0.0194351587574825...</td>\n",
       "    </tr>\n",
       "    <tr>\n",
       "      <th>3322</th>\n",
       "      <td>233</td>\n",
       "      <td>-14.18290</td>\n",
       "      <td>-0.518578</td>\n",
       "      <td>0.008144</td>\n",
       "      <td>[1.0, 0.95022, 0.90043, 0.85057, 0.80065, 0.75...</td>\n",
       "      <td>[0.0, 0.00789, 0.0175, 0.02755, 0.03739, 0.046...</td>\n",
       "      <td>[0.0, 0.008303340279093262, 0.0194351587574825...</td>\n",
       "    </tr>\n",
       "  </tbody>\n",
       "</table>\n",
       "<p>1800 rows × 7 columns</p>\n",
       "</div>"
      ],
      "text/plain": [
       "       id     alpha        Cl        Cd  \\\n",
       "0     216  19.37620  1.373150  0.017005   \n",
       "1     216  18.29290  1.411050  0.018944   \n",
       "2     216  17.40130  1.519540  0.000000   \n",
       "3     216  16.28550  1.549260  0.000000   \n",
       "4     216  15.29650  1.531330  0.000000   \n",
       "...   ...       ...       ...       ...   \n",
       "3318  233  -8.23054 -0.714753  0.010010   \n",
       "3319  233 -10.40240 -0.904422  0.000000   \n",
       "3320  233 -11.07290 -0.985190  0.000000   \n",
       "3321  233 -12.35700 -0.646564  0.009324   \n",
       "3322  233 -14.18290 -0.518578  0.008144   \n",
       "\n",
       "                                                     xs  \\\n",
       "0     [1.0, 0.9502, 0.9004, 0.85055, 0.80063, 0.7506...   \n",
       "1     [1.0, 0.9502, 0.9004, 0.85055, 0.80063, 0.7506...   \n",
       "2     [1.0, 0.9502, 0.9004, 0.85055, 0.80063, 0.7506...   \n",
       "3     [1.0, 0.9502, 0.9004, 0.85055, 0.80063, 0.7506...   \n",
       "4     [1.0, 0.9502, 0.9004, 0.85055, 0.80063, 0.7506...   \n",
       "...                                                 ...   \n",
       "3318  [1.0, 0.95022, 0.90043, 0.85057, 0.80065, 0.75...   \n",
       "3319  [1.0, 0.95022, 0.90043, 0.85057, 0.80065, 0.75...   \n",
       "3320  [1.0, 0.95022, 0.90043, 0.85057, 0.80065, 0.75...   \n",
       "3321  [1.0, 0.95022, 0.90043, 0.85057, 0.80065, 0.75...   \n",
       "3322  [1.0, 0.95022, 0.90043, 0.85057, 0.80065, 0.75...   \n",
       "\n",
       "                                                     ys  \\\n",
       "0     [0.0, 0.00744, 0.0166, 0.02649, 0.03653, 0.046...   \n",
       "1     [0.0, 0.00744, 0.0166, 0.02649, 0.03653, 0.046...   \n",
       "2     [0.0, 0.00744, 0.0166, 0.02649, 0.03653, 0.046...   \n",
       "3     [0.0, 0.00744, 0.0166, 0.02649, 0.03653, 0.046...   \n",
       "4     [0.0, 0.00744, 0.0166, 0.02649, 0.03653, 0.046...   \n",
       "...                                                 ...   \n",
       "3318  [0.0, 0.00789, 0.0175, 0.02755, 0.03739, 0.046...   \n",
       "3319  [0.0, 0.00789, 0.0175, 0.02755, 0.03739, 0.046...   \n",
       "3320  [0.0, 0.00789, 0.0175, 0.02755, 0.03739, 0.046...   \n",
       "3321  [0.0, 0.00789, 0.0175, 0.02755, 0.03739, 0.046...   \n",
       "3322  [0.0, 0.00789, 0.0175, 0.02755, 0.03739, 0.046...   \n",
       "\n",
       "                                                    ysr  \n",
       "0     [0.0, 0.00782993054093875, 0.01843625055530875...  \n",
       "1     [0.0, 0.00782993054093875, 0.01843625055530875...  \n",
       "2     [0.0, 0.00782993054093875, 0.01843625055530875...  \n",
       "3     [0.0, 0.00782993054093875, 0.01843625055530875...  \n",
       "4     [0.0, 0.00782993054093875, 0.01843625055530875...  \n",
       "...                                                 ...  \n",
       "3318  [0.0, 0.008303340279093262, 0.0194351587574825...  \n",
       "3319  [0.0, 0.008303340279093262, 0.0194351587574825...  \n",
       "3320  [0.0, 0.008303340279093262, 0.0194351587574825...  \n",
       "3321  [0.0, 0.008303340279093262, 0.0194351587574825...  \n",
       "3322  [0.0, 0.008303340279093262, 0.0194351587574825...  \n",
       "\n",
       "[1800 rows x 7 columns]"
      ]
     },
     "execution_count": 554,
     "metadata": {},
     "output_type": "execute_result"
    }
   ],
   "source": [
    "df2['xs'] = df2['xs'].apply(lambda x: np.array(x))\n",
    "df2['ys'] = df2['ys'].apply(lambda x: np.array(x))\n",
    "df2['ysr'] = df2['ys']/df2['xs']\n",
    "df2"
   ]
  },
  {
   "cell_type": "markdown",
   "metadata": {},
   "source": [
    "## Plotting some random airfoils"
   ]
  },
  {
   "cell_type": "code",
   "execution_count": 555,
   "metadata": {},
   "outputs": [
    {
     "data": {
      "text/plain": [
       "array([51, 35, 97, 34, 50, 36, 61])"
      ]
     },
     "execution_count": 555,
     "metadata": {},
     "output_type": "execute_result"
    }
   ],
   "source": [
    "df2['ysr'].apply(len).unique()"
   ]
  },
  {
   "cell_type": "markdown",
   "metadata": {},
   "source": [
    "Here is the problem. Each airfoil feometry consists of different number of points. What I decided to do is to shrink the number of points to the lowest number. And remove nan and inf values as well."
   ]
  },
  {
   "cell_type": "code",
   "execution_count": 556,
   "metadata": {},
   "outputs": [
    {
     "data": {
      "text/plain": [
       "array([50, 34, 96, 33, 49, 35, 60])"
      ]
     },
     "execution_count": 556,
     "metadata": {},
     "output_type": "execute_result"
    }
   ],
   "source": [
    "df2['ysr'] = df2['ysr'].apply(lambda x: x[~np.isnan(x)]) \n",
    "df2['ysr'] = df2['ysr'].apply(lambda x: x[~np.isinf(x)]) \n",
    "df2['ysr'].apply(len).unique()"
   ]
  },
  {
   "cell_type": "code",
   "execution_count": 557,
   "metadata": {},
   "outputs": [],
   "source": [
    "def shrink(lst, num = 33):\n",
    "    while len(lst)!=num:\n",
    "        lst=np.delete(lst, random.randint(0, len(lst)-1))\n",
    "    return lst"
   ]
  },
  {
   "cell_type": "code",
   "execution_count": 558,
   "metadata": {},
   "outputs": [],
   "source": [
    "df2['ysr'] = df2['ysr'].apply(lambda x: shrink(x))"
   ]
  },
  {
   "cell_type": "code",
   "execution_count": 559,
   "metadata": {},
   "outputs": [
    {
     "data": {
      "text/html": [
       "<div>\n",
       "<style scoped>\n",
       "    .dataframe tbody tr th:only-of-type {\n",
       "        vertical-align: middle;\n",
       "    }\n",
       "\n",
       "    .dataframe tbody tr th {\n",
       "        vertical-align: top;\n",
       "    }\n",
       "\n",
       "    .dataframe thead th {\n",
       "        text-align: right;\n",
       "    }\n",
       "</style>\n",
       "<table border=\"1\" class=\"dataframe\">\n",
       "  <thead>\n",
       "    <tr style=\"text-align: right;\">\n",
       "      <th></th>\n",
       "      <th>id</th>\n",
       "      <th>alpha</th>\n",
       "      <th>Cl</th>\n",
       "      <th>Cd</th>\n",
       "      <th>xs</th>\n",
       "      <th>ys</th>\n",
       "      <th>ysr</th>\n",
       "      <th>ysr0</th>\n",
       "      <th>ysr1</th>\n",
       "      <th>ysr2</th>\n",
       "      <th>...</th>\n",
       "      <th>ysr23</th>\n",
       "      <th>ysr24</th>\n",
       "      <th>ysr25</th>\n",
       "      <th>ysr26</th>\n",
       "      <th>ysr27</th>\n",
       "      <th>ysr28</th>\n",
       "      <th>ysr29</th>\n",
       "      <th>ysr30</th>\n",
       "      <th>ysr31</th>\n",
       "      <th>ysr32</th>\n",
       "    </tr>\n",
       "  </thead>\n",
       "  <tbody>\n",
       "    <tr>\n",
       "      <th>0</th>\n",
       "      <td>216</td>\n",
       "      <td>19.37620</td>\n",
       "      <td>1.373150</td>\n",
       "      <td>0.017005</td>\n",
       "      <td>[1.0, 0.9502, 0.9004, 0.85055, 0.80063, 0.7506...</td>\n",
       "      <td>[0.0, 0.00744, 0.0166, 0.02649, 0.03653, 0.046...</td>\n",
       "      <td>[0.01843625055530875, 0.031144553524190228, 0....</td>\n",
       "      <td>0.018436</td>\n",
       "      <td>0.031145</td>\n",
       "      <td>0.061786</td>\n",
       "      <td>...</td>\n",
       "      <td>-0.160482</td>\n",
       "      <td>-0.140636</td>\n",
       "      <td>-0.121300</td>\n",
       "      <td>-0.102312</td>\n",
       "      <td>-0.084171</td>\n",
       "      <td>-0.038006</td>\n",
       "      <td>-0.015339</td>\n",
       "      <td>-0.006959</td>\n",
       "      <td>-0.001179</td>\n",
       "      <td>0.000000</td>\n",
       "    </tr>\n",
       "    <tr>\n",
       "      <th>1</th>\n",
       "      <td>216</td>\n",
       "      <td>18.29290</td>\n",
       "      <td>1.411050</td>\n",
       "      <td>0.018944</td>\n",
       "      <td>[1.0, 0.9502, 0.9004, 0.85055, 0.80063, 0.7506...</td>\n",
       "      <td>[0.0, 0.00744, 0.0166, 0.02649, 0.03653, 0.046...</td>\n",
       "      <td>[0.0, 0.01843625055530875, 0.04562656907685198...</td>\n",
       "      <td>0.000000</td>\n",
       "      <td>0.018436</td>\n",
       "      <td>0.045627</td>\n",
       "      <td>...</td>\n",
       "      <td>-0.269454</td>\n",
       "      <td>-0.233617</td>\n",
       "      <td>-0.181507</td>\n",
       "      <td>-0.160482</td>\n",
       "      <td>-0.067332</td>\n",
       "      <td>-0.051875</td>\n",
       "      <td>-0.038006</td>\n",
       "      <td>-0.025783</td>\n",
       "      <td>-0.015339</td>\n",
       "      <td>-0.006959</td>\n",
       "    </tr>\n",
       "    <tr>\n",
       "      <th>2</th>\n",
       "      <td>216</td>\n",
       "      <td>17.40130</td>\n",
       "      <td>1.519540</td>\n",
       "      <td>0.000000</td>\n",
       "      <td>[1.0, 0.9502, 0.9004, 0.85055, 0.80063, 0.7506...</td>\n",
       "      <td>[0.0, 0.00744, 0.0166, 0.02649, 0.03653, 0.046...</td>\n",
       "      <td>[0.0, 0.00782993054093875, 0.04562656907685198...</td>\n",
       "      <td>0.000000</td>\n",
       "      <td>0.007830</td>\n",
       "      <td>0.045627</td>\n",
       "      <td>...</td>\n",
       "      <td>-0.233617</td>\n",
       "      <td>-0.205310</td>\n",
       "      <td>-0.181507</td>\n",
       "      <td>-0.140636</td>\n",
       "      <td>-0.102312</td>\n",
       "      <td>-0.084171</td>\n",
       "      <td>-0.067332</td>\n",
       "      <td>-0.025783</td>\n",
       "      <td>-0.015339</td>\n",
       "      <td>0.000000</td>\n",
       "    </tr>\n",
       "    <tr>\n",
       "      <th>3</th>\n",
       "      <td>216</td>\n",
       "      <td>16.28550</td>\n",
       "      <td>1.549260</td>\n",
       "      <td>0.000000</td>\n",
       "      <td>[1.0, 0.9502, 0.9004, 0.85055, 0.80063, 0.7506...</td>\n",
       "      <td>[0.0, 0.00744, 0.0166, 0.02649, 0.03653, 0.046...</td>\n",
       "      <td>[0.0, 0.01843625055530875, 0.04562656907685198...</td>\n",
       "      <td>0.000000</td>\n",
       "      <td>0.018436</td>\n",
       "      <td>0.045627</td>\n",
       "      <td>...</td>\n",
       "      <td>-0.160482</td>\n",
       "      <td>-0.140636</td>\n",
       "      <td>-0.121300</td>\n",
       "      <td>-0.067332</td>\n",
       "      <td>-0.038006</td>\n",
       "      <td>-0.025783</td>\n",
       "      <td>-0.015339</td>\n",
       "      <td>-0.006959</td>\n",
       "      <td>-0.001179</td>\n",
       "      <td>0.000000</td>\n",
       "    </tr>\n",
       "    <tr>\n",
       "      <th>4</th>\n",
       "      <td>216</td>\n",
       "      <td>15.29650</td>\n",
       "      <td>1.531330</td>\n",
       "      <td>0.000000</td>\n",
       "      <td>[1.0, 0.9502, 0.9004, 0.85055, 0.80063, 0.7506...</td>\n",
       "      <td>[0.0, 0.00744, 0.0166, 0.02649, 0.03653, 0.046...</td>\n",
       "      <td>[0.0, 0.00782993054093875, 0.01843625055530875...</td>\n",
       "      <td>0.000000</td>\n",
       "      <td>0.007830</td>\n",
       "      <td>0.018436</td>\n",
       "      <td>...</td>\n",
       "      <td>-0.140636</td>\n",
       "      <td>-0.121300</td>\n",
       "      <td>-0.102312</td>\n",
       "      <td>-0.084171</td>\n",
       "      <td>-0.051875</td>\n",
       "      <td>-0.038006</td>\n",
       "      <td>-0.025783</td>\n",
       "      <td>-0.015339</td>\n",
       "      <td>-0.001179</td>\n",
       "      <td>0.000000</td>\n",
       "    </tr>\n",
       "    <tr>\n",
       "      <th>...</th>\n",
       "      <td>...</td>\n",
       "      <td>...</td>\n",
       "      <td>...</td>\n",
       "      <td>...</td>\n",
       "      <td>...</td>\n",
       "      <td>...</td>\n",
       "      <td>...</td>\n",
       "      <td>...</td>\n",
       "      <td>...</td>\n",
       "      <td>...</td>\n",
       "      <td>...</td>\n",
       "      <td>...</td>\n",
       "      <td>...</td>\n",
       "      <td>...</td>\n",
       "      <td>...</td>\n",
       "      <td>...</td>\n",
       "      <td>...</td>\n",
       "      <td>...</td>\n",
       "      <td>...</td>\n",
       "      <td>...</td>\n",
       "      <td>...</td>\n",
       "    </tr>\n",
       "    <tr>\n",
       "      <th>3318</th>\n",
       "      <td>233</td>\n",
       "      <td>-8.23054</td>\n",
       "      <td>-0.714753</td>\n",
       "      <td>0.010010</td>\n",
       "      <td>[1.0, 0.95022, 0.90043, 0.85057, 0.80065, 0.75...</td>\n",
       "      <td>[0.0, 0.00789, 0.0175, 0.02755, 0.03739, 0.046...</td>\n",
       "      <td>[0.0, 0.008303340279093262, 0.0323900443232185...</td>\n",
       "      <td>0.000000</td>\n",
       "      <td>0.008303</td>\n",
       "      <td>0.032390</td>\n",
       "      <td>...</td>\n",
       "      <td>-0.173043</td>\n",
       "      <td>-0.097240</td>\n",
       "      <td>-0.086230</td>\n",
       "      <td>-0.063265</td>\n",
       "      <td>-0.050658</td>\n",
       "      <td>-0.038314</td>\n",
       "      <td>-0.016588</td>\n",
       "      <td>-0.007959</td>\n",
       "      <td>-0.001653</td>\n",
       "      <td>0.000000</td>\n",
       "    </tr>\n",
       "    <tr>\n",
       "      <th>3319</th>\n",
       "      <td>233</td>\n",
       "      <td>-10.40240</td>\n",
       "      <td>-0.904422</td>\n",
       "      <td>0.000000</td>\n",
       "      <td>[1.0, 0.95022, 0.90043, 0.85057, 0.80065, 0.75...</td>\n",
       "      <td>[0.0, 0.00789, 0.0175, 0.02755, 0.03739, 0.046...</td>\n",
       "      <td>[0.01943515875748254, 0.03239004432321855, 0.0...</td>\n",
       "      <td>0.019435</td>\n",
       "      <td>0.032390</td>\n",
       "      <td>0.046700</td>\n",
       "      <td>...</td>\n",
       "      <td>-0.121784</td>\n",
       "      <td>-0.108954</td>\n",
       "      <td>-0.086230</td>\n",
       "      <td>-0.075329</td>\n",
       "      <td>-0.050658</td>\n",
       "      <td>-0.038314</td>\n",
       "      <td>-0.016588</td>\n",
       "      <td>-0.007959</td>\n",
       "      <td>-0.001653</td>\n",
       "      <td>0.000000</td>\n",
       "    </tr>\n",
       "    <tr>\n",
       "      <th>3320</th>\n",
       "      <td>233</td>\n",
       "      <td>-11.07290</td>\n",
       "      <td>-0.985190</td>\n",
       "      <td>0.000000</td>\n",
       "      <td>[1.0, 0.95022, 0.90043, 0.85057, 0.80065, 0.75...</td>\n",
       "      <td>[0.0, 0.00789, 0.0175, 0.02755, 0.03739, 0.046...</td>\n",
       "      <td>[0.04669955661025417, 0.06209202568406469, 0.0...</td>\n",
       "      <td>0.046700</td>\n",
       "      <td>0.062092</td>\n",
       "      <td>0.078317</td>\n",
       "      <td>...</td>\n",
       "      <td>-0.152785</td>\n",
       "      <td>-0.136150</td>\n",
       "      <td>-0.108954</td>\n",
       "      <td>-0.097240</td>\n",
       "      <td>-0.086230</td>\n",
       "      <td>-0.063265</td>\n",
       "      <td>-0.050658</td>\n",
       "      <td>-0.026859</td>\n",
       "      <td>-0.016588</td>\n",
       "      <td>-0.007959</td>\n",
       "    </tr>\n",
       "    <tr>\n",
       "      <th>3321</th>\n",
       "      <td>233</td>\n",
       "      <td>-12.35700</td>\n",
       "      <td>-0.646564</td>\n",
       "      <td>0.009324</td>\n",
       "      <td>[1.0, 0.95022, 0.90043, 0.85057, 0.80065, 0.75...</td>\n",
       "      <td>[0.0, 0.00789, 0.0175, 0.02755, 0.03739, 0.046...</td>\n",
       "      <td>[0.03239004432321855, 0.04669955661025417, 0.0...</td>\n",
       "      <td>0.032390</td>\n",
       "      <td>0.046700</td>\n",
       "      <td>0.078317</td>\n",
       "      <td>...</td>\n",
       "      <td>-0.199145</td>\n",
       "      <td>-0.152785</td>\n",
       "      <td>-0.136150</td>\n",
       "      <td>-0.121784</td>\n",
       "      <td>-0.108954</td>\n",
       "      <td>-0.097240</td>\n",
       "      <td>-0.086230</td>\n",
       "      <td>-0.075329</td>\n",
       "      <td>-0.050658</td>\n",
       "      <td>0.000000</td>\n",
       "    </tr>\n",
       "    <tr>\n",
       "      <th>3322</th>\n",
       "      <td>233</td>\n",
       "      <td>-14.18290</td>\n",
       "      <td>-0.518578</td>\n",
       "      <td>0.008144</td>\n",
       "      <td>[1.0, 0.95022, 0.90043, 0.85057, 0.80065, 0.75...</td>\n",
       "      <td>[0.0, 0.00789, 0.0175, 0.02755, 0.03739, 0.046...</td>\n",
       "      <td>[0.008303340279093262, 0.01943515875748254, 0....</td>\n",
       "      <td>0.008303</td>\n",
       "      <td>0.019435</td>\n",
       "      <td>0.032390</td>\n",
       "      <td>...</td>\n",
       "      <td>-0.136150</td>\n",
       "      <td>-0.108954</td>\n",
       "      <td>-0.097240</td>\n",
       "      <td>-0.063265</td>\n",
       "      <td>-0.050658</td>\n",
       "      <td>-0.038314</td>\n",
       "      <td>-0.026859</td>\n",
       "      <td>-0.007959</td>\n",
       "      <td>-0.001653</td>\n",
       "      <td>0.000000</td>\n",
       "    </tr>\n",
       "  </tbody>\n",
       "</table>\n",
       "<p>1800 rows × 40 columns</p>\n",
       "</div>"
      ],
      "text/plain": [
       "       id     alpha        Cl        Cd  \\\n",
       "0     216  19.37620  1.373150  0.017005   \n",
       "1     216  18.29290  1.411050  0.018944   \n",
       "2     216  17.40130  1.519540  0.000000   \n",
       "3     216  16.28550  1.549260  0.000000   \n",
       "4     216  15.29650  1.531330  0.000000   \n",
       "...   ...       ...       ...       ...   \n",
       "3318  233  -8.23054 -0.714753  0.010010   \n",
       "3319  233 -10.40240 -0.904422  0.000000   \n",
       "3320  233 -11.07290 -0.985190  0.000000   \n",
       "3321  233 -12.35700 -0.646564  0.009324   \n",
       "3322  233 -14.18290 -0.518578  0.008144   \n",
       "\n",
       "                                                     xs  \\\n",
       "0     [1.0, 0.9502, 0.9004, 0.85055, 0.80063, 0.7506...   \n",
       "1     [1.0, 0.9502, 0.9004, 0.85055, 0.80063, 0.7506...   \n",
       "2     [1.0, 0.9502, 0.9004, 0.85055, 0.80063, 0.7506...   \n",
       "3     [1.0, 0.9502, 0.9004, 0.85055, 0.80063, 0.7506...   \n",
       "4     [1.0, 0.9502, 0.9004, 0.85055, 0.80063, 0.7506...   \n",
       "...                                                 ...   \n",
       "3318  [1.0, 0.95022, 0.90043, 0.85057, 0.80065, 0.75...   \n",
       "3319  [1.0, 0.95022, 0.90043, 0.85057, 0.80065, 0.75...   \n",
       "3320  [1.0, 0.95022, 0.90043, 0.85057, 0.80065, 0.75...   \n",
       "3321  [1.0, 0.95022, 0.90043, 0.85057, 0.80065, 0.75...   \n",
       "3322  [1.0, 0.95022, 0.90043, 0.85057, 0.80065, 0.75...   \n",
       "\n",
       "                                                     ys  \\\n",
       "0     [0.0, 0.00744, 0.0166, 0.02649, 0.03653, 0.046...   \n",
       "1     [0.0, 0.00744, 0.0166, 0.02649, 0.03653, 0.046...   \n",
       "2     [0.0, 0.00744, 0.0166, 0.02649, 0.03653, 0.046...   \n",
       "3     [0.0, 0.00744, 0.0166, 0.02649, 0.03653, 0.046...   \n",
       "4     [0.0, 0.00744, 0.0166, 0.02649, 0.03653, 0.046...   \n",
       "...                                                 ...   \n",
       "3318  [0.0, 0.00789, 0.0175, 0.02755, 0.03739, 0.046...   \n",
       "3319  [0.0, 0.00789, 0.0175, 0.02755, 0.03739, 0.046...   \n",
       "3320  [0.0, 0.00789, 0.0175, 0.02755, 0.03739, 0.046...   \n",
       "3321  [0.0, 0.00789, 0.0175, 0.02755, 0.03739, 0.046...   \n",
       "3322  [0.0, 0.00789, 0.0175, 0.02755, 0.03739, 0.046...   \n",
       "\n",
       "                                                    ysr      ysr0      ysr1  \\\n",
       "0     [0.01843625055530875, 0.031144553524190228, 0....  0.018436  0.031145   \n",
       "1     [0.0, 0.01843625055530875, 0.04562656907685198...  0.000000  0.018436   \n",
       "2     [0.0, 0.00782993054093875, 0.04562656907685198...  0.000000  0.007830   \n",
       "3     [0.0, 0.01843625055530875, 0.04562656907685198...  0.000000  0.018436   \n",
       "4     [0.0, 0.00782993054093875, 0.01843625055530875...  0.000000  0.007830   \n",
       "...                                                 ...       ...       ...   \n",
       "3318  [0.0, 0.008303340279093262, 0.0323900443232185...  0.000000  0.008303   \n",
       "3319  [0.01943515875748254, 0.03239004432321855, 0.0...  0.019435  0.032390   \n",
       "3320  [0.04669955661025417, 0.06209202568406469, 0.0...  0.046700  0.062092   \n",
       "3321  [0.03239004432321855, 0.04669955661025417, 0.0...  0.032390  0.046700   \n",
       "3322  [0.008303340279093262, 0.01943515875748254, 0....  0.008303  0.019435   \n",
       "\n",
       "          ysr2  ...     ysr23     ysr24     ysr25     ysr26     ysr27  \\\n",
       "0     0.061786  ... -0.160482 -0.140636 -0.121300 -0.102312 -0.084171   \n",
       "1     0.045627  ... -0.269454 -0.233617 -0.181507 -0.160482 -0.067332   \n",
       "2     0.045627  ... -0.233617 -0.205310 -0.181507 -0.140636 -0.102312   \n",
       "3     0.045627  ... -0.160482 -0.140636 -0.121300 -0.067332 -0.038006   \n",
       "4     0.018436  ... -0.140636 -0.121300 -0.102312 -0.084171 -0.051875   \n",
       "...        ...  ...       ...       ...       ...       ...       ...   \n",
       "3318  0.032390  ... -0.173043 -0.097240 -0.086230 -0.063265 -0.050658   \n",
       "3319  0.046700  ... -0.121784 -0.108954 -0.086230 -0.075329 -0.050658   \n",
       "3320  0.078317  ... -0.152785 -0.136150 -0.108954 -0.097240 -0.086230   \n",
       "3321  0.078317  ... -0.199145 -0.152785 -0.136150 -0.121784 -0.108954   \n",
       "3322  0.032390  ... -0.136150 -0.108954 -0.097240 -0.063265 -0.050658   \n",
       "\n",
       "         ysr28     ysr29     ysr30     ysr31     ysr32  \n",
       "0    -0.038006 -0.015339 -0.006959 -0.001179  0.000000  \n",
       "1    -0.051875 -0.038006 -0.025783 -0.015339 -0.006959  \n",
       "2    -0.084171 -0.067332 -0.025783 -0.015339  0.000000  \n",
       "3    -0.025783 -0.015339 -0.006959 -0.001179  0.000000  \n",
       "4    -0.038006 -0.025783 -0.015339 -0.001179  0.000000  \n",
       "...        ...       ...       ...       ...       ...  \n",
       "3318 -0.038314 -0.016588 -0.007959 -0.001653  0.000000  \n",
       "3319 -0.038314 -0.016588 -0.007959 -0.001653  0.000000  \n",
       "3320 -0.063265 -0.050658 -0.026859 -0.016588 -0.007959  \n",
       "3321 -0.097240 -0.086230 -0.075329 -0.050658  0.000000  \n",
       "3322 -0.038314 -0.026859 -0.007959 -0.001653  0.000000  \n",
       "\n",
       "[1800 rows x 40 columns]"
      ]
     },
     "execution_count": 559,
     "metadata": {},
     "output_type": "execute_result"
    }
   ],
   "source": [
    "df2[[f'ysr{i}' for i in range(33)]] = pd.DataFrame(df2.ysr.tolist(), index= df2.index)\n",
    "df2"
   ]
  },
  {
   "cell_type": "code",
   "execution_count": 561,
   "metadata": {},
   "outputs": [
    {
     "data": {
      "text/html": [
       "<div>\n",
       "<style scoped>\n",
       "    .dataframe tbody tr th:only-of-type {\n",
       "        vertical-align: middle;\n",
       "    }\n",
       "\n",
       "    .dataframe tbody tr th {\n",
       "        vertical-align: top;\n",
       "    }\n",
       "\n",
       "    .dataframe thead th {\n",
       "        text-align: right;\n",
       "    }\n",
       "</style>\n",
       "<table border=\"1\" class=\"dataframe\">\n",
       "  <thead>\n",
       "    <tr style=\"text-align: right;\">\n",
       "      <th></th>\n",
       "      <th>alpha</th>\n",
       "      <th>ysr0</th>\n",
       "      <th>ysr1</th>\n",
       "      <th>ysr2</th>\n",
       "      <th>ysr3</th>\n",
       "      <th>ysr4</th>\n",
       "      <th>ysr5</th>\n",
       "      <th>ysr6</th>\n",
       "      <th>ysr7</th>\n",
       "      <th>ysr8</th>\n",
       "      <th>...</th>\n",
       "      <th>ysr24</th>\n",
       "      <th>ysr25</th>\n",
       "      <th>ysr26</th>\n",
       "      <th>ysr27</th>\n",
       "      <th>ysr28</th>\n",
       "      <th>ysr29</th>\n",
       "      <th>ysr30</th>\n",
       "      <th>ysr31</th>\n",
       "      <th>ysr32</th>\n",
       "      <th>Cl</th>\n",
       "    </tr>\n",
       "  </thead>\n",
       "  <tbody>\n",
       "    <tr>\n",
       "      <th>0</th>\n",
       "      <td>19.3762</td>\n",
       "      <td>0.018436</td>\n",
       "      <td>0.031145</td>\n",
       "      <td>0.061786</td>\n",
       "      <td>0.079530</td>\n",
       "      <td>0.098889</td>\n",
       "      <td>0.119679</td>\n",
       "      <td>0.142037</td>\n",
       "      <td>0.165420</td>\n",
       "      <td>0.241246</td>\n",
       "      <td>...</td>\n",
       "      <td>-0.140636</td>\n",
       "      <td>-0.121300</td>\n",
       "      <td>-0.102312</td>\n",
       "      <td>-0.084171</td>\n",
       "      <td>-0.038006</td>\n",
       "      <td>-0.015339</td>\n",
       "      <td>-0.006959</td>\n",
       "      <td>-0.001179</td>\n",
       "      <td>0.000000</td>\n",
       "      <td>1.37315</td>\n",
       "    </tr>\n",
       "    <tr>\n",
       "      <th>1</th>\n",
       "      <td>18.2929</td>\n",
       "      <td>0.000000</td>\n",
       "      <td>0.018436</td>\n",
       "      <td>0.045627</td>\n",
       "      <td>0.061786</td>\n",
       "      <td>0.098889</td>\n",
       "      <td>0.119679</td>\n",
       "      <td>0.142037</td>\n",
       "      <td>0.165420</td>\n",
       "      <td>0.189479</td>\n",
       "      <td>...</td>\n",
       "      <td>-0.233617</td>\n",
       "      <td>-0.181507</td>\n",
       "      <td>-0.160482</td>\n",
       "      <td>-0.067332</td>\n",
       "      <td>-0.051875</td>\n",
       "      <td>-0.038006</td>\n",
       "      <td>-0.025783</td>\n",
       "      <td>-0.015339</td>\n",
       "      <td>-0.006959</td>\n",
       "      <td>1.41105</td>\n",
       "    </tr>\n",
       "    <tr>\n",
       "      <th>2</th>\n",
       "      <td>17.4013</td>\n",
       "      <td>0.000000</td>\n",
       "      <td>0.007830</td>\n",
       "      <td>0.045627</td>\n",
       "      <td>0.061786</td>\n",
       "      <td>0.098889</td>\n",
       "      <td>0.119679</td>\n",
       "      <td>0.142037</td>\n",
       "      <td>0.189479</td>\n",
       "      <td>0.241246</td>\n",
       "      <td>...</td>\n",
       "      <td>-0.205310</td>\n",
       "      <td>-0.181507</td>\n",
       "      <td>-0.140636</td>\n",
       "      <td>-0.102312</td>\n",
       "      <td>-0.084171</td>\n",
       "      <td>-0.067332</td>\n",
       "      <td>-0.025783</td>\n",
       "      <td>-0.015339</td>\n",
       "      <td>0.000000</td>\n",
       "      <td>1.51954</td>\n",
       "    </tr>\n",
       "    <tr>\n",
       "      <th>3</th>\n",
       "      <td>16.2855</td>\n",
       "      <td>0.000000</td>\n",
       "      <td>0.018436</td>\n",
       "      <td>0.045627</td>\n",
       "      <td>0.061786</td>\n",
       "      <td>0.079530</td>\n",
       "      <td>0.098889</td>\n",
       "      <td>0.119679</td>\n",
       "      <td>0.142037</td>\n",
       "      <td>0.165420</td>\n",
       "      <td>...</td>\n",
       "      <td>-0.140636</td>\n",
       "      <td>-0.121300</td>\n",
       "      <td>-0.067332</td>\n",
       "      <td>-0.038006</td>\n",
       "      <td>-0.025783</td>\n",
       "      <td>-0.015339</td>\n",
       "      <td>-0.006959</td>\n",
       "      <td>-0.001179</td>\n",
       "      <td>0.000000</td>\n",
       "      <td>1.54926</td>\n",
       "    </tr>\n",
       "    <tr>\n",
       "      <th>4</th>\n",
       "      <td>15.2965</td>\n",
       "      <td>0.000000</td>\n",
       "      <td>0.007830</td>\n",
       "      <td>0.018436</td>\n",
       "      <td>0.031145</td>\n",
       "      <td>0.045627</td>\n",
       "      <td>0.079530</td>\n",
       "      <td>0.098889</td>\n",
       "      <td>0.142037</td>\n",
       "      <td>0.165420</td>\n",
       "      <td>...</td>\n",
       "      <td>-0.121300</td>\n",
       "      <td>-0.102312</td>\n",
       "      <td>-0.084171</td>\n",
       "      <td>-0.051875</td>\n",
       "      <td>-0.038006</td>\n",
       "      <td>-0.025783</td>\n",
       "      <td>-0.015339</td>\n",
       "      <td>-0.001179</td>\n",
       "      <td>0.000000</td>\n",
       "      <td>1.53133</td>\n",
       "    </tr>\n",
       "  </tbody>\n",
       "</table>\n",
       "<p>5 rows × 35 columns</p>\n",
       "</div>"
      ],
      "text/plain": [
       "     alpha      ysr0      ysr1      ysr2      ysr3      ysr4      ysr5  \\\n",
       "0  19.3762  0.018436  0.031145  0.061786  0.079530  0.098889  0.119679   \n",
       "1  18.2929  0.000000  0.018436  0.045627  0.061786  0.098889  0.119679   \n",
       "2  17.4013  0.000000  0.007830  0.045627  0.061786  0.098889  0.119679   \n",
       "3  16.2855  0.000000  0.018436  0.045627  0.061786  0.079530  0.098889   \n",
       "4  15.2965  0.000000  0.007830  0.018436  0.031145  0.045627  0.079530   \n",
       "\n",
       "       ysr6      ysr7      ysr8  ...     ysr24     ysr25     ysr26     ysr27  \\\n",
       "0  0.142037  0.165420  0.241246  ... -0.140636 -0.121300 -0.102312 -0.084171   \n",
       "1  0.142037  0.165420  0.189479  ... -0.233617 -0.181507 -0.160482 -0.067332   \n",
       "2  0.142037  0.189479  0.241246  ... -0.205310 -0.181507 -0.140636 -0.102312   \n",
       "3  0.119679  0.142037  0.165420  ... -0.140636 -0.121300 -0.067332 -0.038006   \n",
       "4  0.098889  0.142037  0.165420  ... -0.121300 -0.102312 -0.084171 -0.051875   \n",
       "\n",
       "      ysr28     ysr29     ysr30     ysr31     ysr32       Cl  \n",
       "0 -0.038006 -0.015339 -0.006959 -0.001179  0.000000  1.37315  \n",
       "1 -0.051875 -0.038006 -0.025783 -0.015339 -0.006959  1.41105  \n",
       "2 -0.084171 -0.067332 -0.025783 -0.015339  0.000000  1.51954  \n",
       "3 -0.025783 -0.015339 -0.006959 -0.001179  0.000000  1.54926  \n",
       "4 -0.038006 -0.025783 -0.015339 -0.001179  0.000000  1.53133  \n",
       "\n",
       "[5 rows x 35 columns]"
      ]
     },
     "execution_count": 561,
     "metadata": {},
     "output_type": "execute_result"
    }
   ],
   "source": [
    "Xy = df2[['alpha']+[f'ysr{i}' for i in range(33)]+['Cl']]\n",
    "Xy.head()"
   ]
  },
  {
   "cell_type": "code",
   "execution_count": 597,
   "metadata": {},
   "outputs": [],
   "source": [
    "mms= MinMaxScaler()\n",
    "X = Xy.iloc[:,:-1]\n",
    "X = mms.fit_transform(X)\n",
    "df2 = pd.DataFrame(df2)\n",
    "rfr = RandomForestRegressor(n_estimators=300)\n",
    "X_train, X_test, y_train, y_test = train_test_split(X, Xy.iloc[:,-1])"
   ]
  },
  {
   "cell_type": "code",
   "execution_count": 598,
   "metadata": {},
   "outputs": [
    {
     "data": {
      "text/plain": [
       "RandomForestRegressor(bootstrap=True, ccp_alpha=0.0, criterion='mse',\n",
       "                      max_depth=None, max_features='auto', max_leaf_nodes=None,\n",
       "                      max_samples=None, min_impurity_decrease=0.0,\n",
       "                      min_impurity_split=None, min_samples_leaf=1,\n",
       "                      min_samples_split=2, min_weight_fraction_leaf=0.0,\n",
       "                      n_estimators=300, n_jobs=None, oob_score=False,\n",
       "                      random_state=None, verbose=0, warm_start=False)"
      ]
     },
     "execution_count": 598,
     "metadata": {},
     "output_type": "execute_result"
    }
   ],
   "source": [
    "rfr.fit(X_train, y_train)"
   ]
  },
  {
   "cell_type": "code",
   "execution_count": 599,
   "metadata": {},
   "outputs": [
    {
     "name": "stdout",
     "output_type": "stream",
     "text": [
      "0.27887979777777805 ± 0.050086799793501766\n",
      "0.2415531666666667 ± 0.1430606140668313\n"
     ]
    }
   ],
   "source": [
    "print(np.mean(y_train),'±',mean_squared_error(y_train,rfr.predict(X_train), squared=False))\n",
    "print(np.mean(y_test),'±',mean_squared_error(y_test,rfr.predict(X_test), squared=False))"
   ]
  },
  {
   "cell_type": "code",
   "execution_count": 587,
   "metadata": {},
   "outputs": [
    {
     "data": {
      "text/plain": [
       "array([0.9723972 , 0.98184397, 0.97103455, 0.97074909, 0.97326944])"
      ]
     },
     "execution_count": 587,
     "metadata": {},
     "output_type": "execute_result"
    }
   ],
   "source": [
    "from sklearn.model_selection import cross_val_score\n",
    "cross_val_score(rfr,X_test, y_test)"
   ]
  },
  {
   "cell_type": "code",
   "execution_count": 596,
   "metadata": {},
   "outputs": [
    {
     "data": {
      "text/html": [
       "<div>\n",
       "<style scoped>\n",
       "    .dataframe tbody tr th:only-of-type {\n",
       "        vertical-align: middle;\n",
       "    }\n",
       "\n",
       "    .dataframe tbody tr th {\n",
       "        vertical-align: top;\n",
       "    }\n",
       "\n",
       "    .dataframe thead th {\n",
       "        text-align: right;\n",
       "    }\n",
       "</style>\n",
       "<table border=\"1\" class=\"dataframe\">\n",
       "  <thead>\n",
       "    <tr style=\"text-align: right;\">\n",
       "      <th></th>\n",
       "      <th>feature</th>\n",
       "      <th>importance</th>\n",
       "    </tr>\n",
       "  </thead>\n",
       "  <tbody>\n",
       "    <tr>\n",
       "      <th>0</th>\n",
       "      <td>alpha</td>\n",
       "      <td>0.969911</td>\n",
       "    </tr>\n",
       "    <tr>\n",
       "      <th>32</th>\n",
       "      <td>ysr31</td>\n",
       "      <td>0.003258</td>\n",
       "    </tr>\n",
       "    <tr>\n",
       "      <th>8</th>\n",
       "      <td>ysr7</td>\n",
       "      <td>0.002867</td>\n",
       "    </tr>\n",
       "    <tr>\n",
       "      <th>21</th>\n",
       "      <td>ysr20</td>\n",
       "      <td>0.001529</td>\n",
       "    </tr>\n",
       "    <tr>\n",
       "      <th>22</th>\n",
       "      <td>ysr21</td>\n",
       "      <td>0.001499</td>\n",
       "    </tr>\n",
       "    <tr>\n",
       "      <th>23</th>\n",
       "      <td>ysr22</td>\n",
       "      <td>0.001191</td>\n",
       "    </tr>\n",
       "    <tr>\n",
       "      <th>2</th>\n",
       "      <td>ysr1</td>\n",
       "      <td>0.001123</td>\n",
       "    </tr>\n",
       "    <tr>\n",
       "      <th>10</th>\n",
       "      <td>ysr9</td>\n",
       "      <td>0.001105</td>\n",
       "    </tr>\n",
       "    <tr>\n",
       "      <th>17</th>\n",
       "      <td>ysr16</td>\n",
       "      <td>0.000990</td>\n",
       "    </tr>\n",
       "    <tr>\n",
       "      <th>18</th>\n",
       "      <td>ysr17</td>\n",
       "      <td>0.000872</td>\n",
       "    </tr>\n",
       "    <tr>\n",
       "      <th>16</th>\n",
       "      <td>ysr15</td>\n",
       "      <td>0.000862</td>\n",
       "    </tr>\n",
       "    <tr>\n",
       "      <th>24</th>\n",
       "      <td>ysr23</td>\n",
       "      <td>0.000821</td>\n",
       "    </tr>\n",
       "    <tr>\n",
       "      <th>31</th>\n",
       "      <td>ysr30</td>\n",
       "      <td>0.000805</td>\n",
       "    </tr>\n",
       "    <tr>\n",
       "      <th>30</th>\n",
       "      <td>ysr29</td>\n",
       "      <td>0.000790</td>\n",
       "    </tr>\n",
       "    <tr>\n",
       "      <th>11</th>\n",
       "      <td>ysr10</td>\n",
       "      <td>0.000779</td>\n",
       "    </tr>\n",
       "    <tr>\n",
       "      <th>33</th>\n",
       "      <td>ysr32</td>\n",
       "      <td>0.000778</td>\n",
       "    </tr>\n",
       "    <tr>\n",
       "      <th>7</th>\n",
       "      <td>ysr6</td>\n",
       "      <td>0.000715</td>\n",
       "    </tr>\n",
       "    <tr>\n",
       "      <th>3</th>\n",
       "      <td>ysr2</td>\n",
       "      <td>0.000706</td>\n",
       "    </tr>\n",
       "    <tr>\n",
       "      <th>25</th>\n",
       "      <td>ysr24</td>\n",
       "      <td>0.000699</td>\n",
       "    </tr>\n",
       "    <tr>\n",
       "      <th>20</th>\n",
       "      <td>ysr19</td>\n",
       "      <td>0.000695</td>\n",
       "    </tr>\n",
       "    <tr>\n",
       "      <th>5</th>\n",
       "      <td>ysr4</td>\n",
       "      <td>0.000694</td>\n",
       "    </tr>\n",
       "    <tr>\n",
       "      <th>26</th>\n",
       "      <td>ysr25</td>\n",
       "      <td>0.000678</td>\n",
       "    </tr>\n",
       "    <tr>\n",
       "      <th>15</th>\n",
       "      <td>ysr14</td>\n",
       "      <td>0.000677</td>\n",
       "    </tr>\n",
       "    <tr>\n",
       "      <th>19</th>\n",
       "      <td>ysr18</td>\n",
       "      <td>0.000668</td>\n",
       "    </tr>\n",
       "    <tr>\n",
       "      <th>27</th>\n",
       "      <td>ysr26</td>\n",
       "      <td>0.000660</td>\n",
       "    </tr>\n",
       "    <tr>\n",
       "      <th>6</th>\n",
       "      <td>ysr5</td>\n",
       "      <td>0.000637</td>\n",
       "    </tr>\n",
       "    <tr>\n",
       "      <th>9</th>\n",
       "      <td>ysr8</td>\n",
       "      <td>0.000607</td>\n",
       "    </tr>\n",
       "    <tr>\n",
       "      <th>12</th>\n",
       "      <td>ysr11</td>\n",
       "      <td>0.000596</td>\n",
       "    </tr>\n",
       "    <tr>\n",
       "      <th>13</th>\n",
       "      <td>ysr12</td>\n",
       "      <td>0.000585</td>\n",
       "    </tr>\n",
       "    <tr>\n",
       "      <th>4</th>\n",
       "      <td>ysr3</td>\n",
       "      <td>0.000576</td>\n",
       "    </tr>\n",
       "    <tr>\n",
       "      <th>14</th>\n",
       "      <td>ysr13</td>\n",
       "      <td>0.000424</td>\n",
       "    </tr>\n",
       "    <tr>\n",
       "      <th>28</th>\n",
       "      <td>ysr27</td>\n",
       "      <td>0.000421</td>\n",
       "    </tr>\n",
       "    <tr>\n",
       "      <th>29</th>\n",
       "      <td>ysr28</td>\n",
       "      <td>0.000411</td>\n",
       "    </tr>\n",
       "    <tr>\n",
       "      <th>1</th>\n",
       "      <td>ysr0</td>\n",
       "      <td>0.000369</td>\n",
       "    </tr>\n",
       "  </tbody>\n",
       "</table>\n",
       "</div>"
      ],
      "text/plain": [
       "   feature  importance\n",
       "0    alpha    0.969911\n",
       "32   ysr31    0.003258\n",
       "8     ysr7    0.002867\n",
       "21   ysr20    0.001529\n",
       "22   ysr21    0.001499\n",
       "23   ysr22    0.001191\n",
       "2     ysr1    0.001123\n",
       "10    ysr9    0.001105\n",
       "17   ysr16    0.000990\n",
       "18   ysr17    0.000872\n",
       "16   ysr15    0.000862\n",
       "24   ysr23    0.000821\n",
       "31   ysr30    0.000805\n",
       "30   ysr29    0.000790\n",
       "11   ysr10    0.000779\n",
       "33   ysr32    0.000778\n",
       "7     ysr6    0.000715\n",
       "3     ysr2    0.000706\n",
       "25   ysr24    0.000699\n",
       "20   ysr19    0.000695\n",
       "5     ysr4    0.000694\n",
       "26   ysr25    0.000678\n",
       "15   ysr14    0.000677\n",
       "19   ysr18    0.000668\n",
       "27   ysr26    0.000660\n",
       "6     ysr5    0.000637\n",
       "9     ysr8    0.000607\n",
       "12   ysr11    0.000596\n",
       "13   ysr12    0.000585\n",
       "4     ysr3    0.000576\n",
       "14   ysr13    0.000424\n",
       "28   ysr27    0.000421\n",
       "29   ysr28    0.000411\n",
       "1     ysr0    0.000369"
      ]
     },
     "execution_count": 596,
     "metadata": {},
     "output_type": "execute_result"
    }
   ],
   "source": [
    "from collections import defaultdict\n",
    "dct = {'feature':Xy.columns[:-1], 'importance':rfr.feature_importances_}\n",
    "dfFI = pd.DataFrame(dct)\n",
    "dfFI.sort_values(by='importance', ascending = False)"
   ]
  },
  {
   "cell_type": "code",
   "execution_count": 600,
   "metadata": {},
   "outputs": [
    {
     "name": "stdout",
     "output_type": "stream",
     "text": [
      "Fitting 3 folds for each of 100 candidates, totalling 300 fits\n"
     ]
    },
    {
     "name": "stderr",
     "output_type": "stream",
     "text": [
      "[Parallel(n_jobs=-1)]: Using backend LokyBackend with 16 concurrent workers.\n",
      "[Parallel(n_jobs=-1)]: Done   9 tasks      | elapsed:    7.9s\n",
      "/opt/anaconda3/lib/python3.7/site-packages/joblib/externals/loky/process_executor.py:706: UserWarning:\n",
      "\n",
      "A worker stopped while some jobs were given to the executor. This can be caused by a too short worker timeout or by a memory leak.\n",
      "\n",
      "[Parallel(n_jobs=-1)]: Done 130 tasks      | elapsed:  1.9min\n",
      "[Parallel(n_jobs=-1)]: Done 300 out of 300 | elapsed:  5.2min finished\n"
     ]
    },
    {
     "data": {
      "text/plain": [
       "RandomizedSearchCV(cv=3, error_score=nan,\n",
       "                   estimator=RandomForestRegressor(bootstrap=True,\n",
       "                                                   ccp_alpha=0.0,\n",
       "                                                   criterion='mse',\n",
       "                                                   max_depth=None,\n",
       "                                                   max_features='auto',\n",
       "                                                   max_leaf_nodes=None,\n",
       "                                                   max_samples=None,\n",
       "                                                   min_impurity_decrease=0.0,\n",
       "                                                   min_impurity_split=None,\n",
       "                                                   min_samples_leaf=1,\n",
       "                                                   min_samples_split=2,\n",
       "                                                   min_weight_fraction_leaf=0.0,\n",
       "                                                   n_estimators=100,\n",
       "                                                   n_jobs=None, oob_score=Fals...\n",
       "                   param_distributions={'bootstrap': [True, False],\n",
       "                                        'max_depth': [10, 20, 30, 40, 50, 60,\n",
       "                                                      70, 80, 90, 100, 110,\n",
       "                                                      None],\n",
       "                                        'max_features': ['auto', 'sqrt'],\n",
       "                                        'min_samples_leaf': [1, 2, 4],\n",
       "                                        'min_samples_split': [2, 5, 10],\n",
       "                                        'n_estimators': [200, 400, 600, 800,\n",
       "                                                         1000, 1200, 1400, 1600,\n",
       "                                                         1800, 2000]},\n",
       "                   pre_dispatch='2*n_jobs', random_state=42, refit=True,\n",
       "                   return_train_score=False, scoring=None, verbose=2)"
      ]
     },
     "execution_count": 600,
     "metadata": {},
     "output_type": "execute_result"
    }
   ],
   "source": [
    "from sklearn.model_selection import RandomizedSearchCV\n",
    "# Number of trees in random forest\n",
    "n_estimators = [int(x) for x in np.linspace(start = 200, stop = 2000, num = 10)]\n",
    "# Number of features to consider at every split\n",
    "max_features = ['auto', 'sqrt']\n",
    "# Maximum number of levels in tree\n",
    "max_depth = [int(x) for x in np.linspace(10, 110, num = 11)]\n",
    "max_depth.append(None)\n",
    "# Minimum number of samples required to split a node\n",
    "min_samples_split = [2, 5, 10]\n",
    "# Minimum number of samples required at each leaf node\n",
    "min_samples_leaf = [1, 2, 4]\n",
    "# Method of selecting samples for training each tree\n",
    "bootstrap = [True, False]\n",
    "# Create the random grid\n",
    "random_grid = {'n_estimators': n_estimators,\n",
    "               'max_features': max_features,\n",
    "               'max_depth': max_depth,\n",
    "               'min_samples_split': min_samples_split,\n",
    "               'min_samples_leaf': min_samples_leaf,\n",
    "               'bootstrap': bootstrap}\n",
    "rf = RandomForestRegressor()\n",
    "# Random search of parameters, using 3 fold cross validation, \n",
    "# search across 100 different combinations, and use all available cores\n",
    "rf_random = RandomizedSearchCV(estimator = rf, \n",
    "                               param_distributions = random_grid, \n",
    "                               n_iter = 100, cv = 3, verbose=2, random_state=42, n_jobs = -1)\n",
    "# Fit the random search model\n",
    "rf_random.fit(X_train, y_train)"
   ]
  },
  {
   "cell_type": "code",
   "execution_count": 602,
   "metadata": {},
   "outputs": [
    {
     "name": "stdout",
     "output_type": "stream",
     "text": [
      "0.27887979777777805 ± 0.056433614435631774\n",
      "0.2415531666666667 ± 0.1427659285692798\n"
     ]
    }
   ],
   "source": [
    "rfr = rf_random.best_estimator_\n",
    "print(np.mean(y_train),'±',mean_squared_error(y_train,rfr.predict(X_train), squared=False))\n",
    "print(np.mean(y_test),'±',mean_squared_error(y_test,rfr.predict(X_test), squared=False))"
   ]
  },
  {
   "cell_type": "code",
   "execution_count": 603,
   "metadata": {},
   "outputs": [
    {
     "data": {
      "text/plain": [
       "{'n_estimators': 600,\n",
       " 'min_samples_split': 5,\n",
       " 'min_samples_leaf': 1,\n",
       " 'max_features': 'auto',\n",
       " 'max_depth': 80,\n",
       " 'bootstrap': True}"
      ]
     },
     "execution_count": 603,
     "metadata": {},
     "output_type": "execute_result"
    }
   ],
   "source": [
    "rf_random.best_params_"
   ]
  },
  {
   "cell_type": "code",
   "execution_count": null,
   "metadata": {},
   "outputs": [],
   "source": []
  }
 ],
 "metadata": {
  "kernelspec": {
   "display_name": "Python 3",
   "language": "python",
   "name": "python3"
  },
  "language_info": {
   "codemirror_mode": {
    "name": "ipython",
    "version": 3
   },
   "file_extension": ".py",
   "mimetype": "text/x-python",
   "name": "python",
   "nbconvert_exporter": "python",
   "pygments_lexer": "ipython3",
   "version": "3.7.6"
  }
 },
 "nbformat": 4,
 "nbformat_minor": 4
}
